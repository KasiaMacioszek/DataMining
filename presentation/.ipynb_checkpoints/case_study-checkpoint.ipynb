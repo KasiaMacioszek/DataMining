{
 "cells": [
  {
   "cell_type": "code",
   "execution_count": 1,
   "metadata": {
    "vscode": {
     "languageId": "r"
    }
   },
   "outputs": [
    {
     "name": "stderr",
     "output_type": "stream",
     "text": [
      "Loading required package: lattice\n",
      "\n",
      "── \u001b[1mAttaching core tidyverse packages\u001b[22m ──────────────────────── tidyverse 2.0.0 ──\n",
      "\u001b[32m✔\u001b[39m \u001b[34mdplyr    \u001b[39m 1.1.4     \u001b[32m✔\u001b[39m \u001b[34mreadr    \u001b[39m 2.1.4\n",
      "\u001b[32m✔\u001b[39m \u001b[34mforcats  \u001b[39m 1.0.0     \u001b[32m✔\u001b[39m \u001b[34mstringr  \u001b[39m 1.5.1\n",
      "\u001b[32m✔\u001b[39m \u001b[34mlubridate\u001b[39m 1.9.3     \u001b[32m✔\u001b[39m \u001b[34mtibble   \u001b[39m 3.2.1\n",
      "\u001b[32m✔\u001b[39m \u001b[34mpurrr    \u001b[39m 1.0.2     \u001b[32m✔\u001b[39m \u001b[34mtidyr    \u001b[39m 1.3.0\n",
      "── \u001b[1mConflicts\u001b[22m ────────────────────────────────────────── tidyverse_conflicts() ──\n",
      "\u001b[31m✖\u001b[39m \u001b[34mdplyr\u001b[39m::\u001b[32mfilter()\u001b[39m masks \u001b[34mstats\u001b[39m::filter()\n",
      "\u001b[31m✖\u001b[39m \u001b[34mdplyr\u001b[39m::\u001b[32mlag()\u001b[39m    masks \u001b[34mstats\u001b[39m::lag()\n",
      "\u001b[31m✖\u001b[39m \u001b[34mpurrr\u001b[39m::\u001b[32mlift()\u001b[39m   masks \u001b[34mcaret\u001b[39m::lift()\n",
      "\u001b[36mℹ\u001b[39m Use the conflicted package (\u001b[3m\u001b[34m<http://conflicted.r-lib.org/>\u001b[39m\u001b[23m) to force all conflicts to become errors\n",
      "Thank you for using fastDummies!\n",
      "\n",
      "To acknowledge our work, please cite the package:\n",
      "\n",
      "Kaplan, J. & Schlegel, B. (2023). fastDummies: Fast Creation of Dummy (Binary) Columns and Rows from Categorical Variables. Version 1.7.1. URL: https://github.com/jacobkap/fastDummies, https://jacobkap.github.io/fastDummies/.\n",
      "\n"
     ]
    }
   ],
   "source": [
    "library(ggplot2)\n",
    "library(costsensitive)\n",
    "library(caret)\n",
    "library(tidyverse)\n",
    "library(fastDummies)"
   ]
  },
  {
   "cell_type": "markdown",
   "metadata": {},
   "source": [
    "https://cran.r-project.org/web/packages/costsensitive/costsensitive.pdf\n",
    "\n",
    "https://www.kaggle.com/code/datawrangler/cost-sensitive-decision-tree"
   ]
  },
  {
   "cell_type": "code",
   "execution_count": 2,
   "metadata": {
    "vscode": {
     "languageId": "r"
    }
   },
   "outputs": [],
   "source": [
    "fram <- read.csv('Framingham.csv')"
   ]
  },
  {
   "cell_type": "code",
   "execution_count": 10,
   "metadata": {
    "vscode": {
     "languageId": "r"
    }
   },
   "outputs": [
    {
     "name": "stdout",
     "output_type": "stream",
     "text": [
      "'data.frame':\t2561 obs. of  16 variables:\n",
      " $ male           : int  1 0 1 0 0 0 0 0 1 1 ...\n",
      " $ age            : int  39 46 48 61 46 43 63 45 52 43 ...\n",
      " $ education      : int  4 2 1 3 3 2 1 2 1 1 ...\n",
      " $ currentSmoker  : int  0 0 1 1 1 0 0 1 0 1 ...\n",
      " $ cigsPerDay     : int  0 0 20 30 23 0 0 20 0 30 ...\n",
      " $ BPMeds         : int  0 0 0 0 0 0 0 0 0 0 ...\n",
      " $ prevalentStroke: int  0 0 0 0 0 0 0 0 0 0 ...\n",
      " $ prevalentHyp   : int  0 0 0 1 0 1 0 0 1 1 ...\n",
      " $ diabetes       : int  0 0 0 0 0 0 0 0 0 0 ...\n",
      " $ totChol        : int  195 250 245 225 285 228 205 313 260 225 ...\n",
      " $ sysBP          : num  106 121 128 150 130 ...\n",
      " $ diaBP          : num  70 81 80 95 84 110 71 71 89 107 ...\n",
      " $ BMI            : num  27 28.7 25.3 28.6 23.1 ...\n",
      " $ heartRate      : int  80 95 75 65 85 77 60 79 76 93 ...\n",
      " $ glucose        : int  77 76 70 103 85 99 85 78 79 88 ...\n",
      " $ TenYearCHD     : int  0 0 0 1 0 0 1 0 0 0 ...\n"
     ]
    }
   ],
   "source": [
    "str(fram)"
   ]
  },
  {
   "cell_type": "code",
   "execution_count": 11,
   "metadata": {
    "vscode": {
     "languageId": "r"
    }
   },
   "outputs": [],
   "source": [
    "fcols <- c('male', 'education', 'currentSmoker', 'BPMeds', 'prevalentStroke', 'prevalentHyp', 'diabetes', 'TenYearCHD')\n",
    "fram[fcols] <- fram[fcols] %>% lapply(factor)"
   ]
  },
  {
   "cell_type": "code",
   "execution_count": 7,
   "metadata": {
    "vscode": {
     "languageId": "r"
    }
   },
   "outputs": [
    {
     "data": {
      "text/html": [
       "<strong>png:</strong> 2"
      ],
      "text/latex": [
       "\\textbf{png:} 2"
      ],
      "text/markdown": [
       "**png:** 2"
      ],
      "text/plain": [
       "png \n",
       "  2 "
      ]
     },
     "metadata": {},
     "output_type": "display_data"
    }
   ],
   "source": [
    "options(repr.plot.width = 16, repr.plot.height = 10)\n",
    "png(filename='classes.png', width=1300, height=800)\n",
    "\n",
    "ggplot(fram, aes(x=TenYearCHD)) +\n",
    "    geom_bar(fill='brown4') +\n",
    "    ggtitle('Target class distribution') +\n",
    "    theme(\n",
    "        plot.title = element_text(size = 24),\n",
    "        axis.title = element_text(size = 20),         \n",
    "        axis.text.x = element_text(size = 18),        \n",
    "        axis.text.y = element_text(size = 18)\n",
    "        )\n",
    "\n",
    "dev.off()"
   ]
  },
  {
   "cell_type": "markdown",
   "metadata": {},
   "source": [
    "#### Train-test split, categorical features encoding"
   ]
  },
  {
   "cell_type": "code",
   "execution_count": 3,
   "metadata": {
    "vscode": {
     "languageId": "r"
    }
   },
   "outputs": [],
   "source": [
    "dcols <- c('male', 'education', 'currentSmoker', 'BPMeds', 'prevalentStroke', 'prevalentHyp', 'diabetes')\n",
    "fram <- dummy_cols(fram, select_columns = dcols)\n",
    "fram <- fram[, !names(fram) %in% dcols]"
   ]
  },
  {
   "cell_type": "code",
   "execution_count": 13,
   "metadata": {
    "vscode": {
     "languageId": "r"
    }
   },
   "outputs": [
    {
     "data": {
      "text/html": [
       "<table class=\"dataframe\">\n",
       "<caption>A data.frame: 6 × 25</caption>\n",
       "<thead>\n",
       "\t<tr><th></th><th scope=col>age</th><th scope=col>cigsPerDay</th><th scope=col>totChol</th><th scope=col>sysBP</th><th scope=col>diaBP</th><th scope=col>BMI</th><th scope=col>heartRate</th><th scope=col>glucose</th><th scope=col>TenYearCHD</th><th scope=col>male_0</th><th scope=col>⋯</th><th scope=col>currentSmoker_0</th><th scope=col>currentSmoker_1</th><th scope=col>BPMeds_0</th><th scope=col>BPMeds_1</th><th scope=col>prevalentStroke_0</th><th scope=col>prevalentStroke_1</th><th scope=col>prevalentHyp_0</th><th scope=col>prevalentHyp_1</th><th scope=col>diabetes_0</th><th scope=col>diabetes_1</th></tr>\n",
       "\t<tr><th></th><th scope=col>&lt;int&gt;</th><th scope=col>&lt;int&gt;</th><th scope=col>&lt;int&gt;</th><th scope=col>&lt;dbl&gt;</th><th scope=col>&lt;dbl&gt;</th><th scope=col>&lt;dbl&gt;</th><th scope=col>&lt;int&gt;</th><th scope=col>&lt;int&gt;</th><th scope=col>&lt;fct&gt;</th><th scope=col>&lt;int&gt;</th><th scope=col>⋯</th><th scope=col>&lt;int&gt;</th><th scope=col>&lt;int&gt;</th><th scope=col>&lt;int&gt;</th><th scope=col>&lt;int&gt;</th><th scope=col>&lt;int&gt;</th><th scope=col>&lt;int&gt;</th><th scope=col>&lt;int&gt;</th><th scope=col>&lt;int&gt;</th><th scope=col>&lt;int&gt;</th><th scope=col>&lt;int&gt;</th></tr>\n",
       "</thead>\n",
       "<tbody>\n",
       "\t<tr><th scope=row>1</th><td>39</td><td> 0</td><td>195</td><td>106.0</td><td> 70</td><td>26.97</td><td>80</td><td> 77</td><td>0</td><td>0</td><td>⋯</td><td>1</td><td>0</td><td>1</td><td>0</td><td>1</td><td>0</td><td>1</td><td>0</td><td>1</td><td>0</td></tr>\n",
       "\t<tr><th scope=row>2</th><td>46</td><td> 0</td><td>250</td><td>121.0</td><td> 81</td><td>28.73</td><td>95</td><td> 76</td><td>0</td><td>1</td><td>⋯</td><td>1</td><td>0</td><td>1</td><td>0</td><td>1</td><td>0</td><td>1</td><td>0</td><td>1</td><td>0</td></tr>\n",
       "\t<tr><th scope=row>3</th><td>48</td><td>20</td><td>245</td><td>127.5</td><td> 80</td><td>25.34</td><td>75</td><td> 70</td><td>0</td><td>0</td><td>⋯</td><td>0</td><td>1</td><td>1</td><td>0</td><td>1</td><td>0</td><td>1</td><td>0</td><td>1</td><td>0</td></tr>\n",
       "\t<tr><th scope=row>4</th><td>61</td><td>30</td><td>225</td><td>150.0</td><td> 95</td><td>28.58</td><td>65</td><td>103</td><td>1</td><td>1</td><td>⋯</td><td>0</td><td>1</td><td>1</td><td>0</td><td>1</td><td>0</td><td>0</td><td>1</td><td>1</td><td>0</td></tr>\n",
       "\t<tr><th scope=row>5</th><td>46</td><td>23</td><td>285</td><td>130.0</td><td> 84</td><td>23.10</td><td>85</td><td> 85</td><td>0</td><td>1</td><td>⋯</td><td>0</td><td>1</td><td>1</td><td>0</td><td>1</td><td>0</td><td>1</td><td>0</td><td>1</td><td>0</td></tr>\n",
       "\t<tr><th scope=row>6</th><td>43</td><td> 0</td><td>228</td><td>180.0</td><td>110</td><td>30.30</td><td>77</td><td> 99</td><td>0</td><td>1</td><td>⋯</td><td>1</td><td>0</td><td>1</td><td>0</td><td>1</td><td>0</td><td>0</td><td>1</td><td>1</td><td>0</td></tr>\n",
       "</tbody>\n",
       "</table>\n"
      ],
      "text/latex": [
       "A data.frame: 6 × 25\n",
       "\\begin{tabular}{r|lllllllllllllllllllll}\n",
       "  & age & cigsPerDay & totChol & sysBP & diaBP & BMI & heartRate & glucose & TenYearCHD & male\\_0 & ⋯ & currentSmoker\\_0 & currentSmoker\\_1 & BPMeds\\_0 & BPMeds\\_1 & prevalentStroke\\_0 & prevalentStroke\\_1 & prevalentHyp\\_0 & prevalentHyp\\_1 & diabetes\\_0 & diabetes\\_1\\\\\n",
       "  & <int> & <int> & <int> & <dbl> & <dbl> & <dbl> & <int> & <int> & <fct> & <int> & ⋯ & <int> & <int> & <int> & <int> & <int> & <int> & <int> & <int> & <int> & <int>\\\\\n",
       "\\hline\n",
       "\t1 & 39 &  0 & 195 & 106.0 &  70 & 26.97 & 80 &  77 & 0 & 0 & ⋯ & 1 & 0 & 1 & 0 & 1 & 0 & 1 & 0 & 1 & 0\\\\\n",
       "\t2 & 46 &  0 & 250 & 121.0 &  81 & 28.73 & 95 &  76 & 0 & 1 & ⋯ & 1 & 0 & 1 & 0 & 1 & 0 & 1 & 0 & 1 & 0\\\\\n",
       "\t3 & 48 & 20 & 245 & 127.5 &  80 & 25.34 & 75 &  70 & 0 & 0 & ⋯ & 0 & 1 & 1 & 0 & 1 & 0 & 1 & 0 & 1 & 0\\\\\n",
       "\t4 & 61 & 30 & 225 & 150.0 &  95 & 28.58 & 65 & 103 & 1 & 1 & ⋯ & 0 & 1 & 1 & 0 & 1 & 0 & 0 & 1 & 1 & 0\\\\\n",
       "\t5 & 46 & 23 & 285 & 130.0 &  84 & 23.10 & 85 &  85 & 0 & 1 & ⋯ & 0 & 1 & 1 & 0 & 1 & 0 & 1 & 0 & 1 & 0\\\\\n",
       "\t6 & 43 &  0 & 228 & 180.0 & 110 & 30.30 & 77 &  99 & 0 & 1 & ⋯ & 1 & 0 & 1 & 0 & 1 & 0 & 0 & 1 & 1 & 0\\\\\n",
       "\\end{tabular}\n"
      ],
      "text/markdown": [
       "\n",
       "A data.frame: 6 × 25\n",
       "\n",
       "| <!--/--> | age &lt;int&gt; | cigsPerDay &lt;int&gt; | totChol &lt;int&gt; | sysBP &lt;dbl&gt; | diaBP &lt;dbl&gt; | BMI &lt;dbl&gt; | heartRate &lt;int&gt; | glucose &lt;int&gt; | TenYearCHD &lt;fct&gt; | male_0 &lt;int&gt; | ⋯ ⋯ | currentSmoker_0 &lt;int&gt; | currentSmoker_1 &lt;int&gt; | BPMeds_0 &lt;int&gt; | BPMeds_1 &lt;int&gt; | prevalentStroke_0 &lt;int&gt; | prevalentStroke_1 &lt;int&gt; | prevalentHyp_0 &lt;int&gt; | prevalentHyp_1 &lt;int&gt; | diabetes_0 &lt;int&gt; | diabetes_1 &lt;int&gt; |\n",
       "|---|---|---|---|---|---|---|---|---|---|---|---|---|---|---|---|---|---|---|---|---|---|\n",
       "| 1 | 39 |  0 | 195 | 106.0 |  70 | 26.97 | 80 |  77 | 0 | 0 | ⋯ | 1 | 0 | 1 | 0 | 1 | 0 | 1 | 0 | 1 | 0 |\n",
       "| 2 | 46 |  0 | 250 | 121.0 |  81 | 28.73 | 95 |  76 | 0 | 1 | ⋯ | 1 | 0 | 1 | 0 | 1 | 0 | 1 | 0 | 1 | 0 |\n",
       "| 3 | 48 | 20 | 245 | 127.5 |  80 | 25.34 | 75 |  70 | 0 | 0 | ⋯ | 0 | 1 | 1 | 0 | 1 | 0 | 1 | 0 | 1 | 0 |\n",
       "| 4 | 61 | 30 | 225 | 150.0 |  95 | 28.58 | 65 | 103 | 1 | 1 | ⋯ | 0 | 1 | 1 | 0 | 1 | 0 | 0 | 1 | 1 | 0 |\n",
       "| 5 | 46 | 23 | 285 | 130.0 |  84 | 23.10 | 85 |  85 | 0 | 1 | ⋯ | 0 | 1 | 1 | 0 | 1 | 0 | 1 | 0 | 1 | 0 |\n",
       "| 6 | 43 |  0 | 228 | 180.0 | 110 | 30.30 | 77 |  99 | 0 | 1 | ⋯ | 1 | 0 | 1 | 0 | 1 | 0 | 0 | 1 | 1 | 0 |\n",
       "\n"
      ],
      "text/plain": [
       "  age cigsPerDay totChol sysBP diaBP BMI   heartRate glucose TenYearCHD male_0\n",
       "1 39   0         195     106.0  70   26.97 80         77     0          0     \n",
       "2 46   0         250     121.0  81   28.73 95         76     0          1     \n",
       "3 48  20         245     127.5  80   25.34 75         70     0          0     \n",
       "4 61  30         225     150.0  95   28.58 65        103     1          1     \n",
       "5 46  23         285     130.0  84   23.10 85         85     0          1     \n",
       "6 43   0         228     180.0 110   30.30 77         99     0          1     \n",
       "  ⋯ currentSmoker_0 currentSmoker_1 BPMeds_0 BPMeds_1 prevalentStroke_0\n",
       "1 ⋯ 1               0               1        0        1                \n",
       "2 ⋯ 1               0               1        0        1                \n",
       "3 ⋯ 0               1               1        0        1                \n",
       "4 ⋯ 0               1               1        0        1                \n",
       "5 ⋯ 0               1               1        0        1                \n",
       "6 ⋯ 1               0               1        0        1                \n",
       "  prevalentStroke_1 prevalentHyp_0 prevalentHyp_1 diabetes_0 diabetes_1\n",
       "1 0                 1              0              1          0         \n",
       "2 0                 1              0              1          0         \n",
       "3 0                 1              0              1          0         \n",
       "4 0                 0              1              1          0         \n",
       "5 0                 1              0              1          0         \n",
       "6 0                 0              1              1          0         "
      ]
     },
     "metadata": {},
     "output_type": "display_data"
    }
   ],
   "source": [
    "head(fram)"
   ]
  },
  {
   "cell_type": "code",
   "execution_count": 4,
   "metadata": {
    "vscode": {
     "languageId": "r"
    }
   },
   "outputs": [],
   "source": [
    "set.seed(1234)"
   ]
  },
  {
   "cell_type": "code",
   "execution_count": 5,
   "metadata": {
    "vscode": {
     "languageId": "r"
    }
   },
   "outputs": [],
   "source": [
    "train_indices <- createDataPartition(fram$TenYearCHD, p = 0.75, list = FALSE)\n",
    "training <- fram[train_indices,]\n",
    "test  <- fram[-train_indices,]\n",
    "training$TenYearCHD <- as.factor(training$TenYearCHD)\n",
    "test$TenYearCHD <- as.factor(test$TenYearCHD)"
   ]
  },
  {
   "cell_type": "markdown",
   "metadata": {},
   "source": [
    "#### Cost-insensitive classifier"
   ]
  },
  {
   "cell_type": "code",
   "execution_count": 17,
   "metadata": {
    "vscode": {
     "languageId": "r"
    }
   },
   "outputs": [],
   "source": [
    "knn_grid <- data.frame(k=seq(1, 10, by=1))\n",
    "knn_control <- trainControl(method='cv', number=5)\n",
    "knn <- caret::train(TenYearCHD ~ ., data=training, method='knn', trControl=knn_control, tuneGrid=knn_grid)"
   ]
  },
  {
   "cell_type": "code",
   "execution_count": 24,
   "metadata": {
    "vscode": {
     "languageId": "r"
    }
   },
   "outputs": [
    {
     "name": "stdout",
     "output_type": "stream",
     "text": [
      "Confusion Matrix and Statistics\n",
      "\n",
      "          Reference\n",
      "Prediction   0   1\n",
      "         0 538  93\n",
      "         1   6   3\n",
      "                                          \n",
      "               Accuracy : 0.8453          \n",
      "                 95% CI : (0.8149, 0.8725)\n",
      "    No Information Rate : 0.85            \n",
      "    P-Value [Acc > NIR] : 0.6548          \n",
      "                                          \n",
      "                  Kappa : 0.0323          \n",
      "                                          \n",
      " Mcnemar's Test P-Value : <2e-16          \n",
      "                                          \n",
      "            Sensitivity : 0.031250        \n",
      "            Specificity : 0.988971        \n",
      "         Pos Pred Value : 0.333333        \n",
      "         Neg Pred Value : 0.852615        \n",
      "             Prevalence : 0.150000        \n",
      "         Detection Rate : 0.004687        \n",
      "   Detection Prevalence : 0.014063        \n",
      "      Balanced Accuracy : 0.510110        \n",
      "                                          \n",
      "       'Positive' Class : 1               \n",
      "                                          \n"
     ]
    }
   ],
   "source": [
    "knn_pred <- predict(knn, newdata = test)\n",
    "knn_cm <- confusionMatrix(reference=test$TenYearCHD, data=knn_pred, positive = '1')\n",
    "print(knn_cm)"
   ]
  },
  {
   "cell_type": "markdown",
   "metadata": {
    "vscode": {
     "languageId": "r"
    }
   },
   "source": [
    "#### Rejection sampling"
   ]
  },
  {
   "cell_type": "code",
   "execution_count": 104,
   "metadata": {
    "vscode": {
     "languageId": "r"
    }
   },
   "outputs": [
    {
     "data": {
      "text/html": [
       "9"
      ],
      "text/latex": [
       "9"
      ],
      "text/markdown": [
       "9"
      ],
      "text/plain": [
       "[1] 9"
      ]
     },
     "metadata": {},
     "output_type": "display_data"
    }
   ],
   "source": [
    "grep('TenYearCHD', colnames(fram))"
   ]
  },
  {
   "cell_type": "code",
   "execution_count": 58,
   "metadata": {
    "vscode": {
     "languageId": "r"
    }
   },
   "outputs": [],
   "source": [
    "weights <- ifelse(training$TenYearCHD == 1, 0.7, 0.3)\n",
    "weights2 <- ifelse(training$TenYearCHD == 1, 0.95, 0.05)\n",
    "classifier <- caret::train\n",
    "X_train <- training[, c(-9)]\n",
    "y_train <- training$TenYearCHD\n",
    "X_test <- test[, c(-9)]\n",
    "y_test <- test$TenYearCHD"
   ]
  },
  {
   "cell_type": "code",
   "execution_count": 51,
   "metadata": {
    "vscode": {
     "languageId": "r"
    }
   },
   "outputs": [
    {
     "data": {
      "text/html": [
       "'factor'"
      ],
      "text/latex": [
       "'factor'"
      ],
      "text/markdown": [
       "'factor'"
      ],
      "text/plain": [
       "[1] \"factor\""
      ]
     },
     "metadata": {},
     "output_type": "display_data"
    }
   ],
   "source": [
    "class(y_train)"
   ]
  },
  {
   "cell_type": "code",
   "execution_count": 59,
   "metadata": {
    "vscode": {
     "languageId": "r"
    }
   },
   "outputs": [
    {
     "name": "stdout",
     "output_type": "stream",
     "text": [
      "Confusion Matrix and Statistics\n",
      "\n",
      "          Reference\n",
      "Prediction   0   1\n",
      "         0 510  77\n",
      "         1  34  19\n",
      "                                         \n",
      "               Accuracy : 0.8266         \n",
      "                 95% CI : (0.795, 0.8551)\n",
      "    No Information Rate : 0.85           \n",
      "    P-Value [Acc > NIR] : 0.9548         \n",
      "                                         \n",
      "                  Kappa : 0.166          \n",
      "                                         \n",
      " Mcnemar's Test P-Value : 6.707e-05      \n",
      "                                         \n",
      "            Sensitivity : 0.19792        \n",
      "            Specificity : 0.93750        \n",
      "         Pos Pred Value : 0.35849        \n",
      "         Neg Pred Value : 0.86882        \n",
      "             Prevalence : 0.15000        \n",
      "         Detection Rate : 0.02969        \n",
      "   Detection Prevalence : 0.08281        \n",
      "      Balanced Accuracy : 0.56771        \n",
      "                                         \n",
      "       'Positive' Class : 1              \n",
      "                                         \n"
     ]
    }
   ],
   "source": [
    "knn_rs <- cost.proportionate.classifier(X_train, y_train, weights, classifier, method = 'knn', trControl=knn_control, tuneGrid=knn_grid)\n",
    "knn_pred_rs <- predict(knn_rs, X_test, aggregation = 'weighted', type = 'prob', output_type='class')\n",
    "knn_pred_rs <- as.factor(knn_pred_rs)\n",
    "knn_cm_rs <- confusionMatrix(reference=y_test, data=knn_pred_rs, positive = '1')\n",
    "print(knn_cm_rs)"
   ]
  },
  {
   "cell_type": "code",
   "execution_count": 60,
   "metadata": {
    "vscode": {
     "languageId": "r"
    }
   },
   "outputs": [
    {
     "name": "stdout",
     "output_type": "stream",
     "text": [
      "Confusion Matrix and Statistics\n",
      "\n",
      "          Reference\n",
      "Prediction   0   1\n",
      "         0  57   3\n",
      "         1 487  93\n",
      "                                          \n",
      "               Accuracy : 0.2344          \n",
      "                 95% CI : (0.2021, 0.2692)\n",
      "    No Information Rate : 0.85            \n",
      "    P-Value [Acc > NIR] : 1               \n",
      "                                          \n",
      "                  Kappa : 0.0239          \n",
      "                                          \n",
      " Mcnemar's Test P-Value : <2e-16          \n",
      "                                          \n",
      "            Sensitivity : 0.9688          \n",
      "            Specificity : 0.1048          \n",
      "         Pos Pred Value : 0.1603          \n",
      "         Neg Pred Value : 0.9500          \n",
      "             Prevalence : 0.1500          \n",
      "         Detection Rate : 0.1453          \n",
      "   Detection Prevalence : 0.9062          \n",
      "      Balanced Accuracy : 0.5368          \n",
      "                                          \n",
      "       'Positive' Class : 1               \n",
      "                                          \n"
     ]
    }
   ],
   "source": [
    "knn_rs2 <- cost.proportionate.classifier(X_train, y_train, weights2, classifier, method = 'knn', trControl=knn_control, tuneGrid=knn_grid)\n",
    "knn_pred_rs2 <- predict(knn_rs2, X_test, aggregation = 'weighted', type = 'prob', output_type='class')\n",
    "knn_pred_rs2 <- as.factor(knn_pred_rs2)\n",
    "knn_cm_rs2 <- confusionMatrix(reference=y_test, data=knn_pred_rs2, positive = '1')\n",
    "print(knn_cm_rs2)"
   ]
  },
  {
   "cell_type": "code",
   "execution_count": null,
   "metadata": {
    "vscode": {
     "languageId": "r"
    }
   },
   "outputs": [],
   "source": []
  }
 ],
 "metadata": {
  "kernelspec": {
   "display_name": "R",
   "language": "R",
   "name": "ir"
  },
  "language_info": {
   "codemirror_mode": "r",
   "file_extension": ".r",
   "mimetype": "text/x-r-source",
   "name": "R",
   "pygments_lexer": "r",
   "version": "4.3.2"
  }
 },
 "nbformat": 4,
 "nbformat_minor": 2
}
