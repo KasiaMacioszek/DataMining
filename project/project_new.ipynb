{
 "cells": [
  {
   "cell_type": "code",
   "execution_count": 4,
   "metadata": {
    "vscode": {
     "languageId": "r"
    }
   },
   "outputs": [
    {
     "name": "stderr",
     "output_type": "stream",
     "text": [
      "Warning message:\n",
      "\"pakiet 'corrplot' został zbudowany w wersji R 4.3.2\"\n",
      "corrplot 0.92 loaded\n",
      "\n"
     ]
    }
   ],
   "source": [
    "library(kernlab)\n",
    "library(finalfit)\n",
    "# library(DataExplorer)\n",
    "# library(doBy)\n",
    "library(dplyr)\n",
    "library(tidyr)\n",
    "library(caret)\n",
    "library(MASS)\n",
    "# library(klaR)\n",
    "# library(ggord)\n",
    "library(corrplot)"
   ]
  },
  {
   "cell_type": "code",
   "execution_count": 5,
   "metadata": {
    "vscode": {
     "languageId": "r"
    }
   },
   "outputs": [],
   "source": [
    "data(spam)"
   ]
  },
  {
   "cell_type": "code",
   "execution_count": 6,
   "metadata": {
    "vscode": {
     "languageId": "r"
    }
   },
   "outputs": [],
   "source": [
    "train_indices <- as.matrix(read.csv(\"ti.csv\"))"
   ]
  },
  {
   "cell_type": "code",
   "execution_count": 7,
   "metadata": {
    "vscode": {
     "languageId": "r"
    }
   },
   "outputs": [],
   "source": [
    "numeric_columns <- sapply(spam, is.numeric)\n",
    "spam_numeric <- spam[, numeric_columns]\n",
    "scaled_data <- as.data.frame(scale(spam_numeric))\n",
    "spam_scaled <- cbind(scaled_data, spam[, !numeric_columns, drop = FALSE])"
   ]
  },
  {
   "cell_type": "markdown",
   "metadata": {},
   "source": [
    "## Commands to put to knitr"
   ]
  },
  {
   "cell_type": "markdown",
   "metadata": {},
   "source": [
    "#### columns elimination"
   ]
  },
  {
   "cell_type": "code",
   "execution_count": 8,
   "metadata": {
    "vscode": {
     "languageId": "r"
    }
   },
   "outputs": [
    {
     "name": "stdout",
     "output_type": "stream",
     "text": [
      "Compare row 32  and column  34 with corr  0.996 \n",
      "  Means:  0.143 vs 0.059 so flagging column 32 \n",
      "Compare row 34  and column  40 with corr  0.845 \n",
      "  Means:  0.127 vs 0.057 so flagging column 34 \n",
      "All correlations <= 0.8 \n"
     ]
    }
   ],
   "source": [
    "correlatedFeatures.id <- findCorrelation(cor(spam[, 1:57]), names=TRUE, cutoff=0.8, verbose=TRUE)"
   ]
  },
  {
   "cell_type": "code",
   "execution_count": 9,
   "metadata": {
    "vscode": {
     "languageId": "r"
    }
   },
   "outputs": [
    {
     "data": {
      "text/html": [
       "<style>\n",
       ".list-inline {list-style: none; margin:0; padding: 0}\n",
       ".list-inline>li {display: inline-block}\n",
       ".list-inline>li:not(:last-child)::after {content: \"\\00b7\"; padding: 0 .5ex}\n",
       "</style>\n",
       "<ol class=list-inline><li>'num857'</li><li>'num415'</li></ol>\n"
      ],
      "text/latex": [
       "\\begin{enumerate*}\n",
       "\\item 'num857'\n",
       "\\item 'num415'\n",
       "\\end{enumerate*}\n"
      ],
      "text/markdown": [
       "1. 'num857'\n",
       "2. 'num415'\n",
       "\n",
       "\n"
      ],
      "text/plain": [
       "[1] \"num857\" \"num415\""
      ]
     },
     "metadata": {},
     "output_type": "display_data"
    }
   ],
   "source": [
    "correlatedFeatures.id"
   ]
  },
  {
   "cell_type": "code",
   "execution_count": 10,
   "metadata": {
    "vscode": {
     "languageId": "r"
    }
   },
   "outputs": [],
   "source": [
    "spam_scaled <- spam_scaled[, -c(32, 34)]"
   ]
  },
  {
   "cell_type": "markdown",
   "metadata": {},
   "source": [
    "#### correlation with spam "
   ]
  },
  {
   "cell_type": "code",
   "execution_count": 11,
   "metadata": {
    "vscode": {
     "languageId": "r"
    }
   },
   "outputs": [],
   "source": [
    "spam_binary <- spam[, -56]\n",
    "spam_binary$spam <- ifelse(spam$type == \"spam\", 1, 0)"
   ]
  },
  {
   "cell_type": "code",
   "execution_count": 12,
   "metadata": {
    "vscode": {
     "languageId": "r"
    }
   },
   "outputs": [
    {
     "ename": "ERROR",
     "evalue": "Error in cor(spam_binary): argument 'x' musi być liczbą\n",
     "output_type": "error",
     "traceback": [
      "Error in cor(spam_binary): argument 'x' musi być liczbą\nTraceback:\n",
      "1. cor(spam_binary)",
      "2. stop(\"'x' must be numeric\")"
     ]
    }
   ],
   "source": [
    "correlation <- cor(spam_binary)\n",
    "correlation_with_spam <- correlation[, ncol(correlation)]"
   ]
  },
  {
   "cell_type": "code",
   "execution_count": null,
   "metadata": {
    "vscode": {
     "languageId": "r"
    }
   },
   "outputs": [],
   "source": [
    "correlation_with_spam <- abs(correlation_with_spam)\n",
    "correlation_with_spam <- sort(correlation_with_spam, decreasing = TRUE)\n",
    "most_correlated <- data.frame(correlation_with_spam[2:11])"
   ]
  },
  {
   "cell_type": "code",
   "execution_count": 13,
   "metadata": {
    "vscode": {
     "languageId": "r"
    }
   },
   "outputs": [
    {
     "ename": "ERROR",
     "evalue": "Error in eval(expr, envir, enclos): nie znaleziono obiektu 'most_correlated'\n",
     "output_type": "error",
     "traceback": [
      "Error in eval(expr, envir, enclos): nie znaleziono obiektu 'most_correlated'\nTraceback:\n"
     ]
    }
   ],
   "source": [
    "most_correlated"
   ]
  },
  {
   "cell_type": "markdown",
   "metadata": {},
   "source": [
    "#### average value for type"
   ]
  },
  {
   "cell_type": "code",
   "execution_count": 15,
   "metadata": {
    "vscode": {
     "languageId": "r"
    }
   },
   "outputs": [],
   "source": [
    "spam_data <- spam[spam$type == \"spam\", ]\n",
    "nonspam_data <- spam[spam$type == \"nonspam\", ]\n",
    "\n",
    "freq_spam <- colMeans(spam_data[, 1:52])\n",
    "freq_nonspam <- colMeans(nonspam_data[, 1:52])\n",
    "\n",
    "freq_diff <- abs(freq_spam - freq_nonspam)\n",
    "sorted_freqs <- sort(freq_diff, decreasing = TRUE)[1:10]\n",
    "\n",
    "freq_spam_df <- t(as.data.frame(freq_spam))\n",
    "freq_nonspam_df <- t(as.data.frame(freq_nonspam))\n",
    "\n",
    "colnames <- names(sorted_freqs)\n",
    "freq_spam_highest <- freq_spam_df[, c(colnames[1])]\n",
    "\n",
    "freqs_df <- data.frame(c('spam', 'nonspam'))\n",
    "colnames(freqs_df) <- c('type')\n",
    "for (i in 1:length(sorted_freqs)) {\n",
    "  column <- c(freq_spam_df[, c(colnames[i])], freq_nonspam_df[, c(colnames[i])])\n",
    "\n",
    "  freqs_df[colnames[i]] <- column\n",
    "}"
   ]
  },
  {
   "cell_type": "code",
   "execution_count": 16,
   "metadata": {
    "vscode": {
     "languageId": "r"
    }
   },
   "outputs": [
    {
     "data": {
      "text/html": [
       "<table class=\"dataframe\">\n",
       "<caption>A data.frame: 2 × 11</caption>\n",
       "<thead>\n",
       "\t<tr><th scope=col>type</th><th scope=col>george</th><th scope=col>you</th><th scope=col>your</th><th scope=col>hp</th><th scope=col>free</th><th scope=col>hpl</th><th scope=col>charExclamation</th><th scope=col>our</th><th scope=col>re</th><th scope=col>edu</th></tr>\n",
       "\t<tr><th scope=col>&lt;chr&gt;</th><th scope=col>&lt;dbl&gt;</th><th scope=col>&lt;dbl&gt;</th><th scope=col>&lt;dbl&gt;</th><th scope=col>&lt;dbl&gt;</th><th scope=col>&lt;dbl&gt;</th><th scope=col>&lt;dbl&gt;</th><th scope=col>&lt;dbl&gt;</th><th scope=col>&lt;dbl&gt;</th><th scope=col>&lt;dbl&gt;</th><th scope=col>&lt;dbl&gt;</th></tr>\n",
       "</thead>\n",
       "<tbody>\n",
       "\t<tr><td>spam   </td><td>0.001549917</td><td>2.264539</td><td>1.3803696</td><td>0.01747932</td><td>0.5183618</td><td>0.009172642</td><td>0.5137126</td><td>0.5139548</td><td>0.1250910</td><td>0.01472697</td></tr>\n",
       "\t<tr><td>nonspam</td><td>1.265265423</td><td>1.270341</td><td>0.4387016</td><td>0.89547346</td><td>0.0735868</td><td>0.431994261</td><td>0.1099835</td><td>0.1810402</td><td>0.4157604</td><td>0.28718436</td></tr>\n",
       "</tbody>\n",
       "</table>\n"
      ],
      "text/latex": [
       "A data.frame: 2 × 11\n",
       "\\begin{tabular}{lllllllllll}\n",
       " type & george & you & your & hp & free & hpl & charExclamation & our & re & edu\\\\\n",
       " <chr> & <dbl> & <dbl> & <dbl> & <dbl> & <dbl> & <dbl> & <dbl> & <dbl> & <dbl> & <dbl>\\\\\n",
       "\\hline\n",
       "\t spam    & 0.001549917 & 2.264539 & 1.3803696 & 0.01747932 & 0.5183618 & 0.009172642 & 0.5137126 & 0.5139548 & 0.1250910 & 0.01472697\\\\\n",
       "\t nonspam & 1.265265423 & 1.270341 & 0.4387016 & 0.89547346 & 0.0735868 & 0.431994261 & 0.1099835 & 0.1810402 & 0.4157604 & 0.28718436\\\\\n",
       "\\end{tabular}\n"
      ],
      "text/markdown": [
       "\n",
       "A data.frame: 2 × 11\n",
       "\n",
       "| type &lt;chr&gt; | george &lt;dbl&gt; | you &lt;dbl&gt; | your &lt;dbl&gt; | hp &lt;dbl&gt; | free &lt;dbl&gt; | hpl &lt;dbl&gt; | charExclamation &lt;dbl&gt; | our &lt;dbl&gt; | re &lt;dbl&gt; | edu &lt;dbl&gt; |\n",
       "|---|---|---|---|---|---|---|---|---|---|---|\n",
       "| spam    | 0.001549917 | 2.264539 | 1.3803696 | 0.01747932 | 0.5183618 | 0.009172642 | 0.5137126 | 0.5139548 | 0.1250910 | 0.01472697 |\n",
       "| nonspam | 1.265265423 | 1.270341 | 0.4387016 | 0.89547346 | 0.0735868 | 0.431994261 | 0.1099835 | 0.1810402 | 0.4157604 | 0.28718436 |\n",
       "\n"
      ],
      "text/plain": [
       "  type    george      you      your      hp         free      hpl        \n",
       "1 spam    0.001549917 2.264539 1.3803696 0.01747932 0.5183618 0.009172642\n",
       "2 nonspam 1.265265423 1.270341 0.4387016 0.89547346 0.0735868 0.431994261\n",
       "  charExclamation our       re        edu       \n",
       "1 0.5137126       0.5139548 0.1250910 0.01472697\n",
       "2 0.1099835       0.1810402 0.4157604 0.28718436"
      ]
     },
     "metadata": {},
     "output_type": "display_data"
    }
   ],
   "source": [
    "freqs_df"
   ]
  },
  {
   "cell_type": "markdown",
   "metadata": {},
   "source": [
    "## Discriminant analysis"
   ]
  },
  {
   "cell_type": "markdown",
   "metadata": {},
   "source": [
    "#### whole data set"
   ]
  },
  {
   "cell_type": "code",
   "execution_count": 140,
   "metadata": {
    "vscode": {
     "languageId": "r"
    }
   },
   "outputs": [],
   "source": [
    "train <- spam_scaled[train_indices, ]\n",
    "test  <- spam_scaled[-train_indices, ]"
   ]
  },
  {
   "cell_type": "code",
   "execution_count": 141,
   "metadata": {
    "vscode": {
     "languageId": "r"
    }
   },
   "outputs": [],
   "source": [
    "train <- data.frame(train)\n",
    "test <- data.frame(test)\n",
    "lda_fit <- lda(type ~ ., data = train)\n",
    "lda_predictions <- predict(lda_fit, test)"
   ]
  },
  {
   "cell_type": "code",
   "execution_count": 142,
   "metadata": {
    "vscode": {
     "languageId": "r"
    }
   },
   "outputs": [],
   "source": [
    "qda_fit <- qda(type ~ ., data = train)\n",
    "qda_predictions <- predict(qda_fit, test)"
   ]
  },
  {
   "cell_type": "code",
   "execution_count": 143,
   "metadata": {
    "vscode": {
     "languageId": "r"
    }
   },
   "outputs": [],
   "source": [
    "lda_cm <- confusionMatrix(test$type, lda_predictions$class, positive = \"spam\")\n",
    "qda_cm <- confusionMatrix(test$type, qda_predictions$class, positive = \"spam\")"
   ]
  },
  {
   "cell_type": "code",
   "execution_count": 144,
   "metadata": {
    "vscode": {
     "languageId": "r"
    }
   },
   "outputs": [
    {
     "data": {
      "text/plain": [
       "Confusion Matrix and Statistics\n",
       "\n",
       "          Reference\n",
       "Prediction nonspam spam\n",
       "   nonspam     661   36\n",
       "   spam         90  363\n",
       "                                          \n",
       "               Accuracy : 0.8904          \n",
       "                 95% CI : (0.8709, 0.9079)\n",
       "    No Information Rate : 0.653           \n",
       "    P-Value [Acc > NIR] : < 2.2e-16       \n",
       "                                          \n",
       "                  Kappa : 0.7657          \n",
       "                                          \n",
       " Mcnemar's Test P-Value : 2.34e-06        \n",
       "                                          \n",
       "            Sensitivity : 0.9098          \n",
       "            Specificity : 0.8802          \n",
       "         Pos Pred Value : 0.8013          \n",
       "         Neg Pred Value : 0.9484          \n",
       "             Prevalence : 0.3470          \n",
       "         Detection Rate : 0.3157          \n",
       "   Detection Prevalence : 0.3939          \n",
       "      Balanced Accuracy : 0.8950          \n",
       "                                          \n",
       "       'Positive' Class : spam            \n",
       "                                          "
      ]
     },
     "metadata": {},
     "output_type": "display_data"
    }
   ],
   "source": [
    "lda_cm"
   ]
  },
  {
   "cell_type": "code",
   "execution_count": 145,
   "metadata": {
    "vscode": {
     "languageId": "r"
    }
   },
   "outputs": [
    {
     "data": {
      "text/plain": [
       "Confusion Matrix and Statistics\n",
       "\n",
       "          Reference\n",
       "Prediction nonspam spam\n",
       "   nonspam     539  158\n",
       "   spam         18  435\n",
       "                                          \n",
       "               Accuracy : 0.847           \n",
       "                 95% CI : (0.8248, 0.8673)\n",
       "    No Information Rate : 0.5157          \n",
       "    P-Value [Acc > NIR] : < 2.2e-16       \n",
       "                                          \n",
       "                  Kappa : 0.6959          \n",
       "                                          \n",
       " Mcnemar's Test P-Value : < 2.2e-16       \n",
       "                                          \n",
       "            Sensitivity : 0.7336          \n",
       "            Specificity : 0.9677          \n",
       "         Pos Pred Value : 0.9603          \n",
       "         Neg Pred Value : 0.7733          \n",
       "             Prevalence : 0.5157          \n",
       "         Detection Rate : 0.3783          \n",
       "   Detection Prevalence : 0.3939          \n",
       "      Balanced Accuracy : 0.8506          \n",
       "                                          \n",
       "       'Positive' Class : spam            \n",
       "                                          "
      ]
     },
     "metadata": {},
     "output_type": "display_data"
    }
   ],
   "source": [
    "qda_cm"
   ]
  },
  {
   "cell_type": "markdown",
   "metadata": {},
   "source": [
    "## Whole data set with log"
   ]
  },
  {
   "cell_type": "code",
   "execution_count": 169,
   "metadata": {
    "vscode": {
     "languageId": "r"
    }
   },
   "outputs": [],
   "source": [
    "numeric_columns <- spam[, 1:55]\n",
    "log_data <- as.data.frame(log(numeric_columns+0.1))\n",
    "spam_log <- cbind(log_data, spam[, 56, drop = FALSE])"
   ]
  },
  {
   "cell_type": "code",
   "execution_count": 170,
   "metadata": {
    "vscode": {
     "languageId": "r"
    }
   },
   "outputs": [],
   "source": [
    "train <- spam_log[train_indices, ]\n",
    "test  <- spam_log[-train_indices, ]"
   ]
  },
  {
   "cell_type": "code",
   "execution_count": 171,
   "metadata": {
    "vscode": {
     "languageId": "r"
    }
   },
   "outputs": [],
   "source": [
    "train <- data.frame(train)\n",
    "test <- data.frame(test)\n",
    "lda_fit <- lda(type ~ ., data = train)\n",
    "lda_predictions <- predict(lda_fit, test)\n",
    "qda_fit <- qda(type ~ ., data = train)\n",
    "qda_predictions <- predict(qda_fit, test)"
   ]
  },
  {
   "cell_type": "code",
   "execution_count": 172,
   "metadata": {
    "vscode": {
     "languageId": "r"
    }
   },
   "outputs": [],
   "source": [
    "lda_cm <- confusionMatrix(test$type, lda_predictions$class, positive = \"spam\")\n",
    "qda_cm <- confusionMatrix(test$type, qda_predictions$class, positive = \"spam\")"
   ]
  },
  {
   "cell_type": "code",
   "execution_count": 173,
   "metadata": {
    "vscode": {
     "languageId": "r"
    }
   },
   "outputs": [
    {
     "data": {
      "text/plain": [
       "Confusion Matrix and Statistics\n",
       "\n",
       "          Reference\n",
       "Prediction nonspam spam\n",
       "   nonspam     675   22\n",
       "   spam         53  400\n",
       "                                          \n",
       "               Accuracy : 0.9348          \n",
       "                 95% CI : (0.9189, 0.9484)\n",
       "    No Information Rate : 0.633           \n",
       "    P-Value [Acc > NIR] : < 2.2e-16       \n",
       "                                          \n",
       "                  Kappa : 0.8618          \n",
       "                                          \n",
       " Mcnemar's Test P-Value : 0.000532        \n",
       "                                          \n",
       "            Sensitivity : 0.9479          \n",
       "            Specificity : 0.9272          \n",
       "         Pos Pred Value : 0.8830          \n",
       "         Neg Pred Value : 0.9684          \n",
       "             Prevalence : 0.3670          \n",
       "         Detection Rate : 0.3478          \n",
       "   Detection Prevalence : 0.3939          \n",
       "      Balanced Accuracy : 0.9375          \n",
       "                                          \n",
       "       'Positive' Class : spam            \n",
       "                                          "
      ]
     },
     "metadata": {},
     "output_type": "display_data"
    }
   ],
   "source": [
    "lda_cm"
   ]
  },
  {
   "cell_type": "code",
   "execution_count": 174,
   "metadata": {
    "vscode": {
     "languageId": "r"
    }
   },
   "outputs": [
    {
     "data": {
      "text/plain": [
       "Confusion Matrix and Statistics\n",
       "\n",
       "          Reference\n",
       "Prediction nonspam spam\n",
       "   nonspam     558  139\n",
       "   spam         25  428\n",
       "                                          \n",
       "               Accuracy : 0.8574          \n",
       "                 95% CI : (0.8358, 0.8771)\n",
       "    No Information Rate : 0.507           \n",
       "    P-Value [Acc > NIR] : < 2.2e-16       \n",
       "                                          \n",
       "                  Kappa : 0.7139          \n",
       "                                          \n",
       " Mcnemar's Test P-Value : < 2.2e-16       \n",
       "                                          \n",
       "            Sensitivity : 0.7549          \n",
       "            Specificity : 0.9571          \n",
       "         Pos Pred Value : 0.9448          \n",
       "         Neg Pred Value : 0.8006          \n",
       "             Prevalence : 0.4930          \n",
       "         Detection Rate : 0.3722          \n",
       "   Detection Prevalence : 0.3939          \n",
       "      Balanced Accuracy : 0.8560          \n",
       "                                          \n",
       "       'Positive' Class : spam            \n",
       "                                          "
      ]
     },
     "metadata": {},
     "output_type": "display_data"
    }
   ],
   "source": [
    "qda_cm"
   ]
  },
  {
   "cell_type": "markdown",
   "metadata": {},
   "source": [
    "### Only freqs log"
   ]
  },
  {
   "cell_type": "code",
   "execution_count": 183,
   "metadata": {
    "vscode": {
     "languageId": "r"
    }
   },
   "outputs": [],
   "source": [
    "spam_freq <- spam_log[, -seq(53, 55)]"
   ]
  },
  {
   "cell_type": "code",
   "execution_count": 184,
   "metadata": {
    "vscode": {
     "languageId": "r"
    }
   },
   "outputs": [],
   "source": [
    "train_freq <- spam_freq[train_indices, ]\n",
    "test_freq  <- spam_freq[-train_indices, ]"
   ]
  },
  {
   "cell_type": "code",
   "execution_count": 185,
   "metadata": {
    "vscode": {
     "languageId": "r"
    }
   },
   "outputs": [],
   "source": [
    "train_freq <- data.frame(train_freq)\n",
    "test_freq <- data.frame(test_freq)\n",
    "lda_fit <- lda(type ~ ., data = train_freq)\n",
    "lda_predictions <- predict(lda_fit, test_freq)"
   ]
  },
  {
   "cell_type": "code",
   "execution_count": 186,
   "metadata": {
    "vscode": {
     "languageId": "r"
    }
   },
   "outputs": [],
   "source": [
    "qda_fit <- qda(type ~ ., data = train_freq)\n",
    "qda_predictions <- predict(qda_fit, test_freq)"
   ]
  },
  {
   "cell_type": "code",
   "execution_count": 187,
   "metadata": {
    "vscode": {
     "languageId": "r"
    }
   },
   "outputs": [],
   "source": [
    "lda_cm <- confusionMatrix(test_freq$type, lda_predictions$class, positive = \"spam\")"
   ]
  },
  {
   "cell_type": "code",
   "execution_count": 188,
   "metadata": {
    "vscode": {
     "languageId": "r"
    }
   },
   "outputs": [],
   "source": [
    "qda_cm <- confusionMatrix(test_freq$type, qda_predictions$class, positive = \"spam\")"
   ]
  },
  {
   "cell_type": "code",
   "execution_count": 189,
   "metadata": {
    "vscode": {
     "languageId": "r"
    }
   },
   "outputs": [
    {
     "data": {
      "text/plain": [
       "Confusion Matrix and Statistics\n",
       "\n",
       "          Reference\n",
       "Prediction nonspam spam\n",
       "   nonspam     670   27\n",
       "   spam         56  397\n",
       "                                          \n",
       "               Accuracy : 0.9278          \n",
       "                 95% CI : (0.9113, 0.9421)\n",
       "    No Information Rate : 0.6313          \n",
       "    P-Value [Acc > NIR] : < 2.2e-16       \n",
       "                                          \n",
       "                  Kappa : 0.8471          \n",
       "                                          \n",
       " Mcnemar's Test P-Value : 0.002116        \n",
       "                                          \n",
       "            Sensitivity : 0.9363          \n",
       "            Specificity : 0.9229          \n",
       "         Pos Pred Value : 0.8764          \n",
       "         Neg Pred Value : 0.9613          \n",
       "             Prevalence : 0.3687          \n",
       "         Detection Rate : 0.3452          \n",
       "   Detection Prevalence : 0.3939          \n",
       "      Balanced Accuracy : 0.9296          \n",
       "                                          \n",
       "       'Positive' Class : spam            \n",
       "                                          "
      ]
     },
     "metadata": {},
     "output_type": "display_data"
    }
   ],
   "source": [
    "lda_cm"
   ]
  },
  {
   "cell_type": "code",
   "execution_count": 190,
   "metadata": {
    "vscode": {
     "languageId": "r"
    }
   },
   "outputs": [
    {
     "data": {
      "text/plain": [
       "Confusion Matrix and Statistics\n",
       "\n",
       "          Reference\n",
       "Prediction nonspam spam\n",
       "   nonspam     552  145\n",
       "   spam         24  429\n",
       "                                         \n",
       "               Accuracy : 0.853          \n",
       "                 95% CI : (0.8312, 0.873)\n",
       "    No Information Rate : 0.5009         \n",
       "    P-Value [Acc > NIR] : < 2.2e-16      \n",
       "                                         \n",
       "                  Kappa : 0.706          \n",
       "                                         \n",
       " Mcnemar's Test P-Value : < 2.2e-16      \n",
       "                                         \n",
       "            Sensitivity : 0.7474         \n",
       "            Specificity : 0.9583         \n",
       "         Pos Pred Value : 0.9470         \n",
       "         Neg Pred Value : 0.7920         \n",
       "             Prevalence : 0.4991         \n",
       "         Detection Rate : 0.3730         \n",
       "   Detection Prevalence : 0.3939         \n",
       "      Balanced Accuracy : 0.8529         \n",
       "                                         \n",
       "       'Positive' Class : spam           \n",
       "                                         "
      ]
     },
     "metadata": {},
     "output_type": "display_data"
    }
   ],
   "source": [
    "qda_cm"
   ]
  },
  {
   "cell_type": "markdown",
   "metadata": {},
   "source": [
    "### Only capital"
   ]
  },
  {
   "cell_type": "code",
   "execution_count": 191,
   "metadata": {
    "vscode": {
     "languageId": "r"
    }
   },
   "outputs": [],
   "source": [
    "spam_capital <- spam_log[, seq(53, 56)]"
   ]
  },
  {
   "cell_type": "code",
   "execution_count": 192,
   "metadata": {
    "vscode": {
     "languageId": "r"
    }
   },
   "outputs": [],
   "source": [
    "train_capital <- spam_capital[train_indices, ]\n",
    "test_capital  <- spam_capital[-train_indices, ]"
   ]
  },
  {
   "cell_type": "code",
   "execution_count": 193,
   "metadata": {
    "vscode": {
     "languageId": "r"
    }
   },
   "outputs": [],
   "source": [
    "train_capital <- data.frame(train_capital)\n",
    "test_capital <- data.frame(test_capital)\n",
    "lda_fit <- lda(type ~ ., data = train_capital)\n",
    "lda_predictions <- predict(lda_fit, test_capital)"
   ]
  },
  {
   "cell_type": "code",
   "execution_count": 194,
   "metadata": {
    "vscode": {
     "languageId": "r"
    }
   },
   "outputs": [],
   "source": [
    "qda_fit <- qda(type ~ ., data = train_capital)\n",
    "qda_predictions <- predict(qda_fit, test_capital)"
   ]
  },
  {
   "cell_type": "code",
   "execution_count": 198,
   "metadata": {
    "vscode": {
     "languageId": "r"
    }
   },
   "outputs": [],
   "source": [
    "lda_cm <- confusionMatrix(test_capital$type, lda_predictions$class, positive = \"spam\")\n",
    "qda_cm <- confusionMatrix(test_capital$type, qda_predictions$class, positive = \"spam\")"
   ]
  },
  {
   "cell_type": "code",
   "execution_count": 199,
   "metadata": {
    "vscode": {
     "languageId": "r"
    }
   },
   "outputs": [
    {
     "data": {
      "text/plain": [
       "Confusion Matrix and Statistics\n",
       "\n",
       "          Reference\n",
       "Prediction nonspam spam\n",
       "   nonspam     595  102\n",
       "   spam        208  245\n",
       "                                          \n",
       "               Accuracy : 0.7304          \n",
       "                 95% CI : (0.7038, 0.7559)\n",
       "    No Information Rate : 0.6983          \n",
       "    P-Value [Acc > NIR] : 0.009007        \n",
       "                                          \n",
       "                  Kappa : 0.4113          \n",
       "                                          \n",
       " Mcnemar's Test P-Value : 2.467e-09       \n",
       "                                          \n",
       "            Sensitivity : 0.7061          \n",
       "            Specificity : 0.7410          \n",
       "         Pos Pred Value : 0.5408          \n",
       "         Neg Pred Value : 0.8537          \n",
       "             Prevalence : 0.3017          \n",
       "         Detection Rate : 0.2130          \n",
       "   Detection Prevalence : 0.3939          \n",
       "      Balanced Accuracy : 0.7235          \n",
       "                                          \n",
       "       'Positive' Class : spam            \n",
       "                                          "
      ]
     },
     "metadata": {},
     "output_type": "display_data"
    }
   ],
   "source": [
    "lda_cm"
   ]
  },
  {
   "cell_type": "code",
   "execution_count": 200,
   "metadata": {
    "vscode": {
     "languageId": "r"
    }
   },
   "outputs": [
    {
     "data": {
      "text/plain": [
       "Confusion Matrix and Statistics\n",
       "\n",
       "          Reference\n",
       "Prediction nonspam spam\n",
       "   nonspam     619   78\n",
       "   spam        247  206\n",
       "                                          \n",
       "               Accuracy : 0.7174          \n",
       "                 95% CI : (0.6904, 0.7433)\n",
       "    No Information Rate : 0.753           \n",
       "    P-Value [Acc > NIR] : 0.9974          \n",
       "                                          \n",
       "                  Kappa : 0.3668          \n",
       "                                          \n",
       " Mcnemar's Test P-Value : <2e-16          \n",
       "                                          \n",
       "            Sensitivity : 0.7254          \n",
       "            Specificity : 0.7148          \n",
       "         Pos Pred Value : 0.4547          \n",
       "         Neg Pred Value : 0.8881          \n",
       "             Prevalence : 0.2470          \n",
       "         Detection Rate : 0.1791          \n",
       "   Detection Prevalence : 0.3939          \n",
       "      Balanced Accuracy : 0.7201          \n",
       "                                          \n",
       "       'Positive' Class : spam            \n",
       "                                          "
      ]
     },
     "metadata": {},
     "output_type": "display_data"
    }
   ],
   "source": [
    "qda_cm"
   ]
  },
  {
   "cell_type": "markdown",
   "metadata": {},
   "source": [
    "### Features highly correlated with spam"
   ]
  },
  {
   "cell_type": "code",
   "execution_count": 201,
   "metadata": {
    "vscode": {
     "languageId": "r"
    }
   },
   "outputs": [],
   "source": [
    "spam_cor_feat <- spam_log[, c(\"your\", \"num000\", \"remove\", \"charDollar\", \"charExclamation\", \"type\")]"
   ]
  },
  {
   "cell_type": "code",
   "execution_count": 202,
   "metadata": {
    "vscode": {
     "languageId": "r"
    }
   },
   "outputs": [],
   "source": [
    "train_cor <- data.frame(spam_cor_feat[train_indices, ])\n",
    "test_cor <- data.frame(spam_cor_feat[-train_indices, ])"
   ]
  },
  {
   "cell_type": "code",
   "execution_count": 203,
   "metadata": {
    "vscode": {
     "languageId": "r"
    }
   },
   "outputs": [],
   "source": [
    "lda_fit <- lda(type ~ ., data = train_cor)\n",
    "lda_predictions <- predict(lda_fit, test_cor)\n",
    "qda_fit <- qda(type ~ ., data = train_cor)\n",
    "qda_predictions <- predict(qda_fit, test_cor)"
   ]
  },
  {
   "cell_type": "code",
   "execution_count": 204,
   "metadata": {
    "vscode": {
     "languageId": "r"
    }
   },
   "outputs": [],
   "source": [
    "lda_cm <- confusionMatrix(test_cor$type, lda_predictions$class, positive = \"spam\")\n",
    "qda_cm <- confusionMatrix(test_cor$type, qda_predictions$class, positive = \"spam\")"
   ]
  },
  {
   "cell_type": "code",
   "execution_count": 205,
   "metadata": {
    "vscode": {
     "languageId": "r"
    }
   },
   "outputs": [
    {
     "data": {
      "text/plain": [
       "Confusion Matrix and Statistics\n",
       "\n",
       "          Reference\n",
       "Prediction nonspam spam\n",
       "   nonspam     666   31\n",
       "   spam         91  362\n",
       "                                          \n",
       "               Accuracy : 0.8939          \n",
       "                 95% CI : (0.8747, 0.9111)\n",
       "    No Information Rate : 0.6583          \n",
       "    P-Value [Acc > NIR] : < 2.2e-16       \n",
       "                                          \n",
       "                  Kappa : 0.7726          \n",
       "                                          \n",
       " Mcnemar's Test P-Value : 9.213e-08       \n",
       "                                          \n",
       "            Sensitivity : 0.9211          \n",
       "            Specificity : 0.8798          \n",
       "         Pos Pred Value : 0.7991          \n",
       "         Neg Pred Value : 0.9555          \n",
       "             Prevalence : 0.3417          \n",
       "         Detection Rate : 0.3148          \n",
       "   Detection Prevalence : 0.3939          \n",
       "      Balanced Accuracy : 0.9005          \n",
       "                                          \n",
       "       'Positive' Class : spam            \n",
       "                                          "
      ]
     },
     "metadata": {},
     "output_type": "display_data"
    }
   ],
   "source": [
    "lda_cm"
   ]
  },
  {
   "cell_type": "code",
   "execution_count": 206,
   "metadata": {
    "vscode": {
     "languageId": "r"
    }
   },
   "outputs": [
    {
     "data": {
      "text/plain": [
       "Confusion Matrix and Statistics\n",
       "\n",
       "          Reference\n",
       "Prediction nonspam spam\n",
       "   nonspam     650   47\n",
       "   spam         91  362\n",
       "                                          \n",
       "               Accuracy : 0.88            \n",
       "                 95% CI : (0.8598, 0.8982)\n",
       "    No Information Rate : 0.6443          \n",
       "    P-Value [Acc > NIR] : < 2.2e-16       \n",
       "                                          \n",
       "                  Kappa : 0.7443          \n",
       "                                          \n",
       " Mcnemar's Test P-Value : 0.0002518       \n",
       "                                          \n",
       "            Sensitivity : 0.8851          \n",
       "            Specificity : 0.8772          \n",
       "         Pos Pred Value : 0.7991          \n",
       "         Neg Pred Value : 0.9326          \n",
       "             Prevalence : 0.3557          \n",
       "         Detection Rate : 0.3148          \n",
       "   Detection Prevalence : 0.3939          \n",
       "      Balanced Accuracy : 0.8811          \n",
       "                                          \n",
       "       'Positive' Class : spam            \n",
       "                                          "
      ]
     },
     "metadata": {},
     "output_type": "display_data"
    }
   ],
   "source": [
    "qda_cm"
   ]
  },
  {
   "cell_type": "markdown",
   "metadata": {},
   "source": [
    "### Highest difference in average frequency"
   ]
  },
  {
   "cell_type": "code",
   "execution_count": 207,
   "metadata": {
    "vscode": {
     "languageId": "r"
    }
   },
   "outputs": [],
   "source": [
    "spam_diff_feat <- spam_log[, c(\"george\", \"you\", \"your\", \"hp\", \"free\", \"hpl\", \"charExclamation\", \"our\", \"re\", \"edu\", \"type\")]"
   ]
  },
  {
   "cell_type": "code",
   "execution_count": 208,
   "metadata": {
    "vscode": {
     "languageId": "r"
    }
   },
   "outputs": [],
   "source": [
    "train_diff <- data.frame(spam_diff_feat[train_indices, ])\n",
    "test_diff <- data.frame(spam_diff_feat[-train_indices, ])"
   ]
  },
  {
   "cell_type": "code",
   "execution_count": 209,
   "metadata": {
    "vscode": {
     "languageId": "r"
    }
   },
   "outputs": [],
   "source": [
    "lda_fit <- lda(type ~ ., data = train_diff)\n",
    "lda_predictions <- predict(lda_fit, test_diff)\n",
    "qda_fit <- qda(type ~ ., data = train_diff)\n",
    "qda_predictions <- predict(qda_fit, test_diff)"
   ]
  },
  {
   "cell_type": "code",
   "execution_count": 210,
   "metadata": {
    "vscode": {
     "languageId": "r"
    }
   },
   "outputs": [],
   "source": [
    "lda_cm <- confusionMatrix(test_diff$type, lda_predictions$class, positive = \"spam\")\n",
    "qda_cm <- confusionMatrix(test_diff$type, qda_predictions$class, positive = \"spam\")"
   ]
  },
  {
   "cell_type": "code",
   "execution_count": 211,
   "metadata": {
    "vscode": {
     "languageId": "r"
    }
   },
   "outputs": [
    {
     "data": {
      "text/plain": [
       "Confusion Matrix and Statistics\n",
       "\n",
       "          Reference\n",
       "Prediction nonspam spam\n",
       "   nonspam     644   53\n",
       "   spam         75  378\n",
       "                                          \n",
       "               Accuracy : 0.8887          \n",
       "                 95% CI : (0.8691, 0.9063)\n",
       "    No Information Rate : 0.6252          \n",
       "    P-Value [Acc > NIR] : < 2e-16         \n",
       "                                          \n",
       "                  Kappa : 0.7649          \n",
       "                                          \n",
       " Mcnemar's Test P-Value : 0.06343         \n",
       "                                          \n",
       "            Sensitivity : 0.8770          \n",
       "            Specificity : 0.8957          \n",
       "         Pos Pred Value : 0.8344          \n",
       "         Neg Pred Value : 0.9240          \n",
       "             Prevalence : 0.3748          \n",
       "         Detection Rate : 0.3287          \n",
       "   Detection Prevalence : 0.3939          \n",
       "      Balanced Accuracy : 0.8864          \n",
       "                                          \n",
       "       'Positive' Class : spam            \n",
       "                                          "
      ]
     },
     "metadata": {},
     "output_type": "display_data"
    }
   ],
   "source": [
    "lda_cm"
   ]
  },
  {
   "cell_type": "code",
   "execution_count": 212,
   "metadata": {
    "vscode": {
     "languageId": "r"
    }
   },
   "outputs": [
    {
     "data": {
      "text/plain": [
       "Confusion Matrix and Statistics\n",
       "\n",
       "          Reference\n",
       "Prediction nonspam spam\n",
       "   nonspam     478  219\n",
       "   spam         19  434\n",
       "                                          \n",
       "               Accuracy : 0.793           \n",
       "                 95% CI : (0.7685, 0.8161)\n",
       "    No Information Rate : 0.5678          \n",
       "    P-Value [Acc > NIR] : < 2.2e-16       \n",
       "                                          \n",
       "                  Kappa : 0.5977          \n",
       "                                          \n",
       " Mcnemar's Test P-Value : < 2.2e-16       \n",
       "                                          \n",
       "            Sensitivity : 0.6646          \n",
       "            Specificity : 0.9618          \n",
       "         Pos Pred Value : 0.9581          \n",
       "         Neg Pred Value : 0.6858          \n",
       "             Prevalence : 0.5678          \n",
       "         Detection Rate : 0.3774          \n",
       "   Detection Prevalence : 0.3939          \n",
       "      Balanced Accuracy : 0.8132          \n",
       "                                          \n",
       "       'Positive' Class : spam            \n",
       "                                          "
      ]
     },
     "metadata": {},
     "output_type": "display_data"
    }
   ],
   "source": [
    "qda_cm"
   ]
  },
  {
   "cell_type": "code",
   "execution_count": null,
   "metadata": {
    "vscode": {
     "languageId": "r"
    }
   },
   "outputs": [],
   "source": []
  }
 ],
 "metadata": {
  "kernelspec": {
   "display_name": "R",
   "language": "R",
   "name": "ir"
  },
  "language_info": {
   "codemirror_mode": "r",
   "file_extension": ".r",
   "mimetype": "text/x-r-source",
   "name": "R",
   "pygments_lexer": "r",
   "version": "4.3.1"
  }
 },
 "nbformat": 4,
 "nbformat_minor": 2
}
