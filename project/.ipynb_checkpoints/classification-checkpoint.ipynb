{
 "cells": [
  {
   "cell_type": "code",
   "execution_count": 1,
   "id": "7faad1ae",
   "metadata": {},
   "outputs": [
    {
     "name": "stderr",
     "output_type": "stream",
     "text": [
      "Ładowanie wymaganego pakietu: ggplot2\n",
      "\n",
      "\n",
      "Dołączanie pakietu: 'ggplot2'\n",
      "\n",
      "\n",
      "Następujący obiekt został zakryty z 'package:kernlab':\n",
      "\n",
      "    alpha\n",
      "\n",
      "\n",
      "Ładowanie wymaganego pakietu: lattice\n",
      "\n",
      "\n",
      "Dołączanie pakietu: 'dplyr'\n",
      "\n",
      "\n",
      "Następujące obiekty zostały zakryte z 'package:stats':\n",
      "\n",
      "    filter, lag\n",
      "\n",
      "\n",
      "Następujące obiekty zostały zakryte z 'package:base':\n",
      "\n",
      "    intersect, setdiff, setequal, union\n",
      "\n",
      "\n"
     ]
    }
   ],
   "source": [
    "library(kernlab)\n",
    "library(finalfit)\n",
    "library(caret)\n",
    "library(ggplot2)\n",
    "library(dplyr)"
   ]
  },
  {
   "cell_type": "code",
   "execution_count": 2,
   "id": "2bcd01d2",
   "metadata": {},
   "outputs": [],
   "source": [
    "data(spam)"
   ]
  },
  {
   "cell_type": "code",
   "execution_count": 3,
   "id": "36e8dd4a",
   "metadata": {
    "scrolled": true
   },
   "outputs": [
    {
     "name": "stderr",
     "output_type": "stream",
     "text": [
      "Warning message:\n",
      "\"\u001b[1m\u001b[22m`fct_explicit_na()` was deprecated in forcats 1.0.0.\n",
      "\u001b[36mℹ\u001b[39m Please use `fct_na_value_to_level()` instead.\n",
      "\u001b[36mℹ\u001b[39m The deprecated feature was likely used in the \u001b[34mfinalfit\u001b[39m package.\n",
      "  Please report the issue at \u001b[3m\u001b[34m<https://github.com/ewenharrison/finalfit/issues>\u001b[39m\u001b[23m.\"\n"
     ]
    },
    {
     "data": {
      "text/html": [
       "<dl>\n",
       "\t<dt>$Continuous</dt>\n",
       "\t\t<dd><table class=\"dataframe\">\n",
       "<caption>A data.frame: 57 × 12</caption>\n",
       "<thead>\n",
       "\t<tr><th></th><th scope=col>label</th><th scope=col>var_type</th><th scope=col>n</th><th scope=col>missing_n</th><th scope=col>missing_percent</th><th scope=col>mean</th><th scope=col>sd</th><th scope=col>min</th><th scope=col>quartile_25</th><th scope=col>median</th><th scope=col>quartile_75</th><th scope=col>max</th></tr>\n",
       "\t<tr><th></th><th scope=col>&lt;chr&gt;</th><th scope=col>&lt;chr&gt;</th><th scope=col>&lt;int&gt;</th><th scope=col>&lt;int&gt;</th><th scope=col>&lt;chr&gt;</th><th scope=col>&lt;chr&gt;</th><th scope=col>&lt;chr&gt;</th><th scope=col>&lt;chr&gt;</th><th scope=col>&lt;chr&gt;</th><th scope=col>&lt;chr&gt;</th><th scope=col>&lt;chr&gt;</th><th scope=col>&lt;chr&gt;</th></tr>\n",
       "</thead>\n",
       "<tbody>\n",
       "\t<tr><th scope=row>make</th><td><span style=white-space:pre-wrap>make             </span></td><td>&lt;dbl&gt;</td><td>4601</td><td>0</td><td>0.0</td><td><span style=white-space:pre-wrap>0.1  </span></td><td><span style=white-space:pre-wrap>0.3  </span></td><td>0.0</td><td>0.0 </td><td>0.0 </td><td><span style=white-space:pre-wrap>0.0  </span></td><td><span style=white-space:pre-wrap>4.5    </span></td></tr>\n",
       "\t<tr><th scope=row>address</th><td><span style=white-space:pre-wrap>address          </span></td><td>&lt;dbl&gt;</td><td>4601</td><td>0</td><td>0.0</td><td><span style=white-space:pre-wrap>0.2  </span></td><td><span style=white-space:pre-wrap>1.3  </span></td><td>0.0</td><td>0.0 </td><td>0.0 </td><td><span style=white-space:pre-wrap>0.0  </span></td><td><span style=white-space:pre-wrap>14.3   </span></td></tr>\n",
       "\t<tr><th scope=row>all</th><td><span style=white-space:pre-wrap>all              </span></td><td>&lt;dbl&gt;</td><td>4601</td><td>0</td><td>0.0</td><td><span style=white-space:pre-wrap>0.3  </span></td><td><span style=white-space:pre-wrap>0.5  </span></td><td>0.0</td><td>0.0 </td><td>0.0 </td><td><span style=white-space:pre-wrap>0.4  </span></td><td><span style=white-space:pre-wrap>5.1    </span></td></tr>\n",
       "\t<tr><th scope=row>num3d</th><td><span style=white-space:pre-wrap>num3d            </span></td><td>&lt;dbl&gt;</td><td>4601</td><td>0</td><td>0.0</td><td><span style=white-space:pre-wrap>0.1  </span></td><td><span style=white-space:pre-wrap>1.4  </span></td><td>0.0</td><td>0.0 </td><td>0.0 </td><td><span style=white-space:pre-wrap>0.0  </span></td><td><span style=white-space:pre-wrap>42.8   </span></td></tr>\n",
       "\t<tr><th scope=row>our</th><td><span style=white-space:pre-wrap>our              </span></td><td>&lt;dbl&gt;</td><td>4601</td><td>0</td><td>0.0</td><td><span style=white-space:pre-wrap>0.3  </span></td><td><span style=white-space:pre-wrap>0.7  </span></td><td>0.0</td><td>0.0 </td><td>0.0 </td><td><span style=white-space:pre-wrap>0.4  </span></td><td><span style=white-space:pre-wrap>10.0   </span></td></tr>\n",
       "\t<tr><th scope=row>over</th><td><span style=white-space:pre-wrap>over             </span></td><td>&lt;dbl&gt;</td><td>4601</td><td>0</td><td>0.0</td><td><span style=white-space:pre-wrap>0.1  </span></td><td><span style=white-space:pre-wrap>0.3  </span></td><td>0.0</td><td>0.0 </td><td>0.0 </td><td><span style=white-space:pre-wrap>0.0  </span></td><td><span style=white-space:pre-wrap>5.9    </span></td></tr>\n",
       "\t<tr><th scope=row>remove</th><td><span style=white-space:pre-wrap>remove           </span></td><td>&lt;dbl&gt;</td><td>4601</td><td>0</td><td>0.0</td><td><span style=white-space:pre-wrap>0.1  </span></td><td><span style=white-space:pre-wrap>0.4  </span></td><td>0.0</td><td>0.0 </td><td>0.0 </td><td><span style=white-space:pre-wrap>0.0  </span></td><td><span style=white-space:pre-wrap>7.3    </span></td></tr>\n",
       "\t<tr><th scope=row>internet</th><td><span style=white-space:pre-wrap>internet         </span></td><td>&lt;dbl&gt;</td><td>4601</td><td>0</td><td>0.0</td><td><span style=white-space:pre-wrap>0.1  </span></td><td><span style=white-space:pre-wrap>0.4  </span></td><td>0.0</td><td>0.0 </td><td>0.0 </td><td><span style=white-space:pre-wrap>0.0  </span></td><td><span style=white-space:pre-wrap>11.1   </span></td></tr>\n",
       "\t<tr><th scope=row>order</th><td><span style=white-space:pre-wrap>order            </span></td><td>&lt;dbl&gt;</td><td>4601</td><td>0</td><td>0.0</td><td><span style=white-space:pre-wrap>0.1  </span></td><td><span style=white-space:pre-wrap>0.3  </span></td><td>0.0</td><td>0.0 </td><td>0.0 </td><td><span style=white-space:pre-wrap>0.0  </span></td><td><span style=white-space:pre-wrap>5.3    </span></td></tr>\n",
       "\t<tr><th scope=row>mail</th><td><span style=white-space:pre-wrap>mail             </span></td><td>&lt;dbl&gt;</td><td>4601</td><td>0</td><td>0.0</td><td><span style=white-space:pre-wrap>0.2  </span></td><td><span style=white-space:pre-wrap>0.6  </span></td><td>0.0</td><td>0.0 </td><td>0.0 </td><td><span style=white-space:pre-wrap>0.2  </span></td><td><span style=white-space:pre-wrap>18.2   </span></td></tr>\n",
       "\t<tr><th scope=row>receive</th><td><span style=white-space:pre-wrap>receive          </span></td><td>&lt;dbl&gt;</td><td>4601</td><td>0</td><td>0.0</td><td><span style=white-space:pre-wrap>0.1  </span></td><td><span style=white-space:pre-wrap>0.2  </span></td><td>0.0</td><td>0.0 </td><td>0.0 </td><td><span style=white-space:pre-wrap>0.0  </span></td><td><span style=white-space:pre-wrap>2.6    </span></td></tr>\n",
       "\t<tr><th scope=row>will</th><td><span style=white-space:pre-wrap>will             </span></td><td>&lt;dbl&gt;</td><td>4601</td><td>0</td><td>0.0</td><td><span style=white-space:pre-wrap>0.5  </span></td><td><span style=white-space:pre-wrap>0.9  </span></td><td>0.0</td><td>0.0 </td><td>0.1 </td><td><span style=white-space:pre-wrap>0.8  </span></td><td><span style=white-space:pre-wrap>9.7    </span></td></tr>\n",
       "\t<tr><th scope=row>people</th><td><span style=white-space:pre-wrap>people           </span></td><td>&lt;dbl&gt;</td><td>4601</td><td>0</td><td>0.0</td><td><span style=white-space:pre-wrap>0.1  </span></td><td><span style=white-space:pre-wrap>0.3  </span></td><td>0.0</td><td>0.0 </td><td>0.0 </td><td><span style=white-space:pre-wrap>0.0  </span></td><td><span style=white-space:pre-wrap>5.5    </span></td></tr>\n",
       "\t<tr><th scope=row>report</th><td><span style=white-space:pre-wrap>report           </span></td><td>&lt;dbl&gt;</td><td>4601</td><td>0</td><td>0.0</td><td><span style=white-space:pre-wrap>0.1  </span></td><td><span style=white-space:pre-wrap>0.3  </span></td><td>0.0</td><td>0.0 </td><td>0.0 </td><td><span style=white-space:pre-wrap>0.0  </span></td><td><span style=white-space:pre-wrap>10.0   </span></td></tr>\n",
       "\t<tr><th scope=row>addresses</th><td><span style=white-space:pre-wrap>addresses        </span></td><td>&lt;dbl&gt;</td><td>4601</td><td>0</td><td>0.0</td><td><span style=white-space:pre-wrap>0.0  </span></td><td><span style=white-space:pre-wrap>0.3  </span></td><td>0.0</td><td>0.0 </td><td>0.0 </td><td><span style=white-space:pre-wrap>0.0  </span></td><td><span style=white-space:pre-wrap>4.4    </span></td></tr>\n",
       "\t<tr><th scope=row>free</th><td><span style=white-space:pre-wrap>free             </span></td><td>&lt;dbl&gt;</td><td>4601</td><td>0</td><td>0.0</td><td><span style=white-space:pre-wrap>0.2  </span></td><td><span style=white-space:pre-wrap>0.8  </span></td><td>0.0</td><td>0.0 </td><td>0.0 </td><td><span style=white-space:pre-wrap>0.1  </span></td><td><span style=white-space:pre-wrap>20.0   </span></td></tr>\n",
       "\t<tr><th scope=row>business</th><td><span style=white-space:pre-wrap>business         </span></td><td>&lt;dbl&gt;</td><td>4601</td><td>0</td><td>0.0</td><td><span style=white-space:pre-wrap>0.1  </span></td><td><span style=white-space:pre-wrap>0.4  </span></td><td>0.0</td><td>0.0 </td><td>0.0 </td><td><span style=white-space:pre-wrap>0.0  </span></td><td><span style=white-space:pre-wrap>7.1    </span></td></tr>\n",
       "\t<tr><th scope=row>email</th><td><span style=white-space:pre-wrap>email            </span></td><td>&lt;dbl&gt;</td><td>4601</td><td>0</td><td>0.0</td><td><span style=white-space:pre-wrap>0.2  </span></td><td><span style=white-space:pre-wrap>0.5  </span></td><td>0.0</td><td>0.0 </td><td>0.0 </td><td><span style=white-space:pre-wrap>0.0  </span></td><td><span style=white-space:pre-wrap>9.1    </span></td></tr>\n",
       "\t<tr><th scope=row>you</th><td><span style=white-space:pre-wrap>you              </span></td><td>&lt;dbl&gt;</td><td>4601</td><td>0</td><td>0.0</td><td><span style=white-space:pre-wrap>1.7  </span></td><td><span style=white-space:pre-wrap>1.8  </span></td><td>0.0</td><td>0.0 </td><td>1.3 </td><td><span style=white-space:pre-wrap>2.6  </span></td><td><span style=white-space:pre-wrap>18.8   </span></td></tr>\n",
       "\t<tr><th scope=row>credit</th><td><span style=white-space:pre-wrap>credit           </span></td><td>&lt;dbl&gt;</td><td>4601</td><td>0</td><td>0.0</td><td><span style=white-space:pre-wrap>0.1  </span></td><td><span style=white-space:pre-wrap>0.5  </span></td><td>0.0</td><td>0.0 </td><td>0.0 </td><td><span style=white-space:pre-wrap>0.0  </span></td><td><span style=white-space:pre-wrap>18.2   </span></td></tr>\n",
       "\t<tr><th scope=row>your</th><td><span style=white-space:pre-wrap>your             </span></td><td>&lt;dbl&gt;</td><td>4601</td><td>0</td><td>0.0</td><td><span style=white-space:pre-wrap>0.8  </span></td><td><span style=white-space:pre-wrap>1.2  </span></td><td>0.0</td><td>0.0 </td><td>0.2 </td><td><span style=white-space:pre-wrap>1.3  </span></td><td><span style=white-space:pre-wrap>11.1   </span></td></tr>\n",
       "\t<tr><th scope=row>font</th><td><span style=white-space:pre-wrap>font             </span></td><td>&lt;dbl&gt;</td><td>4601</td><td>0</td><td>0.0</td><td><span style=white-space:pre-wrap>0.1  </span></td><td><span style=white-space:pre-wrap>1.0  </span></td><td>0.0</td><td>0.0 </td><td>0.0 </td><td><span style=white-space:pre-wrap>0.0  </span></td><td><span style=white-space:pre-wrap>17.1   </span></td></tr>\n",
       "\t<tr><th scope=row>num000</th><td><span style=white-space:pre-wrap>num000           </span></td><td>&lt;dbl&gt;</td><td>4601</td><td>0</td><td>0.0</td><td><span style=white-space:pre-wrap>0.1  </span></td><td><span style=white-space:pre-wrap>0.4  </span></td><td>0.0</td><td>0.0 </td><td>0.0 </td><td><span style=white-space:pre-wrap>0.0  </span></td><td><span style=white-space:pre-wrap>5.4    </span></td></tr>\n",
       "\t<tr><th scope=row>money</th><td><span style=white-space:pre-wrap>money            </span></td><td>&lt;dbl&gt;</td><td>4601</td><td>0</td><td>0.0</td><td><span style=white-space:pre-wrap>0.1  </span></td><td><span style=white-space:pre-wrap>0.4  </span></td><td>0.0</td><td>0.0 </td><td>0.0 </td><td><span style=white-space:pre-wrap>0.0  </span></td><td><span style=white-space:pre-wrap>12.5   </span></td></tr>\n",
       "\t<tr><th scope=row>hp</th><td><span style=white-space:pre-wrap>hp               </span></td><td>&lt;dbl&gt;</td><td>4601</td><td>0</td><td>0.0</td><td><span style=white-space:pre-wrap>0.5  </span></td><td><span style=white-space:pre-wrap>1.7  </span></td><td>0.0</td><td>0.0 </td><td>0.0 </td><td><span style=white-space:pre-wrap>0.0  </span></td><td><span style=white-space:pre-wrap>20.8   </span></td></tr>\n",
       "\t<tr><th scope=row>hpl</th><td><span style=white-space:pre-wrap>hpl              </span></td><td>&lt;dbl&gt;</td><td>4601</td><td>0</td><td>0.0</td><td><span style=white-space:pre-wrap>0.3  </span></td><td><span style=white-space:pre-wrap>0.9  </span></td><td>0.0</td><td>0.0 </td><td>0.0 </td><td><span style=white-space:pre-wrap>0.0  </span></td><td><span style=white-space:pre-wrap>16.7   </span></td></tr>\n",
       "\t<tr><th scope=row>george</th><td><span style=white-space:pre-wrap>george           </span></td><td>&lt;dbl&gt;</td><td>4601</td><td>0</td><td>0.0</td><td><span style=white-space:pre-wrap>0.8  </span></td><td><span style=white-space:pre-wrap>3.4  </span></td><td>0.0</td><td>0.0 </td><td>0.0 </td><td><span style=white-space:pre-wrap>0.0  </span></td><td><span style=white-space:pre-wrap>33.3   </span></td></tr>\n",
       "\t<tr><th scope=row>num650</th><td><span style=white-space:pre-wrap>num650           </span></td><td>&lt;dbl&gt;</td><td>4601</td><td>0</td><td>0.0</td><td><span style=white-space:pre-wrap>0.1  </span></td><td><span style=white-space:pre-wrap>0.5  </span></td><td>0.0</td><td>0.0 </td><td>0.0 </td><td><span style=white-space:pre-wrap>0.0  </span></td><td><span style=white-space:pre-wrap>9.1    </span></td></tr>\n",
       "\t<tr><th scope=row>lab</th><td><span style=white-space:pre-wrap>lab              </span></td><td>&lt;dbl&gt;</td><td>4601</td><td>0</td><td>0.0</td><td><span style=white-space:pre-wrap>0.1  </span></td><td><span style=white-space:pre-wrap>0.6  </span></td><td>0.0</td><td>0.0 </td><td>0.0 </td><td><span style=white-space:pre-wrap>0.0  </span></td><td><span style=white-space:pre-wrap>14.3   </span></td></tr>\n",
       "\t<tr><th scope=row>labs</th><td><span style=white-space:pre-wrap>labs             </span></td><td>&lt;dbl&gt;</td><td>4601</td><td>0</td><td>0.0</td><td><span style=white-space:pre-wrap>0.1  </span></td><td><span style=white-space:pre-wrap>0.5  </span></td><td>0.0</td><td>0.0 </td><td>0.0 </td><td><span style=white-space:pre-wrap>0.0  </span></td><td><span style=white-space:pre-wrap>5.9    </span></td></tr>\n",
       "\t<tr><th scope=row>telnet</th><td><span style=white-space:pre-wrap>telnet           </span></td><td>&lt;dbl&gt;</td><td>4601</td><td>0</td><td>0.0</td><td><span style=white-space:pre-wrap>0.1  </span></td><td><span style=white-space:pre-wrap>0.4  </span></td><td>0.0</td><td>0.0 </td><td>0.0 </td><td><span style=white-space:pre-wrap>0.0  </span></td><td><span style=white-space:pre-wrap>12.5   </span></td></tr>\n",
       "\t<tr><th scope=row>num857</th><td><span style=white-space:pre-wrap>num857           </span></td><td>&lt;dbl&gt;</td><td>4601</td><td>0</td><td>0.0</td><td><span style=white-space:pre-wrap>0.0  </span></td><td><span style=white-space:pre-wrap>0.3  </span></td><td>0.0</td><td>0.0 </td><td>0.0 </td><td><span style=white-space:pre-wrap>0.0  </span></td><td><span style=white-space:pre-wrap>4.8    </span></td></tr>\n",
       "\t<tr><th scope=row>data</th><td><span style=white-space:pre-wrap>data             </span></td><td>&lt;dbl&gt;</td><td>4601</td><td>0</td><td>0.0</td><td><span style=white-space:pre-wrap>0.1  </span></td><td><span style=white-space:pre-wrap>0.6  </span></td><td>0.0</td><td>0.0 </td><td>0.0 </td><td><span style=white-space:pre-wrap>0.0  </span></td><td><span style=white-space:pre-wrap>18.2   </span></td></tr>\n",
       "\t<tr><th scope=row>num415</th><td><span style=white-space:pre-wrap>num415           </span></td><td>&lt;dbl&gt;</td><td>4601</td><td>0</td><td>0.0</td><td><span style=white-space:pre-wrap>0.0  </span></td><td><span style=white-space:pre-wrap>0.3  </span></td><td>0.0</td><td>0.0 </td><td>0.0 </td><td><span style=white-space:pre-wrap>0.0  </span></td><td><span style=white-space:pre-wrap>4.8    </span></td></tr>\n",
       "\t<tr><th scope=row>num85</th><td><span style=white-space:pre-wrap>num85            </span></td><td>&lt;dbl&gt;</td><td>4601</td><td>0</td><td>0.0</td><td><span style=white-space:pre-wrap>0.1  </span></td><td><span style=white-space:pre-wrap>0.5  </span></td><td>0.0</td><td>0.0 </td><td>0.0 </td><td><span style=white-space:pre-wrap>0.0  </span></td><td><span style=white-space:pre-wrap>20.0   </span></td></tr>\n",
       "\t<tr><th scope=row>technology</th><td><span style=white-space:pre-wrap>technology       </span></td><td>&lt;dbl&gt;</td><td>4601</td><td>0</td><td>0.0</td><td><span style=white-space:pre-wrap>0.1  </span></td><td><span style=white-space:pre-wrap>0.4  </span></td><td>0.0</td><td>0.0 </td><td>0.0 </td><td><span style=white-space:pre-wrap>0.0  </span></td><td><span style=white-space:pre-wrap>7.7    </span></td></tr>\n",
       "\t<tr><th scope=row>num1999</th><td><span style=white-space:pre-wrap>num1999          </span></td><td>&lt;dbl&gt;</td><td>4601</td><td>0</td><td>0.0</td><td><span style=white-space:pre-wrap>0.1  </span></td><td><span style=white-space:pre-wrap>0.4  </span></td><td>0.0</td><td>0.0 </td><td>0.0 </td><td><span style=white-space:pre-wrap>0.0  </span></td><td><span style=white-space:pre-wrap>6.9    </span></td></tr>\n",
       "\t<tr><th scope=row>parts</th><td><span style=white-space:pre-wrap>parts            </span></td><td>&lt;dbl&gt;</td><td>4601</td><td>0</td><td>0.0</td><td><span style=white-space:pre-wrap>0.0  </span></td><td><span style=white-space:pre-wrap>0.2  </span></td><td>0.0</td><td>0.0 </td><td>0.0 </td><td><span style=white-space:pre-wrap>0.0  </span></td><td><span style=white-space:pre-wrap>8.3    </span></td></tr>\n",
       "\t<tr><th scope=row>pm</th><td><span style=white-space:pre-wrap>pm               </span></td><td>&lt;dbl&gt;</td><td>4601</td><td>0</td><td>0.0</td><td><span style=white-space:pre-wrap>0.1  </span></td><td><span style=white-space:pre-wrap>0.4  </span></td><td>0.0</td><td>0.0 </td><td>0.0 </td><td><span style=white-space:pre-wrap>0.0  </span></td><td><span style=white-space:pre-wrap>11.1   </span></td></tr>\n",
       "\t<tr><th scope=row>direct</th><td><span style=white-space:pre-wrap>direct           </span></td><td>&lt;dbl&gt;</td><td>4601</td><td>0</td><td>0.0</td><td><span style=white-space:pre-wrap>0.1  </span></td><td><span style=white-space:pre-wrap>0.3  </span></td><td>0.0</td><td>0.0 </td><td>0.0 </td><td><span style=white-space:pre-wrap>0.0  </span></td><td><span style=white-space:pre-wrap>4.8    </span></td></tr>\n",
       "\t<tr><th scope=row>cs</th><td><span style=white-space:pre-wrap>cs               </span></td><td>&lt;dbl&gt;</td><td>4601</td><td>0</td><td>0.0</td><td><span style=white-space:pre-wrap>0.0  </span></td><td><span style=white-space:pre-wrap>0.4  </span></td><td>0.0</td><td>0.0 </td><td>0.0 </td><td><span style=white-space:pre-wrap>0.0  </span></td><td><span style=white-space:pre-wrap>7.1    </span></td></tr>\n",
       "\t<tr><th scope=row>meeting</th><td><span style=white-space:pre-wrap>meeting          </span></td><td>&lt;dbl&gt;</td><td>4601</td><td>0</td><td>0.0</td><td><span style=white-space:pre-wrap>0.1  </span></td><td><span style=white-space:pre-wrap>0.8  </span></td><td>0.0</td><td>0.0 </td><td>0.0 </td><td><span style=white-space:pre-wrap>0.0  </span></td><td><span style=white-space:pre-wrap>14.3   </span></td></tr>\n",
       "\t<tr><th scope=row>original</th><td><span style=white-space:pre-wrap>original         </span></td><td>&lt;dbl&gt;</td><td>4601</td><td>0</td><td>0.0</td><td><span style=white-space:pre-wrap>0.0  </span></td><td><span style=white-space:pre-wrap>0.2  </span></td><td>0.0</td><td>0.0 </td><td>0.0 </td><td><span style=white-space:pre-wrap>0.0  </span></td><td><span style=white-space:pre-wrap>3.6    </span></td></tr>\n",
       "\t<tr><th scope=row>project</th><td><span style=white-space:pre-wrap>project          </span></td><td>&lt;dbl&gt;</td><td>4601</td><td>0</td><td>0.0</td><td><span style=white-space:pre-wrap>0.1  </span></td><td><span style=white-space:pre-wrap>0.6  </span></td><td>0.0</td><td>0.0 </td><td>0.0 </td><td><span style=white-space:pre-wrap>0.0  </span></td><td><span style=white-space:pre-wrap>20.0   </span></td></tr>\n",
       "\t<tr><th scope=row>re</th><td><span style=white-space:pre-wrap>re               </span></td><td>&lt;dbl&gt;</td><td>4601</td><td>0</td><td>0.0</td><td><span style=white-space:pre-wrap>0.3  </span></td><td><span style=white-space:pre-wrap>1.0  </span></td><td>0.0</td><td>0.0 </td><td>0.0 </td><td><span style=white-space:pre-wrap>0.1  </span></td><td><span style=white-space:pre-wrap>21.4   </span></td></tr>\n",
       "\t<tr><th scope=row>edu</th><td><span style=white-space:pre-wrap>edu              </span></td><td>&lt;dbl&gt;</td><td>4601</td><td>0</td><td>0.0</td><td><span style=white-space:pre-wrap>0.2  </span></td><td><span style=white-space:pre-wrap>0.9  </span></td><td>0.0</td><td>0.0 </td><td>0.0 </td><td><span style=white-space:pre-wrap>0.0  </span></td><td><span style=white-space:pre-wrap>22.1   </span></td></tr>\n",
       "\t<tr><th scope=row>table</th><td><span style=white-space:pre-wrap>table            </span></td><td>&lt;dbl&gt;</td><td>4601</td><td>0</td><td>0.0</td><td><span style=white-space:pre-wrap>0.0  </span></td><td><span style=white-space:pre-wrap>0.1  </span></td><td>0.0</td><td>0.0 </td><td>0.0 </td><td><span style=white-space:pre-wrap>0.0  </span></td><td><span style=white-space:pre-wrap>2.2    </span></td></tr>\n",
       "\t<tr><th scope=row>conference</th><td><span style=white-space:pre-wrap>conference       </span></td><td>&lt;dbl&gt;</td><td>4601</td><td>0</td><td>0.0</td><td><span style=white-space:pre-wrap>0.0  </span></td><td><span style=white-space:pre-wrap>0.3  </span></td><td>0.0</td><td>0.0 </td><td>0.0 </td><td><span style=white-space:pre-wrap>0.0  </span></td><td><span style=white-space:pre-wrap>10.0   </span></td></tr>\n",
       "\t<tr><th scope=row>charSemicolon</th><td><span style=white-space:pre-wrap>charSemicolon    </span></td><td>&lt;dbl&gt;</td><td>4601</td><td>0</td><td>0.0</td><td><span style=white-space:pre-wrap>0.0  </span></td><td><span style=white-space:pre-wrap>0.2  </span></td><td>0.0</td><td>0.0 </td><td>0.0 </td><td><span style=white-space:pre-wrap>0.0  </span></td><td><span style=white-space:pre-wrap>4.4    </span></td></tr>\n",
       "\t<tr><th scope=row>charRoundbracket</th><td>charRoundbracket </td><td>&lt;dbl&gt;</td><td>4601</td><td>0</td><td>0.0</td><td><span style=white-space:pre-wrap>0.1  </span></td><td><span style=white-space:pre-wrap>0.3  </span></td><td>0.0</td><td>0.0 </td><td>0.1 </td><td><span style=white-space:pre-wrap>0.2  </span></td><td><span style=white-space:pre-wrap>9.8    </span></td></tr>\n",
       "\t<tr><th scope=row>charSquarebracket</th><td>charSquarebracket</td><td>&lt;dbl&gt;</td><td>4601</td><td>0</td><td>0.0</td><td><span style=white-space:pre-wrap>0.0  </span></td><td><span style=white-space:pre-wrap>0.1  </span></td><td>0.0</td><td>0.0 </td><td>0.0 </td><td><span style=white-space:pre-wrap>0.0  </span></td><td><span style=white-space:pre-wrap>4.1    </span></td></tr>\n",
       "\t<tr><th scope=row>charExclamation</th><td><span style=white-space:pre-wrap>charExclamation  </span></td><td>&lt;dbl&gt;</td><td>4601</td><td>0</td><td>0.0</td><td><span style=white-space:pre-wrap>0.3  </span></td><td><span style=white-space:pre-wrap>0.8  </span></td><td>0.0</td><td>0.0 </td><td>0.0 </td><td><span style=white-space:pre-wrap>0.3  </span></td><td><span style=white-space:pre-wrap>32.5   </span></td></tr>\n",
       "\t<tr><th scope=row>charDollar</th><td><span style=white-space:pre-wrap>charDollar       </span></td><td>&lt;dbl&gt;</td><td>4601</td><td>0</td><td>0.0</td><td><span style=white-space:pre-wrap>0.1  </span></td><td><span style=white-space:pre-wrap>0.2  </span></td><td>0.0</td><td>0.0 </td><td>0.0 </td><td><span style=white-space:pre-wrap>0.1  </span></td><td><span style=white-space:pre-wrap>6.0    </span></td></tr>\n",
       "\t<tr><th scope=row>charHash</th><td><span style=white-space:pre-wrap>charHash         </span></td><td>&lt;dbl&gt;</td><td>4601</td><td>0</td><td>0.0</td><td><span style=white-space:pre-wrap>0.0  </span></td><td><span style=white-space:pre-wrap>0.4  </span></td><td>0.0</td><td>0.0 </td><td>0.0 </td><td><span style=white-space:pre-wrap>0.0  </span></td><td><span style=white-space:pre-wrap>19.8   </span></td></tr>\n",
       "\t<tr><th scope=row>capitalAve</th><td><span style=white-space:pre-wrap>capitalAve       </span></td><td>&lt;dbl&gt;</td><td>4601</td><td>0</td><td>0.0</td><td><span style=white-space:pre-wrap>5.2  </span></td><td>31.7 </td><td>1.0</td><td>1.6 </td><td>2.3 </td><td><span style=white-space:pre-wrap>3.7  </span></td><td>1102.5 </td></tr>\n",
       "\t<tr><th scope=row>capitalLong</th><td><span style=white-space:pre-wrap>capitalLong      </span></td><td>&lt;dbl&gt;</td><td>4601</td><td>0</td><td>0.0</td><td>52.2 </td><td>194.9</td><td>1.0</td><td>6.0 </td><td>15.0</td><td>43.0 </td><td>9989.0 </td></tr>\n",
       "\t<tr><th scope=row>capitalTotal</th><td><span style=white-space:pre-wrap>capitalTotal     </span></td><td>&lt;dbl&gt;</td><td>4601</td><td>0</td><td>0.0</td><td>283.3</td><td>606.3</td><td>1.0</td><td>35.0</td><td>95.0</td><td>266.0</td><td>15841.0</td></tr>\n",
       "</tbody>\n",
       "</table>\n",
       "</dd>\n",
       "\t<dt>$Categorical</dt>\n",
       "\t\t<dd><table class=\"dataframe\">\n",
       "<caption>A data.frame: 1 × 9</caption>\n",
       "<thead>\n",
       "\t<tr><th></th><th scope=col>label</th><th scope=col>var_type</th><th scope=col>n</th><th scope=col>missing_n</th><th scope=col>missing_percent</th><th scope=col>levels_n</th><th scope=col>levels</th><th scope=col>levels_count</th><th scope=col>levels_percent</th></tr>\n",
       "\t<tr><th></th><th scope=col>&lt;chr&gt;</th><th scope=col>&lt;chr&gt;</th><th scope=col>&lt;int&gt;</th><th scope=col>&lt;int&gt;</th><th scope=col>&lt;chr&gt;</th><th scope=col>&lt;int&gt;</th><th scope=col>&lt;chr&gt;</th><th scope=col>&lt;chr&gt;</th><th scope=col>&lt;chr&gt;</th></tr>\n",
       "</thead>\n",
       "<tbody>\n",
       "\t<tr><th scope=row>type</th><td>type</td><td>&lt;fct&gt;</td><td>4601</td><td>0</td><td>0.0</td><td>2</td><td>\"nonspam\", \"spam\"</td><td>2788, 1813</td><td>61, 39</td></tr>\n",
       "</tbody>\n",
       "</table>\n",
       "</dd>\n",
       "</dl>\n"
      ],
      "text/latex": [
       "\\begin{description}\n",
       "\\item[\\$Continuous] A data.frame: 57 × 12\n",
       "\\begin{tabular}{r|llllllllllll}\n",
       "  & label & var\\_type & n & missing\\_n & missing\\_percent & mean & sd & min & quartile\\_25 & median & quartile\\_75 & max\\\\\n",
       "  & <chr> & <chr> & <int> & <int> & <chr> & <chr> & <chr> & <chr> & <chr> & <chr> & <chr> & <chr>\\\\\n",
       "\\hline\n",
       "\tmake & make              & <dbl> & 4601 & 0 & 0.0 & 0.1   & 0.3   & 0.0 & 0.0  & 0.0  & 0.0   & 4.5    \\\\\n",
       "\taddress & address           & <dbl> & 4601 & 0 & 0.0 & 0.2   & 1.3   & 0.0 & 0.0  & 0.0  & 0.0   & 14.3   \\\\\n",
       "\tall & all               & <dbl> & 4601 & 0 & 0.0 & 0.3   & 0.5   & 0.0 & 0.0  & 0.0  & 0.4   & 5.1    \\\\\n",
       "\tnum3d & num3d             & <dbl> & 4601 & 0 & 0.0 & 0.1   & 1.4   & 0.0 & 0.0  & 0.0  & 0.0   & 42.8   \\\\\n",
       "\tour & our               & <dbl> & 4601 & 0 & 0.0 & 0.3   & 0.7   & 0.0 & 0.0  & 0.0  & 0.4   & 10.0   \\\\\n",
       "\tover & over              & <dbl> & 4601 & 0 & 0.0 & 0.1   & 0.3   & 0.0 & 0.0  & 0.0  & 0.0   & 5.9    \\\\\n",
       "\tremove & remove            & <dbl> & 4601 & 0 & 0.0 & 0.1   & 0.4   & 0.0 & 0.0  & 0.0  & 0.0   & 7.3    \\\\\n",
       "\tinternet & internet          & <dbl> & 4601 & 0 & 0.0 & 0.1   & 0.4   & 0.0 & 0.0  & 0.0  & 0.0   & 11.1   \\\\\n",
       "\torder & order             & <dbl> & 4601 & 0 & 0.0 & 0.1   & 0.3   & 0.0 & 0.0  & 0.0  & 0.0   & 5.3    \\\\\n",
       "\tmail & mail              & <dbl> & 4601 & 0 & 0.0 & 0.2   & 0.6   & 0.0 & 0.0  & 0.0  & 0.2   & 18.2   \\\\\n",
       "\treceive & receive           & <dbl> & 4601 & 0 & 0.0 & 0.1   & 0.2   & 0.0 & 0.0  & 0.0  & 0.0   & 2.6    \\\\\n",
       "\twill & will              & <dbl> & 4601 & 0 & 0.0 & 0.5   & 0.9   & 0.0 & 0.0  & 0.1  & 0.8   & 9.7    \\\\\n",
       "\tpeople & people            & <dbl> & 4601 & 0 & 0.0 & 0.1   & 0.3   & 0.0 & 0.0  & 0.0  & 0.0   & 5.5    \\\\\n",
       "\treport & report            & <dbl> & 4601 & 0 & 0.0 & 0.1   & 0.3   & 0.0 & 0.0  & 0.0  & 0.0   & 10.0   \\\\\n",
       "\taddresses & addresses         & <dbl> & 4601 & 0 & 0.0 & 0.0   & 0.3   & 0.0 & 0.0  & 0.0  & 0.0   & 4.4    \\\\\n",
       "\tfree & free              & <dbl> & 4601 & 0 & 0.0 & 0.2   & 0.8   & 0.0 & 0.0  & 0.0  & 0.1   & 20.0   \\\\\n",
       "\tbusiness & business          & <dbl> & 4601 & 0 & 0.0 & 0.1   & 0.4   & 0.0 & 0.0  & 0.0  & 0.0   & 7.1    \\\\\n",
       "\temail & email             & <dbl> & 4601 & 0 & 0.0 & 0.2   & 0.5   & 0.0 & 0.0  & 0.0  & 0.0   & 9.1    \\\\\n",
       "\tyou & you               & <dbl> & 4601 & 0 & 0.0 & 1.7   & 1.8   & 0.0 & 0.0  & 1.3  & 2.6   & 18.8   \\\\\n",
       "\tcredit & credit            & <dbl> & 4601 & 0 & 0.0 & 0.1   & 0.5   & 0.0 & 0.0  & 0.0  & 0.0   & 18.2   \\\\\n",
       "\tyour & your              & <dbl> & 4601 & 0 & 0.0 & 0.8   & 1.2   & 0.0 & 0.0  & 0.2  & 1.3   & 11.1   \\\\\n",
       "\tfont & font              & <dbl> & 4601 & 0 & 0.0 & 0.1   & 1.0   & 0.0 & 0.0  & 0.0  & 0.0   & 17.1   \\\\\n",
       "\tnum000 & num000            & <dbl> & 4601 & 0 & 0.0 & 0.1   & 0.4   & 0.0 & 0.0  & 0.0  & 0.0   & 5.4    \\\\\n",
       "\tmoney & money             & <dbl> & 4601 & 0 & 0.0 & 0.1   & 0.4   & 0.0 & 0.0  & 0.0  & 0.0   & 12.5   \\\\\n",
       "\thp & hp                & <dbl> & 4601 & 0 & 0.0 & 0.5   & 1.7   & 0.0 & 0.0  & 0.0  & 0.0   & 20.8   \\\\\n",
       "\thpl & hpl               & <dbl> & 4601 & 0 & 0.0 & 0.3   & 0.9   & 0.0 & 0.0  & 0.0  & 0.0   & 16.7   \\\\\n",
       "\tgeorge & george            & <dbl> & 4601 & 0 & 0.0 & 0.8   & 3.4   & 0.0 & 0.0  & 0.0  & 0.0   & 33.3   \\\\\n",
       "\tnum650 & num650            & <dbl> & 4601 & 0 & 0.0 & 0.1   & 0.5   & 0.0 & 0.0  & 0.0  & 0.0   & 9.1    \\\\\n",
       "\tlab & lab               & <dbl> & 4601 & 0 & 0.0 & 0.1   & 0.6   & 0.0 & 0.0  & 0.0  & 0.0   & 14.3   \\\\\n",
       "\tlabs & labs              & <dbl> & 4601 & 0 & 0.0 & 0.1   & 0.5   & 0.0 & 0.0  & 0.0  & 0.0   & 5.9    \\\\\n",
       "\ttelnet & telnet            & <dbl> & 4601 & 0 & 0.0 & 0.1   & 0.4   & 0.0 & 0.0  & 0.0  & 0.0   & 12.5   \\\\\n",
       "\tnum857 & num857            & <dbl> & 4601 & 0 & 0.0 & 0.0   & 0.3   & 0.0 & 0.0  & 0.0  & 0.0   & 4.8    \\\\\n",
       "\tdata & data              & <dbl> & 4601 & 0 & 0.0 & 0.1   & 0.6   & 0.0 & 0.0  & 0.0  & 0.0   & 18.2   \\\\\n",
       "\tnum415 & num415            & <dbl> & 4601 & 0 & 0.0 & 0.0   & 0.3   & 0.0 & 0.0  & 0.0  & 0.0   & 4.8    \\\\\n",
       "\tnum85 & num85             & <dbl> & 4601 & 0 & 0.0 & 0.1   & 0.5   & 0.0 & 0.0  & 0.0  & 0.0   & 20.0   \\\\\n",
       "\ttechnology & technology        & <dbl> & 4601 & 0 & 0.0 & 0.1   & 0.4   & 0.0 & 0.0  & 0.0  & 0.0   & 7.7    \\\\\n",
       "\tnum1999 & num1999           & <dbl> & 4601 & 0 & 0.0 & 0.1   & 0.4   & 0.0 & 0.0  & 0.0  & 0.0   & 6.9    \\\\\n",
       "\tparts & parts             & <dbl> & 4601 & 0 & 0.0 & 0.0   & 0.2   & 0.0 & 0.0  & 0.0  & 0.0   & 8.3    \\\\\n",
       "\tpm & pm                & <dbl> & 4601 & 0 & 0.0 & 0.1   & 0.4   & 0.0 & 0.0  & 0.0  & 0.0   & 11.1   \\\\\n",
       "\tdirect & direct            & <dbl> & 4601 & 0 & 0.0 & 0.1   & 0.3   & 0.0 & 0.0  & 0.0  & 0.0   & 4.8    \\\\\n",
       "\tcs & cs                & <dbl> & 4601 & 0 & 0.0 & 0.0   & 0.4   & 0.0 & 0.0  & 0.0  & 0.0   & 7.1    \\\\\n",
       "\tmeeting & meeting           & <dbl> & 4601 & 0 & 0.0 & 0.1   & 0.8   & 0.0 & 0.0  & 0.0  & 0.0   & 14.3   \\\\\n",
       "\toriginal & original          & <dbl> & 4601 & 0 & 0.0 & 0.0   & 0.2   & 0.0 & 0.0  & 0.0  & 0.0   & 3.6    \\\\\n",
       "\tproject & project           & <dbl> & 4601 & 0 & 0.0 & 0.1   & 0.6   & 0.0 & 0.0  & 0.0  & 0.0   & 20.0   \\\\\n",
       "\tre & re                & <dbl> & 4601 & 0 & 0.0 & 0.3   & 1.0   & 0.0 & 0.0  & 0.0  & 0.1   & 21.4   \\\\\n",
       "\tedu & edu               & <dbl> & 4601 & 0 & 0.0 & 0.2   & 0.9   & 0.0 & 0.0  & 0.0  & 0.0   & 22.1   \\\\\n",
       "\ttable & table             & <dbl> & 4601 & 0 & 0.0 & 0.0   & 0.1   & 0.0 & 0.0  & 0.0  & 0.0   & 2.2    \\\\\n",
       "\tconference & conference        & <dbl> & 4601 & 0 & 0.0 & 0.0   & 0.3   & 0.0 & 0.0  & 0.0  & 0.0   & 10.0   \\\\\n",
       "\tcharSemicolon & charSemicolon     & <dbl> & 4601 & 0 & 0.0 & 0.0   & 0.2   & 0.0 & 0.0  & 0.0  & 0.0   & 4.4    \\\\\n",
       "\tcharRoundbracket & charRoundbracket  & <dbl> & 4601 & 0 & 0.0 & 0.1   & 0.3   & 0.0 & 0.0  & 0.1  & 0.2   & 9.8    \\\\\n",
       "\tcharSquarebracket & charSquarebracket & <dbl> & 4601 & 0 & 0.0 & 0.0   & 0.1   & 0.0 & 0.0  & 0.0  & 0.0   & 4.1    \\\\\n",
       "\tcharExclamation & charExclamation   & <dbl> & 4601 & 0 & 0.0 & 0.3   & 0.8   & 0.0 & 0.0  & 0.0  & 0.3   & 32.5   \\\\\n",
       "\tcharDollar & charDollar        & <dbl> & 4601 & 0 & 0.0 & 0.1   & 0.2   & 0.0 & 0.0  & 0.0  & 0.1   & 6.0    \\\\\n",
       "\tcharHash & charHash          & <dbl> & 4601 & 0 & 0.0 & 0.0   & 0.4   & 0.0 & 0.0  & 0.0  & 0.0   & 19.8   \\\\\n",
       "\tcapitalAve & capitalAve        & <dbl> & 4601 & 0 & 0.0 & 5.2   & 31.7  & 1.0 & 1.6  & 2.3  & 3.7   & 1102.5 \\\\\n",
       "\tcapitalLong & capitalLong       & <dbl> & 4601 & 0 & 0.0 & 52.2  & 194.9 & 1.0 & 6.0  & 15.0 & 43.0  & 9989.0 \\\\\n",
       "\tcapitalTotal & capitalTotal      & <dbl> & 4601 & 0 & 0.0 & 283.3 & 606.3 & 1.0 & 35.0 & 95.0 & 266.0 & 15841.0\\\\\n",
       "\\end{tabular}\n",
       "\n",
       "\\item[\\$Categorical] A data.frame: 1 × 9\n",
       "\\begin{tabular}{r|lllllllll}\n",
       "  & label & var\\_type & n & missing\\_n & missing\\_percent & levels\\_n & levels & levels\\_count & levels\\_percent\\\\\n",
       "  & <chr> & <chr> & <int> & <int> & <chr> & <int> & <chr> & <chr> & <chr>\\\\\n",
       "\\hline\n",
       "\ttype & type & <fct> & 4601 & 0 & 0.0 & 2 & \"nonspam\", \"spam\" & 2788, 1813 & 61, 39\\\\\n",
       "\\end{tabular}\n",
       "\n",
       "\\end{description}\n"
      ],
      "text/markdown": [
       "$Continuous\n",
       ":   \n",
       "A data.frame: 57 × 12\n",
       "\n",
       "| <!--/--> | label &lt;chr&gt; | var_type &lt;chr&gt; | n &lt;int&gt; | missing_n &lt;int&gt; | missing_percent &lt;chr&gt; | mean &lt;chr&gt; | sd &lt;chr&gt; | min &lt;chr&gt; | quartile_25 &lt;chr&gt; | median &lt;chr&gt; | quartile_75 &lt;chr&gt; | max &lt;chr&gt; |\n",
       "|---|---|---|---|---|---|---|---|---|---|---|---|---|\n",
       "| make | make              | &lt;dbl&gt; | 4601 | 0 | 0.0 | 0.1   | 0.3   | 0.0 | 0.0  | 0.0  | 0.0   | 4.5     |\n",
       "| address | address           | &lt;dbl&gt; | 4601 | 0 | 0.0 | 0.2   | 1.3   | 0.0 | 0.0  | 0.0  | 0.0   | 14.3    |\n",
       "| all | all               | &lt;dbl&gt; | 4601 | 0 | 0.0 | 0.3   | 0.5   | 0.0 | 0.0  | 0.0  | 0.4   | 5.1     |\n",
       "| num3d | num3d             | &lt;dbl&gt; | 4601 | 0 | 0.0 | 0.1   | 1.4   | 0.0 | 0.0  | 0.0  | 0.0   | 42.8    |\n",
       "| our | our               | &lt;dbl&gt; | 4601 | 0 | 0.0 | 0.3   | 0.7   | 0.0 | 0.0  | 0.0  | 0.4   | 10.0    |\n",
       "| over | over              | &lt;dbl&gt; | 4601 | 0 | 0.0 | 0.1   | 0.3   | 0.0 | 0.0  | 0.0  | 0.0   | 5.9     |\n",
       "| remove | remove            | &lt;dbl&gt; | 4601 | 0 | 0.0 | 0.1   | 0.4   | 0.0 | 0.0  | 0.0  | 0.0   | 7.3     |\n",
       "| internet | internet          | &lt;dbl&gt; | 4601 | 0 | 0.0 | 0.1   | 0.4   | 0.0 | 0.0  | 0.0  | 0.0   | 11.1    |\n",
       "| order | order             | &lt;dbl&gt; | 4601 | 0 | 0.0 | 0.1   | 0.3   | 0.0 | 0.0  | 0.0  | 0.0   | 5.3     |\n",
       "| mail | mail              | &lt;dbl&gt; | 4601 | 0 | 0.0 | 0.2   | 0.6   | 0.0 | 0.0  | 0.0  | 0.2   | 18.2    |\n",
       "| receive | receive           | &lt;dbl&gt; | 4601 | 0 | 0.0 | 0.1   | 0.2   | 0.0 | 0.0  | 0.0  | 0.0   | 2.6     |\n",
       "| will | will              | &lt;dbl&gt; | 4601 | 0 | 0.0 | 0.5   | 0.9   | 0.0 | 0.0  | 0.1  | 0.8   | 9.7     |\n",
       "| people | people            | &lt;dbl&gt; | 4601 | 0 | 0.0 | 0.1   | 0.3   | 0.0 | 0.0  | 0.0  | 0.0   | 5.5     |\n",
       "| report | report            | &lt;dbl&gt; | 4601 | 0 | 0.0 | 0.1   | 0.3   | 0.0 | 0.0  | 0.0  | 0.0   | 10.0    |\n",
       "| addresses | addresses         | &lt;dbl&gt; | 4601 | 0 | 0.0 | 0.0   | 0.3   | 0.0 | 0.0  | 0.0  | 0.0   | 4.4     |\n",
       "| free | free              | &lt;dbl&gt; | 4601 | 0 | 0.0 | 0.2   | 0.8   | 0.0 | 0.0  | 0.0  | 0.1   | 20.0    |\n",
       "| business | business          | &lt;dbl&gt; | 4601 | 0 | 0.0 | 0.1   | 0.4   | 0.0 | 0.0  | 0.0  | 0.0   | 7.1     |\n",
       "| email | email             | &lt;dbl&gt; | 4601 | 0 | 0.0 | 0.2   | 0.5   | 0.0 | 0.0  | 0.0  | 0.0   | 9.1     |\n",
       "| you | you               | &lt;dbl&gt; | 4601 | 0 | 0.0 | 1.7   | 1.8   | 0.0 | 0.0  | 1.3  | 2.6   | 18.8    |\n",
       "| credit | credit            | &lt;dbl&gt; | 4601 | 0 | 0.0 | 0.1   | 0.5   | 0.0 | 0.0  | 0.0  | 0.0   | 18.2    |\n",
       "| your | your              | &lt;dbl&gt; | 4601 | 0 | 0.0 | 0.8   | 1.2   | 0.0 | 0.0  | 0.2  | 1.3   | 11.1    |\n",
       "| font | font              | &lt;dbl&gt; | 4601 | 0 | 0.0 | 0.1   | 1.0   | 0.0 | 0.0  | 0.0  | 0.0   | 17.1    |\n",
       "| num000 | num000            | &lt;dbl&gt; | 4601 | 0 | 0.0 | 0.1   | 0.4   | 0.0 | 0.0  | 0.0  | 0.0   | 5.4     |\n",
       "| money | money             | &lt;dbl&gt; | 4601 | 0 | 0.0 | 0.1   | 0.4   | 0.0 | 0.0  | 0.0  | 0.0   | 12.5    |\n",
       "| hp | hp                | &lt;dbl&gt; | 4601 | 0 | 0.0 | 0.5   | 1.7   | 0.0 | 0.0  | 0.0  | 0.0   | 20.8    |\n",
       "| hpl | hpl               | &lt;dbl&gt; | 4601 | 0 | 0.0 | 0.3   | 0.9   | 0.0 | 0.0  | 0.0  | 0.0   | 16.7    |\n",
       "| george | george            | &lt;dbl&gt; | 4601 | 0 | 0.0 | 0.8   | 3.4   | 0.0 | 0.0  | 0.0  | 0.0   | 33.3    |\n",
       "| num650 | num650            | &lt;dbl&gt; | 4601 | 0 | 0.0 | 0.1   | 0.5   | 0.0 | 0.0  | 0.0  | 0.0   | 9.1     |\n",
       "| lab | lab               | &lt;dbl&gt; | 4601 | 0 | 0.0 | 0.1   | 0.6   | 0.0 | 0.0  | 0.0  | 0.0   | 14.3    |\n",
       "| labs | labs              | &lt;dbl&gt; | 4601 | 0 | 0.0 | 0.1   | 0.5   | 0.0 | 0.0  | 0.0  | 0.0   | 5.9     |\n",
       "| telnet | telnet            | &lt;dbl&gt; | 4601 | 0 | 0.0 | 0.1   | 0.4   | 0.0 | 0.0  | 0.0  | 0.0   | 12.5    |\n",
       "| num857 | num857            | &lt;dbl&gt; | 4601 | 0 | 0.0 | 0.0   | 0.3   | 0.0 | 0.0  | 0.0  | 0.0   | 4.8     |\n",
       "| data | data              | &lt;dbl&gt; | 4601 | 0 | 0.0 | 0.1   | 0.6   | 0.0 | 0.0  | 0.0  | 0.0   | 18.2    |\n",
       "| num415 | num415            | &lt;dbl&gt; | 4601 | 0 | 0.0 | 0.0   | 0.3   | 0.0 | 0.0  | 0.0  | 0.0   | 4.8     |\n",
       "| num85 | num85             | &lt;dbl&gt; | 4601 | 0 | 0.0 | 0.1   | 0.5   | 0.0 | 0.0  | 0.0  | 0.0   | 20.0    |\n",
       "| technology | technology        | &lt;dbl&gt; | 4601 | 0 | 0.0 | 0.1   | 0.4   | 0.0 | 0.0  | 0.0  | 0.0   | 7.7     |\n",
       "| num1999 | num1999           | &lt;dbl&gt; | 4601 | 0 | 0.0 | 0.1   | 0.4   | 0.0 | 0.0  | 0.0  | 0.0   | 6.9     |\n",
       "| parts | parts             | &lt;dbl&gt; | 4601 | 0 | 0.0 | 0.0   | 0.2   | 0.0 | 0.0  | 0.0  | 0.0   | 8.3     |\n",
       "| pm | pm                | &lt;dbl&gt; | 4601 | 0 | 0.0 | 0.1   | 0.4   | 0.0 | 0.0  | 0.0  | 0.0   | 11.1    |\n",
       "| direct | direct            | &lt;dbl&gt; | 4601 | 0 | 0.0 | 0.1   | 0.3   | 0.0 | 0.0  | 0.0  | 0.0   | 4.8     |\n",
       "| cs | cs                | &lt;dbl&gt; | 4601 | 0 | 0.0 | 0.0   | 0.4   | 0.0 | 0.0  | 0.0  | 0.0   | 7.1     |\n",
       "| meeting | meeting           | &lt;dbl&gt; | 4601 | 0 | 0.0 | 0.1   | 0.8   | 0.0 | 0.0  | 0.0  | 0.0   | 14.3    |\n",
       "| original | original          | &lt;dbl&gt; | 4601 | 0 | 0.0 | 0.0   | 0.2   | 0.0 | 0.0  | 0.0  | 0.0   | 3.6     |\n",
       "| project | project           | &lt;dbl&gt; | 4601 | 0 | 0.0 | 0.1   | 0.6   | 0.0 | 0.0  | 0.0  | 0.0   | 20.0    |\n",
       "| re | re                | &lt;dbl&gt; | 4601 | 0 | 0.0 | 0.3   | 1.0   | 0.0 | 0.0  | 0.0  | 0.1   | 21.4    |\n",
       "| edu | edu               | &lt;dbl&gt; | 4601 | 0 | 0.0 | 0.2   | 0.9   | 0.0 | 0.0  | 0.0  | 0.0   | 22.1    |\n",
       "| table | table             | &lt;dbl&gt; | 4601 | 0 | 0.0 | 0.0   | 0.1   | 0.0 | 0.0  | 0.0  | 0.0   | 2.2     |\n",
       "| conference | conference        | &lt;dbl&gt; | 4601 | 0 | 0.0 | 0.0   | 0.3   | 0.0 | 0.0  | 0.0  | 0.0   | 10.0    |\n",
       "| charSemicolon | charSemicolon     | &lt;dbl&gt; | 4601 | 0 | 0.0 | 0.0   | 0.2   | 0.0 | 0.0  | 0.0  | 0.0   | 4.4     |\n",
       "| charRoundbracket | charRoundbracket  | &lt;dbl&gt; | 4601 | 0 | 0.0 | 0.1   | 0.3   | 0.0 | 0.0  | 0.1  | 0.2   | 9.8     |\n",
       "| charSquarebracket | charSquarebracket | &lt;dbl&gt; | 4601 | 0 | 0.0 | 0.0   | 0.1   | 0.0 | 0.0  | 0.0  | 0.0   | 4.1     |\n",
       "| charExclamation | charExclamation   | &lt;dbl&gt; | 4601 | 0 | 0.0 | 0.3   | 0.8   | 0.0 | 0.0  | 0.0  | 0.3   | 32.5    |\n",
       "| charDollar | charDollar        | &lt;dbl&gt; | 4601 | 0 | 0.0 | 0.1   | 0.2   | 0.0 | 0.0  | 0.0  | 0.1   | 6.0     |\n",
       "| charHash | charHash          | &lt;dbl&gt; | 4601 | 0 | 0.0 | 0.0   | 0.4   | 0.0 | 0.0  | 0.0  | 0.0   | 19.8    |\n",
       "| capitalAve | capitalAve        | &lt;dbl&gt; | 4601 | 0 | 0.0 | 5.2   | 31.7  | 1.0 | 1.6  | 2.3  | 3.7   | 1102.5  |\n",
       "| capitalLong | capitalLong       | &lt;dbl&gt; | 4601 | 0 | 0.0 | 52.2  | 194.9 | 1.0 | 6.0  | 15.0 | 43.0  | 9989.0  |\n",
       "| capitalTotal | capitalTotal      | &lt;dbl&gt; | 4601 | 0 | 0.0 | 283.3 | 606.3 | 1.0 | 35.0 | 95.0 | 266.0 | 15841.0 |\n",
       "\n",
       "\n",
       "$Categorical\n",
       ":   \n",
       "A data.frame: 1 × 9\n",
       "\n",
       "| <!--/--> | label &lt;chr&gt; | var_type &lt;chr&gt; | n &lt;int&gt; | missing_n &lt;int&gt; | missing_percent &lt;chr&gt; | levels_n &lt;int&gt; | levels &lt;chr&gt; | levels_count &lt;chr&gt; | levels_percent &lt;chr&gt; |\n",
       "|---|---|---|---|---|---|---|---|---|---|\n",
       "| type | type | &lt;fct&gt; | 4601 | 0 | 0.0 | 2 | \"nonspam\", \"spam\" | 2788, 1813 | 61, 39 |\n",
       "\n",
       "\n",
       "\n",
       "\n"
      ],
      "text/plain": [
       "$Continuous\n",
       "                              label var_type    n missing_n missing_percent\n",
       "make                           make    <dbl> 4601         0             0.0\n",
       "address                     address    <dbl> 4601         0             0.0\n",
       "all                             all    <dbl> 4601         0             0.0\n",
       "num3d                         num3d    <dbl> 4601         0             0.0\n",
       "our                             our    <dbl> 4601         0             0.0\n",
       "over                           over    <dbl> 4601         0             0.0\n",
       "remove                       remove    <dbl> 4601         0             0.0\n",
       "internet                   internet    <dbl> 4601         0             0.0\n",
       "order                         order    <dbl> 4601         0             0.0\n",
       "mail                           mail    <dbl> 4601         0             0.0\n",
       "receive                     receive    <dbl> 4601         0             0.0\n",
       "will                           will    <dbl> 4601         0             0.0\n",
       "people                       people    <dbl> 4601         0             0.0\n",
       "report                       report    <dbl> 4601         0             0.0\n",
       "addresses                 addresses    <dbl> 4601         0             0.0\n",
       "free                           free    <dbl> 4601         0             0.0\n",
       "business                   business    <dbl> 4601         0             0.0\n",
       "email                         email    <dbl> 4601         0             0.0\n",
       "you                             you    <dbl> 4601         0             0.0\n",
       "credit                       credit    <dbl> 4601         0             0.0\n",
       "your                           your    <dbl> 4601         0             0.0\n",
       "font                           font    <dbl> 4601         0             0.0\n",
       "num000                       num000    <dbl> 4601         0             0.0\n",
       "money                         money    <dbl> 4601         0             0.0\n",
       "hp                               hp    <dbl> 4601         0             0.0\n",
       "hpl                             hpl    <dbl> 4601         0             0.0\n",
       "george                       george    <dbl> 4601         0             0.0\n",
       "num650                       num650    <dbl> 4601         0             0.0\n",
       "lab                             lab    <dbl> 4601         0             0.0\n",
       "labs                           labs    <dbl> 4601         0             0.0\n",
       "telnet                       telnet    <dbl> 4601         0             0.0\n",
       "num857                       num857    <dbl> 4601         0             0.0\n",
       "data                           data    <dbl> 4601         0             0.0\n",
       "num415                       num415    <dbl> 4601         0             0.0\n",
       "num85                         num85    <dbl> 4601         0             0.0\n",
       "technology               technology    <dbl> 4601         0             0.0\n",
       "num1999                     num1999    <dbl> 4601         0             0.0\n",
       "parts                         parts    <dbl> 4601         0             0.0\n",
       "pm                               pm    <dbl> 4601         0             0.0\n",
       "direct                       direct    <dbl> 4601         0             0.0\n",
       "cs                               cs    <dbl> 4601         0             0.0\n",
       "meeting                     meeting    <dbl> 4601         0             0.0\n",
       "original                   original    <dbl> 4601         0             0.0\n",
       "project                     project    <dbl> 4601         0             0.0\n",
       "re                               re    <dbl> 4601         0             0.0\n",
       "edu                             edu    <dbl> 4601         0             0.0\n",
       "table                         table    <dbl> 4601         0             0.0\n",
       "conference               conference    <dbl> 4601         0             0.0\n",
       "charSemicolon         charSemicolon    <dbl> 4601         0             0.0\n",
       "charRoundbracket   charRoundbracket    <dbl> 4601         0             0.0\n",
       "charSquarebracket charSquarebracket    <dbl> 4601         0             0.0\n",
       "charExclamation     charExclamation    <dbl> 4601         0             0.0\n",
       "charDollar               charDollar    <dbl> 4601         0             0.0\n",
       "charHash                   charHash    <dbl> 4601         0             0.0\n",
       "capitalAve               capitalAve    <dbl> 4601         0             0.0\n",
       "capitalLong             capitalLong    <dbl> 4601         0             0.0\n",
       "capitalTotal           capitalTotal    <dbl> 4601         0             0.0\n",
       "                   mean    sd min quartile_25 median quartile_75     max\n",
       "make                0.1   0.3 0.0         0.0    0.0         0.0     4.5\n",
       "address             0.2   1.3 0.0         0.0    0.0         0.0    14.3\n",
       "all                 0.3   0.5 0.0         0.0    0.0         0.4     5.1\n",
       "num3d               0.1   1.4 0.0         0.0    0.0         0.0    42.8\n",
       "our                 0.3   0.7 0.0         0.0    0.0         0.4    10.0\n",
       "over                0.1   0.3 0.0         0.0    0.0         0.0     5.9\n",
       "remove              0.1   0.4 0.0         0.0    0.0         0.0     7.3\n",
       "internet            0.1   0.4 0.0         0.0    0.0         0.0    11.1\n",
       "order               0.1   0.3 0.0         0.0    0.0         0.0     5.3\n",
       "mail                0.2   0.6 0.0         0.0    0.0         0.2    18.2\n",
       "receive             0.1   0.2 0.0         0.0    0.0         0.0     2.6\n",
       "will                0.5   0.9 0.0         0.0    0.1         0.8     9.7\n",
       "people              0.1   0.3 0.0         0.0    0.0         0.0     5.5\n",
       "report              0.1   0.3 0.0         0.0    0.0         0.0    10.0\n",
       "addresses           0.0   0.3 0.0         0.0    0.0         0.0     4.4\n",
       "free                0.2   0.8 0.0         0.0    0.0         0.1    20.0\n",
       "business            0.1   0.4 0.0         0.0    0.0         0.0     7.1\n",
       "email               0.2   0.5 0.0         0.0    0.0         0.0     9.1\n",
       "you                 1.7   1.8 0.0         0.0    1.3         2.6    18.8\n",
       "credit              0.1   0.5 0.0         0.0    0.0         0.0    18.2\n",
       "your                0.8   1.2 0.0         0.0    0.2         1.3    11.1\n",
       "font                0.1   1.0 0.0         0.0    0.0         0.0    17.1\n",
       "num000              0.1   0.4 0.0         0.0    0.0         0.0     5.4\n",
       "money               0.1   0.4 0.0         0.0    0.0         0.0    12.5\n",
       "hp                  0.5   1.7 0.0         0.0    0.0         0.0    20.8\n",
       "hpl                 0.3   0.9 0.0         0.0    0.0         0.0    16.7\n",
       "george              0.8   3.4 0.0         0.0    0.0         0.0    33.3\n",
       "num650              0.1   0.5 0.0         0.0    0.0         0.0     9.1\n",
       "lab                 0.1   0.6 0.0         0.0    0.0         0.0    14.3\n",
       "labs                0.1   0.5 0.0         0.0    0.0         0.0     5.9\n",
       "telnet              0.1   0.4 0.0         0.0    0.0         0.0    12.5\n",
       "num857              0.0   0.3 0.0         0.0    0.0         0.0     4.8\n",
       "data                0.1   0.6 0.0         0.0    0.0         0.0    18.2\n",
       "num415              0.0   0.3 0.0         0.0    0.0         0.0     4.8\n",
       "num85               0.1   0.5 0.0         0.0    0.0         0.0    20.0\n",
       "technology          0.1   0.4 0.0         0.0    0.0         0.0     7.7\n",
       "num1999             0.1   0.4 0.0         0.0    0.0         0.0     6.9\n",
       "parts               0.0   0.2 0.0         0.0    0.0         0.0     8.3\n",
       "pm                  0.1   0.4 0.0         0.0    0.0         0.0    11.1\n",
       "direct              0.1   0.3 0.0         0.0    0.0         0.0     4.8\n",
       "cs                  0.0   0.4 0.0         0.0    0.0         0.0     7.1\n",
       "meeting             0.1   0.8 0.0         0.0    0.0         0.0    14.3\n",
       "original            0.0   0.2 0.0         0.0    0.0         0.0     3.6\n",
       "project             0.1   0.6 0.0         0.0    0.0         0.0    20.0\n",
       "re                  0.3   1.0 0.0         0.0    0.0         0.1    21.4\n",
       "edu                 0.2   0.9 0.0         0.0    0.0         0.0    22.1\n",
       "table               0.0   0.1 0.0         0.0    0.0         0.0     2.2\n",
       "conference          0.0   0.3 0.0         0.0    0.0         0.0    10.0\n",
       "charSemicolon       0.0   0.2 0.0         0.0    0.0         0.0     4.4\n",
       "charRoundbracket    0.1   0.3 0.0         0.0    0.1         0.2     9.8\n",
       "charSquarebracket   0.0   0.1 0.0         0.0    0.0         0.0     4.1\n",
       "charExclamation     0.3   0.8 0.0         0.0    0.0         0.3    32.5\n",
       "charDollar          0.1   0.2 0.0         0.0    0.0         0.1     6.0\n",
       "charHash            0.0   0.4 0.0         0.0    0.0         0.0    19.8\n",
       "capitalAve          5.2  31.7 1.0         1.6    2.3         3.7  1102.5\n",
       "capitalLong        52.2 194.9 1.0         6.0   15.0        43.0  9989.0\n",
       "capitalTotal      283.3 606.3 1.0        35.0   95.0       266.0 15841.0\n",
       "\n",
       "$Categorical\n",
       "     label var_type    n missing_n missing_percent levels_n            levels\n",
       "type  type    <fct> 4601         0             0.0        2 \"nonspam\", \"spam\"\n",
       "     levels_count levels_percent\n",
       "type   2788, 1813         61, 39\n"
      ]
     },
     "metadata": {},
     "output_type": "display_data"
    }
   ],
   "source": [
    "ff_glimpse(spam)"
   ]
  },
  {
   "cell_type": "markdown",
   "id": "c17a2bb9",
   "metadata": {},
   "source": [
    "##### Target class distribution"
   ]
  },
  {
   "cell_type": "code",
   "execution_count": 4,
   "id": "435c2cb8",
   "metadata": {},
   "outputs": [],
   "source": [
    "options(repr.plot.width = 14, repr.plot.height = 9)"
   ]
  },
  {
   "cell_type": "code",
   "execution_count": 5,
   "id": "3ff05031",
   "metadata": {},
   "outputs": [
    {
     "data": {
      "image/png": "[encoded data removed]",
      "text/plain": [
       "plot without title"
      ]
     },
     "metadata": {
      "image/png": {
       "height": 540,
       "width": 840
      }
     },
     "output_type": "display_data"
    }
   ],
   "source": [
    "ggplot(spam, aes(x=type)) +\n",
    "    geom_bar(fill='seagreen4') +\n",
    "    ggtitle('Variable type group count') +\n",
    "    theme(\n",
    "        plot.title = element_text(size = 30),\n",
    "        axis.title = element_text(size = 22),         \n",
    "        axis.text.x = element_text(size = 18),        \n",
    "        axis.text.y = element_text(size = 18)\n",
    "        )"
   ]
  },
  {
   "cell_type": "markdown",
   "id": "2aabc7f8",
   "metadata": {},
   "source": [
    "Not very distinct imbalance, no need for oversampling/undersampling."
   ]
  },
  {
   "cell_type": "markdown",
   "id": "9353c0d5",
   "metadata": {},
   "source": [
    "##### Stratified split to train and test datasets"
   ]
  },
  {
   "cell_type": "code",
   "execution_count": 6,
   "id": "6690158e",
   "metadata": {},
   "outputs": [],
   "source": [
    "train_indices <- createDataPartition(spam$type, p=0.75, list=FALSE)\n",
    "train <- spam[train_indices,]\n",
    "test  <- spam[-train_indices,]"
   ]
  },
  {
   "cell_type": "code",
   "execution_count": 7,
   "id": "ba337a51",
   "metadata": {},
   "outputs": [
    {
     "data": {
      "text/html": [
       "<table class=\"dataframe\">\n",
       "<caption>A tibble: 2 × 3</caption>\n",
       "<thead>\n",
       "\t<tr><th scope=col>type</th><th scope=col>n</th><th scope=col>freq</th></tr>\n",
       "\t<tr><th scope=col>&lt;fct&gt;</th><th scope=col>&lt;int&gt;</th><th scope=col>&lt;dbl&gt;</th></tr>\n",
       "</thead>\n",
       "<tbody>\n",
       "\t<tr><td>nonspam</td><td>2091</td><td>0.6059113</td></tr>\n",
       "\t<tr><td>spam   </td><td>1360</td><td>0.3940887</td></tr>\n",
       "</tbody>\n",
       "</table>\n"
      ],
      "text/latex": [
       "A tibble: 2 × 3\n",
       "\\begin{tabular}{lll}\n",
       " type & n & freq\\\\\n",
       " <fct> & <int> & <dbl>\\\\\n",
       "\\hline\n",
       "\t nonspam & 2091 & 0.6059113\\\\\n",
       "\t spam    & 1360 & 0.3940887\\\\\n",
       "\\end{tabular}\n"
      ],
      "text/markdown": [
       "\n",
       "A tibble: 2 × 3\n",
       "\n",
       "| type &lt;fct&gt; | n &lt;int&gt; | freq &lt;dbl&gt; |\n",
       "|---|---|---|\n",
       "| nonspam | 2091 | 0.6059113 |\n",
       "| spam    | 1360 | 0.3940887 |\n",
       "\n"
      ],
      "text/plain": [
       "  type    n    freq     \n",
       "1 nonspam 2091 0.6059113\n",
       "2 spam    1360 0.3940887"
      ]
     },
     "metadata": {},
     "output_type": "display_data"
    }
   ],
   "source": [
    "train %>% group_by(type) %>% summarise(n=n()) %>% mutate(freq=n/sum(n))"
   ]
  },
  {
   "cell_type": "code",
   "execution_count": 8,
   "id": "6731aca6",
   "metadata": {},
   "outputs": [
    {
     "data": {
      "text/html": [
       "<table class=\"dataframe\">\n",
       "<caption>A tibble: 2 × 3</caption>\n",
       "<thead>\n",
       "\t<tr><th scope=col>type</th><th scope=col>n</th><th scope=col>freq</th></tr>\n",
       "\t<tr><th scope=col>&lt;fct&gt;</th><th scope=col>&lt;int&gt;</th><th scope=col>&lt;dbl&gt;</th></tr>\n",
       "</thead>\n",
       "<tbody>\n",
       "\t<tr><td>nonspam</td><td>697</td><td>0.606087</td></tr>\n",
       "\t<tr><td>spam   </td><td>453</td><td>0.393913</td></tr>\n",
       "</tbody>\n",
       "</table>\n"
      ],
      "text/latex": [
       "A tibble: 2 × 3\n",
       "\\begin{tabular}{lll}\n",
       " type & n & freq\\\\\n",
       " <fct> & <int> & <dbl>\\\\\n",
       "\\hline\n",
       "\t nonspam & 697 & 0.606087\\\\\n",
       "\t spam    & 453 & 0.393913\\\\\n",
       "\\end{tabular}\n"
      ],
      "text/markdown": [
       "\n",
       "A tibble: 2 × 3\n",
       "\n",
       "| type &lt;fct&gt; | n &lt;int&gt; | freq &lt;dbl&gt; |\n",
       "|---|---|---|\n",
       "| nonspam | 697 | 0.606087 |\n",
       "| spam    | 453 | 0.393913 |\n",
       "\n"
      ],
      "text/plain": [
       "  type    n   freq    \n",
       "1 nonspam 697 0.606087\n",
       "2 spam    453 0.393913"
      ]
     },
     "metadata": {},
     "output_type": "display_data"
    }
   ],
   "source": [
    "test %>% group_by(type) %>% summarise(n=n()) %>% mutate(freq=n/sum(n))"
   ]
  },
  {
   "cell_type": "markdown",
   "id": "809acb12",
   "metadata": {},
   "source": [
    "##### KNN"
   ]
  },
  {
   "cell_type": "code",
   "execution_count": 9,
   "id": "c58a0257",
   "metadata": {},
   "outputs": [],
   "source": [
    "# using cross-validation to tune the hyperparameters, DESCRIBE LATER"
   ]
  },
  {
   "cell_type": "code",
   "execution_count": 10,
   "id": "c8090fa4",
   "metadata": {},
   "outputs": [],
   "source": [
    "knn_grid <- data.frame(k=seq(1, 10, by=1))\n",
    "knn_control <- trainControl(method='cv', number=5)\n",
    "knn <- caret::train(type ~ ., data=train, method='knn', trControl=knn_control, tuneGrid=knn_grid)"
   ]
  },
  {
   "cell_type": "code",
   "execution_count": 11,
   "id": "952f7319",
   "metadata": {},
   "outputs": [
    {
     "name": "stdout",
     "output_type": "stream",
     "text": [
      " Accuracy \n",
      "0.8182609 \n",
      "          Reference\n",
      "Prediction nonspam spam\n",
      "   nonspam     595  102\n",
      "   spam        107  346\n"
     ]
    }
   ],
   "source": [
    "knn_pred <- predict(knn, newdata=test)\n",
    "knn_cm <- confusionMatrix(test$type, knn_pred)\n",
    "print(knn_cm$overall[1])\n",
    "print(knn_cm$table)"
   ]
  },
  {
   "cell_type": "markdown",
   "id": "57a1c4aa",
   "metadata": {},
   "source": [
    "##### Random forest"
   ]
  },
  {
   "cell_type": "code",
   "execution_count": 15,
   "id": "bc3682d9",
   "metadata": {},
   "outputs": [],
   "source": [
    "# the mtry parameter controls how many of the input features a decision tree has available to consider\n",
    "# different sets of features will be available to different decision trees at different points\n",
    "# https://crunchingthedata.com/mtry-in-random-forests/"
   ]
  },
  {
   "cell_type": "code",
   "execution_count": 13,
   "id": "b9c1df81",
   "metadata": {},
   "outputs": [],
   "source": [
    "rf_grid <- expand.grid(mtry=seq(5, 50, by=5))\n",
    "rf_control <- trainControl(method='cv', number=5)\n",
    "rf <- caret::train(type ~ ., data=train, method='rf', trControl=rf_control, tuneGrid=rf_grid)"
   ]
  },
  {
   "cell_type": "code",
   "execution_count": 14,
   "id": "4af851ac",
   "metadata": {},
   "outputs": [
    {
     "name": "stdout",
     "output_type": "stream",
     "text": [
      " Accuracy \n",
      "0.9591304 \n",
      "          Reference\n",
      "Prediction nonspam spam\n",
      "   nonspam     680   17\n",
      "   spam         30  423\n"
     ]
    }
   ],
   "source": [
    "rf_pred <- predict(rf, newdata=test)\n",
    "rf_cm <- confusionMatrix(test$type, rf_pred)\n",
    "print(rf_cm$overall[1])\n",
    "print(rf_cm$table)"
   ]
  },
  {
   "cell_type": "code",
   "execution_count": null,
   "id": "48b8d92c",
   "metadata": {},
   "outputs": [],
   "source": []
  }
 ],
 "metadata": {
  "kernelspec": {
   "display_name": "R",
   "language": "R",
   "name": "ir"
  },
  "language_info": {
   "codemirror_mode": "r",
   "file_extension": ".r",
   "mimetype": "text/x-r-source",
   "name": "R",
   "pygments_lexer": "r",
   "version": "4.3.1"
  }
 },
 "nbformat": 4,
 "nbformat_minor": 5
}
