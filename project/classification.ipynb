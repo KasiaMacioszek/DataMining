{
 "cells": [
  {
   "cell_type": "code",
   "execution_count": 3,
   "id": "7faad1ae",
   "metadata": {
    "vscode": {
     "languageId": "r"
    }
   },
   "outputs": [
    {
     "name": "stderr",
     "output_type": "stream",
     "text": [
      "Ładowanie wymaganego pakietu: ggplot2\n",
      "\n",
      "\n",
      "Dołączanie pakietu: 'ggplot2'\n",
      "\n",
      "\n",
      "Następujący obiekt został zakryty z 'package:kernlab':\n",
      "\n",
      "    alpha\n",
      "\n",
      "\n",
      "Ładowanie wymaganego pakietu: lattice\n",
      "\n",
      "\n",
      "Dołączanie pakietu: 'dplyr'\n",
      "\n",
      "\n",
      "Następujące obiekty zostały zakryte z 'package:stats':\n",
      "\n",
      "    filter, lag\n",
      "\n",
      "\n",
      "Następujące obiekty zostały zakryte z 'package:base':\n",
      "\n",
      "    intersect, setdiff, setequal, union\n",
      "\n",
      "\n"
     ]
    }
   ],
   "source": [
    "library(kernlab)\n",
    "library(finalfit)\n",
    "library(caret)\n",
    "library(ggplot2)\n",
    "library(dplyr)"
   ]
  },
  {
   "cell_type": "code",
   "execution_count": 4,
   "id": "2bcd01d2",
   "metadata": {
    "vscode": {
     "languageId": "r"
    }
   },
   "outputs": [],
   "source": [
    "data(spam)"
   ]
  },
  {
   "cell_type": "code",
   "execution_count": 5,
   "id": "36e8dd4a",
   "metadata": {
    "scrolled": true,
    "vscode": {
     "languageId": "r"
    }
   },
   "outputs": [
    {
     "name": "stderr",
     "output_type": "stream",
     "text": [
      "Warning message:\n",
      "\"\u001b[1m\u001b[22m`fct_explicit_na()` was deprecated in forcats 1.0.0.\n",
      "\u001b[36mℹ\u001b[39m Please use `fct_na_value_to_level()` instead.\n",
      "\u001b[36mℹ\u001b[39m The deprecated feature was likely used in the \u001b[34mfinalfit\u001b[39m package.\n",
      "  Please report the issue at \u001b[3m\u001b[34m<https://github.com/ewenharrison/finalfit/issues>\u001b[39m\u001b[23m.\"\n"
     ]
    },
    {
     "data": {
      "text/html": [
       "<dl>\n",
       "\t<dt>$Continuous</dt>\n",
       "\t\t<dd><table class=\"dataframe\">\n",
       "<caption>A data.frame: 57 × 12</caption>\n",
       "<thead>\n",
       "\t<tr><th></th><th scope=col>label</th><th scope=col>var_type</th><th scope=col>n</th><th scope=col>missing_n</th><th scope=col>missing_percent</th><th scope=col>mean</th><th scope=col>sd</th><th scope=col>min</th><th scope=col>quartile_25</th><th scope=col>median</th><th scope=col>quartile_75</th><th scope=col>max</th></tr>\n",
       "\t<tr><th></th><th scope=col>&lt;chr&gt;</th><th scope=col>&lt;chr&gt;</th><th scope=col>&lt;int&gt;</th><th scope=col>&lt;int&gt;</th><th scope=col>&lt;chr&gt;</th><th scope=col>&lt;chr&gt;</th><th scope=col>&lt;chr&gt;</th><th scope=col>&lt;chr&gt;</th><th scope=col>&lt;chr&gt;</th><th scope=col>&lt;chr&gt;</th><th scope=col>&lt;chr&gt;</th><th scope=col>&lt;chr&gt;</th></tr>\n",
       "</thead>\n",
       "<tbody>\n",
       "\t<tr><th scope=row>make</th><td><span style=white-space:pre-wrap>make             </span></td><td>&lt;dbl&gt;</td><td>4601</td><td>0</td><td>0.0</td><td><span style=white-space:pre-wrap>0.1  </span></td><td><span style=white-space:pre-wrap>0.3  </span></td><td>0.0</td><td>0.0 </td><td>0.0 </td><td><span style=white-space:pre-wrap>0.0  </span></td><td><span style=white-space:pre-wrap>4.5    </span></td></tr>\n",
       "\t<tr><th scope=row>address</th><td><span style=white-space:pre-wrap>address          </span></td><td>&lt;dbl&gt;</td><td>4601</td><td>0</td><td>0.0</td><td><span style=white-space:pre-wrap>0.2  </span></td><td><span style=white-space:pre-wrap>1.3  </span></td><td>0.0</td><td>0.0 </td><td>0.0 </td><td><span style=white-space:pre-wrap>0.0  </span></td><td><span style=white-space:pre-wrap>14.3   </span></td></tr>\n",
       "\t<tr><th scope=row>all</th><td><span style=white-space:pre-wrap>all              </span></td><td>&lt;dbl&gt;</td><td>4601</td><td>0</td><td>0.0</td><td><span style=white-space:pre-wrap>0.3  </span></td><td><span style=white-space:pre-wrap>0.5  </span></td><td>0.0</td><td>0.0 </td><td>0.0 </td><td><span style=white-space:pre-wrap>0.4  </span></td><td><span style=white-space:pre-wrap>5.1    </span></td></tr>\n",
       "\t<tr><th scope=row>num3d</th><td><span style=white-space:pre-wrap>num3d            </span></td><td>&lt;dbl&gt;</td><td>4601</td><td>0</td><td>0.0</td><td><span style=white-space:pre-wrap>0.1  </span></td><td><span style=white-space:pre-wrap>1.4  </span></td><td>0.0</td><td>0.0 </td><td>0.0 </td><td><span style=white-space:pre-wrap>0.0  </span></td><td><span style=white-space:pre-wrap>42.8   </span></td></tr>\n",
       "\t<tr><th scope=row>our</th><td><span style=white-space:pre-wrap>our              </span></td><td>&lt;dbl&gt;</td><td>4601</td><td>0</td><td>0.0</td><td><span style=white-space:pre-wrap>0.3  </span></td><td><span style=white-space:pre-wrap>0.7  </span></td><td>0.0</td><td>0.0 </td><td>0.0 </td><td><span style=white-space:pre-wrap>0.4  </span></td><td><span style=white-space:pre-wrap>10.0   </span></td></tr>\n",
       "\t<tr><th scope=row>over</th><td><span style=white-space:pre-wrap>over             </span></td><td>&lt;dbl&gt;</td><td>4601</td><td>0</td><td>0.0</td><td><span style=white-space:pre-wrap>0.1  </span></td><td><span style=white-space:pre-wrap>0.3  </span></td><td>0.0</td><td>0.0 </td><td>0.0 </td><td><span style=white-space:pre-wrap>0.0  </span></td><td><span style=white-space:pre-wrap>5.9    </span></td></tr>\n",
       "\t<tr><th scope=row>remove</th><td><span style=white-space:pre-wrap>remove           </span></td><td>&lt;dbl&gt;</td><td>4601</td><td>0</td><td>0.0</td><td><span style=white-space:pre-wrap>0.1  </span></td><td><span style=white-space:pre-wrap>0.4  </span></td><td>0.0</td><td>0.0 </td><td>0.0 </td><td><span style=white-space:pre-wrap>0.0  </span></td><td><span style=white-space:pre-wrap>7.3    </span></td></tr>\n",
       "\t<tr><th scope=row>internet</th><td><span style=white-space:pre-wrap>internet         </span></td><td>&lt;dbl&gt;</td><td>4601</td><td>0</td><td>0.0</td><td><span style=white-space:pre-wrap>0.1  </span></td><td><span style=white-space:pre-wrap>0.4  </span></td><td>0.0</td><td>0.0 </td><td>0.0 </td><td><span style=white-space:pre-wrap>0.0  </span></td><td><span style=white-space:pre-wrap>11.1   </span></td></tr>\n",
       "\t<tr><th scope=row>order</th><td><span style=white-space:pre-wrap>order            </span></td><td>&lt;dbl&gt;</td><td>4601</td><td>0</td><td>0.0</td><td><span style=white-space:pre-wrap>0.1  </span></td><td><span style=white-space:pre-wrap>0.3  </span></td><td>0.0</td><td>0.0 </td><td>0.0 </td><td><span style=white-space:pre-wrap>0.0  </span></td><td><span style=white-space:pre-wrap>5.3    </span></td></tr>\n",
       "\t<tr><th scope=row>mail</th><td><span style=white-space:pre-wrap>mail             </span></td><td>&lt;dbl&gt;</td><td>4601</td><td>0</td><td>0.0</td><td><span style=white-space:pre-wrap>0.2  </span></td><td><span style=white-space:pre-wrap>0.6  </span></td><td>0.0</td><td>0.0 </td><td>0.0 </td><td><span style=white-space:pre-wrap>0.2  </span></td><td><span style=white-space:pre-wrap>18.2   </span></td></tr>\n",
       "\t<tr><th scope=row>receive</th><td><span style=white-space:pre-wrap>receive          </span></td><td>&lt;dbl&gt;</td><td>4601</td><td>0</td><td>0.0</td><td><span style=white-space:pre-wrap>0.1  </span></td><td><span style=white-space:pre-wrap>0.2  </span></td><td>0.0</td><td>0.0 </td><td>0.0 </td><td><span style=white-space:pre-wrap>0.0  </span></td><td><span style=white-space:pre-wrap>2.6    </span></td></tr>\n",
       "\t<tr><th scope=row>will</th><td><span style=white-space:pre-wrap>will             </span></td><td>&lt;dbl&gt;</td><td>4601</td><td>0</td><td>0.0</td><td><span style=white-space:pre-wrap>0.5  </span></td><td><span style=white-space:pre-wrap>0.9  </span></td><td>0.0</td><td>0.0 </td><td>0.1 </td><td><span style=white-space:pre-wrap>0.8  </span></td><td><span style=white-space:pre-wrap>9.7    </span></td></tr>\n",
       "\t<tr><th scope=row>people</th><td><span style=white-space:pre-wrap>people           </span></td><td>&lt;dbl&gt;</td><td>4601</td><td>0</td><td>0.0</td><td><span style=white-space:pre-wrap>0.1  </span></td><td><span style=white-space:pre-wrap>0.3  </span></td><td>0.0</td><td>0.0 </td><td>0.0 </td><td><span style=white-space:pre-wrap>0.0  </span></td><td><span style=white-space:pre-wrap>5.5    </span></td></tr>\n",
       "\t<tr><th scope=row>report</th><td><span style=white-space:pre-wrap>report           </span></td><td>&lt;dbl&gt;</td><td>4601</td><td>0</td><td>0.0</td><td><span style=white-space:pre-wrap>0.1  </span></td><td><span style=white-space:pre-wrap>0.3  </span></td><td>0.0</td><td>0.0 </td><td>0.0 </td><td><span style=white-space:pre-wrap>0.0  </span></td><td><span style=white-space:pre-wrap>10.0   </span></td></tr>\n",
       "\t<tr><th scope=row>addresses</th><td><span style=white-space:pre-wrap>addresses        </span></td><td>&lt;dbl&gt;</td><td>4601</td><td>0</td><td>0.0</td><td><span style=white-space:pre-wrap>0.0  </span></td><td><span style=white-space:pre-wrap>0.3  </span></td><td>0.0</td><td>0.0 </td><td>0.0 </td><td><span style=white-space:pre-wrap>0.0  </span></td><td><span style=white-space:pre-wrap>4.4    </span></td></tr>\n",
       "\t<tr><th scope=row>free</th><td><span style=white-space:pre-wrap>free             </span></td><td>&lt;dbl&gt;</td><td>4601</td><td>0</td><td>0.0</td><td><span style=white-space:pre-wrap>0.2  </span></td><td><span style=white-space:pre-wrap>0.8  </span></td><td>0.0</td><td>0.0 </td><td>0.0 </td><td><span style=white-space:pre-wrap>0.1  </span></td><td><span style=white-space:pre-wrap>20.0   </span></td></tr>\n",
       "\t<tr><th scope=row>business</th><td><span style=white-space:pre-wrap>business         </span></td><td>&lt;dbl&gt;</td><td>4601</td><td>0</td><td>0.0</td><td><span style=white-space:pre-wrap>0.1  </span></td><td><span style=white-space:pre-wrap>0.4  </span></td><td>0.0</td><td>0.0 </td><td>0.0 </td><td><span style=white-space:pre-wrap>0.0  </span></td><td><span style=white-space:pre-wrap>7.1    </span></td></tr>\n",
       "\t<tr><th scope=row>email</th><td><span style=white-space:pre-wrap>email            </span></td><td>&lt;dbl&gt;</td><td>4601</td><td>0</td><td>0.0</td><td><span style=white-space:pre-wrap>0.2  </span></td><td><span style=white-space:pre-wrap>0.5  </span></td><td>0.0</td><td>0.0 </td><td>0.0 </td><td><span style=white-space:pre-wrap>0.0  </span></td><td><span style=white-space:pre-wrap>9.1    </span></td></tr>\n",
       "\t<tr><th scope=row>you</th><td><span style=white-space:pre-wrap>you              </span></td><td>&lt;dbl&gt;</td><td>4601</td><td>0</td><td>0.0</td><td><span style=white-space:pre-wrap>1.7  </span></td><td><span style=white-space:pre-wrap>1.8  </span></td><td>0.0</td><td>0.0 </td><td>1.3 </td><td><span style=white-space:pre-wrap>2.6  </span></td><td><span style=white-space:pre-wrap>18.8   </span></td></tr>\n",
       "\t<tr><th scope=row>credit</th><td><span style=white-space:pre-wrap>credit           </span></td><td>&lt;dbl&gt;</td><td>4601</td><td>0</td><td>0.0</td><td><span style=white-space:pre-wrap>0.1  </span></td><td><span style=white-space:pre-wrap>0.5  </span></td><td>0.0</td><td>0.0 </td><td>0.0 </td><td><span style=white-space:pre-wrap>0.0  </span></td><td><span style=white-space:pre-wrap>18.2   </span></td></tr>\n",
       "\t<tr><th scope=row>your</th><td><span style=white-space:pre-wrap>your             </span></td><td>&lt;dbl&gt;</td><td>4601</td><td>0</td><td>0.0</td><td><span style=white-space:pre-wrap>0.8  </span></td><td><span style=white-space:pre-wrap>1.2  </span></td><td>0.0</td><td>0.0 </td><td>0.2 </td><td><span style=white-space:pre-wrap>1.3  </span></td><td><span style=white-space:pre-wrap>11.1   </span></td></tr>\n",
       "\t<tr><th scope=row>font</th><td><span style=white-space:pre-wrap>font             </span></td><td>&lt;dbl&gt;</td><td>4601</td><td>0</td><td>0.0</td><td><span style=white-space:pre-wrap>0.1  </span></td><td><span style=white-space:pre-wrap>1.0  </span></td><td>0.0</td><td>0.0 </td><td>0.0 </td><td><span style=white-space:pre-wrap>0.0  </span></td><td><span style=white-space:pre-wrap>17.1   </span></td></tr>\n",
       "\t<tr><th scope=row>num000</th><td><span style=white-space:pre-wrap>num000           </span></td><td>&lt;dbl&gt;</td><td>4601</td><td>0</td><td>0.0</td><td><span style=white-space:pre-wrap>0.1  </span></td><td><span style=white-space:pre-wrap>0.4  </span></td><td>0.0</td><td>0.0 </td><td>0.0 </td><td><span style=white-space:pre-wrap>0.0  </span></td><td><span style=white-space:pre-wrap>5.4    </span></td></tr>\n",
       "\t<tr><th scope=row>money</th><td><span style=white-space:pre-wrap>money            </span></td><td>&lt;dbl&gt;</td><td>4601</td><td>0</td><td>0.0</td><td><span style=white-space:pre-wrap>0.1  </span></td><td><span style=white-space:pre-wrap>0.4  </span></td><td>0.0</td><td>0.0 </td><td>0.0 </td><td><span style=white-space:pre-wrap>0.0  </span></td><td><span style=white-space:pre-wrap>12.5   </span></td></tr>\n",
       "\t<tr><th scope=row>hp</th><td><span style=white-space:pre-wrap>hp               </span></td><td>&lt;dbl&gt;</td><td>4601</td><td>0</td><td>0.0</td><td><span style=white-space:pre-wrap>0.5  </span></td><td><span style=white-space:pre-wrap>1.7  </span></td><td>0.0</td><td>0.0 </td><td>0.0 </td><td><span style=white-space:pre-wrap>0.0  </span></td><td><span style=white-space:pre-wrap>20.8   </span></td></tr>\n",
       "\t<tr><th scope=row>hpl</th><td><span style=white-space:pre-wrap>hpl              </span></td><td>&lt;dbl&gt;</td><td>4601</td><td>0</td><td>0.0</td><td><span style=white-space:pre-wrap>0.3  </span></td><td><span style=white-space:pre-wrap>0.9  </span></td><td>0.0</td><td>0.0 </td><td>0.0 </td><td><span style=white-space:pre-wrap>0.0  </span></td><td><span style=white-space:pre-wrap>16.7   </span></td></tr>\n",
       "\t<tr><th scope=row>george</th><td><span style=white-space:pre-wrap>george           </span></td><td>&lt;dbl&gt;</td><td>4601</td><td>0</td><td>0.0</td><td><span style=white-space:pre-wrap>0.8  </span></td><td><span style=white-space:pre-wrap>3.4  </span></td><td>0.0</td><td>0.0 </td><td>0.0 </td><td><span style=white-space:pre-wrap>0.0  </span></td><td><span style=white-space:pre-wrap>33.3   </span></td></tr>\n",
       "\t<tr><th scope=row>num650</th><td><span style=white-space:pre-wrap>num650           </span></td><td>&lt;dbl&gt;</td><td>4601</td><td>0</td><td>0.0</td><td><span style=white-space:pre-wrap>0.1  </span></td><td><span style=white-space:pre-wrap>0.5  </span></td><td>0.0</td><td>0.0 </td><td>0.0 </td><td><span style=white-space:pre-wrap>0.0  </span></td><td><span style=white-space:pre-wrap>9.1    </span></td></tr>\n",
       "\t<tr><th scope=row>lab</th><td><span style=white-space:pre-wrap>lab              </span></td><td>&lt;dbl&gt;</td><td>4601</td><td>0</td><td>0.0</td><td><span style=white-space:pre-wrap>0.1  </span></td><td><span style=white-space:pre-wrap>0.6  </span></td><td>0.0</td><td>0.0 </td><td>0.0 </td><td><span style=white-space:pre-wrap>0.0  </span></td><td><span style=white-space:pre-wrap>14.3   </span></td></tr>\n",
       "\t<tr><th scope=row>labs</th><td><span style=white-space:pre-wrap>labs             </span></td><td>&lt;dbl&gt;</td><td>4601</td><td>0</td><td>0.0</td><td><span style=white-space:pre-wrap>0.1  </span></td><td><span style=white-space:pre-wrap>0.5  </span></td><td>0.0</td><td>0.0 </td><td>0.0 </td><td><span style=white-space:pre-wrap>0.0  </span></td><td><span style=white-space:pre-wrap>5.9    </span></td></tr>\n",
       "\t<tr><th scope=row>telnet</th><td><span style=white-space:pre-wrap>telnet           </span></td><td>&lt;dbl&gt;</td><td>4601</td><td>0</td><td>0.0</td><td><span style=white-space:pre-wrap>0.1  </span></td><td><span style=white-space:pre-wrap>0.4  </span></td><td>0.0</td><td>0.0 </td><td>0.0 </td><td><span style=white-space:pre-wrap>0.0  </span></td><td><span style=white-space:pre-wrap>12.5   </span></td></tr>\n",
       "\t<tr><th scope=row>num857</th><td><span style=white-space:pre-wrap>num857           </span></td><td>&lt;dbl&gt;</td><td>4601</td><td>0</td><td>0.0</td><td><span style=white-space:pre-wrap>0.0  </span></td><td><span style=white-space:pre-wrap>0.3  </span></td><td>0.0</td><td>0.0 </td><td>0.0 </td><td><span style=white-space:pre-wrap>0.0  </span></td><td><span style=white-space:pre-wrap>4.8    </span></td></tr>\n",
       "\t<tr><th scope=row>data</th><td><span style=white-space:pre-wrap>data             </span></td><td>&lt;dbl&gt;</td><td>4601</td><td>0</td><td>0.0</td><td><span style=white-space:pre-wrap>0.1  </span></td><td><span style=white-space:pre-wrap>0.6  </span></td><td>0.0</td><td>0.0 </td><td>0.0 </td><td><span style=white-space:pre-wrap>0.0  </span></td><td><span style=white-space:pre-wrap>18.2   </span></td></tr>\n",
       "\t<tr><th scope=row>num415</th><td><span style=white-space:pre-wrap>num415           </span></td><td>&lt;dbl&gt;</td><td>4601</td><td>0</td><td>0.0</td><td><span style=white-space:pre-wrap>0.0  </span></td><td><span style=white-space:pre-wrap>0.3  </span></td><td>0.0</td><td>0.0 </td><td>0.0 </td><td><span style=white-space:pre-wrap>0.0  </span></td><td><span style=white-space:pre-wrap>4.8    </span></td></tr>\n",
       "\t<tr><th scope=row>num85</th><td><span style=white-space:pre-wrap>num85            </span></td><td>&lt;dbl&gt;</td><td>4601</td><td>0</td><td>0.0</td><td><span style=white-space:pre-wrap>0.1  </span></td><td><span style=white-space:pre-wrap>0.5  </span></td><td>0.0</td><td>0.0 </td><td>0.0 </td><td><span style=white-space:pre-wrap>0.0  </span></td><td><span style=white-space:pre-wrap>20.0   </span></td></tr>\n",
       "\t<tr><th scope=row>technology</th><td><span style=white-space:pre-wrap>technology       </span></td><td>&lt;dbl&gt;</td><td>4601</td><td>0</td><td>0.0</td><td><span style=white-space:pre-wrap>0.1  </span></td><td><span style=white-space:pre-wrap>0.4  </span></td><td>0.0</td><td>0.0 </td><td>0.0 </td><td><span style=white-space:pre-wrap>0.0  </span></td><td><span style=white-space:pre-wrap>7.7    </span></td></tr>\n",
       "\t<tr><th scope=row>num1999</th><td><span style=white-space:pre-wrap>num1999          </span></td><td>&lt;dbl&gt;</td><td>4601</td><td>0</td><td>0.0</td><td><span style=white-space:pre-wrap>0.1  </span></td><td><span style=white-space:pre-wrap>0.4  </span></td><td>0.0</td><td>0.0 </td><td>0.0 </td><td><span style=white-space:pre-wrap>0.0  </span></td><td><span style=white-space:pre-wrap>6.9    </span></td></tr>\n",
       "\t<tr><th scope=row>parts</th><td><span style=white-space:pre-wrap>parts            </span></td><td>&lt;dbl&gt;</td><td>4601</td><td>0</td><td>0.0</td><td><span style=white-space:pre-wrap>0.0  </span></td><td><span style=white-space:pre-wrap>0.2  </span></td><td>0.0</td><td>0.0 </td><td>0.0 </td><td><span style=white-space:pre-wrap>0.0  </span></td><td><span style=white-space:pre-wrap>8.3    </span></td></tr>\n",
       "\t<tr><th scope=row>pm</th><td><span style=white-space:pre-wrap>pm               </span></td><td>&lt;dbl&gt;</td><td>4601</td><td>0</td><td>0.0</td><td><span style=white-space:pre-wrap>0.1  </span></td><td><span style=white-space:pre-wrap>0.4  </span></td><td>0.0</td><td>0.0 </td><td>0.0 </td><td><span style=white-space:pre-wrap>0.0  </span></td><td><span style=white-space:pre-wrap>11.1   </span></td></tr>\n",
       "\t<tr><th scope=row>direct</th><td><span style=white-space:pre-wrap>direct           </span></td><td>&lt;dbl&gt;</td><td>4601</td><td>0</td><td>0.0</td><td><span style=white-space:pre-wrap>0.1  </span></td><td><span style=white-space:pre-wrap>0.3  </span></td><td>0.0</td><td>0.0 </td><td>0.0 </td><td><span style=white-space:pre-wrap>0.0  </span></td><td><span style=white-space:pre-wrap>4.8    </span></td></tr>\n",
       "\t<tr><th scope=row>cs</th><td><span style=white-space:pre-wrap>cs               </span></td><td>&lt;dbl&gt;</td><td>4601</td><td>0</td><td>0.0</td><td><span style=white-space:pre-wrap>0.0  </span></td><td><span style=white-space:pre-wrap>0.4  </span></td><td>0.0</td><td>0.0 </td><td>0.0 </td><td><span style=white-space:pre-wrap>0.0  </span></td><td><span style=white-space:pre-wrap>7.1    </span></td></tr>\n",
       "\t<tr><th scope=row>meeting</th><td><span style=white-space:pre-wrap>meeting          </span></td><td>&lt;dbl&gt;</td><td>4601</td><td>0</td><td>0.0</td><td><span style=white-space:pre-wrap>0.1  </span></td><td><span style=white-space:pre-wrap>0.8  </span></td><td>0.0</td><td>0.0 </td><td>0.0 </td><td><span style=white-space:pre-wrap>0.0  </span></td><td><span style=white-space:pre-wrap>14.3   </span></td></tr>\n",
       "\t<tr><th scope=row>original</th><td><span style=white-space:pre-wrap>original         </span></td><td>&lt;dbl&gt;</td><td>4601</td><td>0</td><td>0.0</td><td><span style=white-space:pre-wrap>0.0  </span></td><td><span style=white-space:pre-wrap>0.2  </span></td><td>0.0</td><td>0.0 </td><td>0.0 </td><td><span style=white-space:pre-wrap>0.0  </span></td><td><span style=white-space:pre-wrap>3.6    </span></td></tr>\n",
       "\t<tr><th scope=row>project</th><td><span style=white-space:pre-wrap>project          </span></td><td>&lt;dbl&gt;</td><td>4601</td><td>0</td><td>0.0</td><td><span style=white-space:pre-wrap>0.1  </span></td><td><span style=white-space:pre-wrap>0.6  </span></td><td>0.0</td><td>0.0 </td><td>0.0 </td><td><span style=white-space:pre-wrap>0.0  </span></td><td><span style=white-space:pre-wrap>20.0   </span></td></tr>\n",
       "\t<tr><th scope=row>re</th><td><span style=white-space:pre-wrap>re               </span></td><td>&lt;dbl&gt;</td><td>4601</td><td>0</td><td>0.0</td><td><span style=white-space:pre-wrap>0.3  </span></td><td><span style=white-space:pre-wrap>1.0  </span></td><td>0.0</td><td>0.0 </td><td>0.0 </td><td><span style=white-space:pre-wrap>0.1  </span></td><td><span style=white-space:pre-wrap>21.4   </span></td></tr>\n",
       "\t<tr><th scope=row>edu</th><td><span style=white-space:pre-wrap>edu              </span></td><td>&lt;dbl&gt;</td><td>4601</td><td>0</td><td>0.0</td><td><span style=white-space:pre-wrap>0.2  </span></td><td><span style=white-space:pre-wrap>0.9  </span></td><td>0.0</td><td>0.0 </td><td>0.0 </td><td><span style=white-space:pre-wrap>0.0  </span></td><td><span style=white-space:pre-wrap>22.1   </span></td></tr>\n",
       "\t<tr><th scope=row>table</th><td><span style=white-space:pre-wrap>table            </span></td><td>&lt;dbl&gt;</td><td>4601</td><td>0</td><td>0.0</td><td><span style=white-space:pre-wrap>0.0  </span></td><td><span style=white-space:pre-wrap>0.1  </span></td><td>0.0</td><td>0.0 </td><td>0.0 </td><td><span style=white-space:pre-wrap>0.0  </span></td><td><span style=white-space:pre-wrap>2.2    </span></td></tr>\n",
       "\t<tr><th scope=row>conference</th><td><span style=white-space:pre-wrap>conference       </span></td><td>&lt;dbl&gt;</td><td>4601</td><td>0</td><td>0.0</td><td><span style=white-space:pre-wrap>0.0  </span></td><td><span style=white-space:pre-wrap>0.3  </span></td><td>0.0</td><td>0.0 </td><td>0.0 </td><td><span style=white-space:pre-wrap>0.0  </span></td><td><span style=white-space:pre-wrap>10.0   </span></td></tr>\n",
       "\t<tr><th scope=row>charSemicolon</th><td><span style=white-space:pre-wrap>charSemicolon    </span></td><td>&lt;dbl&gt;</td><td>4601</td><td>0</td><td>0.0</td><td><span style=white-space:pre-wrap>0.0  </span></td><td><span style=white-space:pre-wrap>0.2  </span></td><td>0.0</td><td>0.0 </td><td>0.0 </td><td><span style=white-space:pre-wrap>0.0  </span></td><td><span style=white-space:pre-wrap>4.4    </span></td></tr>\n",
       "\t<tr><th scope=row>charRoundbracket</th><td>charRoundbracket </td><td>&lt;dbl&gt;</td><td>4601</td><td>0</td><td>0.0</td><td><span style=white-space:pre-wrap>0.1  </span></td><td><span style=white-space:pre-wrap>0.3  </span></td><td>0.0</td><td>0.0 </td><td>0.1 </td><td><span style=white-space:pre-wrap>0.2  </span></td><td><span style=white-space:pre-wrap>9.8    </span></td></tr>\n",
       "\t<tr><th scope=row>charSquarebracket</th><td>charSquarebracket</td><td>&lt;dbl&gt;</td><td>4601</td><td>0</td><td>0.0</td><td><span style=white-space:pre-wrap>0.0  </span></td><td><span style=white-space:pre-wrap>0.1  </span></td><td>0.0</td><td>0.0 </td><td>0.0 </td><td><span style=white-space:pre-wrap>0.0  </span></td><td><span style=white-space:pre-wrap>4.1    </span></td></tr>\n",
       "\t<tr><th scope=row>charExclamation</th><td><span style=white-space:pre-wrap>charExclamation  </span></td><td>&lt;dbl&gt;</td><td>4601</td><td>0</td><td>0.0</td><td><span style=white-space:pre-wrap>0.3  </span></td><td><span style=white-space:pre-wrap>0.8  </span></td><td>0.0</td><td>0.0 </td><td>0.0 </td><td><span style=white-space:pre-wrap>0.3  </span></td><td><span style=white-space:pre-wrap>32.5   </span></td></tr>\n",
       "\t<tr><th scope=row>charDollar</th><td><span style=white-space:pre-wrap>charDollar       </span></td><td>&lt;dbl&gt;</td><td>4601</td><td>0</td><td>0.0</td><td><span style=white-space:pre-wrap>0.1  </span></td><td><span style=white-space:pre-wrap>0.2  </span></td><td>0.0</td><td>0.0 </td><td>0.0 </td><td><span style=white-space:pre-wrap>0.1  </span></td><td><span style=white-space:pre-wrap>6.0    </span></td></tr>\n",
       "\t<tr><th scope=row>charHash</th><td><span style=white-space:pre-wrap>charHash         </span></td><td>&lt;dbl&gt;</td><td>4601</td><td>0</td><td>0.0</td><td><span style=white-space:pre-wrap>0.0  </span></td><td><span style=white-space:pre-wrap>0.4  </span></td><td>0.0</td><td>0.0 </td><td>0.0 </td><td><span style=white-space:pre-wrap>0.0  </span></td><td><span style=white-space:pre-wrap>19.8   </span></td></tr>\n",
       "\t<tr><th scope=row>capitalAve</th><td><span style=white-space:pre-wrap>capitalAve       </span></td><td>&lt;dbl&gt;</td><td>4601</td><td>0</td><td>0.0</td><td><span style=white-space:pre-wrap>5.2  </span></td><td>31.7 </td><td>1.0</td><td>1.6 </td><td>2.3 </td><td><span style=white-space:pre-wrap>3.7  </span></td><td>1102.5 </td></tr>\n",
       "\t<tr><th scope=row>capitalLong</th><td><span style=white-space:pre-wrap>capitalLong      </span></td><td>&lt;dbl&gt;</td><td>4601</td><td>0</td><td>0.0</td><td>52.2 </td><td>194.9</td><td>1.0</td><td>6.0 </td><td>15.0</td><td>43.0 </td><td>9989.0 </td></tr>\n",
       "\t<tr><th scope=row>capitalTotal</th><td><span style=white-space:pre-wrap>capitalTotal     </span></td><td>&lt;dbl&gt;</td><td>4601</td><td>0</td><td>0.0</td><td>283.3</td><td>606.3</td><td>1.0</td><td>35.0</td><td>95.0</td><td>266.0</td><td>15841.0</td></tr>\n",
       "</tbody>\n",
       "</table>\n",
       "</dd>\n",
       "\t<dt>$Categorical</dt>\n",
       "\t\t<dd><table class=\"dataframe\">\n",
       "<caption>A data.frame: 1 × 9</caption>\n",
       "<thead>\n",
       "\t<tr><th></th><th scope=col>label</th><th scope=col>var_type</th><th scope=col>n</th><th scope=col>missing_n</th><th scope=col>missing_percent</th><th scope=col>levels_n</th><th scope=col>levels</th><th scope=col>levels_count</th><th scope=col>levels_percent</th></tr>\n",
       "\t<tr><th></th><th scope=col>&lt;chr&gt;</th><th scope=col>&lt;chr&gt;</th><th scope=col>&lt;int&gt;</th><th scope=col>&lt;int&gt;</th><th scope=col>&lt;chr&gt;</th><th scope=col>&lt;int&gt;</th><th scope=col>&lt;chr&gt;</th><th scope=col>&lt;chr&gt;</th><th scope=col>&lt;chr&gt;</th></tr>\n",
       "</thead>\n",
       "<tbody>\n",
       "\t<tr><th scope=row>type</th><td>type</td><td>&lt;fct&gt;</td><td>4601</td><td>0</td><td>0.0</td><td>2</td><td>\"nonspam\", \"spam\"</td><td>2788, 1813</td><td>61, 39</td></tr>\n",
       "</tbody>\n",
       "</table>\n",
       "</dd>\n",
       "</dl>\n"
      ],
      "text/latex": [
       "\\begin{description}\n",
       "\\item[\\$Continuous] A data.frame: 57 × 12\n",
       "\\begin{tabular}{r|llllllllllll}\n",
       "  & label & var\\_type & n & missing\\_n & missing\\_percent & mean & sd & min & quartile\\_25 & median & quartile\\_75 & max\\\\\n",
       "  & <chr> & <chr> & <int> & <int> & <chr> & <chr> & <chr> & <chr> & <chr> & <chr> & <chr> & <chr>\\\\\n",
       "\\hline\n",
       "\tmake & make              & <dbl> & 4601 & 0 & 0.0 & 0.1   & 0.3   & 0.0 & 0.0  & 0.0  & 0.0   & 4.5    \\\\\n",
       "\taddress & address           & <dbl> & 4601 & 0 & 0.0 & 0.2   & 1.3   & 0.0 & 0.0  & 0.0  & 0.0   & 14.3   \\\\\n",
       "\tall & all               & <dbl> & 4601 & 0 & 0.0 & 0.3   & 0.5   & 0.0 & 0.0  & 0.0  & 0.4   & 5.1    \\\\\n",
       "\tnum3d & num3d             & <dbl> & 4601 & 0 & 0.0 & 0.1   & 1.4   & 0.0 & 0.0  & 0.0  & 0.0   & 42.8   \\\\\n",
       "\tour & our               & <dbl> & 4601 & 0 & 0.0 & 0.3   & 0.7   & 0.0 & 0.0  & 0.0  & 0.4   & 10.0   \\\\\n",
       "\tover & over              & <dbl> & 4601 & 0 & 0.0 & 0.1   & 0.3   & 0.0 & 0.0  & 0.0  & 0.0   & 5.9    \\\\\n",
       "\tremove & remove            & <dbl> & 4601 & 0 & 0.0 & 0.1   & 0.4   & 0.0 & 0.0  & 0.0  & 0.0   & 7.3    \\\\\n",
       "\tinternet & internet          & <dbl> & 4601 & 0 & 0.0 & 0.1   & 0.4   & 0.0 & 0.0  & 0.0  & 0.0   & 11.1   \\\\\n",
       "\torder & order             & <dbl> & 4601 & 0 & 0.0 & 0.1   & 0.3   & 0.0 & 0.0  & 0.0  & 0.0   & 5.3    \\\\\n",
       "\tmail & mail              & <dbl> & 4601 & 0 & 0.0 & 0.2   & 0.6   & 0.0 & 0.0  & 0.0  & 0.2   & 18.2   \\\\\n",
       "\treceive & receive           & <dbl> & 4601 & 0 & 0.0 & 0.1   & 0.2   & 0.0 & 0.0  & 0.0  & 0.0   & 2.6    \\\\\n",
       "\twill & will              & <dbl> & 4601 & 0 & 0.0 & 0.5   & 0.9   & 0.0 & 0.0  & 0.1  & 0.8   & 9.7    \\\\\n",
       "\tpeople & people            & <dbl> & 4601 & 0 & 0.0 & 0.1   & 0.3   & 0.0 & 0.0  & 0.0  & 0.0   & 5.5    \\\\\n",
       "\treport & report            & <dbl> & 4601 & 0 & 0.0 & 0.1   & 0.3   & 0.0 & 0.0  & 0.0  & 0.0   & 10.0   \\\\\n",
       "\taddresses & addresses         & <dbl> & 4601 & 0 & 0.0 & 0.0   & 0.3   & 0.0 & 0.0  & 0.0  & 0.0   & 4.4    \\\\\n",
       "\tfree & free              & <dbl> & 4601 & 0 & 0.0 & 0.2   & 0.8   & 0.0 & 0.0  & 0.0  & 0.1   & 20.0   \\\\\n",
       "\tbusiness & business          & <dbl> & 4601 & 0 & 0.0 & 0.1   & 0.4   & 0.0 & 0.0  & 0.0  & 0.0   & 7.1    \\\\\n",
       "\temail & email             & <dbl> & 4601 & 0 & 0.0 & 0.2   & 0.5   & 0.0 & 0.0  & 0.0  & 0.0   & 9.1    \\\\\n",
       "\tyou & you               & <dbl> & 4601 & 0 & 0.0 & 1.7   & 1.8   & 0.0 & 0.0  & 1.3  & 2.6   & 18.8   \\\\\n",
       "\tcredit & credit            & <dbl> & 4601 & 0 & 0.0 & 0.1   & 0.5   & 0.0 & 0.0  & 0.0  & 0.0   & 18.2   \\\\\n",
       "\tyour & your              & <dbl> & 4601 & 0 & 0.0 & 0.8   & 1.2   & 0.0 & 0.0  & 0.2  & 1.3   & 11.1   \\\\\n",
       "\tfont & font              & <dbl> & 4601 & 0 & 0.0 & 0.1   & 1.0   & 0.0 & 0.0  & 0.0  & 0.0   & 17.1   \\\\\n",
       "\tnum000 & num000            & <dbl> & 4601 & 0 & 0.0 & 0.1   & 0.4   & 0.0 & 0.0  & 0.0  & 0.0   & 5.4    \\\\\n",
       "\tmoney & money             & <dbl> & 4601 & 0 & 0.0 & 0.1   & 0.4   & 0.0 & 0.0  & 0.0  & 0.0   & 12.5   \\\\\n",
       "\thp & hp                & <dbl> & 4601 & 0 & 0.0 & 0.5   & 1.7   & 0.0 & 0.0  & 0.0  & 0.0   & 20.8   \\\\\n",
       "\thpl & hpl               & <dbl> & 4601 & 0 & 0.0 & 0.3   & 0.9   & 0.0 & 0.0  & 0.0  & 0.0   & 16.7   \\\\\n",
       "\tgeorge & george            & <dbl> & 4601 & 0 & 0.0 & 0.8   & 3.4   & 0.0 & 0.0  & 0.0  & 0.0   & 33.3   \\\\\n",
       "\tnum650 & num650            & <dbl> & 4601 & 0 & 0.0 & 0.1   & 0.5   & 0.0 & 0.0  & 0.0  & 0.0   & 9.1    \\\\\n",
       "\tlab & lab               & <dbl> & 4601 & 0 & 0.0 & 0.1   & 0.6   & 0.0 & 0.0  & 0.0  & 0.0   & 14.3   \\\\\n",
       "\tlabs & labs              & <dbl> & 4601 & 0 & 0.0 & 0.1   & 0.5   & 0.0 & 0.0  & 0.0  & 0.0   & 5.9    \\\\\n",
       "\ttelnet & telnet            & <dbl> & 4601 & 0 & 0.0 & 0.1   & 0.4   & 0.0 & 0.0  & 0.0  & 0.0   & 12.5   \\\\\n",
       "\tnum857 & num857            & <dbl> & 4601 & 0 & 0.0 & 0.0   & 0.3   & 0.0 & 0.0  & 0.0  & 0.0   & 4.8    \\\\\n",
       "\tdata & data              & <dbl> & 4601 & 0 & 0.0 & 0.1   & 0.6   & 0.0 & 0.0  & 0.0  & 0.0   & 18.2   \\\\\n",
       "\tnum415 & num415            & <dbl> & 4601 & 0 & 0.0 & 0.0   & 0.3   & 0.0 & 0.0  & 0.0  & 0.0   & 4.8    \\\\\n",
       "\tnum85 & num85             & <dbl> & 4601 & 0 & 0.0 & 0.1   & 0.5   & 0.0 & 0.0  & 0.0  & 0.0   & 20.0   \\\\\n",
       "\ttechnology & technology        & <dbl> & 4601 & 0 & 0.0 & 0.1   & 0.4   & 0.0 & 0.0  & 0.0  & 0.0   & 7.7    \\\\\n",
       "\tnum1999 & num1999           & <dbl> & 4601 & 0 & 0.0 & 0.1   & 0.4   & 0.0 & 0.0  & 0.0  & 0.0   & 6.9    \\\\\n",
       "\tparts & parts             & <dbl> & 4601 & 0 & 0.0 & 0.0   & 0.2   & 0.0 & 0.0  & 0.0  & 0.0   & 8.3    \\\\\n",
       "\tpm & pm                & <dbl> & 4601 & 0 & 0.0 & 0.1   & 0.4   & 0.0 & 0.0  & 0.0  & 0.0   & 11.1   \\\\\n",
       "\tdirect & direct            & <dbl> & 4601 & 0 & 0.0 & 0.1   & 0.3   & 0.0 & 0.0  & 0.0  & 0.0   & 4.8    \\\\\n",
       "\tcs & cs                & <dbl> & 4601 & 0 & 0.0 & 0.0   & 0.4   & 0.0 & 0.0  & 0.0  & 0.0   & 7.1    \\\\\n",
       "\tmeeting & meeting           & <dbl> & 4601 & 0 & 0.0 & 0.1   & 0.8   & 0.0 & 0.0  & 0.0  & 0.0   & 14.3   \\\\\n",
       "\toriginal & original          & <dbl> & 4601 & 0 & 0.0 & 0.0   & 0.2   & 0.0 & 0.0  & 0.0  & 0.0   & 3.6    \\\\\n",
       "\tproject & project           & <dbl> & 4601 & 0 & 0.0 & 0.1   & 0.6   & 0.0 & 0.0  & 0.0  & 0.0   & 20.0   \\\\\n",
       "\tre & re                & <dbl> & 4601 & 0 & 0.0 & 0.3   & 1.0   & 0.0 & 0.0  & 0.0  & 0.1   & 21.4   \\\\\n",
       "\tedu & edu               & <dbl> & 4601 & 0 & 0.0 & 0.2   & 0.9   & 0.0 & 0.0  & 0.0  & 0.0   & 22.1   \\\\\n",
       "\ttable & table             & <dbl> & 4601 & 0 & 0.0 & 0.0   & 0.1   & 0.0 & 0.0  & 0.0  & 0.0   & 2.2    \\\\\n",
       "\tconference & conference        & <dbl> & 4601 & 0 & 0.0 & 0.0   & 0.3   & 0.0 & 0.0  & 0.0  & 0.0   & 10.0   \\\\\n",
       "\tcharSemicolon & charSemicolon     & <dbl> & 4601 & 0 & 0.0 & 0.0   & 0.2   & 0.0 & 0.0  & 0.0  & 0.0   & 4.4    \\\\\n",
       "\tcharRoundbracket & charRoundbracket  & <dbl> & 4601 & 0 & 0.0 & 0.1   & 0.3   & 0.0 & 0.0  & 0.1  & 0.2   & 9.8    \\\\\n",
       "\tcharSquarebracket & charSquarebracket & <dbl> & 4601 & 0 & 0.0 & 0.0   & 0.1   & 0.0 & 0.0  & 0.0  & 0.0   & 4.1    \\\\\n",
       "\tcharExclamation & charExclamation   & <dbl> & 4601 & 0 & 0.0 & 0.3   & 0.8   & 0.0 & 0.0  & 0.0  & 0.3   & 32.5   \\\\\n",
       "\tcharDollar & charDollar        & <dbl> & 4601 & 0 & 0.0 & 0.1   & 0.2   & 0.0 & 0.0  & 0.0  & 0.1   & 6.0    \\\\\n",
       "\tcharHash & charHash          & <dbl> & 4601 & 0 & 0.0 & 0.0   & 0.4   & 0.0 & 0.0  & 0.0  & 0.0   & 19.8   \\\\\n",
       "\tcapitalAve & capitalAve        & <dbl> & 4601 & 0 & 0.0 & 5.2   & 31.7  & 1.0 & 1.6  & 2.3  & 3.7   & 1102.5 \\\\\n",
       "\tcapitalLong & capitalLong       & <dbl> & 4601 & 0 & 0.0 & 52.2  & 194.9 & 1.0 & 6.0  & 15.0 & 43.0  & 9989.0 \\\\\n",
       "\tcapitalTotal & capitalTotal      & <dbl> & 4601 & 0 & 0.0 & 283.3 & 606.3 & 1.0 & 35.0 & 95.0 & 266.0 & 15841.0\\\\\n",
       "\\end{tabular}\n",
       "\n",
       "\\item[\\$Categorical] A data.frame: 1 × 9\n",
       "\\begin{tabular}{r|lllllllll}\n",
       "  & label & var\\_type & n & missing\\_n & missing\\_percent & levels\\_n & levels & levels\\_count & levels\\_percent\\\\\n",
       "  & <chr> & <chr> & <int> & <int> & <chr> & <int> & <chr> & <chr> & <chr>\\\\\n",
       "\\hline\n",
       "\ttype & type & <fct> & 4601 & 0 & 0.0 & 2 & \"nonspam\", \"spam\" & 2788, 1813 & 61, 39\\\\\n",
       "\\end{tabular}\n",
       "\n",
       "\\end{description}\n"
      ],
      "text/markdown": [
       "$Continuous\n",
       ":   \n",
       "A data.frame: 57 × 12\n",
       "\n",
       "| <!--/--> | label &lt;chr&gt; | var_type &lt;chr&gt; | n &lt;int&gt; | missing_n &lt;int&gt; | missing_percent &lt;chr&gt; | mean &lt;chr&gt; | sd &lt;chr&gt; | min &lt;chr&gt; | quartile_25 &lt;chr&gt; | median &lt;chr&gt; | quartile_75 &lt;chr&gt; | max &lt;chr&gt; |\n",
       "|---|---|---|---|---|---|---|---|---|---|---|---|---|\n",
       "| make | make              | &lt;dbl&gt; | 4601 | 0 | 0.0 | 0.1   | 0.3   | 0.0 | 0.0  | 0.0  | 0.0   | 4.5     |\n",
       "| address | address           | &lt;dbl&gt; | 4601 | 0 | 0.0 | 0.2   | 1.3   | 0.0 | 0.0  | 0.0  | 0.0   | 14.3    |\n",
       "| all | all               | &lt;dbl&gt; | 4601 | 0 | 0.0 | 0.3   | 0.5   | 0.0 | 0.0  | 0.0  | 0.4   | 5.1     |\n",
       "| num3d | num3d             | &lt;dbl&gt; | 4601 | 0 | 0.0 | 0.1   | 1.4   | 0.0 | 0.0  | 0.0  | 0.0   | 42.8    |\n",
       "| our | our               | &lt;dbl&gt; | 4601 | 0 | 0.0 | 0.3   | 0.7   | 0.0 | 0.0  | 0.0  | 0.4   | 10.0    |\n",
       "| over | over              | &lt;dbl&gt; | 4601 | 0 | 0.0 | 0.1   | 0.3   | 0.0 | 0.0  | 0.0  | 0.0   | 5.9     |\n",
       "| remove | remove            | &lt;dbl&gt; | 4601 | 0 | 0.0 | 0.1   | 0.4   | 0.0 | 0.0  | 0.0  | 0.0   | 7.3     |\n",
       "| internet | internet          | &lt;dbl&gt; | 4601 | 0 | 0.0 | 0.1   | 0.4   | 0.0 | 0.0  | 0.0  | 0.0   | 11.1    |\n",
       "| order | order             | &lt;dbl&gt; | 4601 | 0 | 0.0 | 0.1   | 0.3   | 0.0 | 0.0  | 0.0  | 0.0   | 5.3     |\n",
       "| mail | mail              | &lt;dbl&gt; | 4601 | 0 | 0.0 | 0.2   | 0.6   | 0.0 | 0.0  | 0.0  | 0.2   | 18.2    |\n",
       "| receive | receive           | &lt;dbl&gt; | 4601 | 0 | 0.0 | 0.1   | 0.2   | 0.0 | 0.0  | 0.0  | 0.0   | 2.6     |\n",
       "| will | will              | &lt;dbl&gt; | 4601 | 0 | 0.0 | 0.5   | 0.9   | 0.0 | 0.0  | 0.1  | 0.8   | 9.7     |\n",
       "| people | people            | &lt;dbl&gt; | 4601 | 0 | 0.0 | 0.1   | 0.3   | 0.0 | 0.0  | 0.0  | 0.0   | 5.5     |\n",
       "| report | report            | &lt;dbl&gt; | 4601 | 0 | 0.0 | 0.1   | 0.3   | 0.0 | 0.0  | 0.0  | 0.0   | 10.0    |\n",
       "| addresses | addresses         | &lt;dbl&gt; | 4601 | 0 | 0.0 | 0.0   | 0.3   | 0.0 | 0.0  | 0.0  | 0.0   | 4.4     |\n",
       "| free | free              | &lt;dbl&gt; | 4601 | 0 | 0.0 | 0.2   | 0.8   | 0.0 | 0.0  | 0.0  | 0.1   | 20.0    |\n",
       "| business | business          | &lt;dbl&gt; | 4601 | 0 | 0.0 | 0.1   | 0.4   | 0.0 | 0.0  | 0.0  | 0.0   | 7.1     |\n",
       "| email | email             | &lt;dbl&gt; | 4601 | 0 | 0.0 | 0.2   | 0.5   | 0.0 | 0.0  | 0.0  | 0.0   | 9.1     |\n",
       "| you | you               | &lt;dbl&gt; | 4601 | 0 | 0.0 | 1.7   | 1.8   | 0.0 | 0.0  | 1.3  | 2.6   | 18.8    |\n",
       "| credit | credit            | &lt;dbl&gt; | 4601 | 0 | 0.0 | 0.1   | 0.5   | 0.0 | 0.0  | 0.0  | 0.0   | 18.2    |\n",
       "| your | your              | &lt;dbl&gt; | 4601 | 0 | 0.0 | 0.8   | 1.2   | 0.0 | 0.0  | 0.2  | 1.3   | 11.1    |\n",
       "| font | font              | &lt;dbl&gt; | 4601 | 0 | 0.0 | 0.1   | 1.0   | 0.0 | 0.0  | 0.0  | 0.0   | 17.1    |\n",
       "| num000 | num000            | &lt;dbl&gt; | 4601 | 0 | 0.0 | 0.1   | 0.4   | 0.0 | 0.0  | 0.0  | 0.0   | 5.4     |\n",
       "| money | money             | &lt;dbl&gt; | 4601 | 0 | 0.0 | 0.1   | 0.4   | 0.0 | 0.0  | 0.0  | 0.0   | 12.5    |\n",
       "| hp | hp                | &lt;dbl&gt; | 4601 | 0 | 0.0 | 0.5   | 1.7   | 0.0 | 0.0  | 0.0  | 0.0   | 20.8    |\n",
       "| hpl | hpl               | &lt;dbl&gt; | 4601 | 0 | 0.0 | 0.3   | 0.9   | 0.0 | 0.0  | 0.0  | 0.0   | 16.7    |\n",
       "| george | george            | &lt;dbl&gt; | 4601 | 0 | 0.0 | 0.8   | 3.4   | 0.0 | 0.0  | 0.0  | 0.0   | 33.3    |\n",
       "| num650 | num650            | &lt;dbl&gt; | 4601 | 0 | 0.0 | 0.1   | 0.5   | 0.0 | 0.0  | 0.0  | 0.0   | 9.1     |\n",
       "| lab | lab               | &lt;dbl&gt; | 4601 | 0 | 0.0 | 0.1   | 0.6   | 0.0 | 0.0  | 0.0  | 0.0   | 14.3    |\n",
       "| labs | labs              | &lt;dbl&gt; | 4601 | 0 | 0.0 | 0.1   | 0.5   | 0.0 | 0.0  | 0.0  | 0.0   | 5.9     |\n",
       "| telnet | telnet            | &lt;dbl&gt; | 4601 | 0 | 0.0 | 0.1   | 0.4   | 0.0 | 0.0  | 0.0  | 0.0   | 12.5    |\n",
       "| num857 | num857            | &lt;dbl&gt; | 4601 | 0 | 0.0 | 0.0   | 0.3   | 0.0 | 0.0  | 0.0  | 0.0   | 4.8     |\n",
       "| data | data              | &lt;dbl&gt; | 4601 | 0 | 0.0 | 0.1   | 0.6   | 0.0 | 0.0  | 0.0  | 0.0   | 18.2    |\n",
       "| num415 | num415            | &lt;dbl&gt; | 4601 | 0 | 0.0 | 0.0   | 0.3   | 0.0 | 0.0  | 0.0  | 0.0   | 4.8     |\n",
       "| num85 | num85             | &lt;dbl&gt; | 4601 | 0 | 0.0 | 0.1   | 0.5   | 0.0 | 0.0  | 0.0  | 0.0   | 20.0    |\n",
       "| technology | technology        | &lt;dbl&gt; | 4601 | 0 | 0.0 | 0.1   | 0.4   | 0.0 | 0.0  | 0.0  | 0.0   | 7.7     |\n",
       "| num1999 | num1999           | &lt;dbl&gt; | 4601 | 0 | 0.0 | 0.1   | 0.4   | 0.0 | 0.0  | 0.0  | 0.0   | 6.9     |\n",
       "| parts | parts             | &lt;dbl&gt; | 4601 | 0 | 0.0 | 0.0   | 0.2   | 0.0 | 0.0  | 0.0  | 0.0   | 8.3     |\n",
       "| pm | pm                | &lt;dbl&gt; | 4601 | 0 | 0.0 | 0.1   | 0.4   | 0.0 | 0.0  | 0.0  | 0.0   | 11.1    |\n",
       "| direct | direct            | &lt;dbl&gt; | 4601 | 0 | 0.0 | 0.1   | 0.3   | 0.0 | 0.0  | 0.0  | 0.0   | 4.8     |\n",
       "| cs | cs                | &lt;dbl&gt; | 4601 | 0 | 0.0 | 0.0   | 0.4   | 0.0 | 0.0  | 0.0  | 0.0   | 7.1     |\n",
       "| meeting | meeting           | &lt;dbl&gt; | 4601 | 0 | 0.0 | 0.1   | 0.8   | 0.0 | 0.0  | 0.0  | 0.0   | 14.3    |\n",
       "| original | original          | &lt;dbl&gt; | 4601 | 0 | 0.0 | 0.0   | 0.2   | 0.0 | 0.0  | 0.0  | 0.0   | 3.6     |\n",
       "| project | project           | &lt;dbl&gt; | 4601 | 0 | 0.0 | 0.1   | 0.6   | 0.0 | 0.0  | 0.0  | 0.0   | 20.0    |\n",
       "| re | re                | &lt;dbl&gt; | 4601 | 0 | 0.0 | 0.3   | 1.0   | 0.0 | 0.0  | 0.0  | 0.1   | 21.4    |\n",
       "| edu | edu               | &lt;dbl&gt; | 4601 | 0 | 0.0 | 0.2   | 0.9   | 0.0 | 0.0  | 0.0  | 0.0   | 22.1    |\n",
       "| table | table             | &lt;dbl&gt; | 4601 | 0 | 0.0 | 0.0   | 0.1   | 0.0 | 0.0  | 0.0  | 0.0   | 2.2     |\n",
       "| conference | conference        | &lt;dbl&gt; | 4601 | 0 | 0.0 | 0.0   | 0.3   | 0.0 | 0.0  | 0.0  | 0.0   | 10.0    |\n",
       "| charSemicolon | charSemicolon     | &lt;dbl&gt; | 4601 | 0 | 0.0 | 0.0   | 0.2   | 0.0 | 0.0  | 0.0  | 0.0   | 4.4     |\n",
       "| charRoundbracket | charRoundbracket  | &lt;dbl&gt; | 4601 | 0 | 0.0 | 0.1   | 0.3   | 0.0 | 0.0  | 0.1  | 0.2   | 9.8     |\n",
       "| charSquarebracket | charSquarebracket | &lt;dbl&gt; | 4601 | 0 | 0.0 | 0.0   | 0.1   | 0.0 | 0.0  | 0.0  | 0.0   | 4.1     |\n",
       "| charExclamation | charExclamation   | &lt;dbl&gt; | 4601 | 0 | 0.0 | 0.3   | 0.8   | 0.0 | 0.0  | 0.0  | 0.3   | 32.5    |\n",
       "| charDollar | charDollar        | &lt;dbl&gt; | 4601 | 0 | 0.0 | 0.1   | 0.2   | 0.0 | 0.0  | 0.0  | 0.1   | 6.0     |\n",
       "| charHash | charHash          | &lt;dbl&gt; | 4601 | 0 | 0.0 | 0.0   | 0.4   | 0.0 | 0.0  | 0.0  | 0.0   | 19.8    |\n",
       "| capitalAve | capitalAve        | &lt;dbl&gt; | 4601 | 0 | 0.0 | 5.2   | 31.7  | 1.0 | 1.6  | 2.3  | 3.7   | 1102.5  |\n",
       "| capitalLong | capitalLong       | &lt;dbl&gt; | 4601 | 0 | 0.0 | 52.2  | 194.9 | 1.0 | 6.0  | 15.0 | 43.0  | 9989.0  |\n",
       "| capitalTotal | capitalTotal      | &lt;dbl&gt; | 4601 | 0 | 0.0 | 283.3 | 606.3 | 1.0 | 35.0 | 95.0 | 266.0 | 15841.0 |\n",
       "\n",
       "\n",
       "$Categorical\n",
       ":   \n",
       "A data.frame: 1 × 9\n",
       "\n",
       "| <!--/--> | label &lt;chr&gt; | var_type &lt;chr&gt; | n &lt;int&gt; | missing_n &lt;int&gt; | missing_percent &lt;chr&gt; | levels_n &lt;int&gt; | levels &lt;chr&gt; | levels_count &lt;chr&gt; | levels_percent &lt;chr&gt; |\n",
       "|---|---|---|---|---|---|---|---|---|---|\n",
       "| type | type | &lt;fct&gt; | 4601 | 0 | 0.0 | 2 | \"nonspam\", \"spam\" | 2788, 1813 | 61, 39 |\n",
       "\n",
       "\n",
       "\n",
       "\n"
      ],
      "text/plain": [
       "$Continuous\n",
       "                              label var_type    n missing_n missing_percent\n",
       "make                           make    <dbl> 4601         0             0.0\n",
       "address                     address    <dbl> 4601         0             0.0\n",
       "all                             all    <dbl> 4601         0             0.0\n",
       "num3d                         num3d    <dbl> 4601         0             0.0\n",
       "our                             our    <dbl> 4601         0             0.0\n",
       "over                           over    <dbl> 4601         0             0.0\n",
       "remove                       remove    <dbl> 4601         0             0.0\n",
       "internet                   internet    <dbl> 4601         0             0.0\n",
       "order                         order    <dbl> 4601         0             0.0\n",
       "mail                           mail    <dbl> 4601         0             0.0\n",
       "receive                     receive    <dbl> 4601         0             0.0\n",
       "will                           will    <dbl> 4601         0             0.0\n",
       "people                       people    <dbl> 4601         0             0.0\n",
       "report                       report    <dbl> 4601         0             0.0\n",
       "addresses                 addresses    <dbl> 4601         0             0.0\n",
       "free                           free    <dbl> 4601         0             0.0\n",
       "business                   business    <dbl> 4601         0             0.0\n",
       "email                         email    <dbl> 4601         0             0.0\n",
       "you                             you    <dbl> 4601         0             0.0\n",
       "credit                       credit    <dbl> 4601         0             0.0\n",
       "your                           your    <dbl> 4601         0             0.0\n",
       "font                           font    <dbl> 4601         0             0.0\n",
       "num000                       num000    <dbl> 4601         0             0.0\n",
       "money                         money    <dbl> 4601         0             0.0\n",
       "hp                               hp    <dbl> 4601         0             0.0\n",
       "hpl                             hpl    <dbl> 4601         0             0.0\n",
       "george                       george    <dbl> 4601         0             0.0\n",
       "num650                       num650    <dbl> 4601         0             0.0\n",
       "lab                             lab    <dbl> 4601         0             0.0\n",
       "labs                           labs    <dbl> 4601         0             0.0\n",
       "telnet                       telnet    <dbl> 4601         0             0.0\n",
       "num857                       num857    <dbl> 4601         0             0.0\n",
       "data                           data    <dbl> 4601         0             0.0\n",
       "num415                       num415    <dbl> 4601         0             0.0\n",
       "num85                         num85    <dbl> 4601         0             0.0\n",
       "technology               technology    <dbl> 4601         0             0.0\n",
       "num1999                     num1999    <dbl> 4601         0             0.0\n",
       "parts                         parts    <dbl> 4601         0             0.0\n",
       "pm                               pm    <dbl> 4601         0             0.0\n",
       "direct                       direct    <dbl> 4601         0             0.0\n",
       "cs                               cs    <dbl> 4601         0             0.0\n",
       "meeting                     meeting    <dbl> 4601         0             0.0\n",
       "original                   original    <dbl> 4601         0             0.0\n",
       "project                     project    <dbl> 4601         0             0.0\n",
       "re                               re    <dbl> 4601         0             0.0\n",
       "edu                             edu    <dbl> 4601         0             0.0\n",
       "table                         table    <dbl> 4601         0             0.0\n",
       "conference               conference    <dbl> 4601         0             0.0\n",
       "charSemicolon         charSemicolon    <dbl> 4601         0             0.0\n",
       "charRoundbracket   charRoundbracket    <dbl> 4601         0             0.0\n",
       "charSquarebracket charSquarebracket    <dbl> 4601         0             0.0\n",
       "charExclamation     charExclamation    <dbl> 4601         0             0.0\n",
       "charDollar               charDollar    <dbl> 4601         0             0.0\n",
       "charHash                   charHash    <dbl> 4601         0             0.0\n",
       "capitalAve               capitalAve    <dbl> 4601         0             0.0\n",
       "capitalLong             capitalLong    <dbl> 4601         0             0.0\n",
       "capitalTotal           capitalTotal    <dbl> 4601         0             0.0\n",
       "                   mean    sd min quartile_25 median quartile_75     max\n",
       "make                0.1   0.3 0.0         0.0    0.0         0.0     4.5\n",
       "address             0.2   1.3 0.0         0.0    0.0         0.0    14.3\n",
       "all                 0.3   0.5 0.0         0.0    0.0         0.4     5.1\n",
       "num3d               0.1   1.4 0.0         0.0    0.0         0.0    42.8\n",
       "our                 0.3   0.7 0.0         0.0    0.0         0.4    10.0\n",
       "over                0.1   0.3 0.0         0.0    0.0         0.0     5.9\n",
       "remove              0.1   0.4 0.0         0.0    0.0         0.0     7.3\n",
       "internet            0.1   0.4 0.0         0.0    0.0         0.0    11.1\n",
       "order               0.1   0.3 0.0         0.0    0.0         0.0     5.3\n",
       "mail                0.2   0.6 0.0         0.0    0.0         0.2    18.2\n",
       "receive             0.1   0.2 0.0         0.0    0.0         0.0     2.6\n",
       "will                0.5   0.9 0.0         0.0    0.1         0.8     9.7\n",
       "people              0.1   0.3 0.0         0.0    0.0         0.0     5.5\n",
       "report              0.1   0.3 0.0         0.0    0.0         0.0    10.0\n",
       "addresses           0.0   0.3 0.0         0.0    0.0         0.0     4.4\n",
       "free                0.2   0.8 0.0         0.0    0.0         0.1    20.0\n",
       "business            0.1   0.4 0.0         0.0    0.0         0.0     7.1\n",
       "email               0.2   0.5 0.0         0.0    0.0         0.0     9.1\n",
       "you                 1.7   1.8 0.0         0.0    1.3         2.6    18.8\n",
       "credit              0.1   0.5 0.0         0.0    0.0         0.0    18.2\n",
       "your                0.8   1.2 0.0         0.0    0.2         1.3    11.1\n",
       "font                0.1   1.0 0.0         0.0    0.0         0.0    17.1\n",
       "num000              0.1   0.4 0.0         0.0    0.0         0.0     5.4\n",
       "money               0.1   0.4 0.0         0.0    0.0         0.0    12.5\n",
       "hp                  0.5   1.7 0.0         0.0    0.0         0.0    20.8\n",
       "hpl                 0.3   0.9 0.0         0.0    0.0         0.0    16.7\n",
       "george              0.8   3.4 0.0         0.0    0.0         0.0    33.3\n",
       "num650              0.1   0.5 0.0         0.0    0.0         0.0     9.1\n",
       "lab                 0.1   0.6 0.0         0.0    0.0         0.0    14.3\n",
       "labs                0.1   0.5 0.0         0.0    0.0         0.0     5.9\n",
       "telnet              0.1   0.4 0.0         0.0    0.0         0.0    12.5\n",
       "num857              0.0   0.3 0.0         0.0    0.0         0.0     4.8\n",
       "data                0.1   0.6 0.0         0.0    0.0         0.0    18.2\n",
       "num415              0.0   0.3 0.0         0.0    0.0         0.0     4.8\n",
       "num85               0.1   0.5 0.0         0.0    0.0         0.0    20.0\n",
       "technology          0.1   0.4 0.0         0.0    0.0         0.0     7.7\n",
       "num1999             0.1   0.4 0.0         0.0    0.0         0.0     6.9\n",
       "parts               0.0   0.2 0.0         0.0    0.0         0.0     8.3\n",
       "pm                  0.1   0.4 0.0         0.0    0.0         0.0    11.1\n",
       "direct              0.1   0.3 0.0         0.0    0.0         0.0     4.8\n",
       "cs                  0.0   0.4 0.0         0.0    0.0         0.0     7.1\n",
       "meeting             0.1   0.8 0.0         0.0    0.0         0.0    14.3\n",
       "original            0.0   0.2 0.0         0.0    0.0         0.0     3.6\n",
       "project             0.1   0.6 0.0         0.0    0.0         0.0    20.0\n",
       "re                  0.3   1.0 0.0         0.0    0.0         0.1    21.4\n",
       "edu                 0.2   0.9 0.0         0.0    0.0         0.0    22.1\n",
       "table               0.0   0.1 0.0         0.0    0.0         0.0     2.2\n",
       "conference          0.0   0.3 0.0         0.0    0.0         0.0    10.0\n",
       "charSemicolon       0.0   0.2 0.0         0.0    0.0         0.0     4.4\n",
       "charRoundbracket    0.1   0.3 0.0         0.0    0.1         0.2     9.8\n",
       "charSquarebracket   0.0   0.1 0.0         0.0    0.0         0.0     4.1\n",
       "charExclamation     0.3   0.8 0.0         0.0    0.0         0.3    32.5\n",
       "charDollar          0.1   0.2 0.0         0.0    0.0         0.1     6.0\n",
       "charHash            0.0   0.4 0.0         0.0    0.0         0.0    19.8\n",
       "capitalAve          5.2  31.7 1.0         1.6    2.3         3.7  1102.5\n",
       "capitalLong        52.2 194.9 1.0         6.0   15.0        43.0  9989.0\n",
       "capitalTotal      283.3 606.3 1.0        35.0   95.0       266.0 15841.0\n",
       "\n",
       "$Categorical\n",
       "     label var_type    n missing_n missing_percent levels_n            levels\n",
       "type  type    <fct> 4601         0             0.0        2 \"nonspam\", \"spam\"\n",
       "     levels_count levels_percent\n",
       "type   2788, 1813         61, 39\n"
      ]
     },
     "metadata": {},
     "output_type": "display_data"
    }
   ],
   "source": [
    "ff_glimpse(spam)"
   ]
  },
  {
   "cell_type": "code",
   "execution_count": 6,
   "metadata": {
    "vscode": {
     "languageId": "r"
    }
   },
   "outputs": [
    {
     "data": {
      "text/html": [
       "<table class=\"dataframe\">\n",
       "<caption>A data.frame: 58 × 2</caption>\n",
       "<thead>\n",
       "\t<tr><th scope=col>ColumnName</th><th scope=col>ColumnIndex</th></tr>\n",
       "\t<tr><th scope=col>&lt;chr&gt;</th><th scope=col>&lt;int&gt;</th></tr>\n",
       "</thead>\n",
       "<tbody>\n",
       "\t<tr><td>make             </td><td> 1</td></tr>\n",
       "\t<tr><td>address          </td><td> 2</td></tr>\n",
       "\t<tr><td>all              </td><td> 3</td></tr>\n",
       "\t<tr><td>num3d            </td><td> 4</td></tr>\n",
       "\t<tr><td>our              </td><td> 5</td></tr>\n",
       "\t<tr><td>over             </td><td> 6</td></tr>\n",
       "\t<tr><td>remove           </td><td> 7</td></tr>\n",
       "\t<tr><td>internet         </td><td> 8</td></tr>\n",
       "\t<tr><td>order            </td><td> 9</td></tr>\n",
       "\t<tr><td>mail             </td><td>10</td></tr>\n",
       "\t<tr><td>receive          </td><td>11</td></tr>\n",
       "\t<tr><td>will             </td><td>12</td></tr>\n",
       "\t<tr><td>people           </td><td>13</td></tr>\n",
       "\t<tr><td>report           </td><td>14</td></tr>\n",
       "\t<tr><td>addresses        </td><td>15</td></tr>\n",
       "\t<tr><td>free             </td><td>16</td></tr>\n",
       "\t<tr><td>business         </td><td>17</td></tr>\n",
       "\t<tr><td>email            </td><td>18</td></tr>\n",
       "\t<tr><td>you              </td><td>19</td></tr>\n",
       "\t<tr><td>credit           </td><td>20</td></tr>\n",
       "\t<tr><td>your             </td><td>21</td></tr>\n",
       "\t<tr><td>font             </td><td>22</td></tr>\n",
       "\t<tr><td>num000           </td><td>23</td></tr>\n",
       "\t<tr><td>money            </td><td>24</td></tr>\n",
       "\t<tr><td>hp               </td><td>25</td></tr>\n",
       "\t<tr><td>hpl              </td><td>26</td></tr>\n",
       "\t<tr><td>george           </td><td>27</td></tr>\n",
       "\t<tr><td>num650           </td><td>28</td></tr>\n",
       "\t<tr><td>lab              </td><td>29</td></tr>\n",
       "\t<tr><td>labs             </td><td>30</td></tr>\n",
       "\t<tr><td>telnet           </td><td>31</td></tr>\n",
       "\t<tr><td>num857           </td><td>32</td></tr>\n",
       "\t<tr><td>data             </td><td>33</td></tr>\n",
       "\t<tr><td>num415           </td><td>34</td></tr>\n",
       "\t<tr><td>num85            </td><td>35</td></tr>\n",
       "\t<tr><td>technology       </td><td>36</td></tr>\n",
       "\t<tr><td>num1999          </td><td>37</td></tr>\n",
       "\t<tr><td>parts            </td><td>38</td></tr>\n",
       "\t<tr><td>pm               </td><td>39</td></tr>\n",
       "\t<tr><td>direct           </td><td>40</td></tr>\n",
       "\t<tr><td>cs               </td><td>41</td></tr>\n",
       "\t<tr><td>meeting          </td><td>42</td></tr>\n",
       "\t<tr><td>original         </td><td>43</td></tr>\n",
       "\t<tr><td>project          </td><td>44</td></tr>\n",
       "\t<tr><td>re               </td><td>45</td></tr>\n",
       "\t<tr><td>edu              </td><td>46</td></tr>\n",
       "\t<tr><td>table            </td><td>47</td></tr>\n",
       "\t<tr><td>conference       </td><td>48</td></tr>\n",
       "\t<tr><td>charSemicolon    </td><td>49</td></tr>\n",
       "\t<tr><td>charRoundbracket </td><td>50</td></tr>\n",
       "\t<tr><td>charSquarebracket</td><td>51</td></tr>\n",
       "\t<tr><td>charExclamation  </td><td>52</td></tr>\n",
       "\t<tr><td>charDollar       </td><td>53</td></tr>\n",
       "\t<tr><td>charHash         </td><td>54</td></tr>\n",
       "\t<tr><td>capitalAve       </td><td>55</td></tr>\n",
       "\t<tr><td>capitalLong      </td><td>56</td></tr>\n",
       "\t<tr><td>capitalTotal     </td><td>57</td></tr>\n",
       "\t<tr><td>type             </td><td>58</td></tr>\n",
       "</tbody>\n",
       "</table>\n"
      ],
      "text/latex": [
       "A data.frame: 58 × 2\n",
       "\\begin{tabular}{ll}\n",
       " ColumnName & ColumnIndex\\\\\n",
       " <chr> & <int>\\\\\n",
       "\\hline\n",
       "\t make              &  1\\\\\n",
       "\t address           &  2\\\\\n",
       "\t all               &  3\\\\\n",
       "\t num3d             &  4\\\\\n",
       "\t our               &  5\\\\\n",
       "\t over              &  6\\\\\n",
       "\t remove            &  7\\\\\n",
       "\t internet          &  8\\\\\n",
       "\t order             &  9\\\\\n",
       "\t mail              & 10\\\\\n",
       "\t receive           & 11\\\\\n",
       "\t will              & 12\\\\\n",
       "\t people            & 13\\\\\n",
       "\t report            & 14\\\\\n",
       "\t addresses         & 15\\\\\n",
       "\t free              & 16\\\\\n",
       "\t business          & 17\\\\\n",
       "\t email             & 18\\\\\n",
       "\t you               & 19\\\\\n",
       "\t credit            & 20\\\\\n",
       "\t your              & 21\\\\\n",
       "\t font              & 22\\\\\n",
       "\t num000            & 23\\\\\n",
       "\t money             & 24\\\\\n",
       "\t hp                & 25\\\\\n",
       "\t hpl               & 26\\\\\n",
       "\t george            & 27\\\\\n",
       "\t num650            & 28\\\\\n",
       "\t lab               & 29\\\\\n",
       "\t labs              & 30\\\\\n",
       "\t telnet            & 31\\\\\n",
       "\t num857            & 32\\\\\n",
       "\t data              & 33\\\\\n",
       "\t num415            & 34\\\\\n",
       "\t num85             & 35\\\\\n",
       "\t technology        & 36\\\\\n",
       "\t num1999           & 37\\\\\n",
       "\t parts             & 38\\\\\n",
       "\t pm                & 39\\\\\n",
       "\t direct            & 40\\\\\n",
       "\t cs                & 41\\\\\n",
       "\t meeting           & 42\\\\\n",
       "\t original          & 43\\\\\n",
       "\t project           & 44\\\\\n",
       "\t re                & 45\\\\\n",
       "\t edu               & 46\\\\\n",
       "\t table             & 47\\\\\n",
       "\t conference        & 48\\\\\n",
       "\t charSemicolon     & 49\\\\\n",
       "\t charRoundbracket  & 50\\\\\n",
       "\t charSquarebracket & 51\\\\\n",
       "\t charExclamation   & 52\\\\\n",
       "\t charDollar        & 53\\\\\n",
       "\t charHash          & 54\\\\\n",
       "\t capitalAve        & 55\\\\\n",
       "\t capitalLong       & 56\\\\\n",
       "\t capitalTotal      & 57\\\\\n",
       "\t type              & 58\\\\\n",
       "\\end{tabular}\n"
      ],
      "text/markdown": [
       "\n",
       "A data.frame: 58 × 2\n",
       "\n",
       "| ColumnName &lt;chr&gt; | ColumnIndex &lt;int&gt; |\n",
       "|---|---|\n",
       "| make              |  1 |\n",
       "| address           |  2 |\n",
       "| all               |  3 |\n",
       "| num3d             |  4 |\n",
       "| our               |  5 |\n",
       "| over              |  6 |\n",
       "| remove            |  7 |\n",
       "| internet          |  8 |\n",
       "| order             |  9 |\n",
       "| mail              | 10 |\n",
       "| receive           | 11 |\n",
       "| will              | 12 |\n",
       "| people            | 13 |\n",
       "| report            | 14 |\n",
       "| addresses         | 15 |\n",
       "| free              | 16 |\n",
       "| business          | 17 |\n",
       "| email             | 18 |\n",
       "| you               | 19 |\n",
       "| credit            | 20 |\n",
       "| your              | 21 |\n",
       "| font              | 22 |\n",
       "| num000            | 23 |\n",
       "| money             | 24 |\n",
       "| hp                | 25 |\n",
       "| hpl               | 26 |\n",
       "| george            | 27 |\n",
       "| num650            | 28 |\n",
       "| lab               | 29 |\n",
       "| labs              | 30 |\n",
       "| telnet            | 31 |\n",
       "| num857            | 32 |\n",
       "| data              | 33 |\n",
       "| num415            | 34 |\n",
       "| num85             | 35 |\n",
       "| technology        | 36 |\n",
       "| num1999           | 37 |\n",
       "| parts             | 38 |\n",
       "| pm                | 39 |\n",
       "| direct            | 40 |\n",
       "| cs                | 41 |\n",
       "| meeting           | 42 |\n",
       "| original          | 43 |\n",
       "| project           | 44 |\n",
       "| re                | 45 |\n",
       "| edu               | 46 |\n",
       "| table             | 47 |\n",
       "| conference        | 48 |\n",
       "| charSemicolon     | 49 |\n",
       "| charRoundbracket  | 50 |\n",
       "| charSquarebracket | 51 |\n",
       "| charExclamation   | 52 |\n",
       "| charDollar        | 53 |\n",
       "| charHash          | 54 |\n",
       "| capitalAve        | 55 |\n",
       "| capitalLong       | 56 |\n",
       "| capitalTotal      | 57 |\n",
       "| type              | 58 |\n",
       "\n"
      ],
      "text/plain": [
       "   ColumnName        ColumnIndex\n",
       "1  make               1         \n",
       "2  address            2         \n",
       "3  all                3         \n",
       "4  num3d              4         \n",
       "5  our                5         \n",
       "6  over               6         \n",
       "7  remove             7         \n",
       "8  internet           8         \n",
       "9  order              9         \n",
       "10 mail              10         \n",
       "11 receive           11         \n",
       "12 will              12         \n",
       "13 people            13         \n",
       "14 report            14         \n",
       "15 addresses         15         \n",
       "16 free              16         \n",
       "17 business          17         \n",
       "18 email             18         \n",
       "19 you               19         \n",
       "20 credit            20         \n",
       "21 your              21         \n",
       "22 font              22         \n",
       "23 num000            23         \n",
       "24 money             24         \n",
       "25 hp                25         \n",
       "26 hpl               26         \n",
       "27 george            27         \n",
       "28 num650            28         \n",
       "29 lab               29         \n",
       "30 labs              30         \n",
       "31 telnet            31         \n",
       "32 num857            32         \n",
       "33 data              33         \n",
       "34 num415            34         \n",
       "35 num85             35         \n",
       "36 technology        36         \n",
       "37 num1999           37         \n",
       "38 parts             38         \n",
       "39 pm                39         \n",
       "40 direct            40         \n",
       "41 cs                41         \n",
       "42 meeting           42         \n",
       "43 original          43         \n",
       "44 project           44         \n",
       "45 re                45         \n",
       "46 edu               46         \n",
       "47 table             47         \n",
       "48 conference        48         \n",
       "49 charSemicolon     49         \n",
       "50 charRoundbracket  50         \n",
       "51 charSquarebracket 51         \n",
       "52 charExclamation   52         \n",
       "53 charDollar        53         \n",
       "54 charHash          54         \n",
       "55 capitalAve        55         \n",
       "56 capitalLong       56         \n",
       "57 capitalTotal      57         \n",
       "58 type              58         "
      ]
     },
     "metadata": {},
     "output_type": "display_data"
    }
   ],
   "source": [
    "column_names <- names(spam)\n",
    "column_indices <- 1:length(column_names)\n",
    "column_info <- data.frame(ColumnName = column_names, ColumnIndex = column_indices)\n",
    "column_info"
   ]
  },
  {
   "cell_type": "markdown",
   "id": "c17a2bb9",
   "metadata": {},
   "source": [
    "##### Target class distribution"
   ]
  },
  {
   "cell_type": "code",
   "execution_count": 7,
   "id": "3ff05031",
   "metadata": {
    "vscode": {
     "languageId": "r"
    }
   },
   "outputs": [
    {
     "data": {
      "image/png": "[encoded data removed]",
      "text/plain": [
       "plot without title"
      ]
     },
     "metadata": {
      "image/png": {
       "height": 540,
       "width": 840
      }
     },
     "output_type": "display_data"
    }
   ],
   "source": [
    "options(repr.plot.width = 14, repr.plot.height = 9)\n",
    "ggplot(spam, aes(x=type)) +\n",
    "    geom_bar(fill='seagreen4') +\n",
    "    ggtitle('Variable type group count') +\n",
    "    theme(\n",
    "        plot.title = element_text(size = 30),\n",
    "        axis.title = element_text(size = 22),         \n",
    "        axis.text.x = element_text(size = 18),        \n",
    "        axis.text.y = element_text(size = 18)\n",
    "        )"
   ]
  },
  {
   "cell_type": "markdown",
   "id": "2aabc7f8",
   "metadata": {},
   "source": [
    "Not very distinct imbalance, no need for oversampling/undersampling."
   ]
  },
  {
   "cell_type": "markdown",
   "metadata": {},
   "source": [
    "## Scaling the data"
   ]
  },
  {
   "cell_type": "code",
   "execution_count": 78,
   "metadata": {
    "vscode": {
     "languageId": "r"
    }
   },
   "outputs": [],
   "source": [
    "numeric_columns <- sapply(spam, is.numeric)\n",
    "spam_numeric <- spam[, numeric_columns]\n",
    "scaled_data <- as.data.frame(scale(spam_numeric))\n",
    "spam_scaled <- cbind(scaled_data, spam[, !numeric_columns, drop = FALSE])"
   ]
  },
  {
   "cell_type": "code",
   "execution_count": 79,
   "metadata": {
    "vscode": {
     "languageId": "r"
    }
   },
   "outputs": [
    {
     "data": {
      "text/html": [
       "<dl>\n",
       "\t<dt>$Continuous</dt>\n",
       "\t\t<dd><table class=\"dataframe\">\n",
       "<caption>A data.frame: 57 × 12</caption>\n",
       "<thead>\n",
       "\t<tr><th></th><th scope=col>label</th><th scope=col>var_type</th><th scope=col>n</th><th scope=col>missing_n</th><th scope=col>missing_percent</th><th scope=col>mean</th><th scope=col>sd</th><th scope=col>min</th><th scope=col>quartile_25</th><th scope=col>median</th><th scope=col>quartile_75</th><th scope=col>max</th></tr>\n",
       "\t<tr><th></th><th scope=col>&lt;chr&gt;</th><th scope=col>&lt;chr&gt;</th><th scope=col>&lt;int&gt;</th><th scope=col>&lt;int&gt;</th><th scope=col>&lt;chr&gt;</th><th scope=col>&lt;chr&gt;</th><th scope=col>&lt;chr&gt;</th><th scope=col>&lt;chr&gt;</th><th scope=col>&lt;chr&gt;</th><th scope=col>&lt;chr&gt;</th><th scope=col>&lt;chr&gt;</th><th scope=col>&lt;chr&gt;</th></tr>\n",
       "</thead>\n",
       "<tbody>\n",
       "\t<tr><th scope=row>make</th><td><span style=white-space:pre-wrap>make             </span></td><td>&lt;dbl&gt;</td><td>4601</td><td>0</td><td>0.0</td><td>0.0 </td><td>1.0</td><td>-0.3</td><td>-0.3</td><td>-0.3</td><td>-0.3</td><td>14.5</td></tr>\n",
       "\t<tr><th scope=row>address</th><td><span style=white-space:pre-wrap>address          </span></td><td>&lt;dbl&gt;</td><td>4601</td><td>0</td><td>0.0</td><td>-0.0</td><td>1.0</td><td>-0.2</td><td>-0.2</td><td>-0.2</td><td>-0.2</td><td>10.9</td></tr>\n",
       "\t<tr><th scope=row>all</th><td><span style=white-space:pre-wrap>all              </span></td><td>&lt;dbl&gt;</td><td>4601</td><td>0</td><td>0.0</td><td>0.0 </td><td>1.0</td><td>-0.6</td><td>-0.6</td><td>-0.6</td><td>0.3 </td><td>9.6 </td></tr>\n",
       "\t<tr><th scope=row>num3d</th><td><span style=white-space:pre-wrap>num3d            </span></td><td>&lt;dbl&gt;</td><td>4601</td><td>0</td><td>0.0</td><td>-0.0</td><td>1.0</td><td>-0.0</td><td>-0.0</td><td>-0.0</td><td>-0.0</td><td>30.6</td></tr>\n",
       "\t<tr><th scope=row>our</th><td><span style=white-space:pre-wrap>our              </span></td><td>&lt;dbl&gt;</td><td>4601</td><td>0</td><td>0.0</td><td>-0.0</td><td>1.0</td><td>-0.5</td><td>-0.5</td><td>-0.5</td><td>0.1 </td><td>14.4</td></tr>\n",
       "\t<tr><th scope=row>over</th><td><span style=white-space:pre-wrap>over             </span></td><td>&lt;dbl&gt;</td><td>4601</td><td>0</td><td>0.0</td><td>-0.0</td><td>1.0</td><td>-0.4</td><td>-0.4</td><td>-0.4</td><td>-0.4</td><td>21.1</td></tr>\n",
       "\t<tr><th scope=row>remove</th><td><span style=white-space:pre-wrap>remove           </span></td><td>&lt;dbl&gt;</td><td>4601</td><td>0</td><td>0.0</td><td>-0.0</td><td>1.0</td><td>-0.3</td><td>-0.3</td><td>-0.3</td><td>-0.3</td><td>18.3</td></tr>\n",
       "\t<tr><th scope=row>internet</th><td><span style=white-space:pre-wrap>internet         </span></td><td>&lt;dbl&gt;</td><td>4601</td><td>0</td><td>0.0</td><td>-0.0</td><td>1.0</td><td>-0.3</td><td>-0.3</td><td>-0.3</td><td>-0.3</td><td>27.4</td></tr>\n",
       "\t<tr><th scope=row>order</th><td><span style=white-space:pre-wrap>order            </span></td><td>&lt;dbl&gt;</td><td>4601</td><td>0</td><td>0.0</td><td>-0.0</td><td>1.0</td><td>-0.3</td><td>-0.3</td><td>-0.3</td><td>-0.3</td><td>18.6</td></tr>\n",
       "\t<tr><th scope=row>mail</th><td><span style=white-space:pre-wrap>mail             </span></td><td>&lt;dbl&gt;</td><td>4601</td><td>0</td><td>0.0</td><td>0.0 </td><td>1.0</td><td>-0.4</td><td>-0.4</td><td>-0.4</td><td>-0.1</td><td>27.8</td></tr>\n",
       "\t<tr><th scope=row>receive</th><td><span style=white-space:pre-wrap>receive          </span></td><td>&lt;dbl&gt;</td><td>4601</td><td>0</td><td>0.0</td><td>-0.0</td><td>1.0</td><td>-0.3</td><td>-0.3</td><td>-0.3</td><td>-0.3</td><td>12.7</td></tr>\n",
       "\t<tr><th scope=row>will</th><td><span style=white-space:pre-wrap>will             </span></td><td>&lt;dbl&gt;</td><td>4601</td><td>0</td><td>0.0</td><td>-0.0</td><td>1.0</td><td>-0.6</td><td>-0.6</td><td>-0.5</td><td>0.3 </td><td>10.6</td></tr>\n",
       "\t<tr><th scope=row>people</th><td><span style=white-space:pre-wrap>people           </span></td><td>&lt;dbl&gt;</td><td>4601</td><td>0</td><td>0.0</td><td>0.0 </td><td>1.0</td><td>-0.3</td><td>-0.3</td><td>-0.3</td><td>-0.3</td><td>18.1</td></tr>\n",
       "\t<tr><th scope=row>report</th><td><span style=white-space:pre-wrap>report           </span></td><td>&lt;dbl&gt;</td><td>4601</td><td>0</td><td>0.0</td><td>-0.0</td><td>1.0</td><td>-0.2</td><td>-0.2</td><td>-0.2</td><td>-0.2</td><td>29.7</td></tr>\n",
       "\t<tr><th scope=row>addresses</th><td><span style=white-space:pre-wrap>addresses        </span></td><td>&lt;dbl&gt;</td><td>4601</td><td>0</td><td>0.0</td><td>0.0 </td><td>1.0</td><td>-0.2</td><td>-0.2</td><td>-0.2</td><td>-0.2</td><td>16.8</td></tr>\n",
       "\t<tr><th scope=row>free</th><td><span style=white-space:pre-wrap>free             </span></td><td>&lt;dbl&gt;</td><td>4601</td><td>0</td><td>0.0</td><td>0.0 </td><td>1.0</td><td>-0.3</td><td>-0.3</td><td>-0.3</td><td>-0.2</td><td>23.9</td></tr>\n",
       "\t<tr><th scope=row>business</th><td><span style=white-space:pre-wrap>business         </span></td><td>&lt;dbl&gt;</td><td>4601</td><td>0</td><td>0.0</td><td>-0.0</td><td>1.0</td><td>-0.3</td><td>-0.3</td><td>-0.3</td><td>-0.3</td><td>15.8</td></tr>\n",
       "\t<tr><th scope=row>email</th><td><span style=white-space:pre-wrap>email            </span></td><td>&lt;dbl&gt;</td><td>4601</td><td>0</td><td>0.0</td><td>-0.0</td><td>1.0</td><td>-0.3</td><td>-0.3</td><td>-0.3</td><td>-0.3</td><td>16.8</td></tr>\n",
       "\t<tr><th scope=row>you</th><td><span style=white-space:pre-wrap>you              </span></td><td>&lt;dbl&gt;</td><td>4601</td><td>0</td><td>0.0</td><td>-0.0</td><td>1.0</td><td>-0.9</td><td>-0.9</td><td>-0.2</td><td>0.6 </td><td>9.6 </td></tr>\n",
       "\t<tr><th scope=row>credit</th><td><span style=white-space:pre-wrap>credit           </span></td><td>&lt;dbl&gt;</td><td>4601</td><td>0</td><td>0.0</td><td>0.0 </td><td>1.0</td><td>-0.2</td><td>-0.2</td><td>-0.2</td><td>-0.2</td><td>35.5</td></tr>\n",
       "\t<tr><th scope=row>your</th><td><span style=white-space:pre-wrap>your             </span></td><td>&lt;dbl&gt;</td><td>4601</td><td>0</td><td>0.0</td><td>0.0 </td><td>1.0</td><td>-0.7</td><td>-0.7</td><td>-0.5</td><td>0.4 </td><td>8.6 </td></tr>\n",
       "\t<tr><th scope=row>font</th><td><span style=white-space:pre-wrap>font             </span></td><td>&lt;dbl&gt;</td><td>4601</td><td>0</td><td>0.0</td><td>-0.0</td><td>1.0</td><td>-0.1</td><td>-0.1</td><td>-0.1</td><td>-0.1</td><td>16.6</td></tr>\n",
       "\t<tr><th scope=row>num000</th><td><span style=white-space:pre-wrap>num000           </span></td><td>&lt;dbl&gt;</td><td>4601</td><td>0</td><td>0.0</td><td>0.0 </td><td>1.0</td><td>-0.3</td><td>-0.3</td><td>-0.3</td><td>-0.3</td><td>15.3</td></tr>\n",
       "\t<tr><th scope=row>money</th><td><span style=white-space:pre-wrap>money            </span></td><td>&lt;dbl&gt;</td><td>4601</td><td>0</td><td>0.0</td><td>-0.0</td><td>1.0</td><td>-0.2</td><td>-0.2</td><td>-0.2</td><td>-0.2</td><td>28.0</td></tr>\n",
       "\t<tr><th scope=row>hp</th><td><span style=white-space:pre-wrap>hp               </span></td><td>&lt;dbl&gt;</td><td>4601</td><td>0</td><td>0.0</td><td>0.0 </td><td>1.0</td><td>-0.3</td><td>-0.3</td><td>-0.3</td><td>-0.3</td><td>12.1</td></tr>\n",
       "\t<tr><th scope=row>hpl</th><td><span style=white-space:pre-wrap>hpl              </span></td><td>&lt;dbl&gt;</td><td>4601</td><td>0</td><td>0.0</td><td>0.0 </td><td>1.0</td><td>-0.3</td><td>-0.3</td><td>-0.3</td><td>-0.3</td><td>18.5</td></tr>\n",
       "\t<tr><th scope=row>george</th><td><span style=white-space:pre-wrap>george           </span></td><td>&lt;dbl&gt;</td><td>4601</td><td>0</td><td>0.0</td><td>0.0 </td><td>1.0</td><td>-0.2</td><td>-0.2</td><td>-0.2</td><td>-0.2</td><td>9.7 </td></tr>\n",
       "\t<tr><th scope=row>num650</th><td><span style=white-space:pre-wrap>num650           </span></td><td>&lt;dbl&gt;</td><td>4601</td><td>0</td><td>0.0</td><td>0.0 </td><td>1.0</td><td>-0.2</td><td>-0.2</td><td>-0.2</td><td>-0.2</td><td>16.6</td></tr>\n",
       "\t<tr><th scope=row>lab</th><td><span style=white-space:pre-wrap>lab              </span></td><td>&lt;dbl&gt;</td><td>4601</td><td>0</td><td>0.0</td><td>0.0 </td><td>1.0</td><td>-0.2</td><td>-0.2</td><td>-0.2</td><td>-0.2</td><td>23.9</td></tr>\n",
       "\t<tr><th scope=row>labs</th><td><span style=white-space:pre-wrap>labs             </span></td><td>&lt;dbl&gt;</td><td>4601</td><td>0</td><td>0.0</td><td>0.0 </td><td>1.0</td><td>-0.2</td><td>-0.2</td><td>-0.2</td><td>-0.2</td><td>12.7</td></tr>\n",
       "\t<tr><th scope=row>telnet</th><td><span style=white-space:pre-wrap>telnet           </span></td><td>&lt;dbl&gt;</td><td>4601</td><td>0</td><td>0.0</td><td>-0.0</td><td>1.0</td><td>-0.2</td><td>-0.2</td><td>-0.2</td><td>-0.2</td><td>30.8</td></tr>\n",
       "\t<tr><th scope=row>num857</th><td><span style=white-space:pre-wrap>num857           </span></td><td>&lt;dbl&gt;</td><td>4601</td><td>0</td><td>0.0</td><td>0.0 </td><td>1.0</td><td>-0.1</td><td>-0.1</td><td>-0.1</td><td>-0.1</td><td>14.3</td></tr>\n",
       "\t<tr><th scope=row>data</th><td><span style=white-space:pre-wrap>data             </span></td><td>&lt;dbl&gt;</td><td>4601</td><td>0</td><td>0.0</td><td>0.0 </td><td>1.0</td><td>-0.2</td><td>-0.2</td><td>-0.2</td><td>-0.2</td><td>32.5</td></tr>\n",
       "\t<tr><th scope=row>num415</th><td><span style=white-space:pre-wrap>num415           </span></td><td>&lt;dbl&gt;</td><td>4601</td><td>0</td><td>0.0</td><td>-0.0</td><td>1.0</td><td>-0.1</td><td>-0.1</td><td>-0.1</td><td>-0.1</td><td>14.3</td></tr>\n",
       "\t<tr><th scope=row>num85</th><td><span style=white-space:pre-wrap>num85            </span></td><td>&lt;dbl&gt;</td><td>4601</td><td>0</td><td>0.0</td><td>0.0 </td><td>1.0</td><td>-0.2</td><td>-0.2</td><td>-0.2</td><td>-0.2</td><td>37.4</td></tr>\n",
       "\t<tr><th scope=row>technology</th><td><span style=white-space:pre-wrap>technology       </span></td><td>&lt;dbl&gt;</td><td>4601</td><td>0</td><td>0.0</td><td>0.0 </td><td>1.0</td><td>-0.2</td><td>-0.2</td><td>-0.2</td><td>-0.2</td><td>18.9</td></tr>\n",
       "\t<tr><th scope=row>num1999</th><td><span style=white-space:pre-wrap>num1999          </span></td><td>&lt;dbl&gt;</td><td>4601</td><td>0</td><td>0.0</td><td>-0.0</td><td>1.0</td><td>-0.3</td><td>-0.3</td><td>-0.3</td><td>-0.3</td><td>15.9</td></tr>\n",
       "\t<tr><th scope=row>parts</th><td><span style=white-space:pre-wrap>parts            </span></td><td>&lt;dbl&gt;</td><td>4601</td><td>0</td><td>0.0</td><td>0.0 </td><td>1.0</td><td>-0.1</td><td>-0.1</td><td>-0.1</td><td>-0.1</td><td>37.7</td></tr>\n",
       "\t<tr><th scope=row>pm</th><td><span style=white-space:pre-wrap>pm               </span></td><td>&lt;dbl&gt;</td><td>4601</td><td>0</td><td>0.0</td><td>-0.0</td><td>1.0</td><td>-0.2</td><td>-0.2</td><td>-0.2</td><td>-0.2</td><td>25.4</td></tr>\n",
       "\t<tr><th scope=row>direct</th><td><span style=white-space:pre-wrap>direct           </span></td><td>&lt;dbl&gt;</td><td>4601</td><td>0</td><td>0.0</td><td>-0.0</td><td>1.0</td><td>-0.2</td><td>-0.2</td><td>-0.2</td><td>-0.2</td><td>13.4</td></tr>\n",
       "\t<tr><th scope=row>cs</th><td><span style=white-space:pre-wrap>cs               </span></td><td>&lt;dbl&gt;</td><td>4601</td><td>0</td><td>0.0</td><td>0.0 </td><td>1.0</td><td>-0.1</td><td>-0.1</td><td>-0.1</td><td>-0.1</td><td>19.6</td></tr>\n",
       "\t<tr><th scope=row>meeting</th><td><span style=white-space:pre-wrap>meeting          </span></td><td>&lt;dbl&gt;</td><td>4601</td><td>0</td><td>0.0</td><td>0.0 </td><td>1.0</td><td>-0.2</td><td>-0.2</td><td>-0.2</td><td>-0.2</td><td>18.4</td></tr>\n",
       "\t<tr><th scope=row>original</th><td><span style=white-space:pre-wrap>original         </span></td><td>&lt;dbl&gt;</td><td>4601</td><td>0</td><td>0.0</td><td>-0.0</td><td>1.0</td><td>-0.2</td><td>-0.2</td><td>-0.2</td><td>-0.2</td><td>15.7</td></tr>\n",
       "\t<tr><th scope=row>project</th><td><span style=white-space:pre-wrap>project          </span></td><td>&lt;dbl&gt;</td><td>4601</td><td>0</td><td>0.0</td><td>0.0 </td><td>1.0</td><td>-0.1</td><td>-0.1</td><td>-0.1</td><td>-0.1</td><td>32.0</td></tr>\n",
       "\t<tr><th scope=row>re</th><td><span style=white-space:pre-wrap>re               </span></td><td>&lt;dbl&gt;</td><td>4601</td><td>0</td><td>0.0</td><td>-0.0</td><td>1.0</td><td>-0.3</td><td>-0.3</td><td>-0.3</td><td>-0.2</td><td>20.9</td></tr>\n",
       "\t<tr><th scope=row>edu</th><td><span style=white-space:pre-wrap>edu              </span></td><td>&lt;dbl&gt;</td><td>4601</td><td>0</td><td>0.0</td><td>-0.0</td><td>1.0</td><td>-0.2</td><td>-0.2</td><td>-0.2</td><td>-0.2</td><td>24.0</td></tr>\n",
       "\t<tr><th scope=row>table</th><td><span style=white-space:pre-wrap>table            </span></td><td>&lt;dbl&gt;</td><td>4601</td><td>0</td><td>0.0</td><td>-0.0</td><td>1.0</td><td>-0.1</td><td>-0.1</td><td>-0.1</td><td>-0.1</td><td>28.4</td></tr>\n",
       "\t<tr><th scope=row>conference</th><td><span style=white-space:pre-wrap>conference       </span></td><td>&lt;dbl&gt;</td><td>4601</td><td>0</td><td>0.0</td><td>-0.0</td><td>1.0</td><td>-0.1</td><td>-0.1</td><td>-0.1</td><td>-0.1</td><td>34.9</td></tr>\n",
       "\t<tr><th scope=row>charSemicolon</th><td><span style=white-space:pre-wrap>charSemicolon    </span></td><td>&lt;dbl&gt;</td><td>4601</td><td>0</td><td>0.0</td><td>-0.0</td><td>1.0</td><td>-0.2</td><td>-0.2</td><td>-0.2</td><td>-0.2</td><td>17.9</td></tr>\n",
       "\t<tr><th scope=row>charRoundbracket</th><td>charRoundbracket </td><td>&lt;dbl&gt;</td><td>4601</td><td>0</td><td>0.0</td><td>0.0 </td><td>1.0</td><td>-0.5</td><td>-0.5</td><td>-0.3</td><td>0.2 </td><td>35.6</td></tr>\n",
       "\t<tr><th scope=row>charSquarebracket</th><td>charSquarebracket</td><td>&lt;dbl&gt;</td><td>4601</td><td>0</td><td>0.0</td><td>-0.0</td><td>1.0</td><td>-0.2</td><td>-0.2</td><td>-0.2</td><td>-0.2</td><td>37.2</td></tr>\n",
       "\t<tr><th scope=row>charExclamation</th><td><span style=white-space:pre-wrap>charExclamation  </span></td><td>&lt;dbl&gt;</td><td>4601</td><td>0</td><td>0.0</td><td>0.0 </td><td>1.0</td><td>-0.3</td><td>-0.3</td><td>-0.3</td><td>0.1 </td><td>39.5</td></tr>\n",
       "\t<tr><th scope=row>charDollar</th><td><span style=white-space:pre-wrap>charDollar       </span></td><td>&lt;dbl&gt;</td><td>4601</td><td>0</td><td>0.0</td><td>-0.0</td><td>1.0</td><td>-0.3</td><td>-0.3</td><td>-0.3</td><td>-0.1</td><td>24.1</td></tr>\n",
       "\t<tr><th scope=row>charHash</th><td><span style=white-space:pre-wrap>charHash         </span></td><td>&lt;dbl&gt;</td><td>4601</td><td>0</td><td>0.0</td><td>-0.0</td><td>1.0</td><td>-0.1</td><td>-0.1</td><td>-0.1</td><td>-0.1</td><td>46.1</td></tr>\n",
       "\t<tr><th scope=row>capitalAve</th><td><span style=white-space:pre-wrap>capitalAve       </span></td><td>&lt;dbl&gt;</td><td>4601</td><td>0</td><td>0.0</td><td>0.0 </td><td>1.0</td><td>-0.1</td><td>-0.1</td><td>-0.1</td><td>-0.0</td><td>34.6</td></tr>\n",
       "\t<tr><th scope=row>capitalLong</th><td><span style=white-space:pre-wrap>capitalLong      </span></td><td>&lt;dbl&gt;</td><td>4601</td><td>0</td><td>0.0</td><td>0.0 </td><td>1.0</td><td>-0.3</td><td>-0.2</td><td>-0.2</td><td>-0.0</td><td>51.0</td></tr>\n",
       "\t<tr><th scope=row>capitalTotal</th><td><span style=white-space:pre-wrap>capitalTotal     </span></td><td>&lt;dbl&gt;</td><td>4601</td><td>0</td><td>0.0</td><td>0.0 </td><td>1.0</td><td>-0.5</td><td>-0.4</td><td>-0.3</td><td>-0.0</td><td>25.7</td></tr>\n",
       "</tbody>\n",
       "</table>\n",
       "</dd>\n",
       "\t<dt>$Categorical</dt>\n",
       "\t\t<dd><table class=\"dataframe\">\n",
       "<caption>A data.frame: 1 × 9</caption>\n",
       "<thead>\n",
       "\t<tr><th></th><th scope=col>label</th><th scope=col>var_type</th><th scope=col>n</th><th scope=col>missing_n</th><th scope=col>missing_percent</th><th scope=col>levels_n</th><th scope=col>levels</th><th scope=col>levels_count</th><th scope=col>levels_percent</th></tr>\n",
       "\t<tr><th></th><th scope=col>&lt;chr&gt;</th><th scope=col>&lt;chr&gt;</th><th scope=col>&lt;int&gt;</th><th scope=col>&lt;int&gt;</th><th scope=col>&lt;chr&gt;</th><th scope=col>&lt;int&gt;</th><th scope=col>&lt;chr&gt;</th><th scope=col>&lt;chr&gt;</th><th scope=col>&lt;chr&gt;</th></tr>\n",
       "</thead>\n",
       "<tbody>\n",
       "\t<tr><th scope=row>type</th><td>type</td><td>&lt;fct&gt;</td><td>4601</td><td>0</td><td>0.0</td><td>2</td><td>\"nonspam\", \"spam\"</td><td>2788, 1813</td><td>61, 39</td></tr>\n",
       "</tbody>\n",
       "</table>\n",
       "</dd>\n",
       "</dl>\n"
      ],
      "text/latex": [
       "\\begin{description}\n",
       "\\item[\\$Continuous] A data.frame: 57 × 12\n",
       "\\begin{tabular}{r|llllllllllll}\n",
       "  & label & var\\_type & n & missing\\_n & missing\\_percent & mean & sd & min & quartile\\_25 & median & quartile\\_75 & max\\\\\n",
       "  & <chr> & <chr> & <int> & <int> & <chr> & <chr> & <chr> & <chr> & <chr> & <chr> & <chr> & <chr>\\\\\n",
       "\\hline\n",
       "\tmake & make              & <dbl> & 4601 & 0 & 0.0 & 0.0  & 1.0 & -0.3 & -0.3 & -0.3 & -0.3 & 14.5\\\\\n",
       "\taddress & address           & <dbl> & 4601 & 0 & 0.0 & -0.0 & 1.0 & -0.2 & -0.2 & -0.2 & -0.2 & 10.9\\\\\n",
       "\tall & all               & <dbl> & 4601 & 0 & 0.0 & 0.0  & 1.0 & -0.6 & -0.6 & -0.6 & 0.3  & 9.6 \\\\\n",
       "\tnum3d & num3d             & <dbl> & 4601 & 0 & 0.0 & -0.0 & 1.0 & -0.0 & -0.0 & -0.0 & -0.0 & 30.6\\\\\n",
       "\tour & our               & <dbl> & 4601 & 0 & 0.0 & -0.0 & 1.0 & -0.5 & -0.5 & -0.5 & 0.1  & 14.4\\\\\n",
       "\tover & over              & <dbl> & 4601 & 0 & 0.0 & -0.0 & 1.0 & -0.4 & -0.4 & -0.4 & -0.4 & 21.1\\\\\n",
       "\tremove & remove            & <dbl> & 4601 & 0 & 0.0 & -0.0 & 1.0 & -0.3 & -0.3 & -0.3 & -0.3 & 18.3\\\\\n",
       "\tinternet & internet          & <dbl> & 4601 & 0 & 0.0 & -0.0 & 1.0 & -0.3 & -0.3 & -0.3 & -0.3 & 27.4\\\\\n",
       "\torder & order             & <dbl> & 4601 & 0 & 0.0 & -0.0 & 1.0 & -0.3 & -0.3 & -0.3 & -0.3 & 18.6\\\\\n",
       "\tmail & mail              & <dbl> & 4601 & 0 & 0.0 & 0.0  & 1.0 & -0.4 & -0.4 & -0.4 & -0.1 & 27.8\\\\\n",
       "\treceive & receive           & <dbl> & 4601 & 0 & 0.0 & -0.0 & 1.0 & -0.3 & -0.3 & -0.3 & -0.3 & 12.7\\\\\n",
       "\twill & will              & <dbl> & 4601 & 0 & 0.0 & -0.0 & 1.0 & -0.6 & -0.6 & -0.5 & 0.3  & 10.6\\\\\n",
       "\tpeople & people            & <dbl> & 4601 & 0 & 0.0 & 0.0  & 1.0 & -0.3 & -0.3 & -0.3 & -0.3 & 18.1\\\\\n",
       "\treport & report            & <dbl> & 4601 & 0 & 0.0 & -0.0 & 1.0 & -0.2 & -0.2 & -0.2 & -0.2 & 29.7\\\\\n",
       "\taddresses & addresses         & <dbl> & 4601 & 0 & 0.0 & 0.0  & 1.0 & -0.2 & -0.2 & -0.2 & -0.2 & 16.8\\\\\n",
       "\tfree & free              & <dbl> & 4601 & 0 & 0.0 & 0.0  & 1.0 & -0.3 & -0.3 & -0.3 & -0.2 & 23.9\\\\\n",
       "\tbusiness & business          & <dbl> & 4601 & 0 & 0.0 & -0.0 & 1.0 & -0.3 & -0.3 & -0.3 & -0.3 & 15.8\\\\\n",
       "\temail & email             & <dbl> & 4601 & 0 & 0.0 & -0.0 & 1.0 & -0.3 & -0.3 & -0.3 & -0.3 & 16.8\\\\\n",
       "\tyou & you               & <dbl> & 4601 & 0 & 0.0 & -0.0 & 1.0 & -0.9 & -0.9 & -0.2 & 0.6  & 9.6 \\\\\n",
       "\tcredit & credit            & <dbl> & 4601 & 0 & 0.0 & 0.0  & 1.0 & -0.2 & -0.2 & -0.2 & -0.2 & 35.5\\\\\n",
       "\tyour & your              & <dbl> & 4601 & 0 & 0.0 & 0.0  & 1.0 & -0.7 & -0.7 & -0.5 & 0.4  & 8.6 \\\\\n",
       "\tfont & font              & <dbl> & 4601 & 0 & 0.0 & -0.0 & 1.0 & -0.1 & -0.1 & -0.1 & -0.1 & 16.6\\\\\n",
       "\tnum000 & num000            & <dbl> & 4601 & 0 & 0.0 & 0.0  & 1.0 & -0.3 & -0.3 & -0.3 & -0.3 & 15.3\\\\\n",
       "\tmoney & money             & <dbl> & 4601 & 0 & 0.0 & -0.0 & 1.0 & -0.2 & -0.2 & -0.2 & -0.2 & 28.0\\\\\n",
       "\thp & hp                & <dbl> & 4601 & 0 & 0.0 & 0.0  & 1.0 & -0.3 & -0.3 & -0.3 & -0.3 & 12.1\\\\\n",
       "\thpl & hpl               & <dbl> & 4601 & 0 & 0.0 & 0.0  & 1.0 & -0.3 & -0.3 & -0.3 & -0.3 & 18.5\\\\\n",
       "\tgeorge & george            & <dbl> & 4601 & 0 & 0.0 & 0.0  & 1.0 & -0.2 & -0.2 & -0.2 & -0.2 & 9.7 \\\\\n",
       "\tnum650 & num650            & <dbl> & 4601 & 0 & 0.0 & 0.0  & 1.0 & -0.2 & -0.2 & -0.2 & -0.2 & 16.6\\\\\n",
       "\tlab & lab               & <dbl> & 4601 & 0 & 0.0 & 0.0  & 1.0 & -0.2 & -0.2 & -0.2 & -0.2 & 23.9\\\\\n",
       "\tlabs & labs              & <dbl> & 4601 & 0 & 0.0 & 0.0  & 1.0 & -0.2 & -0.2 & -0.2 & -0.2 & 12.7\\\\\n",
       "\ttelnet & telnet            & <dbl> & 4601 & 0 & 0.0 & -0.0 & 1.0 & -0.2 & -0.2 & -0.2 & -0.2 & 30.8\\\\\n",
       "\tnum857 & num857            & <dbl> & 4601 & 0 & 0.0 & 0.0  & 1.0 & -0.1 & -0.1 & -0.1 & -0.1 & 14.3\\\\\n",
       "\tdata & data              & <dbl> & 4601 & 0 & 0.0 & 0.0  & 1.0 & -0.2 & -0.2 & -0.2 & -0.2 & 32.5\\\\\n",
       "\tnum415 & num415            & <dbl> & 4601 & 0 & 0.0 & -0.0 & 1.0 & -0.1 & -0.1 & -0.1 & -0.1 & 14.3\\\\\n",
       "\tnum85 & num85             & <dbl> & 4601 & 0 & 0.0 & 0.0  & 1.0 & -0.2 & -0.2 & -0.2 & -0.2 & 37.4\\\\\n",
       "\ttechnology & technology        & <dbl> & 4601 & 0 & 0.0 & 0.0  & 1.0 & -0.2 & -0.2 & -0.2 & -0.2 & 18.9\\\\\n",
       "\tnum1999 & num1999           & <dbl> & 4601 & 0 & 0.0 & -0.0 & 1.0 & -0.3 & -0.3 & -0.3 & -0.3 & 15.9\\\\\n",
       "\tparts & parts             & <dbl> & 4601 & 0 & 0.0 & 0.0  & 1.0 & -0.1 & -0.1 & -0.1 & -0.1 & 37.7\\\\\n",
       "\tpm & pm                & <dbl> & 4601 & 0 & 0.0 & -0.0 & 1.0 & -0.2 & -0.2 & -0.2 & -0.2 & 25.4\\\\\n",
       "\tdirect & direct            & <dbl> & 4601 & 0 & 0.0 & -0.0 & 1.0 & -0.2 & -0.2 & -0.2 & -0.2 & 13.4\\\\\n",
       "\tcs & cs                & <dbl> & 4601 & 0 & 0.0 & 0.0  & 1.0 & -0.1 & -0.1 & -0.1 & -0.1 & 19.6\\\\\n",
       "\tmeeting & meeting           & <dbl> & 4601 & 0 & 0.0 & 0.0  & 1.0 & -0.2 & -0.2 & -0.2 & -0.2 & 18.4\\\\\n",
       "\toriginal & original          & <dbl> & 4601 & 0 & 0.0 & -0.0 & 1.0 & -0.2 & -0.2 & -0.2 & -0.2 & 15.7\\\\\n",
       "\tproject & project           & <dbl> & 4601 & 0 & 0.0 & 0.0  & 1.0 & -0.1 & -0.1 & -0.1 & -0.1 & 32.0\\\\\n",
       "\tre & re                & <dbl> & 4601 & 0 & 0.0 & -0.0 & 1.0 & -0.3 & -0.3 & -0.3 & -0.2 & 20.9\\\\\n",
       "\tedu & edu               & <dbl> & 4601 & 0 & 0.0 & -0.0 & 1.0 & -0.2 & -0.2 & -0.2 & -0.2 & 24.0\\\\\n",
       "\ttable & table             & <dbl> & 4601 & 0 & 0.0 & -0.0 & 1.0 & -0.1 & -0.1 & -0.1 & -0.1 & 28.4\\\\\n",
       "\tconference & conference        & <dbl> & 4601 & 0 & 0.0 & -0.0 & 1.0 & -0.1 & -0.1 & -0.1 & -0.1 & 34.9\\\\\n",
       "\tcharSemicolon & charSemicolon     & <dbl> & 4601 & 0 & 0.0 & -0.0 & 1.0 & -0.2 & -0.2 & -0.2 & -0.2 & 17.9\\\\\n",
       "\tcharRoundbracket & charRoundbracket  & <dbl> & 4601 & 0 & 0.0 & 0.0  & 1.0 & -0.5 & -0.5 & -0.3 & 0.2  & 35.6\\\\\n",
       "\tcharSquarebracket & charSquarebracket & <dbl> & 4601 & 0 & 0.0 & -0.0 & 1.0 & -0.2 & -0.2 & -0.2 & -0.2 & 37.2\\\\\n",
       "\tcharExclamation & charExclamation   & <dbl> & 4601 & 0 & 0.0 & 0.0  & 1.0 & -0.3 & -0.3 & -0.3 & 0.1  & 39.5\\\\\n",
       "\tcharDollar & charDollar        & <dbl> & 4601 & 0 & 0.0 & -0.0 & 1.0 & -0.3 & -0.3 & -0.3 & -0.1 & 24.1\\\\\n",
       "\tcharHash & charHash          & <dbl> & 4601 & 0 & 0.0 & -0.0 & 1.0 & -0.1 & -0.1 & -0.1 & -0.1 & 46.1\\\\\n",
       "\tcapitalAve & capitalAve        & <dbl> & 4601 & 0 & 0.0 & 0.0  & 1.0 & -0.1 & -0.1 & -0.1 & -0.0 & 34.6\\\\\n",
       "\tcapitalLong & capitalLong       & <dbl> & 4601 & 0 & 0.0 & 0.0  & 1.0 & -0.3 & -0.2 & -0.2 & -0.0 & 51.0\\\\\n",
       "\tcapitalTotal & capitalTotal      & <dbl> & 4601 & 0 & 0.0 & 0.0  & 1.0 & -0.5 & -0.4 & -0.3 & -0.0 & 25.7\\\\\n",
       "\\end{tabular}\n",
       "\n",
       "\\item[\\$Categorical] A data.frame: 1 × 9\n",
       "\\begin{tabular}{r|lllllllll}\n",
       "  & label & var\\_type & n & missing\\_n & missing\\_percent & levels\\_n & levels & levels\\_count & levels\\_percent\\\\\n",
       "  & <chr> & <chr> & <int> & <int> & <chr> & <int> & <chr> & <chr> & <chr>\\\\\n",
       "\\hline\n",
       "\ttype & type & <fct> & 4601 & 0 & 0.0 & 2 & \"nonspam\", \"spam\" & 2788, 1813 & 61, 39\\\\\n",
       "\\end{tabular}\n",
       "\n",
       "\\end{description}\n"
      ],
      "text/markdown": [
       "$Continuous\n",
       ":   \n",
       "A data.frame: 57 × 12\n",
       "\n",
       "| <!--/--> | label &lt;chr&gt; | var_type &lt;chr&gt; | n &lt;int&gt; | missing_n &lt;int&gt; | missing_percent &lt;chr&gt; | mean &lt;chr&gt; | sd &lt;chr&gt; | min &lt;chr&gt; | quartile_25 &lt;chr&gt; | median &lt;chr&gt; | quartile_75 &lt;chr&gt; | max &lt;chr&gt; |\n",
       "|---|---|---|---|---|---|---|---|---|---|---|---|---|\n",
       "| make | make              | &lt;dbl&gt; | 4601 | 0 | 0.0 | 0.0  | 1.0 | -0.3 | -0.3 | -0.3 | -0.3 | 14.5 |\n",
       "| address | address           | &lt;dbl&gt; | 4601 | 0 | 0.0 | -0.0 | 1.0 | -0.2 | -0.2 | -0.2 | -0.2 | 10.9 |\n",
       "| all | all               | &lt;dbl&gt; | 4601 | 0 | 0.0 | 0.0  | 1.0 | -0.6 | -0.6 | -0.6 | 0.3  | 9.6  |\n",
       "| num3d | num3d             | &lt;dbl&gt; | 4601 | 0 | 0.0 | -0.0 | 1.0 | -0.0 | -0.0 | -0.0 | -0.0 | 30.6 |\n",
       "| our | our               | &lt;dbl&gt; | 4601 | 0 | 0.0 | -0.0 | 1.0 | -0.5 | -0.5 | -0.5 | 0.1  | 14.4 |\n",
       "| over | over              | &lt;dbl&gt; | 4601 | 0 | 0.0 | -0.0 | 1.0 | -0.4 | -0.4 | -0.4 | -0.4 | 21.1 |\n",
       "| remove | remove            | &lt;dbl&gt; | 4601 | 0 | 0.0 | -0.0 | 1.0 | -0.3 | -0.3 | -0.3 | -0.3 | 18.3 |\n",
       "| internet | internet          | &lt;dbl&gt; | 4601 | 0 | 0.0 | -0.0 | 1.0 | -0.3 | -0.3 | -0.3 | -0.3 | 27.4 |\n",
       "| order | order             | &lt;dbl&gt; | 4601 | 0 | 0.0 | -0.0 | 1.0 | -0.3 | -0.3 | -0.3 | -0.3 | 18.6 |\n",
       "| mail | mail              | &lt;dbl&gt; | 4601 | 0 | 0.0 | 0.0  | 1.0 | -0.4 | -0.4 | -0.4 | -0.1 | 27.8 |\n",
       "| receive | receive           | &lt;dbl&gt; | 4601 | 0 | 0.0 | -0.0 | 1.0 | -0.3 | -0.3 | -0.3 | -0.3 | 12.7 |\n",
       "| will | will              | &lt;dbl&gt; | 4601 | 0 | 0.0 | -0.0 | 1.0 | -0.6 | -0.6 | -0.5 | 0.3  | 10.6 |\n",
       "| people | people            | &lt;dbl&gt; | 4601 | 0 | 0.0 | 0.0  | 1.0 | -0.3 | -0.3 | -0.3 | -0.3 | 18.1 |\n",
       "| report | report            | &lt;dbl&gt; | 4601 | 0 | 0.0 | -0.0 | 1.0 | -0.2 | -0.2 | -0.2 | -0.2 | 29.7 |\n",
       "| addresses | addresses         | &lt;dbl&gt; | 4601 | 0 | 0.0 | 0.0  | 1.0 | -0.2 | -0.2 | -0.2 | -0.2 | 16.8 |\n",
       "| free | free              | &lt;dbl&gt; | 4601 | 0 | 0.0 | 0.0  | 1.0 | -0.3 | -0.3 | -0.3 | -0.2 | 23.9 |\n",
       "| business | business          | &lt;dbl&gt; | 4601 | 0 | 0.0 | -0.0 | 1.0 | -0.3 | -0.3 | -0.3 | -0.3 | 15.8 |\n",
       "| email | email             | &lt;dbl&gt; | 4601 | 0 | 0.0 | -0.0 | 1.0 | -0.3 | -0.3 | -0.3 | -0.3 | 16.8 |\n",
       "| you | you               | &lt;dbl&gt; | 4601 | 0 | 0.0 | -0.0 | 1.0 | -0.9 | -0.9 | -0.2 | 0.6  | 9.6  |\n",
       "| credit | credit            | &lt;dbl&gt; | 4601 | 0 | 0.0 | 0.0  | 1.0 | -0.2 | -0.2 | -0.2 | -0.2 | 35.5 |\n",
       "| your | your              | &lt;dbl&gt; | 4601 | 0 | 0.0 | 0.0  | 1.0 | -0.7 | -0.7 | -0.5 | 0.4  | 8.6  |\n",
       "| font | font              | &lt;dbl&gt; | 4601 | 0 | 0.0 | -0.0 | 1.0 | -0.1 | -0.1 | -0.1 | -0.1 | 16.6 |\n",
       "| num000 | num000            | &lt;dbl&gt; | 4601 | 0 | 0.0 | 0.0  | 1.0 | -0.3 | -0.3 | -0.3 | -0.3 | 15.3 |\n",
       "| money | money             | &lt;dbl&gt; | 4601 | 0 | 0.0 | -0.0 | 1.0 | -0.2 | -0.2 | -0.2 | -0.2 | 28.0 |\n",
       "| hp | hp                | &lt;dbl&gt; | 4601 | 0 | 0.0 | 0.0  | 1.0 | -0.3 | -0.3 | -0.3 | -0.3 | 12.1 |\n",
       "| hpl | hpl               | &lt;dbl&gt; | 4601 | 0 | 0.0 | 0.0  | 1.0 | -0.3 | -0.3 | -0.3 | -0.3 | 18.5 |\n",
       "| george | george            | &lt;dbl&gt; | 4601 | 0 | 0.0 | 0.0  | 1.0 | -0.2 | -0.2 | -0.2 | -0.2 | 9.7  |\n",
       "| num650 | num650            | &lt;dbl&gt; | 4601 | 0 | 0.0 | 0.0  | 1.0 | -0.2 | -0.2 | -0.2 | -0.2 | 16.6 |\n",
       "| lab | lab               | &lt;dbl&gt; | 4601 | 0 | 0.0 | 0.0  | 1.0 | -0.2 | -0.2 | -0.2 | -0.2 | 23.9 |\n",
       "| labs | labs              | &lt;dbl&gt; | 4601 | 0 | 0.0 | 0.0  | 1.0 | -0.2 | -0.2 | -0.2 | -0.2 | 12.7 |\n",
       "| telnet | telnet            | &lt;dbl&gt; | 4601 | 0 | 0.0 | -0.0 | 1.0 | -0.2 | -0.2 | -0.2 | -0.2 | 30.8 |\n",
       "| num857 | num857            | &lt;dbl&gt; | 4601 | 0 | 0.0 | 0.0  | 1.0 | -0.1 | -0.1 | -0.1 | -0.1 | 14.3 |\n",
       "| data | data              | &lt;dbl&gt; | 4601 | 0 | 0.0 | 0.0  | 1.0 | -0.2 | -0.2 | -0.2 | -0.2 | 32.5 |\n",
       "| num415 | num415            | &lt;dbl&gt; | 4601 | 0 | 0.0 | -0.0 | 1.0 | -0.1 | -0.1 | -0.1 | -0.1 | 14.3 |\n",
       "| num85 | num85             | &lt;dbl&gt; | 4601 | 0 | 0.0 | 0.0  | 1.0 | -0.2 | -0.2 | -0.2 | -0.2 | 37.4 |\n",
       "| technology | technology        | &lt;dbl&gt; | 4601 | 0 | 0.0 | 0.0  | 1.0 | -0.2 | -0.2 | -0.2 | -0.2 | 18.9 |\n",
       "| num1999 | num1999           | &lt;dbl&gt; | 4601 | 0 | 0.0 | -0.0 | 1.0 | -0.3 | -0.3 | -0.3 | -0.3 | 15.9 |\n",
       "| parts | parts             | &lt;dbl&gt; | 4601 | 0 | 0.0 | 0.0  | 1.0 | -0.1 | -0.1 | -0.1 | -0.1 | 37.7 |\n",
       "| pm | pm                | &lt;dbl&gt; | 4601 | 0 | 0.0 | -0.0 | 1.0 | -0.2 | -0.2 | -0.2 | -0.2 | 25.4 |\n",
       "| direct | direct            | &lt;dbl&gt; | 4601 | 0 | 0.0 | -0.0 | 1.0 | -0.2 | -0.2 | -0.2 | -0.2 | 13.4 |\n",
       "| cs | cs                | &lt;dbl&gt; | 4601 | 0 | 0.0 | 0.0  | 1.0 | -0.1 | -0.1 | -0.1 | -0.1 | 19.6 |\n",
       "| meeting | meeting           | &lt;dbl&gt; | 4601 | 0 | 0.0 | 0.0  | 1.0 | -0.2 | -0.2 | -0.2 | -0.2 | 18.4 |\n",
       "| original | original          | &lt;dbl&gt; | 4601 | 0 | 0.0 | -0.0 | 1.0 | -0.2 | -0.2 | -0.2 | -0.2 | 15.7 |\n",
       "| project | project           | &lt;dbl&gt; | 4601 | 0 | 0.0 | 0.0  | 1.0 | -0.1 | -0.1 | -0.1 | -0.1 | 32.0 |\n",
       "| re | re                | &lt;dbl&gt; | 4601 | 0 | 0.0 | -0.0 | 1.0 | -0.3 | -0.3 | -0.3 | -0.2 | 20.9 |\n",
       "| edu | edu               | &lt;dbl&gt; | 4601 | 0 | 0.0 | -0.0 | 1.0 | -0.2 | -0.2 | -0.2 | -0.2 | 24.0 |\n",
       "| table | table             | &lt;dbl&gt; | 4601 | 0 | 0.0 | -0.0 | 1.0 | -0.1 | -0.1 | -0.1 | -0.1 | 28.4 |\n",
       "| conference | conference        | &lt;dbl&gt; | 4601 | 0 | 0.0 | -0.0 | 1.0 | -0.1 | -0.1 | -0.1 | -0.1 | 34.9 |\n",
       "| charSemicolon | charSemicolon     | &lt;dbl&gt; | 4601 | 0 | 0.0 | -0.0 | 1.0 | -0.2 | -0.2 | -0.2 | -0.2 | 17.9 |\n",
       "| charRoundbracket | charRoundbracket  | &lt;dbl&gt; | 4601 | 0 | 0.0 | 0.0  | 1.0 | -0.5 | -0.5 | -0.3 | 0.2  | 35.6 |\n",
       "| charSquarebracket | charSquarebracket | &lt;dbl&gt; | 4601 | 0 | 0.0 | -0.0 | 1.0 | -0.2 | -0.2 | -0.2 | -0.2 | 37.2 |\n",
       "| charExclamation | charExclamation   | &lt;dbl&gt; | 4601 | 0 | 0.0 | 0.0  | 1.0 | -0.3 | -0.3 | -0.3 | 0.1  | 39.5 |\n",
       "| charDollar | charDollar        | &lt;dbl&gt; | 4601 | 0 | 0.0 | -0.0 | 1.0 | -0.3 | -0.3 | -0.3 | -0.1 | 24.1 |\n",
       "| charHash | charHash          | &lt;dbl&gt; | 4601 | 0 | 0.0 | -0.0 | 1.0 | -0.1 | -0.1 | -0.1 | -0.1 | 46.1 |\n",
       "| capitalAve | capitalAve        | &lt;dbl&gt; | 4601 | 0 | 0.0 | 0.0  | 1.0 | -0.1 | -0.1 | -0.1 | -0.0 | 34.6 |\n",
       "| capitalLong | capitalLong       | &lt;dbl&gt; | 4601 | 0 | 0.0 | 0.0  | 1.0 | -0.3 | -0.2 | -0.2 | -0.0 | 51.0 |\n",
       "| capitalTotal | capitalTotal      | &lt;dbl&gt; | 4601 | 0 | 0.0 | 0.0  | 1.0 | -0.5 | -0.4 | -0.3 | -0.0 | 25.7 |\n",
       "\n",
       "\n",
       "$Categorical\n",
       ":   \n",
       "A data.frame: 1 × 9\n",
       "\n",
       "| <!--/--> | label &lt;chr&gt; | var_type &lt;chr&gt; | n &lt;int&gt; | missing_n &lt;int&gt; | missing_percent &lt;chr&gt; | levels_n &lt;int&gt; | levels &lt;chr&gt; | levels_count &lt;chr&gt; | levels_percent &lt;chr&gt; |\n",
       "|---|---|---|---|---|---|---|---|---|---|\n",
       "| type | type | &lt;fct&gt; | 4601 | 0 | 0.0 | 2 | \"nonspam\", \"spam\" | 2788, 1813 | 61, 39 |\n",
       "\n",
       "\n",
       "\n",
       "\n"
      ],
      "text/plain": [
       "$Continuous\n",
       "                              label var_type    n missing_n missing_percent\n",
       "make                           make    <dbl> 4601         0             0.0\n",
       "address                     address    <dbl> 4601         0             0.0\n",
       "all                             all    <dbl> 4601         0             0.0\n",
       "num3d                         num3d    <dbl> 4601         0             0.0\n",
       "our                             our    <dbl> 4601         0             0.0\n",
       "over                           over    <dbl> 4601         0             0.0\n",
       "remove                       remove    <dbl> 4601         0             0.0\n",
       "internet                   internet    <dbl> 4601         0             0.0\n",
       "order                         order    <dbl> 4601         0             0.0\n",
       "mail                           mail    <dbl> 4601         0             0.0\n",
       "receive                     receive    <dbl> 4601         0             0.0\n",
       "will                           will    <dbl> 4601         0             0.0\n",
       "people                       people    <dbl> 4601         0             0.0\n",
       "report                       report    <dbl> 4601         0             0.0\n",
       "addresses                 addresses    <dbl> 4601         0             0.0\n",
       "free                           free    <dbl> 4601         0             0.0\n",
       "business                   business    <dbl> 4601         0             0.0\n",
       "email                         email    <dbl> 4601         0             0.0\n",
       "you                             you    <dbl> 4601         0             0.0\n",
       "credit                       credit    <dbl> 4601         0             0.0\n",
       "your                           your    <dbl> 4601         0             0.0\n",
       "font                           font    <dbl> 4601         0             0.0\n",
       "num000                       num000    <dbl> 4601         0             0.0\n",
       "money                         money    <dbl> 4601         0             0.0\n",
       "hp                               hp    <dbl> 4601         0             0.0\n",
       "hpl                             hpl    <dbl> 4601         0             0.0\n",
       "george                       george    <dbl> 4601         0             0.0\n",
       "num650                       num650    <dbl> 4601         0             0.0\n",
       "lab                             lab    <dbl> 4601         0             0.0\n",
       "labs                           labs    <dbl> 4601         0             0.0\n",
       "telnet                       telnet    <dbl> 4601         0             0.0\n",
       "num857                       num857    <dbl> 4601         0             0.0\n",
       "data                           data    <dbl> 4601         0             0.0\n",
       "num415                       num415    <dbl> 4601         0             0.0\n",
       "num85                         num85    <dbl> 4601         0             0.0\n",
       "technology               technology    <dbl> 4601         0             0.0\n",
       "num1999                     num1999    <dbl> 4601         0             0.0\n",
       "parts                         parts    <dbl> 4601         0             0.0\n",
       "pm                               pm    <dbl> 4601         0             0.0\n",
       "direct                       direct    <dbl> 4601         0             0.0\n",
       "cs                               cs    <dbl> 4601         0             0.0\n",
       "meeting                     meeting    <dbl> 4601         0             0.0\n",
       "original                   original    <dbl> 4601         0             0.0\n",
       "project                     project    <dbl> 4601         0             0.0\n",
       "re                               re    <dbl> 4601         0             0.0\n",
       "edu                             edu    <dbl> 4601         0             0.0\n",
       "table                         table    <dbl> 4601         0             0.0\n",
       "conference               conference    <dbl> 4601         0             0.0\n",
       "charSemicolon         charSemicolon    <dbl> 4601         0             0.0\n",
       "charRoundbracket   charRoundbracket    <dbl> 4601         0             0.0\n",
       "charSquarebracket charSquarebracket    <dbl> 4601         0             0.0\n",
       "charExclamation     charExclamation    <dbl> 4601         0             0.0\n",
       "charDollar               charDollar    <dbl> 4601         0             0.0\n",
       "charHash                   charHash    <dbl> 4601         0             0.0\n",
       "capitalAve               capitalAve    <dbl> 4601         0             0.0\n",
       "capitalLong             capitalLong    <dbl> 4601         0             0.0\n",
       "capitalTotal           capitalTotal    <dbl> 4601         0             0.0\n",
       "                  mean  sd  min quartile_25 median quartile_75  max\n",
       "make               0.0 1.0 -0.3        -0.3   -0.3        -0.3 14.5\n",
       "address           -0.0 1.0 -0.2        -0.2   -0.2        -0.2 10.9\n",
       "all                0.0 1.0 -0.6        -0.6   -0.6         0.3  9.6\n",
       "num3d             -0.0 1.0 -0.0        -0.0   -0.0        -0.0 30.6\n",
       "our               -0.0 1.0 -0.5        -0.5   -0.5         0.1 14.4\n",
       "over              -0.0 1.0 -0.4        -0.4   -0.4        -0.4 21.1\n",
       "remove            -0.0 1.0 -0.3        -0.3   -0.3        -0.3 18.3\n",
       "internet          -0.0 1.0 -0.3        -0.3   -0.3        -0.3 27.4\n",
       "order             -0.0 1.0 -0.3        -0.3   -0.3        -0.3 18.6\n",
       "mail               0.0 1.0 -0.4        -0.4   -0.4        -0.1 27.8\n",
       "receive           -0.0 1.0 -0.3        -0.3   -0.3        -0.3 12.7\n",
       "will              -0.0 1.0 -0.6        -0.6   -0.5         0.3 10.6\n",
       "people             0.0 1.0 -0.3        -0.3   -0.3        -0.3 18.1\n",
       "report            -0.0 1.0 -0.2        -0.2   -0.2        -0.2 29.7\n",
       "addresses          0.0 1.0 -0.2        -0.2   -0.2        -0.2 16.8\n",
       "free               0.0 1.0 -0.3        -0.3   -0.3        -0.2 23.9\n",
       "business          -0.0 1.0 -0.3        -0.3   -0.3        -0.3 15.8\n",
       "email             -0.0 1.0 -0.3        -0.3   -0.3        -0.3 16.8\n",
       "you               -0.0 1.0 -0.9        -0.9   -0.2         0.6  9.6\n",
       "credit             0.0 1.0 -0.2        -0.2   -0.2        -0.2 35.5\n",
       "your               0.0 1.0 -0.7        -0.7   -0.5         0.4  8.6\n",
       "font              -0.0 1.0 -0.1        -0.1   -0.1        -0.1 16.6\n",
       "num000             0.0 1.0 -0.3        -0.3   -0.3        -0.3 15.3\n",
       "money             -0.0 1.0 -0.2        -0.2   -0.2        -0.2 28.0\n",
       "hp                 0.0 1.0 -0.3        -0.3   -0.3        -0.3 12.1\n",
       "hpl                0.0 1.0 -0.3        -0.3   -0.3        -0.3 18.5\n",
       "george             0.0 1.0 -0.2        -0.2   -0.2        -0.2  9.7\n",
       "num650             0.0 1.0 -0.2        -0.2   -0.2        -0.2 16.6\n",
       "lab                0.0 1.0 -0.2        -0.2   -0.2        -0.2 23.9\n",
       "labs               0.0 1.0 -0.2        -0.2   -0.2        -0.2 12.7\n",
       "telnet            -0.0 1.0 -0.2        -0.2   -0.2        -0.2 30.8\n",
       "num857             0.0 1.0 -0.1        -0.1   -0.1        -0.1 14.3\n",
       "data               0.0 1.0 -0.2        -0.2   -0.2        -0.2 32.5\n",
       "num415            -0.0 1.0 -0.1        -0.1   -0.1        -0.1 14.3\n",
       "num85              0.0 1.0 -0.2        -0.2   -0.2        -0.2 37.4\n",
       "technology         0.0 1.0 -0.2        -0.2   -0.2        -0.2 18.9\n",
       "num1999           -0.0 1.0 -0.3        -0.3   -0.3        -0.3 15.9\n",
       "parts              0.0 1.0 -0.1        -0.1   -0.1        -0.1 37.7\n",
       "pm                -0.0 1.0 -0.2        -0.2   -0.2        -0.2 25.4\n",
       "direct            -0.0 1.0 -0.2        -0.2   -0.2        -0.2 13.4\n",
       "cs                 0.0 1.0 -0.1        -0.1   -0.1        -0.1 19.6\n",
       "meeting            0.0 1.0 -0.2        -0.2   -0.2        -0.2 18.4\n",
       "original          -0.0 1.0 -0.2        -0.2   -0.2        -0.2 15.7\n",
       "project            0.0 1.0 -0.1        -0.1   -0.1        -0.1 32.0\n",
       "re                -0.0 1.0 -0.3        -0.3   -0.3        -0.2 20.9\n",
       "edu               -0.0 1.0 -0.2        -0.2   -0.2        -0.2 24.0\n",
       "table             -0.0 1.0 -0.1        -0.1   -0.1        -0.1 28.4\n",
       "conference        -0.0 1.0 -0.1        -0.1   -0.1        -0.1 34.9\n",
       "charSemicolon     -0.0 1.0 -0.2        -0.2   -0.2        -0.2 17.9\n",
       "charRoundbracket   0.0 1.0 -0.5        -0.5   -0.3         0.2 35.6\n",
       "charSquarebracket -0.0 1.0 -0.2        -0.2   -0.2        -0.2 37.2\n",
       "charExclamation    0.0 1.0 -0.3        -0.3   -0.3         0.1 39.5\n",
       "charDollar        -0.0 1.0 -0.3        -0.3   -0.3        -0.1 24.1\n",
       "charHash          -0.0 1.0 -0.1        -0.1   -0.1        -0.1 46.1\n",
       "capitalAve         0.0 1.0 -0.1        -0.1   -0.1        -0.0 34.6\n",
       "capitalLong        0.0 1.0 -0.3        -0.2   -0.2        -0.0 51.0\n",
       "capitalTotal       0.0 1.0 -0.5        -0.4   -0.3        -0.0 25.7\n",
       "\n",
       "$Categorical\n",
       "     label var_type    n missing_n missing_percent levels_n            levels\n",
       "type  type    <fct> 4601         0             0.0        2 \"nonspam\", \"spam\"\n",
       "     levels_count levels_percent\n",
       "type   2788, 1813         61, 39\n"
      ]
     },
     "metadata": {},
     "output_type": "display_data"
    }
   ],
   "source": [
    "ff_glimpse(spam_scaled)"
   ]
  },
  {
   "cell_type": "code",
   "execution_count": 80,
   "metadata": {
    "vscode": {
     "languageId": "r"
    }
   },
   "outputs": [
    {
     "data": {
      "text/html": [
       "<table class=\"dataframe\">\n",
       "<caption>A data.frame: 6 × 58</caption>\n",
       "<thead>\n",
       "\t<tr><th></th><th scope=col>make</th><th scope=col>address</th><th scope=col>all</th><th scope=col>num3d</th><th scope=col>our</th><th scope=col>over</th><th scope=col>remove</th><th scope=col>internet</th><th scope=col>order</th><th scope=col>mail</th><th scope=col>⋯</th><th scope=col>charSemicolon</th><th scope=col>charRoundbracket</th><th scope=col>charSquarebracket</th><th scope=col>charExclamation</th><th scope=col>charDollar</th><th scope=col>charHash</th><th scope=col>capitalAve</th><th scope=col>capitalLong</th><th scope=col>capitalTotal</th><th scope=col>type</th></tr>\n",
       "\t<tr><th></th><th scope=col>&lt;dbl&gt;</th><th scope=col>&lt;dbl&gt;</th><th scope=col>&lt;dbl&gt;</th><th scope=col>&lt;dbl&gt;</th><th scope=col>&lt;dbl&gt;</th><th scope=col>&lt;dbl&gt;</th><th scope=col>&lt;dbl&gt;</th><th scope=col>&lt;dbl&gt;</th><th scope=col>&lt;dbl&gt;</th><th scope=col>&lt;dbl&gt;</th><th scope=col>⋯</th><th scope=col>&lt;dbl&gt;</th><th scope=col>&lt;dbl&gt;</th><th scope=col>&lt;dbl&gt;</th><th scope=col>&lt;dbl&gt;</th><th scope=col>&lt;dbl&gt;</th><th scope=col>&lt;dbl&gt;</th><th scope=col>&lt;dbl&gt;</th><th scope=col>&lt;dbl&gt;</th><th scope=col>&lt;dbl&gt;</th><th scope=col>&lt;fct&gt;</th></tr>\n",
       "</thead>\n",
       "<tbody>\n",
       "\t<tr><th scope=row>1</th><td>-0.3423965</td><td> 0.33084894</td><td> 0.7127813</td><td>-0.04689449</td><td> 0.01156345</td><td>-0.3502281</td><td>-0.2917622</td><td>-0.26253302</td><td>-0.3232672</td><td>-0.37132403</td><td>⋯</td><td>-0.1584361</td><td>-0.514250655</td><td>-0.1551808</td><td> 0.623938760</td><td>-0.3083214</td><td>-0.103037206</td><td>-0.045242359</td><td> 0.04529300</td><td>-0.008723186</td><td>spam</td></tr>\n",
       "\t<tr><th scope=row>2</th><td> 0.3453219</td><td> 0.05190355</td><td> 0.4350823</td><td>-0.04689449</td><td>-0.25608946</td><td> 0.6723262</td><td> 0.2447167</td><td>-0.08800053</td><td>-0.3232672</td><td> 1.08659319</td><td>⋯</td><td>-0.1584361</td><td>-0.026004396</td><td>-0.1551808</td><td> 0.126189439</td><td> 0.4237370</td><td> 0.008761757</td><td>-0.002443002</td><td> 0.25053560</td><td> 1.228190574</td><td>spam</td></tr>\n",
       "\t<tr><th scope=row>3</th><td>-0.1459055</td><td>-0.16505397</td><td> 0.8516308</td><td>-0.04689449</td><td> 1.36469761</td><td> 0.3436480</td><td> 0.1936234</td><td> 0.03666553</td><td> 1.9738023</td><td> 0.01641992</td><td>⋯</td><td>-0.1173635</td><td> 0.014682792</td><td>-0.1551808</td><td> 0.008495019</td><td> 0.4400050</td><td>-0.079745755</td><td> 0.145904990</td><td> 2.22086461</td><td> 3.258378359</td><td>spam</td></tr>\n",
       "\t<tr><th scope=row>4</th><td>-0.3423965</td><td>-0.16505397</td><td>-0.5567001</td><td>-0.04689449</td><td> 0.47252124</td><td>-0.3502281</td><td> 0.5001828</td><td> 1.30825940</td><td> 0.7893758</td><td> 0.60579071</td><td>⋯</td><td>-0.1584361</td><td>-0.007510219</td><td>-0.1551808</td><td>-0.161916694</td><td>-0.3083214</td><td>-0.103037206</td><td>-0.052144464</td><td>-0.06245937</td><td>-0.152205182</td><td>spam</td></tr>\n",
       "\t<tr><th scope=row>5</th><td>-0.3423965</td><td>-0.16505397</td><td>-0.5567001</td><td>-0.04689449</td><td> 0.47252124</td><td>-0.3502281</td><td> 0.5001828</td><td> 1.30825940</td><td> 0.7893758</td><td> 0.60579071</td><td>⋯</td><td>-0.1584361</td><td>-0.014907890</td><td>-0.1551808</td><td>-0.164368661</td><td>-0.3083214</td><td>-0.103037206</td><td>-0.052144464</td><td>-0.06245937</td><td>-0.152205182</td><td>spam</td></tr>\n",
       "\t<tr><th scope=row>6</th><td>-0.3423965</td><td>-0.16505397</td><td>-0.5567001</td><td>-0.04689449</td><td> 2.28661319</td><td>-0.3502281</td><td>-0.2917622</td><td> 4.35011140</td><td>-0.3232672</td><td>-0.37132403</td><td>⋯</td><td>-0.1584361</td><td> 0.310589616</td><td>-0.1551808</td><td>-0.329876440</td><td>-0.3083214</td><td>-0.103037206</td><td>-0.069068805</td><td>-0.19073600</td><td>-0.378148095</td><td>spam</td></tr>\n",
       "</tbody>\n",
       "</table>\n"
      ],
      "text/latex": [
       "A data.frame: 6 × 58\n",
       "\\begin{tabular}{r|lllllllllllllllllllll}\n",
       "  & make & address & all & num3d & our & over & remove & internet & order & mail & ⋯ & charSemicolon & charRoundbracket & charSquarebracket & charExclamation & charDollar & charHash & capitalAve & capitalLong & capitalTotal & type\\\\\n",
       "  & <dbl> & <dbl> & <dbl> & <dbl> & <dbl> & <dbl> & <dbl> & <dbl> & <dbl> & <dbl> & ⋯ & <dbl> & <dbl> & <dbl> & <dbl> & <dbl> & <dbl> & <dbl> & <dbl> & <dbl> & <fct>\\\\\n",
       "\\hline\n",
       "\t1 & -0.3423965 &  0.33084894 &  0.7127813 & -0.04689449 &  0.01156345 & -0.3502281 & -0.2917622 & -0.26253302 & -0.3232672 & -0.37132403 & ⋯ & -0.1584361 & -0.514250655 & -0.1551808 &  0.623938760 & -0.3083214 & -0.103037206 & -0.045242359 &  0.04529300 & -0.008723186 & spam\\\\\n",
       "\t2 &  0.3453219 &  0.05190355 &  0.4350823 & -0.04689449 & -0.25608946 &  0.6723262 &  0.2447167 & -0.08800053 & -0.3232672 &  1.08659319 & ⋯ & -0.1584361 & -0.026004396 & -0.1551808 &  0.126189439 &  0.4237370 &  0.008761757 & -0.002443002 &  0.25053560 &  1.228190574 & spam\\\\\n",
       "\t3 & -0.1459055 & -0.16505397 &  0.8516308 & -0.04689449 &  1.36469761 &  0.3436480 &  0.1936234 &  0.03666553 &  1.9738023 &  0.01641992 & ⋯ & -0.1173635 &  0.014682792 & -0.1551808 &  0.008495019 &  0.4400050 & -0.079745755 &  0.145904990 &  2.22086461 &  3.258378359 & spam\\\\\n",
       "\t4 & -0.3423965 & -0.16505397 & -0.5567001 & -0.04689449 &  0.47252124 & -0.3502281 &  0.5001828 &  1.30825940 &  0.7893758 &  0.60579071 & ⋯ & -0.1584361 & -0.007510219 & -0.1551808 & -0.161916694 & -0.3083214 & -0.103037206 & -0.052144464 & -0.06245937 & -0.152205182 & spam\\\\\n",
       "\t5 & -0.3423965 & -0.16505397 & -0.5567001 & -0.04689449 &  0.47252124 & -0.3502281 &  0.5001828 &  1.30825940 &  0.7893758 &  0.60579071 & ⋯ & -0.1584361 & -0.014907890 & -0.1551808 & -0.164368661 & -0.3083214 & -0.103037206 & -0.052144464 & -0.06245937 & -0.152205182 & spam\\\\\n",
       "\t6 & -0.3423965 & -0.16505397 & -0.5567001 & -0.04689449 &  2.28661319 & -0.3502281 & -0.2917622 &  4.35011140 & -0.3232672 & -0.37132403 & ⋯ & -0.1584361 &  0.310589616 & -0.1551808 & -0.329876440 & -0.3083214 & -0.103037206 & -0.069068805 & -0.19073600 & -0.378148095 & spam\\\\\n",
       "\\end{tabular}\n"
      ],
      "text/markdown": [
       "\n",
       "A data.frame: 6 × 58\n",
       "\n",
       "| <!--/--> | make &lt;dbl&gt; | address &lt;dbl&gt; | all &lt;dbl&gt; | num3d &lt;dbl&gt; | our &lt;dbl&gt; | over &lt;dbl&gt; | remove &lt;dbl&gt; | internet &lt;dbl&gt; | order &lt;dbl&gt; | mail &lt;dbl&gt; | ⋯ ⋯ | charSemicolon &lt;dbl&gt; | charRoundbracket &lt;dbl&gt; | charSquarebracket &lt;dbl&gt; | charExclamation &lt;dbl&gt; | charDollar &lt;dbl&gt; | charHash &lt;dbl&gt; | capitalAve &lt;dbl&gt; | capitalLong &lt;dbl&gt; | capitalTotal &lt;dbl&gt; | type &lt;fct&gt; |\n",
       "|---|---|---|---|---|---|---|---|---|---|---|---|---|---|---|---|---|---|---|---|---|---|\n",
       "| 1 | -0.3423965 |  0.33084894 |  0.7127813 | -0.04689449 |  0.01156345 | -0.3502281 | -0.2917622 | -0.26253302 | -0.3232672 | -0.37132403 | ⋯ | -0.1584361 | -0.514250655 | -0.1551808 |  0.623938760 | -0.3083214 | -0.103037206 | -0.045242359 |  0.04529300 | -0.008723186 | spam |\n",
       "| 2 |  0.3453219 |  0.05190355 |  0.4350823 | -0.04689449 | -0.25608946 |  0.6723262 |  0.2447167 | -0.08800053 | -0.3232672 |  1.08659319 | ⋯ | -0.1584361 | -0.026004396 | -0.1551808 |  0.126189439 |  0.4237370 |  0.008761757 | -0.002443002 |  0.25053560 |  1.228190574 | spam |\n",
       "| 3 | -0.1459055 | -0.16505397 |  0.8516308 | -0.04689449 |  1.36469761 |  0.3436480 |  0.1936234 |  0.03666553 |  1.9738023 |  0.01641992 | ⋯ | -0.1173635 |  0.014682792 | -0.1551808 |  0.008495019 |  0.4400050 | -0.079745755 |  0.145904990 |  2.22086461 |  3.258378359 | spam |\n",
       "| 4 | -0.3423965 | -0.16505397 | -0.5567001 | -0.04689449 |  0.47252124 | -0.3502281 |  0.5001828 |  1.30825940 |  0.7893758 |  0.60579071 | ⋯ | -0.1584361 | -0.007510219 | -0.1551808 | -0.161916694 | -0.3083214 | -0.103037206 | -0.052144464 | -0.06245937 | -0.152205182 | spam |\n",
       "| 5 | -0.3423965 | -0.16505397 | -0.5567001 | -0.04689449 |  0.47252124 | -0.3502281 |  0.5001828 |  1.30825940 |  0.7893758 |  0.60579071 | ⋯ | -0.1584361 | -0.014907890 | -0.1551808 | -0.164368661 | -0.3083214 | -0.103037206 | -0.052144464 | -0.06245937 | -0.152205182 | spam |\n",
       "| 6 | -0.3423965 | -0.16505397 | -0.5567001 | -0.04689449 |  2.28661319 | -0.3502281 | -0.2917622 |  4.35011140 | -0.3232672 | -0.37132403 | ⋯ | -0.1584361 |  0.310589616 | -0.1551808 | -0.329876440 | -0.3083214 | -0.103037206 | -0.069068805 | -0.19073600 | -0.378148095 | spam |\n",
       "\n"
      ],
      "text/plain": [
       "  make       address     all        num3d       our         over      \n",
       "1 -0.3423965  0.33084894  0.7127813 -0.04689449  0.01156345 -0.3502281\n",
       "2  0.3453219  0.05190355  0.4350823 -0.04689449 -0.25608946  0.6723262\n",
       "3 -0.1459055 -0.16505397  0.8516308 -0.04689449  1.36469761  0.3436480\n",
       "4 -0.3423965 -0.16505397 -0.5567001 -0.04689449  0.47252124 -0.3502281\n",
       "5 -0.3423965 -0.16505397 -0.5567001 -0.04689449  0.47252124 -0.3502281\n",
       "6 -0.3423965 -0.16505397 -0.5567001 -0.04689449  2.28661319 -0.3502281\n",
       "  remove     internet    order      mail        ⋯ charSemicolon\n",
       "1 -0.2917622 -0.26253302 -0.3232672 -0.37132403 ⋯ -0.1584361   \n",
       "2  0.2447167 -0.08800053 -0.3232672  1.08659319 ⋯ -0.1584361   \n",
       "3  0.1936234  0.03666553  1.9738023  0.01641992 ⋯ -0.1173635   \n",
       "4  0.5001828  1.30825940  0.7893758  0.60579071 ⋯ -0.1584361   \n",
       "5  0.5001828  1.30825940  0.7893758  0.60579071 ⋯ -0.1584361   \n",
       "6 -0.2917622  4.35011140 -0.3232672 -0.37132403 ⋯ -0.1584361   \n",
       "  charRoundbracket charSquarebracket charExclamation charDollar charHash    \n",
       "1 -0.514250655     -0.1551808         0.623938760    -0.3083214 -0.103037206\n",
       "2 -0.026004396     -0.1551808         0.126189439     0.4237370  0.008761757\n",
       "3  0.014682792     -0.1551808         0.008495019     0.4400050 -0.079745755\n",
       "4 -0.007510219     -0.1551808        -0.161916694    -0.3083214 -0.103037206\n",
       "5 -0.014907890     -0.1551808        -0.164368661    -0.3083214 -0.103037206\n",
       "6  0.310589616     -0.1551808        -0.329876440    -0.3083214 -0.103037206\n",
       "  capitalAve   capitalLong capitalTotal type\n",
       "1 -0.045242359  0.04529300 -0.008723186 spam\n",
       "2 -0.002443002  0.25053560  1.228190574 spam\n",
       "3  0.145904990  2.22086461  3.258378359 spam\n",
       "4 -0.052144464 -0.06245937 -0.152205182 spam\n",
       "5 -0.052144464 -0.06245937 -0.152205182 spam\n",
       "6 -0.069068805 -0.19073600 -0.378148095 spam"
      ]
     },
     "metadata": {},
     "output_type": "display_data"
    }
   ],
   "source": [
    "head(spam_scaled)"
   ]
  },
  {
   "cell_type": "markdown",
   "metadata": {},
   "source": [
    "## Classification\n",
    "\n",
    "Stratified split to train and test datasets:"
   ]
  },
  {
   "cell_type": "code",
   "execution_count": 81,
   "metadata": {
    "vscode": {
     "languageId": "r"
    }
   },
   "outputs": [],
   "source": [
    "train_indices <- createDataPartition(spam_scaled$type, p=0.75, list=FALSE)"
   ]
  },
  {
   "cell_type": "markdown",
   "metadata": {},
   "source": [
    "### All features"
   ]
  },
  {
   "cell_type": "markdown",
   "metadata": {},
   "source": [
    "Train-test split"
   ]
  },
  {
   "cell_type": "code",
   "execution_count": 82,
   "id": "9353c0d5",
   "metadata": {
    "vscode": {
     "languageId": "r"
    }
   },
   "outputs": [],
   "source": [
    "train <- spam_scaled[train_indices,]\n",
    "test  <- spam_scaled[-train_indices,]"
   ]
  },
  {
   "cell_type": "code",
   "execution_count": 83,
   "id": "6690158e",
   "metadata": {
    "vscode": {
     "languageId": "r"
    }
   },
   "outputs": [
    {
     "data": {
      "text/html": [
       "<table class=\"dataframe\">\n",
       "<caption>A data.frame: 1 × 1</caption>\n",
       "<thead>\n",
       "\t<tr><th></th><th scope=col>k</th></tr>\n",
       "\t<tr><th></th><th scope=col>&lt;dbl&gt;</th></tr>\n",
       "</thead>\n",
       "<tbody>\n",
       "\t<tr><th scope=row>7</th><td>7</td></tr>\n",
       "</tbody>\n",
       "</table>\n"
      ],
      "text/latex": [
       "A data.frame: 1 × 1\n",
       "\\begin{tabular}{r|l}\n",
       "  & k\\\\\n",
       "  & <dbl>\\\\\n",
       "\\hline\n",
       "\t7 & 7\\\\\n",
       "\\end{tabular}\n"
      ],
      "text/markdown": [
       "\n",
       "A data.frame: 1 × 1\n",
       "\n",
       "| <!--/--> | k &lt;dbl&gt; |\n",
       "|---|---|\n",
       "| 7 | 7 |\n",
       "\n"
      ],
      "text/plain": [
       "  k\n",
       "7 7"
      ]
     },
     "metadata": {},
     "output_type": "display_data"
    }
   ],
   "source": [
    "knn_grid <- data.frame(k=seq(1, 10, by=1))\n",
    "knn_control <- trainControl(method='cv', number=5)\n",
    "knn <- caret::train(type ~ ., data=train, method='knn', trControl=knn_control, tuneGrid=knn_grid)\n",
    "knn$bestTune    "
   ]
  },
  {
   "cell_type": "markdown",
   "id": "809acb12",
   "metadata": {},
   "source": [
    "KNN"
   ]
  },
  {
   "cell_type": "code",
   "execution_count": 84,
   "id": "952f7319",
   "metadata": {
    "vscode": {
     "languageId": "r"
    }
   },
   "outputs": [
    {
     "name": "stdout",
     "output_type": "stream",
     "text": [
      " Accuracy \n",
      "0.9026087 \n",
      "          Reference\n",
      "Prediction nonspam spam\n",
      "   nonspam     659   38\n",
      "   spam         74  379\n"
     ]
    }
   ],
   "source": [
    "knn_pred <- predict(knn, newdata=test)\n",
    "knn_cm <- confusionMatrix(test$type, knn_pred)\n",
    "print(knn_cm$overall[1])\n",
    "print(knn_cm$table)"
   ]
  },
  {
   "cell_type": "markdown",
   "id": "57a1c4aa",
   "metadata": {},
   "source": [
    "Random forest"
   ]
  },
  {
   "cell_type": "code",
   "execution_count": 85,
   "id": "bc3682d9",
   "metadata": {
    "vscode": {
     "languageId": "r"
    }
   },
   "outputs": [],
   "source": [
    "# the mtry parameter controls how many of the input features a decision tree has available to consider\n",
    "# different sets of features will be available to different decision trees at different points\n",
    "# https://crunchingthedata.com/mtry-in-random-forests/"
   ]
  },
  {
   "cell_type": "code",
   "execution_count": 86,
   "id": "b9c1df81",
   "metadata": {
    "vscode": {
     "languageId": "r"
    }
   },
   "outputs": [
    {
     "data": {
      "text/html": [
       "<table class=\"dataframe\">\n",
       "<caption>A data.frame: 1 × 1</caption>\n",
       "<thead>\n",
       "\t<tr><th></th><th scope=col>mtry</th></tr>\n",
       "\t<tr><th></th><th scope=col>&lt;dbl&gt;</th></tr>\n",
       "</thead>\n",
       "<tbody>\n",
       "\t<tr><th scope=row>2</th><td>6</td></tr>\n",
       "</tbody>\n",
       "</table>\n"
      ],
      "text/latex": [
       "A data.frame: 1 × 1\n",
       "\\begin{tabular}{r|l}\n",
       "  & mtry\\\\\n",
       "  & <dbl>\\\\\n",
       "\\hline\n",
       "\t2 & 6\\\\\n",
       "\\end{tabular}\n"
      ],
      "text/markdown": [
       "\n",
       "A data.frame: 1 × 1\n",
       "\n",
       "| <!--/--> | mtry &lt;dbl&gt; |\n",
       "|---|---|\n",
       "| 2 | 6 |\n",
       "\n"
      ],
      "text/plain": [
       "  mtry\n",
       "2 6   "
      ]
     },
     "metadata": {},
     "output_type": "display_data"
    }
   ],
   "source": [
    "rf_grid <- expand.grid(mtry=seq(1, 56, by=5))\n",
    "rf_control <- trainControl(method='cv', number=5)\n",
    "rf <- caret::train(type ~ ., data=train, method='rf', trControl=rf_control, tuneGrid=rf_grid)\n",
    "rf$bestTune"
   ]
  },
  {
   "cell_type": "code",
   "execution_count": 87,
   "id": "4af851ac",
   "metadata": {
    "vscode": {
     "languageId": "r"
    }
   },
   "outputs": [
    {
     "name": "stdout",
     "output_type": "stream",
     "text": [
      " Accuracy \n",
      "0.9626087 \n",
      "          Reference\n",
      "Prediction nonspam spam\n",
      "   nonspam     685   12\n",
      "   spam         31  422\n"
     ]
    }
   ],
   "source": [
    "rf_pred <- predict(rf, newdata=test)\n",
    "rf_cm <- confusionMatrix(test$type, rf_pred)\n",
    "print(rf_cm$overall[1])\n",
    "print(rf_cm$table)"
   ]
  },
  {
   "cell_type": "markdown",
   "id": "48b8d92c",
   "metadata": {
    "vscode": {
     "languageId": "r"
    }
   },
   "source": [
    "### Freq only"
   ]
  },
  {
   "cell_type": "code",
   "execution_count": 88,
   "metadata": {
    "vscode": {
     "languageId": "r"
    }
   },
   "outputs": [],
   "source": [
    "spam_freq <- spam_scaled[, -seq(55, 57)]"
   ]
  },
  {
   "cell_type": "markdown",
   "metadata": {},
   "source": [
    "Train-test split"
   ]
  },
  {
   "cell_type": "code",
   "execution_count": 89,
   "metadata": {
    "vscode": {
     "languageId": "r"
    }
   },
   "outputs": [],
   "source": [
    "train <- spam_freq[train_indices,]\n",
    "test  <- spam_freq[-train_indices,]"
   ]
  },
  {
   "cell_type": "markdown",
   "metadata": {},
   "source": [
    "KNN"
   ]
  },
  {
   "cell_type": "code",
   "execution_count": 90,
   "metadata": {
    "vscode": {
     "languageId": "r"
    }
   },
   "outputs": [
    {
     "data": {
      "text/html": [
       "<table class=\"dataframe\">\n",
       "<caption>A data.frame: 1 × 1</caption>\n",
       "<thead>\n",
       "\t<tr><th></th><th scope=col>k</th></tr>\n",
       "\t<tr><th></th><th scope=col>&lt;dbl&gt;</th></tr>\n",
       "</thead>\n",
       "<tbody>\n",
       "\t<tr><th scope=row>5</th><td>5</td></tr>\n",
       "</tbody>\n",
       "</table>\n"
      ],
      "text/latex": [
       "A data.frame: 1 × 1\n",
       "\\begin{tabular}{r|l}\n",
       "  & k\\\\\n",
       "  & <dbl>\\\\\n",
       "\\hline\n",
       "\t5 & 5\\\\\n",
       "\\end{tabular}\n"
      ],
      "text/markdown": [
       "\n",
       "A data.frame: 1 × 1\n",
       "\n",
       "| <!--/--> | k &lt;dbl&gt; |\n",
       "|---|---|\n",
       "| 5 | 5 |\n",
       "\n"
      ],
      "text/plain": [
       "  k\n",
       "5 5"
      ]
     },
     "metadata": {},
     "output_type": "display_data"
    }
   ],
   "source": [
    "knn_grid <- data.frame(k=seq(1, 10, by=1))\n",
    "knn_control <- trainControl(method='cv', number=5)\n",
    "knn <- caret::train(type ~ ., data=train, method='knn', trControl=knn_control, tuneGrid=knn_grid)\n",
    "knn$bestTune"
   ]
  },
  {
   "cell_type": "code",
   "execution_count": 91,
   "metadata": {
    "vscode": {
     "languageId": "r"
    }
   },
   "outputs": [
    {
     "name": "stdout",
     "output_type": "stream",
     "text": [
      " Accuracy \n",
      "0.9069565 \n",
      "          Reference\n",
      "Prediction nonspam spam\n",
      "   nonspam     658   39\n",
      "   spam         68  385\n"
     ]
    }
   ],
   "source": [
    "knn_pred <- predict(knn, newdata=test)\n",
    "knn_cm <- confusionMatrix(test$type, knn_pred)\n",
    "print(knn_cm$overall[1])\n",
    "print(knn_cm$table)"
   ]
  },
  {
   "cell_type": "markdown",
   "metadata": {},
   "source": [
    "Random forest"
   ]
  },
  {
   "cell_type": "code",
   "execution_count": 92,
   "metadata": {
    "vscode": {
     "languageId": "r"
    }
   },
   "outputs": [
    {
     "data": {
      "text/html": [
       "<table class=\"dataframe\">\n",
       "<caption>A data.frame: 1 × 1</caption>\n",
       "<thead>\n",
       "\t<tr><th></th><th scope=col>mtry</th></tr>\n",
       "\t<tr><th></th><th scope=col>&lt;dbl&gt;</th></tr>\n",
       "</thead>\n",
       "<tbody>\n",
       "\t<tr><th scope=row>3</th><td>11</td></tr>\n",
       "</tbody>\n",
       "</table>\n"
      ],
      "text/latex": [
       "A data.frame: 1 × 1\n",
       "\\begin{tabular}{r|l}\n",
       "  & mtry\\\\\n",
       "  & <dbl>\\\\\n",
       "\\hline\n",
       "\t3 & 11\\\\\n",
       "\\end{tabular}\n"
      ],
      "text/markdown": [
       "\n",
       "A data.frame: 1 × 1\n",
       "\n",
       "| <!--/--> | mtry &lt;dbl&gt; |\n",
       "|---|---|\n",
       "| 3 | 11 |\n",
       "\n"
      ],
      "text/plain": [
       "  mtry\n",
       "3 11  "
      ]
     },
     "metadata": {},
     "output_type": "display_data"
    }
   ],
   "source": [
    "rf_grid <- expand.grid(mtry=seq(1, 51, by=5))\n",
    "rf_control <- trainControl(method='cv', number=5)\n",
    "rf <- caret::train(type ~ ., data=train, method='rf', trControl=rf_control, tuneGrid=rf_grid)\n",
    "rf$bestTune"
   ]
  },
  {
   "cell_type": "code",
   "execution_count": 93,
   "metadata": {
    "vscode": {
     "languageId": "r"
    }
   },
   "outputs": [
    {
     "name": "stdout",
     "output_type": "stream",
     "text": [
      " Accuracy \n",
      "0.9513043 \n",
      "          Reference\n",
      "Prediction nonspam spam\n",
      "   nonspam     675   22\n",
      "   spam         34  419\n"
     ]
    }
   ],
   "source": [
    "rf_pred <- predict(rf, newdata=test)\n",
    "rf_cm <- confusionMatrix(test$type, rf_pred)\n",
    "print(rf_cm$overall[1])\n",
    "print(rf_cm$table)"
   ]
  },
  {
   "cell_type": "markdown",
   "metadata": {},
   "source": [
    "### Capital only"
   ]
  },
  {
   "cell_type": "code",
   "execution_count": 94,
   "metadata": {
    "vscode": {
     "languageId": "r"
    }
   },
   "outputs": [],
   "source": [
    "spam_capital <- spam_scaled[, seq(55, 58)]"
   ]
  },
  {
   "cell_type": "markdown",
   "metadata": {},
   "source": [
    "Train-test split"
   ]
  },
  {
   "cell_type": "code",
   "execution_count": 95,
   "metadata": {
    "vscode": {
     "languageId": "r"
    }
   },
   "outputs": [],
   "source": [
    "train <- spam_capital[train_indices,]\n",
    "test  <- spam_capital[-train_indices,]"
   ]
  },
  {
   "cell_type": "markdown",
   "metadata": {},
   "source": [
    "KNN"
   ]
  },
  {
   "cell_type": "code",
   "execution_count": 97,
   "metadata": {
    "vscode": {
     "languageId": "r"
    }
   },
   "outputs": [
    {
     "data": {
      "text/html": [
       "<table class=\"dataframe\">\n",
       "<caption>A data.frame: 1 × 1</caption>\n",
       "<thead>\n",
       "\t<tr><th></th><th scope=col>k</th></tr>\n",
       "\t<tr><th></th><th scope=col>&lt;dbl&gt;</th></tr>\n",
       "</thead>\n",
       "<tbody>\n",
       "\t<tr><th scope=row>5</th><td>5</td></tr>\n",
       "</tbody>\n",
       "</table>\n"
      ],
      "text/latex": [
       "A data.frame: 1 × 1\n",
       "\\begin{tabular}{r|l}\n",
       "  & k\\\\\n",
       "  & <dbl>\\\\\n",
       "\\hline\n",
       "\t5 & 5\\\\\n",
       "\\end{tabular}\n"
      ],
      "text/markdown": [
       "\n",
       "A data.frame: 1 × 1\n",
       "\n",
       "| <!--/--> | k &lt;dbl&gt; |\n",
       "|---|---|\n",
       "| 5 | 5 |\n",
       "\n"
      ],
      "text/plain": [
       "  k\n",
       "5 5"
      ]
     },
     "metadata": {},
     "output_type": "display_data"
    }
   ],
   "source": [
    "knn_grid <- data.frame(k=seq(1, 10, by=1))\n",
    "knn_control <- trainControl(method='cv', number=5)\n",
    "knn <- caret::train(type ~ ., data=train, method='knn', trControl=knn_control, tuneGrid=knn_grid)\n",
    "knn$bestTune"
   ]
  },
  {
   "cell_type": "code",
   "execution_count": 98,
   "metadata": {
    "vscode": {
     "languageId": "r"
    }
   },
   "outputs": [
    {
     "name": "stdout",
     "output_type": "stream",
     "text": [
      " Accuracy \n",
      "0.7913043 \n"
     ]
    },
    {
     "name": "stdout",
     "output_type": "stream",
     "text": [
      "          Reference\n",
      "Prediction nonspam spam\n",
      "   nonspam     581  116\n",
      "   spam        124  329\n"
     ]
    }
   ],
   "source": [
    "knn_pred <- predict(knn, newdata=test)\n",
    "knn_cm <- confusionMatrix(test$type, knn_pred)\n",
    "print(knn_cm$overall[1])\n",
    "print(knn_cm$table)"
   ]
  },
  {
   "cell_type": "markdown",
   "metadata": {},
   "source": [
    "Random forest"
   ]
  },
  {
   "cell_type": "code",
   "execution_count": 99,
   "metadata": {
    "vscode": {
     "languageId": "r"
    }
   },
   "outputs": [
    {
     "data": {
      "text/html": [
       "<table class=\"dataframe\">\n",
       "<caption>A data.frame: 1 × 1</caption>\n",
       "<thead>\n",
       "\t<tr><th></th><th scope=col>mtry</th></tr>\n",
       "\t<tr><th></th><th scope=col>&lt;int&gt;</th></tr>\n",
       "</thead>\n",
       "<tbody>\n",
       "\t<tr><th scope=row>1</th><td>1</td></tr>\n",
       "</tbody>\n",
       "</table>\n"
      ],
      "text/latex": [
       "A data.frame: 1 × 1\n",
       "\\begin{tabular}{r|l}\n",
       "  & mtry\\\\\n",
       "  & <int>\\\\\n",
       "\\hline\n",
       "\t1 & 1\\\\\n",
       "\\end{tabular}\n"
      ],
      "text/markdown": [
       "\n",
       "A data.frame: 1 × 1\n",
       "\n",
       "| <!--/--> | mtry &lt;int&gt; |\n",
       "|---|---|\n",
       "| 1 | 1 |\n",
       "\n"
      ],
      "text/plain": [
       "  mtry\n",
       "1 1   "
      ]
     },
     "metadata": {},
     "output_type": "display_data"
    }
   ],
   "source": [
    "rf_grid <- expand.grid(mtry=seq(1, 3))\n",
    "rf_control <- trainControl(method='cv', number=5)\n",
    "rf <- caret::train(type ~ ., data=train, method='rf', trControl=rf_control, tuneGrid=rf_grid)\n",
    "rf$bestTune"
   ]
  },
  {
   "cell_type": "code",
   "execution_count": 100,
   "metadata": {
    "vscode": {
     "languageId": "r"
    }
   },
   "outputs": [
    {
     "name": "stdout",
     "output_type": "stream",
     "text": [
      " Accuracy \n",
      "0.8382609 \n",
      "          Reference\n",
      "Prediction nonspam spam\n",
      "   nonspam     628   69\n",
      "   spam        117  336\n"
     ]
    }
   ],
   "source": [
    "rf_pred <- predict(rf, newdata=test)\n",
    "rf_cm <- confusionMatrix(test$type, rf_pred)\n",
    "print(rf_cm$overall[1])\n",
    "print(rf_cm$table)"
   ]
  },
  {
   "cell_type": "markdown",
   "metadata": {},
   "source": [
    "### Freq word only"
   ]
  },
  {
   "cell_type": "code",
   "execution_count": 101,
   "metadata": {
    "vscode": {
     "languageId": "r"
    }
   },
   "outputs": [],
   "source": [
    "spam_word <- spam_scaled[, -seq(49, 57)]"
   ]
  },
  {
   "cell_type": "markdown",
   "metadata": {},
   "source": [
    "Train-test split"
   ]
  },
  {
   "cell_type": "code",
   "execution_count": 102,
   "metadata": {
    "vscode": {
     "languageId": "r"
    }
   },
   "outputs": [],
   "source": [
    "train <- spam_word[train_indices,]\n",
    "test  <- spam_word[-train_indices,]"
   ]
  },
  {
   "cell_type": "markdown",
   "metadata": {},
   "source": [
    "KNN"
   ]
  },
  {
   "cell_type": "code",
   "execution_count": 103,
   "metadata": {
    "vscode": {
     "languageId": "r"
    }
   },
   "outputs": [
    {
     "data": {
      "text/html": [
       "<table class=\"dataframe\">\n",
       "<caption>A data.frame: 1 × 1</caption>\n",
       "<thead>\n",
       "\t<tr><th></th><th scope=col>k</th></tr>\n",
       "\t<tr><th></th><th scope=col>&lt;dbl&gt;</th></tr>\n",
       "</thead>\n",
       "<tbody>\n",
       "\t<tr><th scope=row>1</th><td>1</td></tr>\n",
       "</tbody>\n",
       "</table>\n"
      ],
      "text/latex": [
       "A data.frame: 1 × 1\n",
       "\\begin{tabular}{r|l}\n",
       "  & k\\\\\n",
       "  & <dbl>\\\\\n",
       "\\hline\n",
       "\t1 & 1\\\\\n",
       "\\end{tabular}\n"
      ],
      "text/markdown": [
       "\n",
       "A data.frame: 1 × 1\n",
       "\n",
       "| <!--/--> | k &lt;dbl&gt; |\n",
       "|---|---|\n",
       "| 1 | 1 |\n",
       "\n"
      ],
      "text/plain": [
       "  k\n",
       "1 1"
      ]
     },
     "metadata": {},
     "output_type": "display_data"
    }
   ],
   "source": [
    "knn_grid <- data.frame(k=seq(1, 10, by=1))\n",
    "knn_control <- trainControl(method='cv', number=5)\n",
    "knn <- caret::train(type ~ ., data=train, method='knn', trControl=knn_control, tuneGrid=knn_grid)\n",
    "knn$bestTune"
   ]
  },
  {
   "cell_type": "code",
   "execution_count": 104,
   "metadata": {
    "vscode": {
     "languageId": "r"
    }
   },
   "outputs": [
    {
     "name": "stdout",
     "output_type": "stream",
     "text": [
      " Accuracy \n",
      "0.9078261 \n",
      "          Reference\n",
      "Prediction nonspam spam\n",
      "   nonspam     646   51\n",
      "   spam         55  398\n"
     ]
    }
   ],
   "source": [
    "knn_pred <- predict(knn, newdata=test)\n",
    "knn_cm <- confusionMatrix(test$type, knn_pred)\n",
    "print(knn_cm$overall[1])\n",
    "print(knn_cm$table)"
   ]
  },
  {
   "cell_type": "markdown",
   "metadata": {},
   "source": [
    "Random forest"
   ]
  },
  {
   "cell_type": "code",
   "execution_count": 105,
   "metadata": {
    "vscode": {
     "languageId": "r"
    }
   },
   "outputs": [
    {
     "data": {
      "text/html": [
       "<table class=\"dataframe\">\n",
       "<caption>A data.frame: 1 × 1</caption>\n",
       "<thead>\n",
       "\t<tr><th></th><th scope=col>mtry</th></tr>\n",
       "\t<tr><th></th><th scope=col>&lt;dbl&gt;</th></tr>\n",
       "</thead>\n",
       "<tbody>\n",
       "\t<tr><th scope=row>2</th><td>6</td></tr>\n",
       "</tbody>\n",
       "</table>\n"
      ],
      "text/latex": [
       "A data.frame: 1 × 1\n",
       "\\begin{tabular}{r|l}\n",
       "  & mtry\\\\\n",
       "  & <dbl>\\\\\n",
       "\\hline\n",
       "\t2 & 6\\\\\n",
       "\\end{tabular}\n"
      ],
      "text/markdown": [
       "\n",
       "A data.frame: 1 × 1\n",
       "\n",
       "| <!--/--> | mtry &lt;dbl&gt; |\n",
       "|---|---|\n",
       "| 2 | 6 |\n",
       "\n"
      ],
      "text/plain": [
       "  mtry\n",
       "2 6   "
      ]
     },
     "metadata": {},
     "output_type": "display_data"
    }
   ],
   "source": [
    "rf_grid <- expand.grid(mtry=seq(1, 46, by=5))\n",
    "rf_control <- trainControl(method='cv', number=5)\n",
    "rf <- caret::train(type ~ ., data=train, method='rf', trControl=rf_control, tuneGrid=rf_grid)\n",
    "rf$bestTune"
   ]
  },
  {
   "cell_type": "code",
   "execution_count": 106,
   "metadata": {
    "vscode": {
     "languageId": "r"
    }
   },
   "outputs": [
    {
     "name": "stdout",
     "output_type": "stream",
     "text": [
      "Accuracy \n",
      "    0.94 \n",
      "          Reference\n",
      "Prediction nonspam spam\n",
      "   nonspam     669   28\n",
      "   spam         41  412\n"
     ]
    }
   ],
   "source": [
    "rf_pred <- predict(rf, newdata=test)\n",
    "rf_cm <- confusionMatrix(test$type, rf_pred)\n",
    "print(rf_cm$overall[1])\n",
    "print(rf_cm$table)"
   ]
  },
  {
   "cell_type": "markdown",
   "metadata": {},
   "source": [
    "### Freq char only"
   ]
  },
  {
   "cell_type": "code",
   "execution_count": 107,
   "metadata": {
    "vscode": {
     "languageId": "r"
    }
   },
   "outputs": [],
   "source": [
    "chars <- seq(49, 54)\n",
    "chars <- c(chars, 58)\n",
    "spam_char <- spam_scaled[, chars]"
   ]
  },
  {
   "cell_type": "markdown",
   "metadata": {},
   "source": [
    "Train-test split"
   ]
  },
  {
   "cell_type": "code",
   "execution_count": 108,
   "metadata": {
    "vscode": {
     "languageId": "r"
    }
   },
   "outputs": [],
   "source": [
    "train <- spam_char[train_indices,]\n",
    "test  <- spam_char[-train_indices,]"
   ]
  },
  {
   "cell_type": "markdown",
   "metadata": {},
   "source": [
    "KNN"
   ]
  },
  {
   "cell_type": "code",
   "execution_count": 109,
   "metadata": {
    "vscode": {
     "languageId": "r"
    }
   },
   "outputs": [
    {
     "data": {
      "text/html": [
       "<table class=\"dataframe\">\n",
       "<caption>A data.frame: 1 × 1</caption>\n",
       "<thead>\n",
       "\t<tr><th></th><th scope=col>k</th></tr>\n",
       "\t<tr><th></th><th scope=col>&lt;dbl&gt;</th></tr>\n",
       "</thead>\n",
       "<tbody>\n",
       "\t<tr><th scope=row>5</th><td>5</td></tr>\n",
       "</tbody>\n",
       "</table>\n"
      ],
      "text/latex": [
       "A data.frame: 1 × 1\n",
       "\\begin{tabular}{r|l}\n",
       "  & k\\\\\n",
       "  & <dbl>\\\\\n",
       "\\hline\n",
       "\t5 & 5\\\\\n",
       "\\end{tabular}\n"
      ],
      "text/markdown": [
       "\n",
       "A data.frame: 1 × 1\n",
       "\n",
       "| <!--/--> | k &lt;dbl&gt; |\n",
       "|---|---|\n",
       "| 5 | 5 |\n",
       "\n"
      ],
      "text/plain": [
       "  k\n",
       "5 5"
      ]
     },
     "metadata": {},
     "output_type": "display_data"
    }
   ],
   "source": [
    "knn_grid <- data.frame(k=seq(1, 10, by=1))\n",
    "knn_control <- trainControl(method='cv', number=5)\n",
    "knn <- caret::train(type ~ ., data=train, method='knn', trControl=knn_control, tuneGrid=knn_grid)\n",
    "knn$bestTune"
   ]
  },
  {
   "cell_type": "code",
   "execution_count": 110,
   "metadata": {
    "vscode": {
     "languageId": "r"
    }
   },
   "outputs": [
    {
     "name": "stdout",
     "output_type": "stream",
     "text": [
      " Accuracy \n",
      "0.8504348 \n",
      "          Reference\n",
      "Prediction nonspam spam\n",
      "   nonspam     639   58\n",
      "   spam        114  339\n"
     ]
    }
   ],
   "source": [
    "knn_pred <- predict(knn, newdata=test)\n",
    "knn_cm <- confusionMatrix(test$type, knn_pred)\n",
    "print(knn_cm$overall[1])\n",
    "print(knn_cm$table)"
   ]
  },
  {
   "cell_type": "markdown",
   "metadata": {},
   "source": [
    "Random forest"
   ]
  },
  {
   "cell_type": "code",
   "execution_count": 111,
   "metadata": {
    "vscode": {
     "languageId": "r"
    }
   },
   "outputs": [
    {
     "data": {
      "text/html": [
       "<table class=\"dataframe\">\n",
       "<caption>A data.frame: 1 × 1</caption>\n",
       "<thead>\n",
       "\t<tr><th></th><th scope=col>mtry</th></tr>\n",
       "\t<tr><th></th><th scope=col>&lt;int&gt;</th></tr>\n",
       "</thead>\n",
       "<tbody>\n",
       "\t<tr><th scope=row>3</th><td>3</td></tr>\n",
       "</tbody>\n",
       "</table>\n"
      ],
      "text/latex": [
       "A data.frame: 1 × 1\n",
       "\\begin{tabular}{r|l}\n",
       "  & mtry\\\\\n",
       "  & <int>\\\\\n",
       "\\hline\n",
       "\t3 & 3\\\\\n",
       "\\end{tabular}\n"
      ],
      "text/markdown": [
       "\n",
       "A data.frame: 1 × 1\n",
       "\n",
       "| <!--/--> | mtry &lt;int&gt; |\n",
       "|---|---|\n",
       "| 3 | 3 |\n",
       "\n"
      ],
      "text/plain": [
       "  mtry\n",
       "3 3   "
      ]
     },
     "metadata": {},
     "output_type": "display_data"
    }
   ],
   "source": [
    "rf_grid <- expand.grid(mtry=seq(1, 6))\n",
    "rf_control <- trainControl(method='cv', number=5)\n",
    "rf <- caret::train(type ~ ., data=train, method='rf', trControl=rf_control, tuneGrid=rf_grid)\n",
    "rf$bestTune"
   ]
  },
  {
   "cell_type": "code",
   "execution_count": 112,
   "metadata": {
    "vscode": {
     "languageId": "r"
    }
   },
   "outputs": [
    {
     "name": "stdout",
     "output_type": "stream",
     "text": [
      "Accuracy \n",
      "0.866087 \n",
      "          Reference\n",
      "Prediction nonspam spam\n",
      "   nonspam     648   49\n",
      "   spam        105  348\n"
     ]
    }
   ],
   "source": [
    "rf_pred <- predict(rf, newdata=test)\n",
    "rf_cm <- confusionMatrix(test$type, rf_pred)\n",
    "print(rf_cm$overall[1])\n",
    "print(rf_cm$table)"
   ]
  },
  {
   "cell_type": "code",
   "execution_count": null,
   "metadata": {
    "vscode": {
     "languageId": "r"
    }
   },
   "outputs": [],
   "source": []
  }
 ],
 "metadata": {
  "kernelspec": {
   "display_name": "R",
   "language": "R",
   "name": "ir"
  },
  "language_info": {
   "codemirror_mode": "r",
   "file_extension": ".r",
   "mimetype": "text/x-r-source",
   "name": "R",
   "pygments_lexer": "r",
   "version": "4.3.1"
  }
 },
 "nbformat": 4,
 "nbformat_minor": 5
}
