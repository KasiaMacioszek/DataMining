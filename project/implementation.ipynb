{
 "cells": [
  {
   "cell_type": "code",
   "execution_count": 1,
   "id": "7faad1ae",
   "metadata": {
    "vscode": {
     "languageId": "r"
    }
   },
   "outputs": [
    {
     "name": "stderr",
     "output_type": "stream",
     "text": [
      "Warning message:\n",
      "\"pakiet 'caret' został zbudowany w wersji R 4.3.2\"\n",
      "Ładowanie wymaganego pakietu: ggplot2\n",
      "\n",
      "\n",
      "Dołączanie pakietu: 'ggplot2'\n",
      "\n",
      "\n",
      "Następujący obiekt został zakryty z 'package:kernlab':\n",
      "\n",
      "    alpha\n",
      "\n",
      "\n",
      "Ładowanie wymaganego pakietu: lattice\n",
      "\n",
      "\n",
      "Dołączanie pakietu: 'dplyr'\n",
      "\n",
      "\n",
      "Następujące obiekty zostały zakryte z 'package:stats':\n",
      "\n",
      "    filter, lag\n",
      "\n",
      "\n",
      "Następujące obiekty zostały zakryte z 'package:base':\n",
      "\n",
      "    intersect, setdiff, setequal, union\n",
      "\n",
      "\n",
      "Warning message:\n",
      "\"pakiet 'MASS' został zbudowany w wersji R 4.3.2\"\n",
      "\n",
      "Dołączanie pakietu: 'MASS'\n",
      "\n",
      "\n",
      "Następujący obiekt został zakryty z 'package:dplyr':\n",
      "\n",
      "    select\n",
      "\n",
      "\n",
      "Warning message:\n",
      "\"pakiet 'randomForest' został zbudowany w wersji R 4.3.2\"\n",
      "randomForest 4.7-1.1\n",
      "\n",
      "Type rfNews() to see new features/changes/bug fixes.\n",
      "\n",
      "\n",
      "Dołączanie pakietu: 'randomForest'\n",
      "\n",
      "\n",
      "Następujący obiekt został zakryty z 'package:dplyr':\n",
      "\n",
      "    combine\n",
      "\n",
      "\n",
      "Następujący obiekt został zakryty z 'package:ggplot2':\n",
      "\n",
      "    margin\n",
      "\n",
      "\n"
     ]
    }
   ],
   "source": [
    "library(kernlab)\n",
    "library(finalfit)\n",
    "library(caret)\n",
    "library(ggplot2)\n",
    "library(dplyr)\n",
    "library(MASS)\n",
    "library(randomForest)"
   ]
  },
  {
   "cell_type": "markdown",
   "metadata": {},
   "source": [
    "# Data load and EDA\n",
    "\n",
    "Most of the code for EDA was included in .rnw file. Here we mostly include classification algorithms to avoid computational issues while generating pdf."
   ]
  },
  {
   "cell_type": "code",
   "execution_count": 2,
   "id": "2bcd01d2",
   "metadata": {
    "vscode": {
     "languageId": "r"
    }
   },
   "outputs": [],
   "source": [
    "data(spam)"
   ]
  },
  {
   "cell_type": "markdown",
   "id": "c17a2bb9",
   "metadata": {},
   "source": [
    "##### Target class distribution"
   ]
  },
  {
   "cell_type": "code",
   "execution_count": 7,
   "id": "3ff05031",
   "metadata": {
    "vscode": {
     "languageId": "r"
    }
   },
   "outputs": [
    {
     "data": {
      "image/png": "[encoded data removed]",
      "text/plain": [
       "plot without title"
      ]
     },
     "metadata": {
      "image/png": {
       "height": 540,
       "width": 840
      }
     },
     "output_type": "display_data"
    }
   ],
   "source": [
    "options(repr.plot.width = 14, repr.plot.height = 9)\n",
    "ggplot(spam, aes(x=type)) +\n",
    "    geom_bar(fill='seagreen4') +\n",
    "    ggtitle('Variable type group count') +\n",
    "    theme(\n",
    "        plot.title = element_text(size = 30),\n",
    "        axis.title = element_text(size = 22),         \n",
    "        axis.text.x = element_text(size = 18),        \n",
    "        axis.text.y = element_text(size = 18)\n",
    "        )"
   ]
  },
  {
   "cell_type": "code",
   "execution_count": 32,
   "metadata": {
    "vscode": {
     "languageId": "r"
    }
   },
   "outputs": [
    {
     "data": {
      "text/html": [
       "<style>\n",
       ".list-inline {list-style: none; margin:0; padding: 0}\n",
       ".list-inline>li {display: inline-block}\n",
       ".list-inline>li:not(:last-child)::after {content: \"\\00b7\"; padding: 0 .5ex}\n",
       "</style>\n",
       "<ol class=list-inline><li>32</li><li>34</li></ol>\n"
      ],
      "text/latex": [
       "\\begin{enumerate*}\n",
       "\\item 32\n",
       "\\item 34\n",
       "\\end{enumerate*}\n"
      ],
      "text/markdown": [
       "1. 32\n",
       "2. 34\n",
       "\n",
       "\n"
      ],
      "text/plain": [
       "[1] 32 34"
      ]
     },
     "metadata": {},
     "output_type": "display_data"
    }
   ],
   "source": [
    "findCorrelation(cor(spam[1:57]), cutoff=0.8)"
   ]
  },
  {
   "cell_type": "code",
   "execution_count": 3,
   "metadata": {
    "vscode": {
     "languageId": "r"
    }
   },
   "outputs": [],
   "source": [
    "spam <- spam[, -c(32, 34)]"
   ]
  },
  {
   "cell_type": "markdown",
   "metadata": {},
   "source": [
    "# Data transformations"
   ]
  },
  {
   "cell_type": "code",
   "execution_count": 4,
   "metadata": {
    "vscode": {
     "languageId": "r"
    }
   },
   "outputs": [],
   "source": [
    "numeric_columns <- spam[, 1:55]\n",
    "log_data <- as.data.frame(log(numeric_columns+0.1))\n",
    "spam_log <- cbind(log_data, spam[, 56, drop = FALSE])\n",
    "scaled_data <- as.data.frame(scale(numeric_columns))\n",
    "spam_scaled <- cbind(scaled_data, spam[, 56, drop = FALSE])"
   ]
  },
  {
   "cell_type": "markdown",
   "metadata": {},
   "source": [
    "# Classification error plots for KNN and Random forest"
   ]
  },
  {
   "cell_type": "markdown",
   "metadata": {},
   "source": [
    "#### KNN"
   ]
  },
  {
   "cell_type": "code",
   "execution_count": 7,
   "metadata": {
    "vscode": {
     "languageId": "r"
    }
   },
   "outputs": [],
   "source": [
    "ks <- seq(1, 10)\n",
    "avg_errs <- seq(1, 10)\n",
    "\n",
    "for (i in 1:10) {\n",
    "    errs <- seq(1, 100)\n",
    "    for (j in 1:100) {\n",
    "        train_ind <- createDataPartition(spam_scaled$type, p=0.75, list=FALSE)\n",
    "        trn <- spam_scaled[train_ind,]\n",
    "        tst  <- spam_scaled[-train_ind,]\n",
    "        knn_grid <- data.frame(k=c(ks[i]))\n",
    "        knn <- caret::train(type ~ ., data=trn, method='knn', tuneGrid=knn_grid)\n",
    "        knn_pred <- predict(knn, newdata=tst)\n",
    "        knn_cm <- confusionMatrix(tst$type, knn_pred)\n",
    "        errs[j] <- 1 - as.numeric(knn_cm$overall['Accuracy'])\n",
    "    }\n",
    "    avg_errs[i] <- mean(errs)\n",
    "}"
   ]
  },
  {
   "cell_type": "code",
   "execution_count": 8,
   "metadata": {
    "vscode": {
     "languageId": "r"
    }
   },
   "outputs": [],
   "source": [
    "ks <- seq(1, 10)\n",
    "avg_errs1 <- seq(1, 10)\n",
    "\n",
    "for (i in 1:10) {\n",
    "    errs <- seq(1, 100)\n",
    "    for (j in 1:100) {\n",
    "        train_ind <- createDataPartition(spam_log$type, p=0.75, list=FALSE)\n",
    "        trn <- spam_log[train_ind,]\n",
    "        tst  <- spam_log[-train_ind,]\n",
    "        knn_grid <- data.frame(k=c(ks[i]))\n",
    "        knn <- caret::train(type ~ ., data=trn, method='knn', tuneGrid=knn_grid)\n",
    "        knn_pred <- predict(knn, newdata=tst)\n",
    "        knn_cm <- confusionMatrix(tst$type, knn_pred)\n",
    "        errs[j] <- 1 - as.numeric(knn_cm$overall['Accuracy'])\n",
    "    }\n",
    "    avg_errs1[i] <- mean(errs)\n",
    "}"
   ]
  },
  {
   "cell_type": "code",
   "execution_count": 9,
   "metadata": {
    "vscode": {
     "languageId": "r"
    }
   },
   "outputs": [],
   "source": [
    "knn_errs <- data.frame(\n",
    "  x = rep(1:10, times = 2),\n",
    "  y = c(avg_errs, avg_errs1),\n",
    "  group = rep(c('zscore transformation', 'log(x+0.1) transformation'), each = 10)\n",
    ")\n",
    "\n",
    "write.csv(knn_errs, 'knn_errs.csv', row.names=FALSE)"
   ]
  },
  {
   "cell_type": "code",
   "execution_count": 12,
   "metadata": {
    "vscode": {
     "languageId": "r"
    }
   },
   "outputs": [
    {
     "data": {
      "image/png": "[encoded data removed]",
      "text/plain": [
       "plot without title"
      ]
     },
     "metadata": {
      "image/png": {
       "height": 600,
       "width": 960
      }
     },
     "output_type": "display_data"
    }
   ],
   "source": [
    "knn_errs <- read.csv('knn_errs.csv')\n",
    "\n",
    "options(repr.plot.width = 16, repr.plot.height = 10)\n",
    "ggplot(knn_errs, aes(x = x, y = y, color = group)) +\n",
    "  geom_line(linewidth=1.5)  + \n",
    "  labs(x = 'k', y = 'avg error', title = 'Average classification error for KNN') +\n",
    "  scale_x_continuous(breaks=seq(1, 10, by = 1)) +\n",
    "  scale_color_manual(values=c('seagreen4', 'darkolivegreen3')) +\n",
    "  theme(\n",
    "      plot.title = element_text(size = 30),\n",
    "      axis.title = element_text(size = 22),         \n",
    "      axis.text.x = element_text(size = 18),        \n",
    "      axis.text.y = element_text(size = 18),\n",
    "      legend.text = element_text(size = 16),        \n",
    "      legend.title = element_text(size = 18),\n",
    "      legend.position = 'top')"
   ]
  },
  {
   "cell_type": "markdown",
   "metadata": {},
   "source": [
    "#### Random forest"
   ]
  },
  {
   "cell_type": "code",
   "execution_count": 106,
   "metadata": {
    "vscode": {
     "languageId": "r"
    }
   },
   "outputs": [],
   "source": [
    "mtrys <- seq(1, 55, by=5)\n",
    "n <- length(mtrys)\n",
    "avg_errs2 <- seq(1, n)\n",
    "\n",
    "for (i in 1:n) {\n",
    "    errs <- seq(1, 100)\n",
    "    for (j in 1:100) {\n",
    "        train_ind <- createDataPartition(spam_scaled$type, p=0.75, list=FALSE)\n",
    "        trn <- spam_scaled[train_ind,]\n",
    "        tst  <- spam_scaled[-train_ind,]\n",
    "        rf_grid <- data.frame(mtry=c(mtrys[i]))\n",
    "        rf <- caret::train(type ~ ., data=trn, method='rf', tuneGrid=rf_grid, ntree=100)\n",
    "        rf_pred <- predict(rf, newdata=tst)\n",
    "        rf_cm <- confusionMatrix(tst$type, rf_pred)\n",
    "        errs[j] <- 1 - as.numeric(rf_cm$overall['Accuracy'])\n",
    "    }\n",
    "    avg_errs2[i] <- mean(errs)\n",
    "}"
   ]
  },
  {
   "cell_type": "code",
   "execution_count": 107,
   "metadata": {
    "vscode": {
     "languageId": "r"
    }
   },
   "outputs": [],
   "source": [
    "mtrys <- seq(1, 55, by=5)\n",
    "n <- length(mtrys)\n",
    "avg_errs3 <- seq(1, n)\n",
    "\n",
    "for (i in 1:n) {\n",
    "    errs <- seq(1, 100)\n",
    "    for (j in 1:100) {\n",
    "        train_ind <- createDataPartition(spam_log$type, p=0.75, list=FALSE)\n",
    "        trn <- spam_log[train_ind,]\n",
    "        tst  <- spam_log[-train_ind,]\n",
    "        rf_grid <- data.frame(mtry=c(mtrys[i]))\n",
    "        rf <- caret::train(type ~ ., data=trn, method='rf', tuneGrid=rf_grid, ntree=100)\n",
    "        rf_pred <- predict(rf, newdata=tst)\n",
    "        rf_cm <- confusionMatrix(tst$type, rf_pred)\n",
    "        errs[j] <- 1 - as.numeric(rf_cm$overall['Accuracy'])\n",
    "    }\n",
    "    avg_errs3[i] <- mean(errs)\n",
    "}"
   ]
  },
  {
   "cell_type": "code",
   "execution_count": 108,
   "metadata": {
    "vscode": {
     "languageId": "r"
    }
   },
   "outputs": [],
   "source": [
    "rf_errs <- data.frame(\n",
    "  x = rep(seq(1, 55, by=5), times=2),\n",
    "  y = c(avg_errs2, avg_errs3),\n",
    "  group = rep(c('zscore transformation', 'log(x+0.1) transformation'), each = n)\n",
    ")\n",
    "\n",
    "write.csv(rf_errs, 'rf_errs.csv', row.names=FALSE)"
   ]
  },
  {
   "cell_type": "code",
   "execution_count": 11,
   "metadata": {
    "vscode": {
     "languageId": "r"
    }
   },
   "outputs": [
    {
     "data": {
      "image/png": "[encoded data removed]",
      "text/plain": [
       "plot without title"
      ]
     },
     "metadata": {
      "image/png": {
       "height": 600,
       "width": 960
      }
     },
     "output_type": "display_data"
    }
   ],
   "source": [
    "rf_errs <- read.csv('rf_errs.csv')\n",
    "\n",
    "options(repr.plot.width = 16, repr.plot.height = 10)\n",
    "ggplot(rf_errs, aes(x = x, y = y, color = group)) +\n",
    "  geom_line(linewidth=1.5)  + \n",
    "  labs(x = 'mtry', y = 'avg error', title = 'Average classification error for Random Forest') +\n",
    "  scale_x_continuous(breaks=seq(1, 55, by=5)) +\n",
    "  scale_color_manual(values=c('seagreen4', 'darkolivegreen3')) +\n",
    "  theme(\n",
    "      plot.title = element_text(size = 30),\n",
    "      axis.title = element_text(size = 22),         \n",
    "      axis.text.x = element_text(size = 18),        \n",
    "      axis.text.y = element_text(size = 18),\n",
    "      legend.text = element_text(size = 16),        \n",
    "      legend.title = element_text(size = 18),\n",
    "      legend.position = 'top')"
   ]
  },
  {
   "cell_type": "markdown",
   "metadata": {},
   "source": [
    "# Evaluation of the models"
   ]
  },
  {
   "cell_type": "code",
   "execution_count": 6,
   "metadata": {
    "vscode": {
     "languageId": "r"
    }
   },
   "outputs": [],
   "source": [
    "train_indices <- createDataPartition(spam_scaled$type, p = 0.75, list = FALSE)"
   ]
  },
  {
   "cell_type": "markdown",
   "id": "48b8d92c",
   "metadata": {
    "vscode": {
     "languageId": "r"
    }
   },
   "source": [
    "### All features"
   ]
  },
  {
   "cell_type": "code",
   "execution_count": 109,
   "metadata": {
    "vscode": {
     "languageId": "r"
    }
   },
   "outputs": [],
   "source": [
    "train <- spam_log[train_indices,]\n",
    "test  <- spam_log[-train_indices,]"
   ]
  },
  {
   "cell_type": "code",
   "execution_count": 67,
   "metadata": {
    "vscode": {
     "languageId": "r"
    }
   },
   "outputs": [],
   "source": [
    "train_scaled <- spam_scaled[train_indices,]\n",
    "test_scaled <- spam_scaled[-train_indices,]"
   ]
  },
  {
   "cell_type": "markdown",
   "metadata": {},
   "source": [
    "KNN"
   ]
  },
  {
   "cell_type": "code",
   "execution_count": 27,
   "metadata": {
    "vscode": {
     "languageId": "r"
    }
   },
   "outputs": [
    {
     "data": {
      "text/html": [
       "<table class=\"dataframe\">\n",
       "<caption>A data.frame: 1 × 1</caption>\n",
       "<thead>\n",
       "\t<tr><th></th><th scope=col>k</th></tr>\n",
       "\t<tr><th></th><th scope=col>&lt;dbl&gt;</th></tr>\n",
       "</thead>\n",
       "<tbody>\n",
       "\t<tr><th scope=row>3</th><td>3</td></tr>\n",
       "</tbody>\n",
       "</table>\n"
      ],
      "text/latex": [
       "A data.frame: 1 × 1\n",
       "\\begin{tabular}{r|l}\n",
       "  & k\\\\\n",
       "  & <dbl>\\\\\n",
       "\\hline\n",
       "\t3 & 3\\\\\n",
       "\\end{tabular}\n"
      ],
      "text/markdown": [
       "\n",
       "A data.frame: 1 × 1\n",
       "\n",
       "| <!--/--> | k &lt;dbl&gt; |\n",
       "|---|---|\n",
       "| 3 | 3 |\n",
       "\n"
      ],
      "text/plain": [
       "  k\n",
       "3 3"
      ]
     },
     "metadata": {},
     "output_type": "display_data"
    }
   ],
   "source": [
    "knn_grid <- data.frame(k=seq(1, 10, by=1))\n",
    "knn_control <- trainControl(method='cv', number=5)\n",
    "knn <- caret::train(type ~ ., data=train, method='knn', trControl=knn_control, tuneGrid=knn_grid)\n",
    "knn$bestTune"
   ]
  },
  {
   "cell_type": "code",
   "execution_count": 28,
   "metadata": {
    "vscode": {
     "languageId": "r"
    }
   },
   "outputs": [
    {
     "data": {
      "text/plain": [
       "Confusion Matrix and Statistics\n",
       "\n",
       "          Reference\n",
       "Prediction nonspam spam\n",
       "   nonspam     665   32\n",
       "   spam         38  415\n",
       "                                          \n",
       "               Accuracy : 0.9391          \n",
       "                 95% CI : (0.9237, 0.9522)\n",
       "    No Information Rate : 0.6113          \n",
       "    P-Value [Acc > NIR] : <2e-16          \n",
       "                                          \n",
       "                  Kappa : 0.8722          \n",
       "                                          \n",
       " Mcnemar's Test P-Value : 0.5501          \n",
       "                                          \n",
       "            Sensitivity : 0.9284          \n",
       "            Specificity : 0.9459          \n",
       "         Pos Pred Value : 0.9161          \n",
       "         Neg Pred Value : 0.9541          \n",
       "             Prevalence : 0.3887          \n",
       "         Detection Rate : 0.3609          \n",
       "   Detection Prevalence : 0.3939          \n",
       "      Balanced Accuracy : 0.9372          \n",
       "                                          \n",
       "       'Positive' Class : spam            \n",
       "                                          "
      ]
     },
     "metadata": {},
     "output_type": "display_data"
    }
   ],
   "source": [
    "knn_pred <- predict(knn, newdata=test)\n",
    "knn_cm <- confusionMatrix(test$type, knn_pred, positive = \"spam\")\n",
    "knn_cm"
   ]
  },
  {
   "cell_type": "markdown",
   "metadata": {},
   "source": [
    "Random forest"
   ]
  },
  {
   "cell_type": "code",
   "execution_count": 64,
   "metadata": {
    "vscode": {
     "languageId": "r"
    }
   },
   "outputs": [
    {
     "data": {
      "text/html": [
       "<table class=\"dataframe\">\n",
       "<caption>A data.frame: 1 × 1</caption>\n",
       "<thead>\n",
       "\t<tr><th></th><th scope=col>mtry</th></tr>\n",
       "\t<tr><th></th><th scope=col>&lt;dbl&gt;</th></tr>\n",
       "</thead>\n",
       "<tbody>\n",
       "\t<tr><th scope=row>2</th><td>6</td></tr>\n",
       "</tbody>\n",
       "</table>\n"
      ],
      "text/latex": [
       "A data.frame: 1 × 1\n",
       "\\begin{tabular}{r|l}\n",
       "  & mtry\\\\\n",
       "  & <dbl>\\\\\n",
       "\\hline\n",
       "\t2 & 6\\\\\n",
       "\\end{tabular}\n"
      ],
      "text/markdown": [
       "\n",
       "A data.frame: 1 × 1\n",
       "\n",
       "| <!--/--> | mtry &lt;dbl&gt; |\n",
       "|---|---|\n",
       "| 2 | 6 |\n",
       "\n"
      ],
      "text/plain": [
       "  mtry\n",
       "2 6   "
      ]
     },
     "metadata": {},
     "output_type": "display_data"
    }
   ],
   "source": [
    "rf_grid <- expand.grid(mtry=seq(1, 51, by=5))\n",
    "rf_control <- trainControl(method='cv', number=5)\n",
    "rf <- caret::train(type ~ ., data=train, method='rf', trControl=rf_control, tuneGrid=rf_grid, ntree=100)\n",
    "rf$bestTune"
   ]
  },
  {
   "cell_type": "code",
   "execution_count": 65,
   "metadata": {
    "vscode": {
     "languageId": "r"
    }
   },
   "outputs": [
    {
     "data": {
      "text/plain": [
       "Confusion Matrix and Statistics\n",
       "\n",
       "          Reference\n",
       "Prediction nonspam spam\n",
       "   nonspam     677   20\n",
       "   spam         41  412\n",
       "                                          \n",
       "               Accuracy : 0.947           \n",
       "                 95% CI : (0.9324, 0.9592)\n",
       "    No Information Rate : 0.6243          \n",
       "    P-Value [Acc > NIR] : < 2e-16         \n",
       "                                          \n",
       "                  Kappa : 0.888           \n",
       "                                          \n",
       " Mcnemar's Test P-Value : 0.01045         \n",
       "                                          \n",
       "            Sensitivity : 0.9537          \n",
       "            Specificity : 0.9429          \n",
       "         Pos Pred Value : 0.9095          \n",
       "         Neg Pred Value : 0.9713          \n",
       "             Prevalence : 0.3757          \n",
       "         Detection Rate : 0.3583          \n",
       "   Detection Prevalence : 0.3939          \n",
       "      Balanced Accuracy : 0.9483          \n",
       "                                          \n",
       "       'Positive' Class : spam            \n",
       "                                          "
      ]
     },
     "metadata": {},
     "output_type": "display_data"
    }
   ],
   "source": [
    "rf_pred <- predict(rf, newdata=test)\n",
    "rf_cm <- confusionMatrix(test$type, rf_pred, positive = \"spam\")\n",
    "rf_cm"
   ]
  },
  {
   "cell_type": "markdown",
   "metadata": {},
   "source": [
    "LDA and QDA (first for z-scaled data and then for log-transformed data)"
   ]
  },
  {
   "cell_type": "code",
   "execution_count": 68,
   "metadata": {
    "vscode": {
     "languageId": "r"
    }
   },
   "outputs": [],
   "source": [
    "lda_fit <- lda(type ~ ., data = train_scaled)\n",
    "lda_predictions <- predict(lda_fit, test_scaled)\n",
    "qda_fit <- qda(type ~ ., data = train_scaled)\n",
    "qda_predictions <- predict(qda_fit, test_scaled)"
   ]
  },
  {
   "cell_type": "code",
   "execution_count": 69,
   "metadata": {
    "vscode": {
     "languageId": "r"
    }
   },
   "outputs": [],
   "source": [
    "lda_cm <- confusionMatrix(test$type, lda_predictions$class, positive = \"spam\")\n",
    "qda_cm <- confusionMatrix(test$type, qda_predictions$class, positive = \"spam\")"
   ]
  },
  {
   "cell_type": "code",
   "execution_count": 70,
   "metadata": {
    "vscode": {
     "languageId": "r"
    }
   },
   "outputs": [
    {
     "data": {
      "text/plain": [
       "Confusion Matrix and Statistics\n",
       "\n",
       "          Reference\n",
       "Prediction nonspam spam\n",
       "   nonspam     661   36\n",
       "   spam         90  363\n",
       "                                          \n",
       "               Accuracy : 0.8904          \n",
       "                 95% CI : (0.8709, 0.9079)\n",
       "    No Information Rate : 0.653           \n",
       "    P-Value [Acc > NIR] : < 2.2e-16       \n",
       "                                          \n",
       "                  Kappa : 0.7657          \n",
       "                                          \n",
       " Mcnemar's Test P-Value : 2.34e-06        \n",
       "                                          \n",
       "            Sensitivity : 0.9098          \n",
       "            Specificity : 0.8802          \n",
       "         Pos Pred Value : 0.8013          \n",
       "         Neg Pred Value : 0.9484          \n",
       "             Prevalence : 0.3470          \n",
       "         Detection Rate : 0.3157          \n",
       "   Detection Prevalence : 0.3939          \n",
       "      Balanced Accuracy : 0.8950          \n",
       "                                          \n",
       "       'Positive' Class : spam            \n",
       "                                          "
      ]
     },
     "metadata": {},
     "output_type": "display_data"
    }
   ],
   "source": [
    "lda_cm"
   ]
  },
  {
   "cell_type": "code",
   "execution_count": 71,
   "metadata": {
    "vscode": {
     "languageId": "r"
    }
   },
   "outputs": [
    {
     "data": {
      "text/plain": [
       "Confusion Matrix and Statistics\n",
       "\n",
       "          Reference\n",
       "Prediction nonspam spam\n",
       "   nonspam     539  158\n",
       "   spam         18  435\n",
       "                                          \n",
       "               Accuracy : 0.847           \n",
       "                 95% CI : (0.8248, 0.8673)\n",
       "    No Information Rate : 0.5157          \n",
       "    P-Value [Acc > NIR] : < 2.2e-16       \n",
       "                                          \n",
       "                  Kappa : 0.6959          \n",
       "                                          \n",
       " Mcnemar's Test P-Value : < 2.2e-16       \n",
       "                                          \n",
       "            Sensitivity : 0.7336          \n",
       "            Specificity : 0.9677          \n",
       "         Pos Pred Value : 0.9603          \n",
       "         Neg Pred Value : 0.7733          \n",
       "             Prevalence : 0.5157          \n",
       "         Detection Rate : 0.3783          \n",
       "   Detection Prevalence : 0.3939          \n",
       "      Balanced Accuracy : 0.8506          \n",
       "                                          \n",
       "       'Positive' Class : spam            \n",
       "                                          "
      ]
     },
     "metadata": {},
     "output_type": "display_data"
    }
   ],
   "source": [
    "qda_cm"
   ]
  },
  {
   "cell_type": "code",
   "execution_count": 113,
   "metadata": {
    "vscode": {
     "languageId": "r"
    }
   },
   "outputs": [],
   "source": [
    "lda_fit <- lda(type ~ ., data = train)\n",
    "lda_predictions <- predict(lda_fit, test)\n",
    "qda_fit <- qda(type ~ ., data = train)\n",
    "qda_predictions <- predict(qda_fit, test)"
   ]
  },
  {
   "cell_type": "code",
   "execution_count": 114,
   "metadata": {
    "vscode": {
     "languageId": "r"
    }
   },
   "outputs": [],
   "source": [
    "lda_cm <- confusionMatrix(test$type, lda_predictions$class, positive = \"spam\")\n",
    "qda_cm <- confusionMatrix(test$type, qda_predictions$class, positive = \"spam\")"
   ]
  },
  {
   "cell_type": "code",
   "execution_count": 115,
   "metadata": {
    "vscode": {
     "languageId": "r"
    }
   },
   "outputs": [
    {
     "data": {
      "text/plain": [
       "Confusion Matrix and Statistics\n",
       "\n",
       "          Reference\n",
       "Prediction nonspam spam\n",
       "   nonspam     675   22\n",
       "   spam         53  400\n",
       "                                          \n",
       "               Accuracy : 0.9348          \n",
       "                 95% CI : (0.9189, 0.9484)\n",
       "    No Information Rate : 0.633           \n",
       "    P-Value [Acc > NIR] : < 2.2e-16       \n",
       "                                          \n",
       "                  Kappa : 0.8618          \n",
       "                                          \n",
       " Mcnemar's Test P-Value : 0.000532        \n",
       "                                          \n",
       "            Sensitivity : 0.9479          \n",
       "            Specificity : 0.9272          \n",
       "         Pos Pred Value : 0.8830          \n",
       "         Neg Pred Value : 0.9684          \n",
       "             Prevalence : 0.3670          \n",
       "         Detection Rate : 0.3478          \n",
       "   Detection Prevalence : 0.3939          \n",
       "      Balanced Accuracy : 0.9375          \n",
       "                                          \n",
       "       'Positive' Class : spam            \n",
       "                                          "
      ]
     },
     "metadata": {},
     "output_type": "display_data"
    }
   ],
   "source": [
    "lda_cm"
   ]
  },
  {
   "cell_type": "code",
   "execution_count": 116,
   "metadata": {
    "vscode": {
     "languageId": "r"
    }
   },
   "outputs": [
    {
     "data": {
      "text/plain": [
       "Confusion Matrix and Statistics\n",
       "\n",
       "          Reference\n",
       "Prediction nonspam spam\n",
       "   nonspam     558  139\n",
       "   spam         25  428\n",
       "                                          \n",
       "               Accuracy : 0.8574          \n",
       "                 95% CI : (0.8358, 0.8771)\n",
       "    No Information Rate : 0.507           \n",
       "    P-Value [Acc > NIR] : < 2.2e-16       \n",
       "                                          \n",
       "                  Kappa : 0.7139          \n",
       "                                          \n",
       " Mcnemar's Test P-Value : < 2.2e-16       \n",
       "                                          \n",
       "            Sensitivity : 0.7549          \n",
       "            Specificity : 0.9571          \n",
       "         Pos Pred Value : 0.9448          \n",
       "         Neg Pred Value : 0.8006          \n",
       "             Prevalence : 0.4930          \n",
       "         Detection Rate : 0.3722          \n",
       "   Detection Prevalence : 0.3939          \n",
       "      Balanced Accuracy : 0.8560          \n",
       "                                          \n",
       "       'Positive' Class : spam            \n",
       "                                          "
      ]
     },
     "metadata": {},
     "output_type": "display_data"
    }
   ],
   "source": [
    "qda_cm"
   ]
  },
  {
   "cell_type": "markdown",
   "metadata": {
    "vscode": {
     "languageId": "r"
    }
   },
   "source": [
    "### Frequency only"
   ]
  },
  {
   "cell_type": "code",
   "execution_count": 75,
   "metadata": {
    "vscode": {
     "languageId": "r"
    }
   },
   "outputs": [],
   "source": [
    "spam_freq <- spam_log[, -c(53, 54, 55)]"
   ]
  },
  {
   "cell_type": "code",
   "execution_count": 76,
   "metadata": {
    "vscode": {
     "languageId": "r"
    }
   },
   "outputs": [],
   "source": [
    "train <- spam_freq[train_indices,]\n",
    "test <- spam_freq[-train_indices,]"
   ]
  },
  {
   "cell_type": "markdown",
   "metadata": {},
   "source": [
    "KNN"
   ]
  },
  {
   "cell_type": "code",
   "execution_count": 8,
   "metadata": {
    "vscode": {
     "languageId": "r"
    }
   },
   "outputs": [
    {
     "data": {
      "text/html": [
       "<table class=\"dataframe\">\n",
       "<caption>A data.frame: 1 × 1</caption>\n",
       "<thead>\n",
       "\t<tr><th></th><th scope=col>k</th></tr>\n",
       "\t<tr><th></th><th scope=col>&lt;dbl&gt;</th></tr>\n",
       "</thead>\n",
       "<tbody>\n",
       "\t<tr><th scope=row>3</th><td>3</td></tr>\n",
       "</tbody>\n",
       "</table>\n"
      ],
      "text/latex": [
       "A data.frame: 1 × 1\n",
       "\\begin{tabular}{r|l}\n",
       "  & k\\\\\n",
       "  & <dbl>\\\\\n",
       "\\hline\n",
       "\t3 & 3\\\\\n",
       "\\end{tabular}\n"
      ],
      "text/markdown": [
       "\n",
       "A data.frame: 1 × 1\n",
       "\n",
       "| <!--/--> | k &lt;dbl&gt; |\n",
       "|---|---|\n",
       "| 3 | 3 |\n",
       "\n"
      ],
      "text/plain": [
       "  k\n",
       "3 3"
      ]
     },
     "metadata": {},
     "output_type": "display_data"
    }
   ],
   "source": [
    "knn_grid <- data.frame(k=seq(1, 10, by=1))\n",
    "knn_control <- trainControl(method='cv', number=5)\n",
    "knn <- caret::train(type ~ ., data=train, method='knn', trControl=knn_control, tuneGrid=knn_grid)\n",
    "knn$bestTune    "
   ]
  },
  {
   "cell_type": "code",
   "execution_count": 9,
   "metadata": {
    "vscode": {
     "languageId": "r"
    }
   },
   "outputs": [
    {
     "data": {
      "text/plain": [
       "Confusion Matrix and Statistics\n",
       "\n",
       "          Reference\n",
       "Prediction nonspam spam\n",
       "   nonspam     662   35\n",
       "   spam         47  406\n",
       "                                          \n",
       "               Accuracy : 0.9287          \n",
       "                 95% CI : (0.9123, 0.9429)\n",
       "    No Information Rate : 0.6165          \n",
       "    P-Value [Acc > NIR] : <2e-16          \n",
       "                                          \n",
       "                  Kappa : 0.85            \n",
       "                                          \n",
       " Mcnemar's Test P-Value : 0.2245          \n",
       "                                          \n",
       "            Sensitivity : 0.9206          \n",
       "            Specificity : 0.9337          \n",
       "         Pos Pred Value : 0.8962          \n",
       "         Neg Pred Value : 0.9498          \n",
       "             Prevalence : 0.3835          \n",
       "         Detection Rate : 0.3530          \n",
       "   Detection Prevalence : 0.3939          \n",
       "      Balanced Accuracy : 0.9272          \n",
       "                                          \n",
       "       'Positive' Class : spam            \n",
       "                                          "
      ]
     },
     "metadata": {},
     "output_type": "display_data"
    }
   ],
   "source": [
    "knn_pred <- predict(knn, newdata=test)\n",
    "knn_cm <- confusionMatrix(test$type, knn_pred, positive=\"spam\")\n",
    "knn_cm"
   ]
  },
  {
   "cell_type": "markdown",
   "metadata": {},
   "source": [
    "Random forest"
   ]
  },
  {
   "cell_type": "code",
   "execution_count": 77,
   "metadata": {
    "vscode": {
     "languageId": "r"
    }
   },
   "outputs": [
    {
     "data": {
      "text/html": [
       "<table class=\"dataframe\">\n",
       "<caption>A data.frame: 1 × 1</caption>\n",
       "<thead>\n",
       "\t<tr><th></th><th scope=col>mtry</th></tr>\n",
       "\t<tr><th></th><th scope=col>&lt;dbl&gt;</th></tr>\n",
       "</thead>\n",
       "<tbody>\n",
       "\t<tr><th scope=row>2</th><td>6</td></tr>\n",
       "</tbody>\n",
       "</table>\n"
      ],
      "text/latex": [
       "A data.frame: 1 × 1\n",
       "\\begin{tabular}{r|l}\n",
       "  & mtry\\\\\n",
       "  & <dbl>\\\\\n",
       "\\hline\n",
       "\t2 & 6\\\\\n",
       "\\end{tabular}\n"
      ],
      "text/markdown": [
       "\n",
       "A data.frame: 1 × 1\n",
       "\n",
       "| <!--/--> | mtry &lt;dbl&gt; |\n",
       "|---|---|\n",
       "| 2 | 6 |\n",
       "\n"
      ],
      "text/plain": [
       "  mtry\n",
       "2 6   "
      ]
     },
     "metadata": {},
     "output_type": "display_data"
    }
   ],
   "source": [
    "rf_grid <- expand.grid(mtry=seq(1, 55, by=5))\n",
    "rf_control <- trainControl(method='cv', number=5)\n",
    "rf <- caret::train(type ~ ., data=train, method='rf', trControl=rf_control, tuneGrid=rf_grid, ntree=100)\n",
    "rf$bestTune"
   ]
  },
  {
   "cell_type": "code",
   "execution_count": 79,
   "metadata": {
    "vscode": {
     "languageId": "r"
    }
   },
   "outputs": [
    {
     "data": {
      "text/plain": [
       "Confusion Matrix and Statistics\n",
       "\n",
       "          Reference\n",
       "Prediction nonspam spam\n",
       "   nonspam     676   21\n",
       "   spam         37  416\n",
       "                                          \n",
       "               Accuracy : 0.9496          \n",
       "                 95% CI : (0.9353, 0.9615)\n",
       "    No Information Rate : 0.62            \n",
       "    P-Value [Acc > NIR] : < 2e-16         \n",
       "                                          \n",
       "                  Kappa : 0.8937          \n",
       "                                          \n",
       " Mcnemar's Test P-Value : 0.04888         \n",
       "                                          \n",
       "            Sensitivity : 0.9519          \n",
       "            Specificity : 0.9481          \n",
       "         Pos Pred Value : 0.9183          \n",
       "         Neg Pred Value : 0.9699          \n",
       "             Prevalence : 0.3800          \n",
       "         Detection Rate : 0.3617          \n",
       "   Detection Prevalence : 0.3939          \n",
       "      Balanced Accuracy : 0.9500          \n",
       "                                          \n",
       "       'Positive' Class : spam            \n",
       "                                          "
      ]
     },
     "metadata": {},
     "output_type": "display_data"
    }
   ],
   "source": [
    "rf_pred <- predict(rf, newdata=test)\n",
    "rf_cm <- confusionMatrix(test$type, rf_pred, positive=\"spam\")\n",
    "rf_cm"
   ]
  },
  {
   "cell_type": "markdown",
   "metadata": {},
   "source": [
    "LDA and QDA"
   ]
  },
  {
   "cell_type": "code",
   "execution_count": 80,
   "metadata": {
    "vscode": {
     "languageId": "r"
    }
   },
   "outputs": [],
   "source": [
    "lda_fit <- lda(type ~ ., data = train)\n",
    "lda_predictions <- predict(lda_fit, test)\n",
    "qda_fit <- qda(type ~ ., data = train)\n",
    "qda_predictions <- predict(qda_fit, test)"
   ]
  },
  {
   "cell_type": "code",
   "execution_count": 81,
   "metadata": {
    "vscode": {
     "languageId": "r"
    }
   },
   "outputs": [],
   "source": [
    "lda_cm <- confusionMatrix(test$type, lda_predictions$class, positive = \"spam\")\n",
    "qda_cm <- confusionMatrix(test$type, qda_predictions$class, positive = \"spam\")"
   ]
  },
  {
   "cell_type": "code",
   "execution_count": 82,
   "metadata": {
    "vscode": {
     "languageId": "r"
    }
   },
   "outputs": [
    {
     "data": {
      "text/plain": [
       "Confusion Matrix and Statistics\n",
       "\n",
       "          Reference\n",
       "Prediction nonspam spam\n",
       "   nonspam     670   27\n",
       "   spam         56  397\n",
       "                                          \n",
       "               Accuracy : 0.9278          \n",
       "                 95% CI : (0.9113, 0.9421)\n",
       "    No Information Rate : 0.6313          \n",
       "    P-Value [Acc > NIR] : < 2.2e-16       \n",
       "                                          \n",
       "                  Kappa : 0.8471          \n",
       "                                          \n",
       " Mcnemar's Test P-Value : 0.002116        \n",
       "                                          \n",
       "            Sensitivity : 0.9363          \n",
       "            Specificity : 0.9229          \n",
       "         Pos Pred Value : 0.8764          \n",
       "         Neg Pred Value : 0.9613          \n",
       "             Prevalence : 0.3687          \n",
       "         Detection Rate : 0.3452          \n",
       "   Detection Prevalence : 0.3939          \n",
       "      Balanced Accuracy : 0.9296          \n",
       "                                          \n",
       "       'Positive' Class : spam            \n",
       "                                          "
      ]
     },
     "metadata": {},
     "output_type": "display_data"
    }
   ],
   "source": [
    "lda_cm"
   ]
  },
  {
   "cell_type": "code",
   "execution_count": 83,
   "metadata": {
    "vscode": {
     "languageId": "r"
    }
   },
   "outputs": [
    {
     "data": {
      "text/plain": [
       "Confusion Matrix and Statistics\n",
       "\n",
       "          Reference\n",
       "Prediction nonspam spam\n",
       "   nonspam     552  145\n",
       "   spam         24  429\n",
       "                                         \n",
       "               Accuracy : 0.853          \n",
       "                 95% CI : (0.8312, 0.873)\n",
       "    No Information Rate : 0.5009         \n",
       "    P-Value [Acc > NIR] : < 2.2e-16      \n",
       "                                         \n",
       "                  Kappa : 0.706          \n",
       "                                         \n",
       " Mcnemar's Test P-Value : < 2.2e-16      \n",
       "                                         \n",
       "            Sensitivity : 0.7474         \n",
       "            Specificity : 0.9583         \n",
       "         Pos Pred Value : 0.9470         \n",
       "         Neg Pred Value : 0.7920         \n",
       "             Prevalence : 0.4991         \n",
       "         Detection Rate : 0.3730         \n",
       "   Detection Prevalence : 0.3939         \n",
       "      Balanced Accuracy : 0.8529         \n",
       "                                         \n",
       "       'Positive' Class : spam           \n",
       "                                         "
      ]
     },
     "metadata": {},
     "output_type": "display_data"
    }
   ],
   "source": [
    "qda_cm"
   ]
  },
  {
   "cell_type": "markdown",
   "metadata": {},
   "source": [
    "### Capital only"
   ]
  },
  {
   "cell_type": "code",
   "execution_count": 84,
   "metadata": {
    "vscode": {
     "languageId": "r"
    }
   },
   "outputs": [],
   "source": [
    "spam_capital <- spam_log[, 53:56]"
   ]
  },
  {
   "cell_type": "code",
   "execution_count": 85,
   "metadata": {
    "vscode": {
     "languageId": "r"
    }
   },
   "outputs": [],
   "source": [
    "train <- spam_capital[train_indices,]\n",
    "test  <- spam_capital[-train_indices,]"
   ]
  },
  {
   "cell_type": "markdown",
   "metadata": {},
   "source": [
    "KNN"
   ]
  },
  {
   "cell_type": "code",
   "execution_count": 17,
   "metadata": {
    "vscode": {
     "languageId": "r"
    }
   },
   "outputs": [
    {
     "data": {
      "text/html": [
       "<table class=\"dataframe\">\n",
       "<caption>A data.frame: 1 × 1</caption>\n",
       "<thead>\n",
       "\t<tr><th></th><th scope=col>k</th></tr>\n",
       "\t<tr><th></th><th scope=col>&lt;dbl&gt;</th></tr>\n",
       "</thead>\n",
       "<tbody>\n",
       "\t<tr><th scope=row>1</th><td>1</td></tr>\n",
       "</tbody>\n",
       "</table>\n"
      ],
      "text/latex": [
       "A data.frame: 1 × 1\n",
       "\\begin{tabular}{r|l}\n",
       "  & k\\\\\n",
       "  & <dbl>\\\\\n",
       "\\hline\n",
       "\t1 & 1\\\\\n",
       "\\end{tabular}\n"
      ],
      "text/markdown": [
       "\n",
       "A data.frame: 1 × 1\n",
       "\n",
       "| <!--/--> | k &lt;dbl&gt; |\n",
       "|---|---|\n",
       "| 1 | 1 |\n",
       "\n"
      ],
      "text/plain": [
       "  k\n",
       "1 1"
      ]
     },
     "metadata": {},
     "output_type": "display_data"
    }
   ],
   "source": [
    "knn_grid <- data.frame(k=seq(1, 10, by=1))\n",
    "knn_control <- trainControl(method='cv', number=5)\n",
    "knn <- caret::train(type ~ ., data=train, method='knn', trControl=knn_control, tuneGrid=knn_grid)\n",
    "knn$bestTune    "
   ]
  },
  {
   "cell_type": "code",
   "execution_count": 18,
   "metadata": {
    "vscode": {
     "languageId": "r"
    }
   },
   "outputs": [
    {
     "data": {
      "text/plain": [
       "Confusion Matrix and Statistics\n",
       "\n",
       "          Reference\n",
       "Prediction nonspam spam\n",
       "   nonspam     578  119\n",
       "   spam        112  341\n",
       "                                          \n",
       "               Accuracy : 0.7991          \n",
       "                 95% CI : (0.7748, 0.8219)\n",
       "    No Information Rate : 0.6             \n",
       "    P-Value [Acc > NIR] : <2e-16          \n",
       "                                          \n",
       "                  Kappa : 0.5805          \n",
       "                                          \n",
       " Mcnemar's Test P-Value : 0.693           \n",
       "                                          \n",
       "            Sensitivity : 0.7413          \n",
       "            Specificity : 0.8377          \n",
       "         Pos Pred Value : 0.7528          \n",
       "         Neg Pred Value : 0.8293          \n",
       "             Prevalence : 0.4000          \n",
       "         Detection Rate : 0.2965          \n",
       "   Detection Prevalence : 0.3939          \n",
       "      Balanced Accuracy : 0.7895          \n",
       "                                          \n",
       "       'Positive' Class : spam            \n",
       "                                          "
      ]
     },
     "metadata": {},
     "output_type": "display_data"
    }
   ],
   "source": [
    "knn_pred <- predict(knn, newdata=test)\n",
    "knn_cm <- confusionMatrix(test$type, knn_pred, positive=\"spam\")\n",
    "knn_cm"
   ]
  },
  {
   "cell_type": "markdown",
   "metadata": {},
   "source": [
    "Random forest"
   ]
  },
  {
   "cell_type": "code",
   "execution_count": 86,
   "metadata": {
    "vscode": {
     "languageId": "r"
    }
   },
   "outputs": [
    {
     "data": {
      "text/html": [
       "<table class=\"dataframe\">\n",
       "<caption>A data.frame: 1 × 1</caption>\n",
       "<thead>\n",
       "\t<tr><th></th><th scope=col>mtry</th></tr>\n",
       "\t<tr><th></th><th scope=col>&lt;int&gt;</th></tr>\n",
       "</thead>\n",
       "<tbody>\n",
       "\t<tr><th scope=row>1</th><td>1</td></tr>\n",
       "</tbody>\n",
       "</table>\n"
      ],
      "text/latex": [
       "A data.frame: 1 × 1\n",
       "\\begin{tabular}{r|l}\n",
       "  & mtry\\\\\n",
       "  & <int>\\\\\n",
       "\\hline\n",
       "\t1 & 1\\\\\n",
       "\\end{tabular}\n"
      ],
      "text/markdown": [
       "\n",
       "A data.frame: 1 × 1\n",
       "\n",
       "| <!--/--> | mtry &lt;int&gt; |\n",
       "|---|---|\n",
       "| 1 | 1 |\n",
       "\n"
      ],
      "text/plain": [
       "  mtry\n",
       "1 1   "
      ]
     },
     "metadata": {},
     "output_type": "display_data"
    }
   ],
   "source": [
    "rf_grid <- expand.grid(mtry=1:3)\n",
    "rf_control <- trainControl(method='cv', number=5)\n",
    "rf <- caret::train(type ~ ., data=train, method='rf', trControl=rf_control, tuneGrid=rf_grid, ntree=100)\n",
    "rf$bestTune"
   ]
  },
  {
   "cell_type": "code",
   "execution_count": 87,
   "metadata": {
    "vscode": {
     "languageId": "r"
    }
   },
   "outputs": [
    {
     "data": {
      "text/plain": [
       "Confusion Matrix and Statistics\n",
       "\n",
       "          Reference\n",
       "Prediction nonspam spam\n",
       "   nonspam     619   78\n",
       "   spam        120  333\n",
       "                                          \n",
       "               Accuracy : 0.8278          \n",
       "                 95% CI : (0.8047, 0.8492)\n",
       "    No Information Rate : 0.6426          \n",
       "    P-Value [Acc > NIR] : < 2.2e-16       \n",
       "                                          \n",
       "                  Kappa : 0.6335          \n",
       "                                          \n",
       " Mcnemar's Test P-Value : 0.003571        \n",
       "                                          \n",
       "            Sensitivity : 0.8102          \n",
       "            Specificity : 0.8376          \n",
       "         Pos Pred Value : 0.7351          \n",
       "         Neg Pred Value : 0.8881          \n",
       "             Prevalence : 0.3574          \n",
       "         Detection Rate : 0.2896          \n",
       "   Detection Prevalence : 0.3939          \n",
       "      Balanced Accuracy : 0.8239          \n",
       "                                          \n",
       "       'Positive' Class : spam            \n",
       "                                          "
      ]
     },
     "metadata": {},
     "output_type": "display_data"
    }
   ],
   "source": [
    "rf_pred <- predict(rf, newdata=test)\n",
    "rf_cm <- confusionMatrix(test$type, rf_pred, positive=\"spam\")\n",
    "rf_cm"
   ]
  },
  {
   "cell_type": "markdown",
   "metadata": {},
   "source": [
    "LDA and QDA"
   ]
  },
  {
   "cell_type": "code",
   "execution_count": 88,
   "metadata": {
    "vscode": {
     "languageId": "r"
    }
   },
   "outputs": [],
   "source": [
    "lda_fit <- lda(type ~ ., data = train)\n",
    "lda_predictions <- predict(lda_fit, test)\n",
    "qda_fit <- qda(type ~ ., data = train)\n",
    "qda_predictions <- predict(qda_fit, test)"
   ]
  },
  {
   "cell_type": "code",
   "execution_count": 89,
   "metadata": {
    "vscode": {
     "languageId": "r"
    }
   },
   "outputs": [],
   "source": [
    "lda_cm <- confusionMatrix(test$type, lda_predictions$class, positive = \"spam\")\n",
    "qda_cm <- confusionMatrix(test$type, qda_predictions$class, positive = \"spam\")"
   ]
  },
  {
   "cell_type": "code",
   "execution_count": 90,
   "metadata": {
    "vscode": {
     "languageId": "r"
    }
   },
   "outputs": [
    {
     "data": {
      "text/plain": [
       "Confusion Matrix and Statistics\n",
       "\n",
       "          Reference\n",
       "Prediction nonspam spam\n",
       "   nonspam     595  102\n",
       "   spam        208  245\n",
       "                                          \n",
       "               Accuracy : 0.7304          \n",
       "                 95% CI : (0.7038, 0.7559)\n",
       "    No Information Rate : 0.6983          \n",
       "    P-Value [Acc > NIR] : 0.009007        \n",
       "                                          \n",
       "                  Kappa : 0.4113          \n",
       "                                          \n",
       " Mcnemar's Test P-Value : 2.467e-09       \n",
       "                                          \n",
       "            Sensitivity : 0.7061          \n",
       "            Specificity : 0.7410          \n",
       "         Pos Pred Value : 0.5408          \n",
       "         Neg Pred Value : 0.8537          \n",
       "             Prevalence : 0.3017          \n",
       "         Detection Rate : 0.2130          \n",
       "   Detection Prevalence : 0.3939          \n",
       "      Balanced Accuracy : 0.7235          \n",
       "                                          \n",
       "       'Positive' Class : spam            \n",
       "                                          "
      ]
     },
     "metadata": {},
     "output_type": "display_data"
    }
   ],
   "source": [
    "lda_cm"
   ]
  },
  {
   "cell_type": "code",
   "execution_count": 91,
   "metadata": {
    "vscode": {
     "languageId": "r"
    }
   },
   "outputs": [
    {
     "data": {
      "text/plain": [
       "Confusion Matrix and Statistics\n",
       "\n",
       "          Reference\n",
       "Prediction nonspam spam\n",
       "   nonspam     619   78\n",
       "   spam        247  206\n",
       "                                          \n",
       "               Accuracy : 0.7174          \n",
       "                 95% CI : (0.6904, 0.7433)\n",
       "    No Information Rate : 0.753           \n",
       "    P-Value [Acc > NIR] : 0.9974          \n",
       "                                          \n",
       "                  Kappa : 0.3668          \n",
       "                                          \n",
       " Mcnemar's Test P-Value : <2e-16          \n",
       "                                          \n",
       "            Sensitivity : 0.7254          \n",
       "            Specificity : 0.7148          \n",
       "         Pos Pred Value : 0.4547          \n",
       "         Neg Pred Value : 0.8881          \n",
       "             Prevalence : 0.2470          \n",
       "         Detection Rate : 0.1791          \n",
       "   Detection Prevalence : 0.3939          \n",
       "      Balanced Accuracy : 0.7201          \n",
       "                                          \n",
       "       'Positive' Class : spam            \n",
       "                                          "
      ]
     },
     "metadata": {},
     "output_type": "display_data"
    }
   ],
   "source": [
    "qda_cm"
   ]
  },
  {
   "cell_type": "markdown",
   "metadata": {},
   "source": [
    "### Biggest diffs"
   ]
  },
  {
   "cell_type": "code",
   "execution_count": 92,
   "metadata": {
    "vscode": {
     "languageId": "r"
    }
   },
   "outputs": [],
   "source": [
    "spam_diffs <- spam_log[, c('george', 'you', 'your', 'hp', 'free', 'hpl', 'charExclamation', 'our', 're', 'edu', 'type')]"
   ]
  },
  {
   "cell_type": "code",
   "execution_count": 93,
   "metadata": {
    "vscode": {
     "languageId": "r"
    }
   },
   "outputs": [],
   "source": [
    "train <- spam_diffs[train_indices,]\n",
    "test  <- spam_diffs[-train_indices,]"
   ]
  },
  {
   "cell_type": "markdown",
   "metadata": {},
   "source": [
    "KNN"
   ]
  },
  {
   "cell_type": "code",
   "execution_count": 21,
   "metadata": {
    "vscode": {
     "languageId": "r"
    }
   },
   "outputs": [
    {
     "data": {
      "text/html": [
       "<table class=\"dataframe\">\n",
       "<caption>A data.frame: 1 × 1</caption>\n",
       "<thead>\n",
       "\t<tr><th></th><th scope=col>k</th></tr>\n",
       "\t<tr><th></th><th scope=col>&lt;dbl&gt;</th></tr>\n",
       "</thead>\n",
       "<tbody>\n",
       "\t<tr><th scope=row>10</th><td>10</td></tr>\n",
       "</tbody>\n",
       "</table>\n"
      ],
      "text/latex": [
       "A data.frame: 1 × 1\n",
       "\\begin{tabular}{r|l}\n",
       "  & k\\\\\n",
       "  & <dbl>\\\\\n",
       "\\hline\n",
       "\t10 & 10\\\\\n",
       "\\end{tabular}\n"
      ],
      "text/markdown": [
       "\n",
       "A data.frame: 1 × 1\n",
       "\n",
       "| <!--/--> | k &lt;dbl&gt; |\n",
       "|---|---|\n",
       "| 10 | 10 |\n",
       "\n"
      ],
      "text/plain": [
       "   k \n",
       "10 10"
      ]
     },
     "metadata": {},
     "output_type": "display_data"
    }
   ],
   "source": [
    "knn_grid <- data.frame(k=seq(1, 10, by=1))\n",
    "knn_control <- trainControl(method='cv', number=5)\n",
    "knn <- caret::train(type ~ ., data=train, method='knn', trControl=knn_control, tuneGrid=knn_grid)\n",
    "knn$bestTune    "
   ]
  },
  {
   "cell_type": "code",
   "execution_count": 23,
   "metadata": {
    "vscode": {
     "languageId": "r"
    }
   },
   "outputs": [
    {
     "data": {
      "text/plain": [
       "Confusion Matrix and Statistics\n",
       "\n",
       "          Reference\n",
       "Prediction nonspam spam\n",
       "   nonspam     644   53\n",
       "   spam         62  391\n",
       "                                          \n",
       "               Accuracy : 0.9             \n",
       "                 95% CI : (0.8812, 0.9167)\n",
       "    No Information Rate : 0.6139          \n",
       "    P-Value [Acc > NIR] : <2e-16          \n",
       "                                          \n",
       "                  Kappa : 0.7898          \n",
       "                                          \n",
       " Mcnemar's Test P-Value : 0.4557          \n",
       "                                          \n",
       "            Sensitivity : 0.8806          \n",
       "            Specificity : 0.9122          \n",
       "         Pos Pred Value : 0.8631          \n",
       "         Neg Pred Value : 0.9240          \n",
       "             Prevalence : 0.3861          \n",
       "         Detection Rate : 0.3400          \n",
       "   Detection Prevalence : 0.3939          \n",
       "      Balanced Accuracy : 0.8964          \n",
       "                                          \n",
       "       'Positive' Class : spam            \n",
       "                                          "
      ]
     },
     "metadata": {},
     "output_type": "display_data"
    }
   ],
   "source": [
    "knn_pred <- predict(knn, newdata=test)\n",
    "knn_cm <- confusionMatrix(test$type, knn_pred, positive=\"spam\")\n",
    "knn_cm"
   ]
  },
  {
   "cell_type": "markdown",
   "metadata": {},
   "source": [
    "Random forest"
   ]
  },
  {
   "cell_type": "code",
   "execution_count": 94,
   "metadata": {
    "vscode": {
     "languageId": "r"
    }
   },
   "outputs": [
    {
     "data": {
      "text/html": [
       "<table class=\"dataframe\">\n",
       "<caption>A data.frame: 1 × 1</caption>\n",
       "<thead>\n",
       "\t<tr><th></th><th scope=col>mtry</th></tr>\n",
       "\t<tr><th></th><th scope=col>&lt;int&gt;</th></tr>\n",
       "</thead>\n",
       "<tbody>\n",
       "\t<tr><th scope=row>5</th><td>5</td></tr>\n",
       "</tbody>\n",
       "</table>\n"
      ],
      "text/latex": [
       "A data.frame: 1 × 1\n",
       "\\begin{tabular}{r|l}\n",
       "  & mtry\\\\\n",
       "  & <int>\\\\\n",
       "\\hline\n",
       "\t5 & 5\\\\\n",
       "\\end{tabular}\n"
      ],
      "text/markdown": [
       "\n",
       "A data.frame: 1 × 1\n",
       "\n",
       "| <!--/--> | mtry &lt;int&gt; |\n",
       "|---|---|\n",
       "| 5 | 5 |\n",
       "\n"
      ],
      "text/plain": [
       "  mtry\n",
       "5 5   "
      ]
     },
     "metadata": {},
     "output_type": "display_data"
    }
   ],
   "source": [
    "rf_grid <- expand.grid(mtry=1:10)\n",
    "rf_control <- trainControl(method='cv', number=5)\n",
    "rf <- caret::train(type ~ ., data=train, method='rf', trControl=rf_control, tuneGrid=rf_grid, ntree=100)\n",
    "rf$bestTune"
   ]
  },
  {
   "cell_type": "code",
   "execution_count": 95,
   "metadata": {
    "vscode": {
     "languageId": "r"
    }
   },
   "outputs": [
    {
     "data": {
      "text/plain": [
       "Confusion Matrix and Statistics\n",
       "\n",
       "          Reference\n",
       "Prediction nonspam spam\n",
       "   nonspam     664   33\n",
       "   spam         61  392\n",
       "                                          \n",
       "               Accuracy : 0.9183          \n",
       "                 95% CI : (0.9009, 0.9334)\n",
       "    No Information Rate : 0.6304          \n",
       "    P-Value [Acc > NIR] : < 2.2e-16       \n",
       "                                          \n",
       "                  Kappa : 0.8269          \n",
       "                                          \n",
       " Mcnemar's Test P-Value : 0.005355        \n",
       "                                          \n",
       "            Sensitivity : 0.9224          \n",
       "            Specificity : 0.9159          \n",
       "         Pos Pred Value : 0.8653          \n",
       "         Neg Pred Value : 0.9527          \n",
       "             Prevalence : 0.3696          \n",
       "         Detection Rate : 0.3409          \n",
       "   Detection Prevalence : 0.3939          \n",
       "      Balanced Accuracy : 0.9191          \n",
       "                                          \n",
       "       'Positive' Class : spam            \n",
       "                                          "
      ]
     },
     "metadata": {},
     "output_type": "display_data"
    }
   ],
   "source": [
    "rf_pred <- predict(rf, newdata=test)\n",
    "rf_cm <- confusionMatrix(test$type, rf_pred, positive=\"spam\")\n",
    "rf_cm"
   ]
  },
  {
   "cell_type": "code",
   "execution_count": 96,
   "metadata": {
    "vscode": {
     "languageId": "r"
    }
   },
   "outputs": [],
   "source": [
    "lda_fit <- lda(type ~ ., data = train)\n",
    "lda_predictions <- predict(lda_fit, test)\n",
    "qda_fit <- qda(type ~ ., data = train)\n",
    "qda_predictions <- predict(qda_fit, test)"
   ]
  },
  {
   "cell_type": "code",
   "execution_count": 97,
   "metadata": {
    "vscode": {
     "languageId": "r"
    }
   },
   "outputs": [],
   "source": [
    "lda_cm <- confusionMatrix(test$type, lda_predictions$class, positive = \"spam\")\n",
    "qda_cm <- confusionMatrix(test$type, qda_predictions$class, positive = \"spam\")"
   ]
  },
  {
   "cell_type": "code",
   "execution_count": 98,
   "metadata": {
    "vscode": {
     "languageId": "r"
    }
   },
   "outputs": [
    {
     "data": {
      "text/plain": [
       "Confusion Matrix and Statistics\n",
       "\n",
       "          Reference\n",
       "Prediction nonspam spam\n",
       "   nonspam     644   53\n",
       "   spam         75  378\n",
       "                                          \n",
       "               Accuracy : 0.8887          \n",
       "                 95% CI : (0.8691, 0.9063)\n",
       "    No Information Rate : 0.6252          \n",
       "    P-Value [Acc > NIR] : < 2e-16         \n",
       "                                          \n",
       "                  Kappa : 0.7649          \n",
       "                                          \n",
       " Mcnemar's Test P-Value : 0.06343         \n",
       "                                          \n",
       "            Sensitivity : 0.8770          \n",
       "            Specificity : 0.8957          \n",
       "         Pos Pred Value : 0.8344          \n",
       "         Neg Pred Value : 0.9240          \n",
       "             Prevalence : 0.3748          \n",
       "         Detection Rate : 0.3287          \n",
       "   Detection Prevalence : 0.3939          \n",
       "      Balanced Accuracy : 0.8864          \n",
       "                                          \n",
       "       'Positive' Class : spam            \n",
       "                                          "
      ]
     },
     "metadata": {},
     "output_type": "display_data"
    }
   ],
   "source": [
    "lda_cm"
   ]
  },
  {
   "cell_type": "code",
   "execution_count": 99,
   "metadata": {
    "vscode": {
     "languageId": "r"
    }
   },
   "outputs": [
    {
     "data": {
      "text/plain": [
       "Confusion Matrix and Statistics\n",
       "\n",
       "          Reference\n",
       "Prediction nonspam spam\n",
       "   nonspam     478  219\n",
       "   spam         19  434\n",
       "                                          \n",
       "               Accuracy : 0.793           \n",
       "                 95% CI : (0.7685, 0.8161)\n",
       "    No Information Rate : 0.5678          \n",
       "    P-Value [Acc > NIR] : < 2.2e-16       \n",
       "                                          \n",
       "                  Kappa : 0.5977          \n",
       "                                          \n",
       " Mcnemar's Test P-Value : < 2.2e-16       \n",
       "                                          \n",
       "            Sensitivity : 0.6646          \n",
       "            Specificity : 0.9618          \n",
       "         Pos Pred Value : 0.9581          \n",
       "         Neg Pred Value : 0.6858          \n",
       "             Prevalence : 0.5678          \n",
       "         Detection Rate : 0.3774          \n",
       "   Detection Prevalence : 0.3939          \n",
       "      Balanced Accuracy : 0.8132          \n",
       "                                          \n",
       "       'Positive' Class : spam            \n",
       "                                          "
      ]
     },
     "metadata": {},
     "output_type": "display_data"
    }
   ],
   "source": [
    "qda_cm"
   ]
  },
  {
   "cell_type": "markdown",
   "metadata": {},
   "source": [
    "### Most correlated with type"
   ]
  },
  {
   "cell_type": "code",
   "execution_count": 117,
   "metadata": {
    "vscode": {
     "languageId": "r"
    }
   },
   "outputs": [],
   "source": [
    "spam_cor <- spam[, c('your', 'num000', 'remove', 'charDollar', 'you', 'free', 'business', 'hp', 'capitalTotal', 'our', 'type')]"
   ]
  },
  {
   "cell_type": "code",
   "execution_count": 118,
   "metadata": {
    "vscode": {
     "languageId": "r"
    }
   },
   "outputs": [],
   "source": [
    "train <- spam_cor[train_indices,]\n",
    "test  <- spam_cor[-train_indices,]"
   ]
  },
  {
   "cell_type": "markdown",
   "metadata": {},
   "source": [
    "KNN"
   ]
  },
  {
   "cell_type": "code",
   "execution_count": 26,
   "metadata": {
    "vscode": {
     "languageId": "r"
    }
   },
   "outputs": [
    {
     "data": {
      "text/html": [
       "<table class=\"dataframe\">\n",
       "<caption>A data.frame: 1 × 1</caption>\n",
       "<thead>\n",
       "\t<tr><th></th><th scope=col>k</th></tr>\n",
       "\t<tr><th></th><th scope=col>&lt;dbl&gt;</th></tr>\n",
       "</thead>\n",
       "<tbody>\n",
       "\t<tr><th scope=row>1</th><td>1</td></tr>\n",
       "</tbody>\n",
       "</table>\n"
      ],
      "text/latex": [
       "A data.frame: 1 × 1\n",
       "\\begin{tabular}{r|l}\n",
       "  & k\\\\\n",
       "  & <dbl>\\\\\n",
       "\\hline\n",
       "\t1 & 1\\\\\n",
       "\\end{tabular}\n"
      ],
      "text/markdown": [
       "\n",
       "A data.frame: 1 × 1\n",
       "\n",
       "| <!--/--> | k &lt;dbl&gt; |\n",
       "|---|---|\n",
       "| 1 | 1 |\n",
       "\n"
      ],
      "text/plain": [
       "  k\n",
       "1 1"
      ]
     },
     "metadata": {},
     "output_type": "display_data"
    }
   ],
   "source": [
    "knn_grid <- data.frame(k=seq(1, 10, by=1))\n",
    "knn_control <- trainControl(method='cv', number=5)\n",
    "knn <- caret::train(type ~ ., data=train, method='knn', trControl=knn_control, tuneGrid=knn_grid)\n",
    "knn$bestTune    "
   ]
  },
  {
   "cell_type": "code",
   "execution_count": 27,
   "metadata": {
    "vscode": {
     "languageId": "r"
    }
   },
   "outputs": [
    {
     "data": {
      "text/plain": [
       "Confusion Matrix and Statistics\n",
       "\n",
       "          Reference\n",
       "Prediction nonspam spam\n",
       "   nonspam     592  105\n",
       "   spam        117  336\n",
       "                                          \n",
       "               Accuracy : 0.807           \n",
       "                 95% CI : (0.7829, 0.8294)\n",
       "    No Information Rate : 0.6165          \n",
       "    P-Value [Acc > NIR] : <2e-16          \n",
       "                                          \n",
       "                  Kappa : 0.5938          \n",
       "                                          \n",
       " Mcnemar's Test P-Value : 0.4603          \n",
       "                                          \n",
       "            Sensitivity : 0.7619          \n",
       "            Specificity : 0.8350          \n",
       "         Pos Pred Value : 0.7417          \n",
       "         Neg Pred Value : 0.8494          \n",
       "             Prevalence : 0.3835          \n",
       "         Detection Rate : 0.2922          \n",
       "   Detection Prevalence : 0.3939          \n",
       "      Balanced Accuracy : 0.7984          \n",
       "                                          \n",
       "       'Positive' Class : spam            \n",
       "                                          "
      ]
     },
     "metadata": {},
     "output_type": "display_data"
    }
   ],
   "source": [
    "knn_pred <- predict(knn, newdata=test)\n",
    "knn_cm <- confusionMatrix(test$type, knn_pred, positive=\"spam\")\n",
    "knn_cm"
   ]
  },
  {
   "cell_type": "markdown",
   "metadata": {},
   "source": [
    "Random forest"
   ]
  },
  {
   "cell_type": "code",
   "execution_count": 102,
   "metadata": {
    "vscode": {
     "languageId": "r"
    }
   },
   "outputs": [
    {
     "data": {
      "text/html": [
       "<table class=\"dataframe\">\n",
       "<caption>A data.frame: 1 × 1</caption>\n",
       "<thead>\n",
       "\t<tr><th></th><th scope=col>mtry</th></tr>\n",
       "\t<tr><th></th><th scope=col>&lt;int&gt;</th></tr>\n",
       "</thead>\n",
       "<tbody>\n",
       "\t<tr><th scope=row>3</th><td>3</td></tr>\n",
       "</tbody>\n",
       "</table>\n"
      ],
      "text/latex": [
       "A data.frame: 1 × 1\n",
       "\\begin{tabular}{r|l}\n",
       "  & mtry\\\\\n",
       "  & <int>\\\\\n",
       "\\hline\n",
       "\t3 & 3\\\\\n",
       "\\end{tabular}\n"
      ],
      "text/markdown": [
       "\n",
       "A data.frame: 1 × 1\n",
       "\n",
       "| <!--/--> | mtry &lt;int&gt; |\n",
       "|---|---|\n",
       "| 3 | 3 |\n",
       "\n"
      ],
      "text/plain": [
       "  mtry\n",
       "3 3   "
      ]
     },
     "metadata": {},
     "output_type": "display_data"
    }
   ],
   "source": [
    "rf_grid <- expand.grid(mtry=1:10)\n",
    "rf_control <- trainControl(method='cv', number=5)\n",
    "rf <- caret::train(type ~ ., data=train, method='rf', trControl=rf_control, tuneGrid=rf_grid, ntree=100)\n",
    "rf$bestTune"
   ]
  },
  {
   "cell_type": "code",
   "execution_count": 104,
   "metadata": {
    "vscode": {
     "languageId": "r"
    }
   },
   "outputs": [
    {
     "data": {
      "text/plain": [
       "Confusion Matrix and Statistics\n",
       "\n",
       "          Reference\n",
       "Prediction nonspam spam\n",
       "   nonspam     661   36\n",
       "   spam         45  408\n",
       "                                          \n",
       "               Accuracy : 0.9296          \n",
       "                 95% CI : (0.9132, 0.9437)\n",
       "    No Information Rate : 0.6139          \n",
       "    P-Value [Acc > NIR] : <2e-16          \n",
       "                                          \n",
       "                  Kappa : 0.852           \n",
       "                                          \n",
       " Mcnemar's Test P-Value : 0.3741          \n",
       "                                          \n",
       "            Sensitivity : 0.9189          \n",
       "            Specificity : 0.9363          \n",
       "         Pos Pred Value : 0.9007          \n",
       "         Neg Pred Value : 0.9484          \n",
       "             Prevalence : 0.3861          \n",
       "         Detection Rate : 0.3548          \n",
       "   Detection Prevalence : 0.3939          \n",
       "      Balanced Accuracy : 0.9276          \n",
       "                                          \n",
       "       'Positive' Class : spam            \n",
       "                                          "
      ]
     },
     "metadata": {},
     "output_type": "display_data"
    }
   ],
   "source": [
    "rf_pred <- predict(rf, newdata=test)\n",
    "rf_cm <- confusionMatrix(test$type, rf_pred, positive=\"spam\")\n",
    "rf_cm"
   ]
  },
  {
   "cell_type": "code",
   "execution_count": 123,
   "metadata": {
    "vscode": {
     "languageId": "r"
    }
   },
   "outputs": [],
   "source": [
    "lda_fit <- lda(type ~ ., data = train)\n",
    "lda_predictions <- predict(lda_fit, test)\n",
    "qda_fit <- qda(type ~ ., data = train)\n",
    "qda_predictions <- predict(qda_fit, test)"
   ]
  },
  {
   "cell_type": "code",
   "execution_count": 124,
   "metadata": {
    "vscode": {
     "languageId": "r"
    }
   },
   "outputs": [],
   "source": [
    "lda_cm <- confusionMatrix(test$type, lda_predictions$class, positive = \"spam\")\n",
    "qda_cm <- confusionMatrix(test$type, qda_predictions$class, positive = \"spam\")"
   ]
  },
  {
   "cell_type": "code",
   "execution_count": 125,
   "metadata": {
    "vscode": {
     "languageId": "r"
    }
   },
   "outputs": [
    {
     "data": {
      "text/plain": [
       "Confusion Matrix and Statistics\n",
       "\n",
       "          Reference\n",
       "Prediction nonspam spam\n",
       "   nonspam     655   42\n",
       "   spam        143  310\n",
       "                                          \n",
       "               Accuracy : 0.8391          \n",
       "                 95% CI : (0.8166, 0.8599)\n",
       "    No Information Rate : 0.6939          \n",
       "    P-Value [Acc > NIR] : < 2.2e-16       \n",
       "                                          \n",
       "                  Kappa : 0.6494          \n",
       "                                          \n",
       " Mcnemar's Test P-Value : 1.95e-13        \n",
       "                                          \n",
       "            Sensitivity : 0.8807          \n",
       "            Specificity : 0.8208          \n",
       "         Pos Pred Value : 0.6843          \n",
       "         Neg Pred Value : 0.9397          \n",
       "             Prevalence : 0.3061          \n",
       "         Detection Rate : 0.2696          \n",
       "   Detection Prevalence : 0.3939          \n",
       "      Balanced Accuracy : 0.8507          \n",
       "                                          \n",
       "       'Positive' Class : spam            \n",
       "                                          "
      ]
     },
     "metadata": {},
     "output_type": "display_data"
    }
   ],
   "source": [
    "lda_cm"
   ]
  },
  {
   "cell_type": "code",
   "execution_count": 126,
   "metadata": {
    "vscode": {
     "languageId": "r"
    }
   },
   "outputs": [
    {
     "data": {
      "text/plain": [
       "Confusion Matrix and Statistics\n",
       "\n",
       "          Reference\n",
       "Prediction nonspam spam\n",
       "   nonspam     653   44\n",
       "   spam        125  328\n",
       "                                         \n",
       "               Accuracy : 0.853          \n",
       "                 95% CI : (0.8312, 0.873)\n",
       "    No Information Rate : 0.6765         \n",
       "    P-Value [Acc > NIR] : < 2.2e-16      \n",
       "                                         \n",
       "                  Kappa : 0.6823         \n",
       "                                         \n",
       " Mcnemar's Test P-Value : 7.563e-10      \n",
       "                                         \n",
       "            Sensitivity : 0.8817         \n",
       "            Specificity : 0.8393         \n",
       "         Pos Pred Value : 0.7241         \n",
       "         Neg Pred Value : 0.9369         \n",
       "             Prevalence : 0.3235         \n",
       "         Detection Rate : 0.2852         \n",
       "   Detection Prevalence : 0.3939         \n",
       "      Balanced Accuracy : 0.8605         \n",
       "                                         \n",
       "       'Positive' Class : spam           \n",
       "                                         "
      ]
     },
     "metadata": {},
     "output_type": "display_data"
    }
   ],
   "source": [
    "qda_cm"
   ]
  },
  {
   "cell_type": "code",
   "execution_count": null,
   "metadata": {
    "vscode": {
     "languageId": "r"
    }
   },
   "outputs": [],
   "source": []
  }
 ],
 "metadata": {
  "kernelspec": {
   "display_name": "R",
   "language": "R",
   "name": "ir"
  },
  "language_info": {
   "codemirror_mode": "r",
   "file_extension": ".r",
   "mimetype": "text/x-r-source",
   "name": "R",
   "pygments_lexer": "r",
   "version": "4.3.1"
  }
 },
 "nbformat": 4,
 "nbformat_minor": 5
}
